{
 "cells": [
  {
   "cell_type": "markdown",
   "metadata": {},
   "source": [
    "# Logic Gate Task\n",
    "\n",
    "This task utilizes a simple neural network containing single n-task context layer to learn eight different logic gates."
   ]
  },
  {
   "cell_type": "code",
   "execution_count": 1,
   "metadata": {},
   "outputs": [],
   "source": [
    "# Import Tensorflow and Keras layers\n",
    "import tensorflow as tf\n",
    "from tensorflow.keras.layers import Input, Dense\n",
    "\n",
    "import math\n",
    "import numpy as np\n",
    "import random\n",
    "\n",
    "# Import n-task library\n",
    "from ntask.atr   import AtrMovingAverage\n",
    "from ntask.layer import Context\n",
    "from ntask.model import NTaskModel"
   ]
  },
  {
   "cell_type": "markdown",
   "metadata": {},
   "source": [
    "## Dataset"
   ]
  },
  {
   "cell_type": "code",
   "execution_count": 14,
   "metadata": {},
   "outputs": [],
   "source": [
    "gates = [\"xor\", \"xnor\", \"and\", \"or\", \"nor\", \"nand\", \"custom_1\", \"custom_2\"]"
   ]
  },
  {
   "cell_type": "code",
   "execution_count": 15,
   "metadata": {},
   "outputs": [],
   "source": [
    "labels = np.array([\n",
    "    [0, 1, 1, 0], # XOR\n",
    "    [1, 0, 0, 1], # XNOR\n",
    "    [0, 0, 0, 1], # AND\n",
    "    [0, 1, 1, 1], # OR\n",
    "    [1, 0, 0, 0], # NOR\n",
    "    [1, 1, 1, 0], # NAND\n",
    "    [1, 0, 1, 0], # Custom 1\n",
    "    [0, 1, 0, 1]  # Custom 2\n",
    "])\n",
    "\n",
    "x_train = np.array([[-1, -1], [-1, 1], [1, -1], [1, 1]])"
   ]
  },
  {
   "cell_type": "markdown",
   "metadata": {},
   "source": [
    "## Training and Validation\n",
    "\n",
    "Some functions to conveniently train the model by shuffling the datasets and test the results."
   ]
  },
  {
   "cell_type": "code",
   "execution_count": 4,
   "metadata": {},
   "outputs": [],
   "source": [
    "def train(model, inputs, labels, cycles, epochs, shuffle=True, show_progress=False, batch_size=None, verbose=0):\n",
    "    last_index = None\n",
    "    indices = list(range(len(labels)))\n",
    "    \n",
    "    for cycle in range(cycles):\n",
    "        \n",
    "        # If the previous task is repeated, swap with a random task\n",
    "        if last_index == indices[0]:\n",
    "            i = randrange(1, len(indices))\n",
    "            indices[0], indices[i] = indices[i], indices[0]\n",
    "        \n",
    "        # Train on each batch in the dataset\n",
    "        for i in indices:\n",
    "            print(i)\n",
    "            model.fit(inputs, labels[i], epochs, progress=show_progress, batch_size=batch_size, verbose=verbose)\n",
    "            assert i == model.layers[model.context_layers[0]].get_hot_context()\n",
    "        \n",
    "        # Shuffle at the end to preserver dataset order\n",
    "        if shuffle:\n",
    "            list_index = indices[-1]\n",
    "\n",
    "            # Shuffle the dataset\n",
    "            random.shuffle(indices)"
   ]
  },
  {
   "cell_type": "code",
   "execution_count": 5,
   "metadata": {},
   "outputs": [],
   "source": [
    "def validate(model, inputs, labels, num_task_contexts):\n",
    "    num_passed = 0\n",
    "    for i in range(num_task_contexts):\n",
    "        model.layers[model.context_layers[0]].set_hot_context(i)\n",
    "        result = model(inputs)\n",
    "        predicted = np.round(result).astype(int).flatten()\n",
    "        try:\n",
    "            print(f\"Task {i}:\", end=' ')\n",
    "            assert (predicted == labels[i]).all(), \"Failed on task:\"\n",
    "            print(result, \"Passed\")\n",
    "            num_passed += 1\n",
    "        except AssertionError:\n",
    "            print(result, \"Failed\")\n",
    "    print(f\"{num_passed}/{num_task_contexts} ({100*num_passed//num_task_contexts}%) Learned successfully\")"
   ]
  },
  {
   "cell_type": "markdown",
   "metadata": {},
   "source": [
    "### Loss Function"
   ]
  },
  {
   "cell_type": "code",
   "execution_count": 6,
   "metadata": {},
   "outputs": [],
   "source": [
    "def loss_fn(labels, predictions):\n",
    "    return tf.keras.losses.binary_crossentropy(y_true=labels, y_pred=predictions)"
   ]
  },
  {
   "cell_type": "markdown",
   "metadata": {},
   "source": [
    "### Optimizer"
   ]
  },
  {
   "cell_type": "code",
   "execution_count": 7,
   "metadata": {},
   "outputs": [],
   "source": [
    "optimizer = tf.keras.optimizers.Adam(1e-4)"
   ]
  },
  {
   "cell_type": "markdown",
   "metadata": {},
   "source": [
    "___"
   ]
  },
  {
   "cell_type": "markdown",
   "metadata": {},
   "source": [
    "## Static n-task - 2 Gates (XOR, XNOR) [PASSING]"
   ]
  },
  {
   "cell_type": "code",
   "execution_count": 18,
   "metadata": {},
   "outputs": [],
   "source": [
    "y_train = labels[:2]\n",
    "num_task_contexts = len(y_train)"
   ]
  },
  {
   "cell_type": "code",
   "execution_count": 19,
   "metadata": {},
   "outputs": [],
   "source": [
    "random.seed(5)\n",
    "tf.random.set_seed(5)"
   ]
  },
  {
   "cell_type": "markdown",
   "metadata": {},
   "source": [
    "### Model"
   ]
  },
  {
   "cell_type": "code",
   "execution_count": 20,
   "metadata": {},
   "outputs": [],
   "source": [
    "inp = Input((2,))\n",
    "x = Dense(40, activation=\"relu\")(inp)\n",
    "x = Context(AtrMovingAverage(num_task_contexts, task_switch_threshold=-0.02))(x)\n",
    "x = Dense(1, activation=\"sigmoid\")(x)"
   ]
  },
  {
   "cell_type": "code",
   "execution_count": 21,
   "metadata": {},
   "outputs": [],
   "source": [
    "model = NTaskModel(inputs=inp, outputs=x, loss_fn=loss_fn, optimizer=optimizer)"
   ]
  },
  {
   "cell_type": "markdown",
   "metadata": {},
   "source": [
    "### Training"
   ]
  },
  {
   "cell_type": "code",
   "execution_count": 22,
   "metadata": {},
   "outputs": [
    {
     "name": "stdout",
     "output_type": "stream",
     "text": [
      "0\n",
      "1\n",
      "Switching... context loss: tf.Tensor(0.13021908293107037, shape=(), dtype=float64)\n",
      "Task switched to: 1\n",
      "0\n",
      "Switching... context loss: tf.Tensor(0.16476676250702743, shape=(), dtype=float64)\n",
      "Task switched to: 0\n",
      "1\n",
      "Switching... context loss: tf.Tensor(0.33269712542266333, shape=(), dtype=float64)\n",
      "Task switched to: 1\n",
      "0\n",
      "Switching... context loss: tf.Tensor(0.47866800741516924, shape=(), dtype=float64)\n",
      "Task switched to: 0\n",
      "1\n",
      "Switching... context loss: tf.Tensor(0.7216483571818342, shape=(), dtype=float64)\n",
      "Task switched to: 1\n"
     ]
    }
   ],
   "source": [
    "train(model, x_train, y_train, 3, 500, batch_size=1, verbose=1)"
   ]
  },
  {
   "cell_type": "markdown",
   "metadata": {},
   "source": [
    "### Model Validation\n",
    "\n",
    "Assert that the model has learned all logic gates"
   ]
  },
  {
   "cell_type": "code",
   "execution_count": 24,
   "metadata": {},
   "outputs": [
    {
     "name": "stdout",
     "output_type": "stream",
     "text": [
      "Task 0: tf.Tensor(\n",
      "[[0.02289286]\n",
      " [0.9646863 ]\n",
      " [0.924756  ]\n",
      " [0.06937394]], shape=(4, 1), dtype=float32) Passed\n",
      "Task 1: tf.Tensor(\n",
      "[[0.9646759 ]\n",
      " [0.02893636]\n",
      " [0.05083215]\n",
      " [0.96020806]], shape=(4, 1), dtype=float32) Passed\n",
      "2/2 (100%) Learned successfully\n"
     ]
    }
   ],
   "source": [
    "validate(model, x_train, y_train, num_task_contexts)"
   ]
  },
  {
   "cell_type": "code",
   "execution_count": 25,
   "metadata": {},
   "outputs": [
    {
     "data": {
      "image/png": "[encoded data removed]",
      "text/plain": [
       "<Figure size 432x288 with 1 Axes>"
      ]
     },
     "metadata": {
      "needs_background": "light"
     },
     "output_type": "display_data"
    }
   ],
   "source": [
    "model.plot_atr_values()"
   ]
  },
  {
   "cell_type": "markdown",
   "metadata": {},
   "source": [
    "___"
   ]
  },
  {
   "cell_type": "markdown",
   "metadata": {},
   "source": [
    "## Dynamic n-task - 2 Gates (XOR, XNOR) [PASSING]"
   ]
  },
  {
   "cell_type": "code",
   "execution_count": 16,
   "metadata": {},
   "outputs": [],
   "source": [
    "y_train = labels[:2]\n",
    "num_task_contexts = len(y_train)"
   ]
  },
  {
   "cell_type": "code",
   "execution_count": 17,
   "metadata": {},
   "outputs": [],
   "source": [
    "random.seed(5)\n",
    "tf.random.set_seed(5)"
   ]
  },
  {
   "cell_type": "markdown",
   "metadata": {},
   "source": [
    "### Model"
   ]
  },
  {
   "cell_type": "code",
   "execution_count": 18,
   "metadata": {},
   "outputs": [],
   "source": [
    "inp = Input((2,))\n",
    "x = Dense(40, activation=\"relu\")(inp)\n",
    "x = Context(AtrMovingAverage(task_switch_threshold=-0.02, is_dynamic=True, task_add_threshold=-0.1, max_num_tasks=num_task_contexts+1))(x)\n",
    "x = Dense(1, activation=\"sigmoid\")(x)"
   ]
  },
  {
   "cell_type": "code",
   "execution_count": 19,
   "metadata": {},
   "outputs": [],
   "source": [
    "model = NTaskModel(inputs=inp, outputs=x, loss_fn=loss_fn, optimizer=optimizer)"
   ]
  },
  {
   "cell_type": "markdown",
   "metadata": {},
   "source": [
    "### Training"
   ]
  },
  {
   "cell_type": "code",
   "execution_count": 20,
   "metadata": {},
   "outputs": [
    {
     "name": "stdout",
     "output_type": "stream",
     "text": [
      "0\n",
      "1\n",
      "Switching... context loss: tf.Tensor(0.13021908293107037, shape=(), dtype=float64)\n",
      "Best context loss... tf.Tensor(0.13021908293107037, shape=(), dtype=float64)\n",
      "Task switched (added new task): 1\n",
      "0\n",
      "Switching... context loss: tf.Tensor(0.16476676250702743, shape=(), dtype=float64)\n",
      "Task switched to: 0\n",
      "1\n",
      "Switching... context loss: tf.Tensor(0.33269712542266333, shape=(), dtype=float64)\n",
      "Task switched to: 1\n",
      "0\n",
      "Switching... context loss: tf.Tensor(0.47866800741516924, shape=(), dtype=float64)\n",
      "Task switched to: 0\n",
      "1\n",
      "Switching... context loss: tf.Tensor(0.7216483571818342, shape=(), dtype=float64)\n",
      "Task switched to: 1\n"
     ]
    }
   ],
   "source": [
    "train(model, x_train, y_train, 3, 500, batch_size=1, verbose=1)"
   ]
  },
  {
   "cell_type": "markdown",
   "metadata": {},
   "source": [
    "### Model Validation\n",
    "\n",
    "Assert that the model has learned all logic gates"
   ]
  },
  {
   "cell_type": "code",
   "execution_count": 22,
   "metadata": {},
   "outputs": [
    {
     "name": "stdout",
     "output_type": "stream",
     "text": [
      "Task 0: tf.Tensor(\n",
      "[[0.02289286]\n",
      " [0.9646863 ]\n",
      " [0.924756  ]\n",
      " [0.06937394]], shape=(4, 1), dtype=float32) Passed\n",
      "Task 1: tf.Tensor(\n",
      "[[0.9646759 ]\n",
      " [0.02893636]\n",
      " [0.05083215]\n",
      " [0.96020806]], shape=(4, 1), dtype=float32) Passed\n",
      "2/2 (100%) Learned successfully\n"
     ]
    }
   ],
   "source": [
    "validate(model, x_train, y_train, num_task_contexts)"
   ]
  },
  {
   "cell_type": "code",
   "execution_count": 23,
   "metadata": {},
   "outputs": [
    {
     "data": {
      "image/png": "[encoded data removed]",
      "text/plain": [
       "<Figure size 432x288 with 1 Axes>"
      ]
     },
     "metadata": {
      "needs_background": "light"
     },
     "output_type": "display_data"
    }
   ],
   "source": [
    "model.plot_atr_values()"
   ]
  },
  {
   "cell_type": "markdown",
   "metadata": {},
   "source": [
    "## Static n-task - 8 Gates (XOR, XNOR, AND, OR) [PASSING]"
   ]
  },
  {
   "cell_type": "code",
   "execution_count": 31,
   "metadata": {},
   "outputs": [],
   "source": [
    "y_train = labels\n",
    "num_task_contexts = len(y_train)"
   ]
  },
  {
   "cell_type": "code",
   "execution_count": 32,
   "metadata": {},
   "outputs": [],
   "source": [
    "random.seed(5)\n",
    "tf.random.set_seed(5)"
   ]
  },
  {
   "cell_type": "markdown",
   "metadata": {},
   "source": [
    "### Model"
   ]
  },
  {
   "cell_type": "code",
   "execution_count": 33,
   "metadata": {},
   "outputs": [],
   "source": [
    "inp = Input((2,))\n",
    "x = Dense(128, activation=\"relu\")(inp)\n",
    "x = Context(AtrMovingAverage(num_task_contexts, task_switch_threshold=-0.02))(x)\n",
    "x = Dense(1, activation=\"sigmoid\")(x)"
   ]
  },
  {
   "cell_type": "code",
   "execution_count": 34,
   "metadata": {},
   "outputs": [],
   "source": [
    "model = NTaskModel(inputs=inp, outputs=x, loss_fn=loss_fn, optimizer=optimizer)"
   ]
  },
  {
   "cell_type": "markdown",
   "metadata": {},
   "source": [
    "### Training"
   ]
  },
  {
   "cell_type": "code",
   "execution_count": 35,
   "metadata": {},
   "outputs": [
    {
     "name": "stdout",
     "output_type": "stream",
     "text": [
      "0\n",
      "1\n",
      "Switching... context loss: tf.Tensor(0.12544449822109366, shape=(), dtype=float64)\n",
      "Task switched to: 1\n",
      "2\n",
      "Switching... context loss: tf.Tensor(0.04015297120993923, shape=(), dtype=float64)\n",
      "Task switched to: 2\n",
      "3\n",
      "Switching... context loss: tf.Tensor(0.11926418838078746, shape=(), dtype=float64)\n",
      "Task switched to: 3\n",
      "4\n",
      "Switching... context loss: tf.Tensor(0.2643416911643398, shape=(), dtype=float64)\n",
      "Task switched to: 4\n",
      "5\n",
      "Switching... context loss: tf.Tensor(0.1614087015645926, shape=(), dtype=float64)\n",
      "Task switched to: 5\n",
      "6\n",
      "Switching... context loss: tf.Tensor(0.09661733666669817, shape=(), dtype=float64)\n",
      "Task switched to: 6\n",
      "7\n",
      "Switching... context loss: tf.Tensor(0.4433069906846839, shape=(), dtype=float64)\n",
      "Task switched to: 7\n",
      "6\n",
      "Switching... context loss: tf.Tensor(0.49981857670941776, shape=(), dtype=float64)\n",
      "Task switched to: 0\n",
      "Switching... context loss: tf.Tensor(0.09503517341798513, shape=(), dtype=float64)\n",
      "Task switched to: 1\n",
      "Switching... context loss: tf.Tensor(0.3530757153673335, shape=(), dtype=float64)\n",
      "Task switched to: 2\n",
      "Switching... context loss: tf.Tensor(0.37401849313753144, shape=(), dtype=float64)\n",
      "Task switched to: 3\n",
      "Switching... context loss: tf.Tensor(0.3706771950648912, shape=(), dtype=float64)\n",
      "Task switched to: 4\n",
      "Switching... context loss: tf.Tensor(0.11347505379016276, shape=(), dtype=float64)\n",
      "Task switched to: 5\n",
      "Switching... context loss: tf.Tensor(0.11851146918081898, shape=(), dtype=float64)\n",
      "Task switched to: 6\n",
      "3\n",
      "Switching... context loss: tf.Tensor(0.40669261955682845, shape=(), dtype=float64)\n",
      "Task switched to: 7\n",
      "Switching... context loss: tf.Tensor(0.13316877917092887, shape=(), dtype=float64)\n",
      "Task switched to: 0\n",
      "Switching... context loss: tf.Tensor(0.20641546470030261, shape=(), dtype=float64)\n",
      "Task switched to: 1\n",
      "Switching... context loss: tf.Tensor(0.2433593881505306, shape=(), dtype=float64)\n",
      "Task switched to: 2\n",
      "Switching... context loss: tf.Tensor(0.2584671643094324, shape=(), dtype=float64)\n",
      "Task switched to: 3\n",
      "1\n",
      "Switching... context loss: tf.Tensor(0.4482932480952228, shape=(), dtype=float64)\n",
      "Task switched to: 4\n",
      "Switching... context loss: tf.Tensor(0.15051515994378858, shape=(), dtype=float64)\n",
      "Task switched to: 5\n",
      "Switching... context loss: tf.Tensor(0.4317416169760213, shape=(), dtype=float64)\n",
      "Task switched to: 6\n",
      "Switching... context loss: tf.Tensor(0.2992297329041743, shape=(), dtype=float64)\n",
      "Task switched to: 7\n",
      "Switching... context loss: tf.Tensor(0.29070825950751533, shape=(), dtype=float64)\n",
      "Task switched to: 0\n",
      "Switching... context loss: tf.Tensor(0.38530125835572443, shape=(), dtype=float64)\n",
      "Task switched to: 1\n",
      "Switching... context loss: tf.Tensor(0.13861900793932863, shape=(), dtype=float64)\n",
      "Task switched to: 2\n",
      "Switching... context loss: tf.Tensor(0.14821656557270432, shape=(), dtype=float64)\n",
      "Best context loss... tf.Tensor(0.13861900793932863, shape=(), dtype=float64)\n",
      "Task switched (found best): 1\n",
      "0\n",
      "Switching... context loss: tf.Tensor(0.6349578829021352, shape=(), dtype=float64)\n",
      "Task switched to: 2\n",
      "Switching... context loss: tf.Tensor(0.47362626348556874, shape=(), dtype=float64)\n",
      "Task switched to: 3\n",
      "Switching... context loss: tf.Tensor(0.16704312551999945, shape=(), dtype=float64)\n",
      "Task switched to: 4\n",
      "Switching... context loss: tf.Tensor(0.48166267788280676, shape=(), dtype=float64)\n",
      "Task switched to: 5\n",
      "Switching... context loss: tf.Tensor(0.16398552303342462, shape=(), dtype=float64)\n",
      "Task switched to: 6\n",
      "Switching... context loss: tf.Tensor(0.33243484319071714, shape=(), dtype=float64)\n",
      "Task switched to: 7\n",
      "Switching... context loss: tf.Tensor(0.3242239117033894, shape=(), dtype=float64)\n",
      "Task switched to: 0\n",
      "Switching... context loss: tf.Tensor(0.0838481311756, shape=(), dtype=float64)\n",
      "Best context loss... tf.Tensor(0.0838481311756, shape=(), dtype=float64)\n",
      "Task switched (found best): 0\n",
      "7\n",
      "Switching... context loss: tf.Tensor(0.35388351476025914, shape=(), dtype=float64)\n",
      "Task switched to: 1\n",
      "Switching... context loss: tf.Tensor(0.35573272500384373, shape=(), dtype=float64)\n",
      "Task switched to: 2\n",
      "Switching... context loss: tf.Tensor(0.17903349607424915, shape=(), dtype=float64)\n",
      "Task switched to: 3\n",
      "Switching... context loss: tf.Tensor(0.1812943369068314, shape=(), dtype=float64)\n",
      "Task switched to: 4\n",
      "Switching... context loss: tf.Tensor(0.5320512159143433, shape=(), dtype=float64)\n",
      "Task switched to: 5\n",
      "Switching... context loss: tf.Tensor(0.5321731663154287, shape=(), dtype=float64)\n",
      "Task switched to: 6\n",
      "Switching... context loss: tf.Tensor(0.7209573567208447, shape=(), dtype=float64)\n",
      "Task switched to: 7\n",
      "2\n",
      "Switching... context loss: tf.Tensor(0.19110196181080602, shape=(), dtype=float64)\n",
      "Task switched to: 0\n",
      "Switching... context loss: tf.Tensor(0.55684878987749, shape=(), dtype=float64)\n",
      "Task switched to: 1\n",
      "Switching... context loss: tf.Tensor(0.18495510237952154, shape=(), dtype=float64)\n",
      "Task switched to: 2\n",
      "5\n",
      "Switching... context loss: tf.Tensor(0.8174208357283903, shape=(), dtype=float64)\n",
      "Task switched to: 3\n",
      "Switching... context loss: tf.Tensor(0.4075759839787947, shape=(), dtype=float64)\n",
      "Task switched to: 4\n",
      "Switching... context loss: tf.Tensor(0.39691375375470495, shape=(), dtype=float64)\n",
      "Task switched to: 5\n",
      "4\n",
      "Switching... context loss: tf.Tensor(0.4355728771651891, shape=(), dtype=float64)\n",
      "Task switched to: 6\n",
      "Switching... context loss: tf.Tensor(0.21790455407309037, shape=(), dtype=float64)\n",
      "Task switched to: 7\n",
      "Switching... context loss: tf.Tensor(0.6519499697803888, shape=(), dtype=float64)\n",
      "Task switched to: 0\n",
      "Switching... context loss: tf.Tensor(0.616547494189348, shape=(), dtype=float64)\n",
      "Task switched to: 1\n",
      "Switching... context loss: tf.Tensor(0.21589744695098792, shape=(), dtype=float64)\n",
      "Task switched to: 2\n",
      "Switching... context loss: tf.Tensor(0.43540513401752745, shape=(), dtype=float64)\n",
      "Task switched to: 3\n",
      "Switching... context loss: tf.Tensor(0.8675093979495652, shape=(), dtype=float64)\n",
      "Task switched to: 4\n",
      "7\n",
      "Switching... context loss: tf.Tensor(0.711266681698981, shape=(), dtype=float64)\n",
      "Task switched to: 5\n",
      "Switching... context loss: tf.Tensor(0.7123516573040727, shape=(), dtype=float64)\n",
      "Task switched to: 6\n",
      "Switching... context loss: tf.Tensor(0.9462455685170059, shape=(), dtype=float64)\n",
      "Task switched to: 7\n",
      "5\n",
      "Switching... context loss: tf.Tensor(0.7470616594528692, shape=(), dtype=float64)\n",
      "Task switched to: 0\n",
      "Switching... context loss: tf.Tensor(0.2317347090346206, shape=(), dtype=float64)\n",
      "Task switched to: 1\n",
      "Switching... context loss: tf.Tensor(0.7406995754891279, shape=(), dtype=float64)\n",
      "Task switched to: 2\n",
      "Switching... context loss: tf.Tensor(0.9951354948929879, shape=(), dtype=float64)\n",
      "Task switched to: 3\n",
      "Switching... context loss: tf.Tensor(0.4960288648330149, shape=(), dtype=float64)\n",
      "Task switched to: 4\n",
      "Switching... context loss: tf.Tensor(0.4979118015896813, shape=(), dtype=float64)\n",
      "Task switched to: 5\n",
      "2\n",
      "Switching... context loss: tf.Tensor(1.0526558616065707, shape=(), dtype=float64)\n",
      "Task switched to: 6\n",
      "Switching... context loss: tf.Tensor(0.7848607154241309, shape=(), dtype=float64)\n",
      "Task switched to: 7\n",
      "Switching... context loss: tf.Tensor(0.2634340128509796, shape=(), dtype=float64)\n",
      "Task switched to: 0\n",
      "Switching... context loss: tf.Tensor(0.780756826305411, shape=(), dtype=float64)\n",
      "Task switched to: 1\n",
      "Switching... context loss: tf.Tensor(0.21370748748593155, shape=(), dtype=float64)\n",
      "Task switched to: 2\n",
      "0\n",
      "Switching... context loss: tf.Tensor(0.8491235875924991, shape=(), dtype=float64)\n",
      "Task switched to: 3\n",
      "Switching... context loss: tf.Tensor(0.2809130056860777, shape=(), dtype=float64)\n",
      "Task switched to: 4\n",
      "Switching... context loss: tf.Tensor(0.8503336012967795, shape=(), dtype=float64)\n",
      "Task switched to: 5\n",
      "Switching... context loss: tf.Tensor(0.27962282444124187, shape=(), dtype=float64)\n",
      "Task switched to: 6\n",
      "Switching... context loss: tf.Tensor(0.5664937800050601, shape=(), dtype=float64)\n",
      "Task switched to: 7\n",
      "Switching... context loss: tf.Tensor(0.5668643237928108, shape=(), dtype=float64)\n",
      "Task switched to: 0\n",
      "1\n",
      "Switching... context loss: tf.Tensor(1.2326005686466721, shape=(), dtype=float64)\n",
      "Task switched to: 1\n",
      "4\n",
      "Switching... context loss: tf.Tensor(0.3274720652090155, shape=(), dtype=float64)\n",
      "Task switched to: 2\n",
      "Switching... context loss: tf.Tensor(0.6523117451393066, shape=(), dtype=float64)\n",
      "Task switched to: 3\n",
      "Switching... context loss: tf.Tensor(1.2849707461137236, shape=(), dtype=float64)\n",
      "Task switched to: 4\n",
      "3\n",
      "Switching... context loss: tf.Tensor(1.3438237070439518, shape=(), dtype=float64)\n",
      "Task switched to: 5\n",
      "Switching... context loss: tf.Tensor(0.6736804107142883, shape=(), dtype=float64)\n",
      "Task switched to: 6\n",
      "Switching... context loss: tf.Tensor(1.0098725610094061, shape=(), dtype=float64)\n",
      "Task switched to: 7\n",
      "Switching... context loss: tf.Tensor(0.3390236768795375, shape=(), dtype=float64)\n",
      "Task switched to: 0\n",
      "Switching... context loss: tf.Tensor(0.3392844126388029, shape=(), dtype=float64)\n",
      "Task switched to: 1\n",
      "Switching... context loss: tf.Tensor(1.0177359545498248, shape=(), dtype=float64)\n",
      "Task switched to: 2\n",
      "Switching... context loss: tf.Tensor(0.6759791673193396, shape=(), dtype=float64)\n",
      "Task switched to: 3\n",
      "6\n",
      "Switching... context loss: tf.Tensor(0.9434696346448513, shape=(), dtype=float64)\n",
      "Task switched to: 4\n",
      "Switching... context loss: tf.Tensor(0.3462068294914359, shape=(), dtype=float64)\n",
      "Task switched to: 5\n",
      "Switching... context loss: tf.Tensor(0.340528417432598, shape=(), dtype=float64)\n",
      "Task switched to: 6\n"
     ]
    }
   ],
   "source": [
    "train(model, x_train, y_train, 3, 500, shuffle=True, show_progress=False, batch_size=1, verbose=1)"
   ]
  },
  {
   "cell_type": "markdown",
   "metadata": {},
   "source": [
    "### Model Validation\n",
    "\n",
    "Assert that the model has learned all logic gates"
   ]
  },
  {
   "cell_type": "code",
   "execution_count": 37,
   "metadata": {},
   "outputs": [
    {
     "name": "stdout",
     "output_type": "stream",
     "text": [
      "Task 0: tf.Tensor(\n",
      "[[3.6516786e-04]\n",
      " [9.9877107e-01]\n",
      " [9.9760681e-01]\n",
      " [1.6799569e-04]], shape=(4, 1), dtype=float32) Passed\n",
      "Task 1: tf.Tensor(\n",
      "[[9.9828601e-01]\n",
      " [2.7096272e-04]\n",
      " [3.7968159e-04]\n",
      " [9.9950248e-01]], shape=(4, 1), dtype=float32) Passed\n",
      "Task 2: tf.Tensor(\n",
      "[[2.2617063e-05]\n",
      " [1.7973194e-05]\n",
      " [2.9701172e-05]\n",
      " [9.9991727e-01]], shape=(4, 1), dtype=float32) Passed\n",
      "Task 3: tf.Tensor(\n",
      "[[4.2262298e-05]\n",
      " [9.9998939e-01]\n",
      " [9.9991804e-01]\n",
      " [9.9999940e-01]], shape=(4, 1), dtype=float32) Passed\n",
      "Task 4: tf.Tensor(\n",
      "[[9.9991411e-01]\n",
      " [5.5343971e-05]\n",
      " [6.5958055e-05]\n",
      " [8.6255619e-07]], shape=(4, 1), dtype=float32) Passed\n",
      "Task 5: tf.Tensor(\n",
      "[[9.9995935e-01]\n",
      " [9.9998772e-01]\n",
      " [9.9995422e-01]\n",
      " [1.1062757e-05]], shape=(4, 1), dtype=float32) Passed\n",
      "Task 6: tf.Tensor(\n",
      "[[9.9996370e-01]\n",
      " [3.3207569e-05]\n",
      " [9.9998176e-01]\n",
      " [6.4399734e-05]], shape=(4, 1), dtype=float32) Passed\n",
      "Task 7: tf.Tensor(\n",
      "[[2.9828170e-05]\n",
      " [9.9979866e-01]\n",
      " [5.5688746e-05]\n",
      " [9.9989706e-01]], shape=(4, 1), dtype=float32) Passed\n",
      "8/8 (100%) Learned successfully\n"
     ]
    }
   ],
   "source": [
    "validate(model, x_train, y_train, num_task_contexts)"
   ]
  },
  {
   "cell_type": "code",
   "execution_count": 38,
   "metadata": {},
   "outputs": [
    {
     "data": {
      "image/png": "[encoded data removed]",
      "text/plain": [
       "<Figure size 432x288 with 1 Axes>"
      ]
     },
     "metadata": {
      "needs_background": "light"
     },
     "output_type": "display_data"
    }
   ],
   "source": [
    "model.plot_atr_values()"
   ]
  },
  {
   "cell_type": "markdown",
   "metadata": {},
   "source": [
    "## Dynamic n-task - 8 Gates"
   ]
  },
  {
   "cell_type": "code",
   "execution_count": 42,
   "metadata": {},
   "outputs": [],
   "source": [
    "y_train = labels\n",
    "num_task_contexts = len(y_train)"
   ]
  },
  {
   "cell_type": "code",
   "execution_count": 43,
   "metadata": {},
   "outputs": [],
   "source": [
    "random.seed(5)\n",
    "tf.random.set_seed(5)"
   ]
  },
  {
   "cell_type": "markdown",
   "metadata": {},
   "source": [
    "### Model"
   ]
  },
  {
   "cell_type": "code",
   "execution_count": 44,
   "metadata": {},
   "outputs": [],
   "source": [
    "inp = Input((2,))\n",
    "x = Dense(256, activation=\"relu\")(inp)\n",
    "x = Context(AtrMovingAverage(is_dynamic=True, task_switch_threshold=-0.02, task_add_threshold=-0.04, max_num_tasks=num_task_contexts+1))(x)\n",
    "x = Dense(1, activation=\"sigmoid\")(x)"
   ]
  },
  {
   "cell_type": "code",
   "execution_count": 45,
   "metadata": {},
   "outputs": [],
   "source": [
    "model = NTaskModel(inputs=inp, outputs=x, loss_fn=loss_fn, optimizer=optimizer)"
   ]
  },
  {
   "cell_type": "markdown",
   "metadata": {},
   "source": [
    "### Training"
   ]
  },
  {
   "cell_type": "code",
   "execution_count": 46,
   "metadata": {},
   "outputs": [
    {
     "name": "stdout",
     "output_type": "stream",
     "text": [
      "0\n",
      "1\n",
      "Switching... context loss: tf.Tensor(0.12803729399554487, shape=(), dtype=float64)\n",
      "Best context loss... tf.Tensor(0.12803729399554487, shape=(), dtype=float64)\n",
      "Task switched (added new task): 1\n",
      "2\n",
      "Switching... context loss: tf.Tensor(0.0470387192921962, shape=(), dtype=float64)\n",
      "Task switched to: 0\n",
      "Switching... context loss: tf.Tensor(0.13979306232325495, shape=(), dtype=float64)\n",
      "Best context loss... tf.Tensor(0.0470387192921962, shape=(), dtype=float64)\n",
      "Task switched (added new task): 2\n",
      "3\n",
      "Switching... context loss: tf.Tensor(0.12245445105664006, shape=(), dtype=float64)\n",
      "Task switched to: 0\n",
      "Switching... context loss: tf.Tensor(0.06021763706426566, shape=(), dtype=float64)\n",
      "Task switched to: 1\n",
      "Switching... context loss: tf.Tensor(0.16970973015840154, shape=(), dtype=float64)\n",
      "Best context loss... tf.Tensor(0.06021763706426566, shape=(), dtype=float64)\n",
      "Task switched (added new task): 3\n",
      "4\n",
      "Switching... context loss: tf.Tensor(0.2746182329935062, shape=(), dtype=float64)\n",
      "Task switched to: 0\n",
      "Switching... context loss: tf.Tensor(0.20009055683310056, shape=(), dtype=float64)\n",
      "Task switched to: 1\n",
      "Switching... context loss: tf.Tensor(0.0604687629443699, shape=(), dtype=float64)\n",
      "Task switched to: 2\n",
      "Switching... context loss: tf.Tensor(0.13558710873595767, shape=(), dtype=float64)\n",
      "Best context loss... tf.Tensor(0.0604687629443699, shape=(), dtype=float64)\n",
      "Task switched (added new task): 4\n",
      "5\n",
      "Switching... context loss: tf.Tensor(0.15740410558340967, shape=(), dtype=float64)\n",
      "Task switched to: 0\n",
      "Switching... context loss: tf.Tensor(0.07835344032640634, shape=(), dtype=float64)\n",
      "Task switched to: 1\n",
      "Switching... context loss: tf.Tensor(0.209595287168559, shape=(), dtype=float64)\n",
      "Task switched to: 2\n",
      "Switching... context loss: tf.Tensor(0.30050631755715285, shape=(), dtype=float64)\n",
      "Task switched to: 3\n",
      "Switching... context loss: tf.Tensor(0.15796442178211606, shape=(), dtype=float64)\n",
      "Best context loss... tf.Tensor(0.07835344032640634, shape=(), dtype=float64)\n",
      "Task switched (added new task): 5\n",
      "6\n",
      "Switching... context loss: tf.Tensor(0.0849043810734148, shape=(), dtype=float64)\n",
      "Task switched to: 0\n",
      "Switching... context loss: tf.Tensor(0.16464864029215304, shape=(), dtype=float64)\n",
      "Task switched to: 1\n",
      "Switching... context loss: tf.Tensor(0.16077855091116358, shape=(), dtype=float64)\n",
      "Task switched to: 2\n",
      "Switching... context loss: tf.Tensor(0.250155357582421, shape=(), dtype=float64)\n",
      "Task switched to: 3\n",
      "Switching... context loss: tf.Tensor(0.2538679906147274, shape=(), dtype=float64)\n",
      "Task switched to: 4\n",
      "Switching... context loss: tf.Tensor(0.07790895255064455, shape=(), dtype=float64)\n",
      "Best context loss... tf.Tensor(0.07790895255064455, shape=(), dtype=float64)\n",
      "Task switched (added new task): 6\n",
      "7\n",
      "Switching... context loss: tf.Tensor(0.36641884540003294, shape=(), dtype=float64)\n",
      "Task switched to: 0\n",
      "Switching... context loss: tf.Tensor(0.1608566376066472, shape=(), dtype=float64)\n",
      "Task switched to: 1\n",
      "Switching... context loss: tf.Tensor(0.19027875549495893, shape=(), dtype=float64)\n",
      "Task switched to: 2\n",
      "Switching... context loss: tf.Tensor(0.08965852068930798, shape=(), dtype=float64)\n",
      "Task switched to: 3\n",
      "Switching... context loss: tf.Tensor(0.08992956957832017, shape=(), dtype=float64)\n",
      "Task switched to: 4\n",
      "Switching... context loss: tf.Tensor(0.27123037623598456, shape=(), dtype=float64)\n",
      "Task switched to: 5\n",
      "Switching... context loss: tf.Tensor(0.2742461036424352, shape=(), dtype=float64)\n",
      "Best context loss... tf.Tensor(0.08965852068930798, shape=(), dtype=float64)\n",
      "Task switched (added new task): 7\n",
      "6\n",
      "Switching... context loss: tf.Tensor(0.38891810086692136, shape=(), dtype=float64)\n",
      "Task switched to: 0\n",
      "Switching... context loss: tf.Tensor(0.198806369833429, shape=(), dtype=float64)\n",
      "Task switched to: 1\n",
      "Switching... context loss: tf.Tensor(0.15196457129622037, shape=(), dtype=float64)\n",
      "Task switched to: 2\n",
      "Switching... context loss: tf.Tensor(0.28936996695481265, shape=(), dtype=float64)\n",
      "Task switched to: 3\n",
      "Switching... context loss: tf.Tensor(0.284842019863071, shape=(), dtype=float64)\n",
      "Task switched to: 4\n",
      "Switching... context loss: tf.Tensor(0.08942705679689883, shape=(), dtype=float64)\n",
      "Task switched to: 5\n",
      "Switching... context loss: tf.Tensor(0.09679582277694014, shape=(), dtype=float64)\n",
      "Task switched to: 6\n",
      "3\n",
      "Switching... context loss: tf.Tensor(0.30339914546407537, shape=(), dtype=float64)\n",
      "Task switched to: 7\n",
      "Switching... context loss: tf.Tensor(0.10065401893756365, shape=(), dtype=float64)\n",
      "Task switched to: 0\n",
      "Switching... context loss: tf.Tensor(0.06580509956651948, shape=(), dtype=float64)\n",
      "Task switched to: 1\n",
      "Switching... context loss: tf.Tensor(0.3094699648238643, shape=(), dtype=float64)\n",
      "Task switched to: 2\n",
      "Switching... context loss: tf.Tensor(0.19726703567094173, shape=(), dtype=float64)\n",
      "Task switched to: 3\n",
      "1\n",
      "Switching... context loss: tf.Tensor(0.3347700254178006, shape=(), dtype=float64)\n",
      "Task switched to: 4\n",
      "Switching... context loss: tf.Tensor(0.11163905801748211, shape=(), dtype=float64)\n",
      "Task switched to: 5\n",
      "Switching... context loss: tf.Tensor(0.3295213547645511, shape=(), dtype=float64)\n",
      "Task switched to: 6\n",
      "Switching... context loss: tf.Tensor(0.22297504811366664, shape=(), dtype=float64)\n",
      "Task switched to: 7\n",
      "Switching... context loss: tf.Tensor(0.22030650444126681, shape=(), dtype=float64)\n",
      "Task switched to: 0\n",
      "Switching... context loss: tf.Tensor(0.37340116846235494, shape=(), dtype=float64)\n",
      "Task switched to: 1\n",
      "0\n",
      "Switching... context loss: tf.Tensor(0.5073080885786073, shape=(), dtype=float64)\n",
      "Task switched to: 2\n",
      "Switching... context loss: tf.Tensor(0.37217697888232726, shape=(), dtype=float64)\n",
      "Task switched to: 3\n",
      "Switching... context loss: tf.Tensor(0.1259443651828961, shape=(), dtype=float64)\n",
      "Task switched to: 4\n",
      "Switching... context loss: tf.Tensor(0.36872836052139385, shape=(), dtype=float64)\n",
      "Task switched to: 5\n",
      "Switching... context loss: tf.Tensor(0.12689978193252896, shape=(), dtype=float64)\n",
      "Task switched to: 6\n",
      "Switching... context loss: tf.Tensor(0.2536367770315265, shape=(), dtype=float64)\n",
      "Task switched to: 7\n",
      "Switching... context loss: tf.Tensor(0.2524510433345305, shape=(), dtype=float64)\n",
      "Task switched to: 0\n",
      "7\n",
      "Switching... context loss: tf.Tensor(0.27331849009554454, shape=(), dtype=float64)\n",
      "Task switched to: 1\n",
      "Switching... context loss: tf.Tensor(0.2732046253594102, shape=(), dtype=float64)\n",
      "Task switched to: 2\n",
      "Switching... context loss: tf.Tensor(0.13162292098796388, shape=(), dtype=float64)\n",
      "Task switched to: 3\n",
      "Switching... context loss: tf.Tensor(0.13670066494702907, shape=(), dtype=float64)\n",
      "Task switched to: 4\n",
      "Switching... context loss: tf.Tensor(0.4058173049865069, shape=(), dtype=float64)\n",
      "Task switched to: 5\n",
      "Switching... context loss: tf.Tensor(0.4082545400943191, shape=(), dtype=float64)\n",
      "Task switched to: 6\n",
      "Switching... context loss: tf.Tensor(0.5463146552908826, shape=(), dtype=float64)\n",
      "Task switched to: 7\n",
      "2\n",
      "Switching... context loss: tf.Tensor(0.1434464240180314, shape=(), dtype=float64)\n",
      "Task switched to: 0\n",
      "Switching... context loss: tf.Tensor(0.4312645115757604, shape=(), dtype=float64)\n",
      "Task switched to: 1\n",
      "Switching... context loss: tf.Tensor(0.14358206154255815, shape=(), dtype=float64)\n",
      "Task switched to: 2\n",
      "5\n",
      "Switching... context loss: tf.Tensor(0.614326491334657, shape=(), dtype=float64)\n",
      "Task switched to: 3\n",
      "Switching... context loss: tf.Tensor(0.3086694185948907, shape=(), dtype=float64)\n",
      "Task switched to: 4\n",
      "Switching... context loss: tf.Tensor(0.3059033751763213, shape=(), dtype=float64)\n",
      "Task switched to: 5\n",
      "4\n",
      "Switching... context loss: tf.Tensor(0.3277437358285591, shape=(), dtype=float64)\n",
      "Task switched to: 6\n",
      "Switching... context loss: tf.Tensor(0.1641202311074861, shape=(), dtype=float64)\n",
      "Task switched to: 7\n",
      "Switching... context loss: tf.Tensor(0.4920155016839425, shape=(), dtype=float64)\n",
      "Task switched to: 0\n",
      "Switching... context loss: tf.Tensor(0.49298527387239155, shape=(), dtype=float64)\n",
      "Task switched to: 1\n",
      "Switching... context loss: tf.Tensor(0.1642998703448532, shape=(), dtype=float64)\n",
      "Task switched to: 2\n",
      "Switching... context loss: tf.Tensor(0.3252256917732903, shape=(), dtype=float64)\n",
      "Task switched to: 3\n",
      "Switching... context loss: tf.Tensor(0.6562522943766522, shape=(), dtype=float64)\n",
      "Task switched to: 4\n",
      "7\n",
      "Switching... context loss: tf.Tensor(0.5161942807085065, shape=(), dtype=float64)\n",
      "Task switched to: 5\n",
      "Switching... context loss: tf.Tensor(0.5162576472531468, shape=(), dtype=float64)\n",
      "Task switched to: 6\n",
      "Switching... context loss: tf.Tensor(0.693246365098865, shape=(), dtype=float64)\n",
      "Task switched to: 7\n",
      "5\n",
      "Switching... context loss: tf.Tensor(0.5065499750881179, shape=(), dtype=float64)\n",
      "Task switched to: 0\n",
      "Switching... context loss: tf.Tensor(0.17820531164364511, shape=(), dtype=float64)\n",
      "Task switched to: 1\n",
      "Switching... context loss: tf.Tensor(0.533928612208381, shape=(), dtype=float64)\n",
      "Task switched to: 2\n",
      "Switching... context loss: tf.Tensor(0.7032465091697524, shape=(), dtype=float64)\n",
      "Task switched to: 3\n",
      "Switching... context loss: tf.Tensor(0.3567518747686498, shape=(), dtype=float64)\n",
      "Task switched to: 4\n",
      "Switching... context loss: tf.Tensor(0.3567013589491538, shape=(), dtype=float64)\n",
      "Task switched to: 5\n",
      "2\n",
      "Switching... context loss: tf.Tensor(0.6206001165510829, shape=(), dtype=float64)\n",
      "Task switched to: 6\n",
      "Switching... context loss: tf.Tensor(0.5646686401175336, shape=(), dtype=float64)\n",
      "Task switched to: 7\n",
      "Switching... context loss: tf.Tensor(0.16702584203379686, shape=(), dtype=float64)\n",
      "Task switched to: 0\n",
      "Switching... context loss: tf.Tensor(0.5668604819397273, shape=(), dtype=float64)\n",
      "Task switched to: 1\n",
      "Switching... context loss: tf.Tensor(0.18758025165696443, shape=(), dtype=float64)\n",
      "Task switched to: 2\n",
      "0\n",
      "Switching... context loss: tf.Tensor(0.43058610383984297, shape=(), dtype=float64)\n",
      "Task switched to: 3\n",
      "Switching... context loss: tf.Tensor(0.19764941078576118, shape=(), dtype=float64)\n",
      "Task switched to: 4\n",
      "Switching... context loss: tf.Tensor(0.5935479376001607, shape=(), dtype=float64)\n",
      "Task switched to: 5\n",
      "Switching... context loss: tf.Tensor(0.09867632372509486, shape=(), dtype=float64)\n",
      "Task switched to: 6\n",
      "Switching... context loss: tf.Tensor(0.3939782974197367, shape=(), dtype=float64)\n",
      "Task switched to: 7\n",
      "Switching... context loss: tf.Tensor(0.38135558897112787, shape=(), dtype=float64)\n",
      "Task switched to: 0\n",
      "1\n",
      "Switching... context loss: tf.Tensor(0.8173137728219342, shape=(), dtype=float64)\n",
      "Task switched to: 1\n",
      "4\n",
      "Switching... context loss: tf.Tensor(0.2248962880323, shape=(), dtype=float64)\n",
      "Task switched to: 2\n",
      "Switching... context loss: tf.Tensor(0.16743299347373006, shape=(), dtype=float64)\n",
      "Task switched to: 3\n",
      "Switching... context loss: tf.Tensor(0.931247618936095, shape=(), dtype=float64)\n",
      "Task switched to: 4\n",
      "3\n",
      "Switching... context loss: tf.Tensor(0.7496854804801393, shape=(), dtype=float64)\n",
      "Task switched to: 5\n",
      "Switching... context loss: tf.Tensor(0.06161573203202782, shape=(), dtype=float64)\n",
      "Task switched to: 6\n",
      "Switching... context loss: tf.Tensor(0.7066696877149765, shape=(), dtype=float64)\n",
      "Task switched to: 7\n",
      "Switching... context loss: tf.Tensor(0.22495394320779588, shape=(), dtype=float64)\n",
      "Task switched to: 0\n",
      "Switching... context loss: tf.Tensor(0.23041205277620902, shape=(), dtype=float64)\n",
      "Task switched to: 1\n",
      "Switching... context loss: tf.Tensor(0.7014838803273397, shape=(), dtype=float64)\n",
      "Task switched to: 2\n",
      "Switching... context loss: tf.Tensor(0.20004206029749608, shape=(), dtype=float64)\n",
      "Task switched to: 3\n",
      "6\n",
      "Switching... context loss: tf.Tensor(0.47278391558340627, shape=(), dtype=float64)\n",
      "Task switched to: 4\n",
      "Switching... context loss: tf.Tensor(0.2309260836540354, shape=(), dtype=float64)\n",
      "Task switched to: 5\n",
      "Switching... context loss: tf.Tensor(0.1556735178102719, shape=(), dtype=float64)\n",
      "Task switched to: 6\n"
     ]
    }
   ],
   "source": [
    "train(model, x_train, y_train, 3, 750, shuffle=True, show_progress=False, batch_size=1, verbose=1)"
   ]
  },
  {
   "cell_type": "markdown",
   "metadata": {},
   "source": [
    "### Model Validation\n",
    "\n",
    "Assert that the model has learned all logic gates"
   ]
  },
  {
   "cell_type": "code",
   "execution_count": 47,
   "metadata": {},
   "outputs": [
    {
     "name": "stdout",
     "output_type": "stream",
     "text": [
      "Task 0: tf.Tensor(\n",
      "[[2.3417779e-07]\n",
      " [9.9999881e-01]\n",
      " [9.9999952e-01]\n",
      " [3.8337971e-06]], shape=(4, 1), dtype=float32) Passed\n",
      "Task 1: tf.Tensor(\n",
      "[[9.9999416e-01]\n",
      " [1.1434338e-06]\n",
      " [1.1220191e-05]\n",
      " [9.9998474e-01]], shape=(4, 1), dtype=float32) Passed\n",
      "Task 2: tf.Tensor(\n",
      "[[1.4903513e-07]\n",
      " [6.1551469e-07]\n",
      " [5.1954984e-08]\n",
      " [9.9999988e-01]], shape=(4, 1), dtype=float32) Passed\n",
      "Task 3: tf.Tensor(\n",
      "[[7.204879e-07]\n",
      " [9.999927e-01]\n",
      " [9.999942e-01]\n",
      " [1.000000e+00]], shape=(4, 1), dtype=float32) Passed\n",
      "Task 4: tf.Tensor(\n",
      "[[9.9999958e-01]\n",
      " [4.3514154e-07]\n",
      " [1.6052305e-06]\n",
      " [1.5638378e-07]], shape=(4, 1), dtype=float32) Passed\n",
      "Task 5: tf.Tensor(\n",
      "[[1.0000000e+00]\n",
      " [9.9999940e-01]\n",
      " [9.9999881e-01]\n",
      " [3.9146457e-08]], shape=(4, 1), dtype=float32) Passed\n",
      "Task 6: tf.Tensor(\n",
      "[[9.9999988e-01]\n",
      " [3.1798587e-07]\n",
      " [9.9999952e-01]\n",
      " [2.5493891e-06]], shape=(4, 1), dtype=float32) Passed\n",
      "Task 7: tf.Tensor(\n",
      "[[4.4993494e-06]\n",
      " [9.9999940e-01]\n",
      " [5.3090548e-07]\n",
      " [9.9999642e-01]], shape=(4, 1), dtype=float32) Passed\n",
      "8/8 (100%) Learned successfully\n"
     ]
    }
   ],
   "source": [
    "validate(model, x_train, y_train, num_task_contexts)"
   ]
  },
  {
   "cell_type": "code",
   "execution_count": 48,
   "metadata": {},
   "outputs": [
    {
     "data": {
      "image/png": "[encoded data removed]",
      "text/plain": [
       "<Figure size 432x288 with 1 Axes>"
      ]
     },
     "metadata": {
      "needs_background": "light"
     },
     "output_type": "display_data"
    }
   ],
   "source": [
    "model.plot_atr_values()"
   ]
  },
  {
   "cell_type": "code",
   "execution_count": null,
   "metadata": {},
   "outputs": [],
   "source": []
  }
 ],
 "metadata": {
  "kernelspec": {
   "display_name": "Python 3",
   "language": "python",
   "name": "python3"
  },
  "language_info": {
   "codemirror_mode": {
    "name": "ipython",
    "version": 3
   },
   "file_extension": ".py",
   "mimetype": "text/x-python",
   "name": "python",
   "nbconvert_exporter": "python",
   "pygments_lexer": "ipython3",
   "version": "3.7.6"
  }
 },
 "nbformat": 4,
 "nbformat_minor": 4
}
