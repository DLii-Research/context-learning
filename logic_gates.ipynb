{
 "cells": [
  {
   "cell_type": "markdown",
   "metadata": {},
   "source": [
    "# Logic Gate Task\n",
    "\n",
    "This task utilizes a simple neural network containing single n-task context layer to learn eight different logic gates."
   ]
  },
  {
   "cell_type": "code",
   "execution_count": 1,
   "metadata": {},
   "outputs": [],
   "source": [
    "# Import Tensorflow and Keras layers\n",
    "import tensorflow as tf\n",
    "from tensorflow.keras.layers import Input, Dense\n",
    "\n",
    "import math\n",
    "import numpy as np\n",
    "import random\n",
    "\n",
    "# Import n-task library\n",
    "from ntask.atr   import AtrMovingAverage\n",
    "from ntask.layer import Context\n",
    "from ntask.model import NTaskModel"
   ]
  },
  {
   "cell_type": "markdown",
   "metadata": {},
   "source": [
    "## Dataset"
   ]
  },
  {
   "cell_type": "code",
   "execution_count": 2,
   "metadata": {},
   "outputs": [],
   "source": [
    "gate_labels = [\"xor\", \"xnor\", \"and\", \"or\", \"nor\", \"nand\", \"custom_1\", \"custom_2\"]"
   ]
  },
  {
   "cell_type": "code",
   "execution_count": 3,
   "metadata": {},
   "outputs": [],
   "source": [
    "gates = []\n",
    "for label in gate_labels:\n",
    "    with open(f\"datasets/logic_gates/{label}.csv\") as f:\n",
    "        gate = []\n",
    "        for line in f:\n",
    "            row = list(map(int, line.split(',')))\n",
    "            gate.append([np.array([row[:2]]), row[2]])\n",
    "        gates.append(gate)"
   ]
  },
  {
   "cell_type": "markdown",
   "metadata": {},
   "source": [
    "## Training and Validation\n",
    "\n",
    "Some functions to conveniently train the model by shuffling the datasets and test the results."
   ]
  },
  {
   "cell_type": "code",
   "execution_count": 4,
   "metadata": {},
   "outputs": [],
   "source": [
    "def train(model, dataset, cycles, epochs, shuffle=True, show_progress=False):\n",
    "    last_index = None\n",
    "    indices = list(range(len(dataset)))\n",
    "    \n",
    "    for cycle in range(cycles):\n",
    "        \n",
    "        # If the previous task is repeated, swap with a random task\n",
    "        if last_index == indices[0]:\n",
    "            i = randrange(1, len(indices))\n",
    "            indices[0], indices[i] = indices[i], indices[0]\n",
    "        \n",
    "        # Train on each batch in the dataset\n",
    "        for i in indices:\n",
    "            print(i)\n",
    "            model.fit(dataset[i], epochs, progress=show_progress)\n",
    "        \n",
    "        # Shuffle at the end to preserver dataset order\n",
    "        if shuffle:\n",
    "            list_index = indices[-1]\n",
    "\n",
    "            # Shuffle the dataset\n",
    "            random.shuffle(indices)"
   ]
  },
  {
   "cell_type": "code",
   "execution_count": 5,
   "metadata": {},
   "outputs": [],
   "source": [
    "def validate(model, dataset, num_task_contexts):\n",
    "    labels = np.array([[[item[-1]] for item in batch] for batch in dataset])\n",
    "    num_passed = 0\n",
    "    for i in range(num_task_contexts):\n",
    "        model.layers[model.context_layers[0]].set_hot_context(i)\n",
    "        result = model(np.array([[-1, -1], [-1, 1], [1, -1], [1, 1]]))\n",
    "        predicted = np.round(model(np.array([[-1, -1], [-1, 1], [1, -1], [1, 1]]))).astype(int)\n",
    "        try:\n",
    "            print(f\"Task {i}:\", end=' ')\n",
    "            assert (predicted == labels[i]).all(), \"Failed on task:\"\n",
    "            print(result, \"Passed\")\n",
    "            num_passed += 1\n",
    "        except AssertionError:\n",
    "            print(result, \"Failed\")\n",
    "    #     print(model(np.array([[-1, -1], [-1, 1], [1, -1], [1, 1]])))\n",
    "    print(f\"{num_passed}/{num_task_contexts} ({100*num_passed//num_task_contexts}%) Learned successfully\")"
   ]
  },
  {
   "cell_type": "markdown",
   "metadata": {},
   "source": [
    "### Loss Function"
   ]
  },
  {
   "cell_type": "code",
   "execution_count": 6,
   "metadata": {},
   "outputs": [],
   "source": [
    "def loss_fn(labels, predictions):\n",
    "    return tf.keras.losses.binary_crossentropy(y_true=labels, y_pred=predictions)"
   ]
  },
  {
   "cell_type": "markdown",
   "metadata": {},
   "source": [
    "### Optimizer"
   ]
  },
  {
   "cell_type": "code",
   "execution_count": 7,
   "metadata": {},
   "outputs": [],
   "source": [
    "optimizer = tf.keras.optimizers.Adam(1e-4)"
   ]
  },
  {
   "cell_type": "markdown",
   "metadata": {},
   "source": [
    "___"
   ]
  },
  {
   "cell_type": "markdown",
   "metadata": {},
   "source": [
    "## Static n-task - 2 Gates (XOR, XNOR) [PASSING]"
   ]
  },
  {
   "cell_type": "code",
   "execution_count": 8,
   "metadata": {},
   "outputs": [],
   "source": [
    "dataset = gates[:2]\n",
    "num_task_contexts = len(dataset)"
   ]
  },
  {
   "cell_type": "code",
   "execution_count": 9,
   "metadata": {},
   "outputs": [],
   "source": [
    "random.seed(5)\n",
    "tf.random.set_seed(5)"
   ]
  },
  {
   "cell_type": "markdown",
   "metadata": {},
   "source": [
    "### Model"
   ]
  },
  {
   "cell_type": "code",
   "execution_count": 10,
   "metadata": {},
   "outputs": [],
   "source": [
    "inp = Input((2,))\n",
    "x = Dense(40, activation=\"relu\")(inp)\n",
    "x = Context(AtrMovingAverage(num_task_contexts, task_switch_threshold=-0.02))(x)\n",
    "x = Dense(1, activation=\"sigmoid\")(x)"
   ]
  },
  {
   "cell_type": "code",
   "execution_count": 11,
   "metadata": {},
   "outputs": [],
   "source": [
    "model = NTaskModel(inputs=inp, outputs=x, loss_fn=loss_fn, optimizer=optimizer)"
   ]
  },
  {
   "cell_type": "markdown",
   "metadata": {},
   "source": [
    "### Training"
   ]
  },
  {
   "cell_type": "code",
   "execution_count": 12,
   "metadata": {},
   "outputs": [
    {
     "name": "stdout",
     "output_type": "stream",
     "text": [
      "0\n",
      "1\n",
      "Task switched to: 1\n",
      "0\n",
      "Task switched to: 0\n",
      "1\n",
      "Task switched to: 1\n",
      "0\n",
      "Task switched to: 0\n",
      "1\n",
      "Task switched to: 1\n"
     ]
    }
   ],
   "source": [
    "train(model, dataset, 3, 500)"
   ]
  },
  {
   "cell_type": "markdown",
   "metadata": {},
   "source": [
    "### Model Validation\n",
    "\n",
    "Assert that the model has learned all logic gates"
   ]
  },
  {
   "cell_type": "code",
   "execution_count": 13,
   "metadata": {},
   "outputs": [
    {
     "name": "stdout",
     "output_type": "stream",
     "text": [
      "Task 0: tf.Tensor(\n",
      "[[0.02289286]\n",
      " [0.9646863 ]\n",
      " [0.924756  ]\n",
      " [0.06937394]], shape=(4, 1), dtype=float32) Passed\n",
      "Task 1: tf.Tensor(\n",
      "[[0.9646759 ]\n",
      " [0.02893636]\n",
      " [0.05083215]\n",
      " [0.96020806]], shape=(4, 1), dtype=float32) Passed\n",
      "2/2 (100%) Learned successfully\n"
     ]
    }
   ],
   "source": [
    "validate(model, dataset, num_task_contexts)"
   ]
  },
  {
   "cell_type": "code",
   "execution_count": 14,
   "metadata": {},
   "outputs": [
    {
     "data": {
      "image/png": "[encoded data removed]",
      "text/plain": [
       "<Figure size 432x288 with 1 Axes>"
      ]
     },
     "metadata": {
      "needs_background": "light"
     },
     "output_type": "display_data"
    }
   ],
   "source": [
    "model.plot_atr_values()"
   ]
  },
  {
   "cell_type": "markdown",
   "metadata": {},
   "source": [
    "___"
   ]
  },
  {
   "cell_type": "markdown",
   "metadata": {},
   "source": [
    "## Dynamic n-task - 2 Gates (XOR, XNOR) [PASSING]"
   ]
  },
  {
   "cell_type": "code",
   "execution_count": 13,
   "metadata": {},
   "outputs": [],
   "source": [
    "dataset = all_data[:2]\n",
    "num_task_contexts = len(dataset)"
   ]
  },
  {
   "cell_type": "code",
   "execution_count": 44,
   "metadata": {},
   "outputs": [],
   "source": [
    "random.seed(5)\n",
    "tf.random.set_seed(5)"
   ]
  },
  {
   "cell_type": "markdown",
   "metadata": {},
   "source": [
    "### Model"
   ]
  },
  {
   "cell_type": "code",
   "execution_count": 14,
   "metadata": {},
   "outputs": [],
   "source": [
    "inp = Input((2,))\n",
    "x = Dense(40, activation=\"relu\")(inp)\n",
    "x = Context(AtrMovingAverage(task_switch_threshold=-0.02, is_dynamic=True, task_add_threshold=0.1, max_num_tasks=num_task_contexts))(x)\n",
    "x = Dense(1, activation=\"sigmoid\")(x)"
   ]
  },
  {
   "cell_type": "code",
   "execution_count": 15,
   "metadata": {},
   "outputs": [],
   "source": [
    "model = NTaskModel(inputs=inp, outputs=x, loss_fn=loss_fn, optimizer=optimizer)"
   ]
  },
  {
   "cell_type": "markdown",
   "metadata": {},
   "source": [
    "### Training"
   ]
  },
  {
   "cell_type": "code",
   "execution_count": 16,
   "metadata": {},
   "outputs": [
    {
     "name": "stdout",
     "output_type": "stream",
     "text": [
      "[1]\n",
      "Progress: [###################-] 99.80%\n"
     ]
    }
   ],
   "source": [
    "train(model, dataset, 3, 500)"
   ]
  },
  {
   "cell_type": "markdown",
   "metadata": {},
   "source": [
    "### Model Validation\n",
    "\n",
    "Assert that the model has learned all logic gates"
   ]
  },
  {
   "cell_type": "code",
   "execution_count": 19,
   "metadata": {},
   "outputs": [
    {
     "name": "stdout",
     "output_type": "stream",
     "text": [
      "Task 0: tf.Tensor(\n",
      "[[0.02289286]\n",
      " [0.9646863 ]\n",
      " [0.924756  ]\n",
      " [0.06937394]], shape=(4, 1), dtype=float32) Passed\n",
      "Task 1: tf.Tensor(\n",
      "[[0.9646759 ]\n",
      " [0.02893636]\n",
      " [0.05083215]\n",
      " [0.96020806]], shape=(4, 1), dtype=float32) Passed\n",
      "2/2 (100%) Learned successfully\n"
     ]
    }
   ],
   "source": [
    "validate(model, dataset, 2)"
   ]
  },
  {
   "cell_type": "code",
   "execution_count": 20,
   "metadata": {},
   "outputs": [
    {
     "data": {
      "image/png": "[encoded data removed]",
      "text/plain": [
       "<Figure size 432x288 with 1 Axes>"
      ]
     },
     "metadata": {
      "needs_background": "light"
     },
     "output_type": "display_data"
    }
   ],
   "source": [
    "model.plot_atr_values()"
   ]
  },
  {
   "cell_type": "markdown",
   "metadata": {},
   "source": [
    "## Static n-task - 8 Gates (XOR, XNOR, AND, OR) [PASSING]"
   ]
  },
  {
   "cell_type": "code",
   "execution_count": 43,
   "metadata": {},
   "outputs": [],
   "source": [
    "dataset = all_data\n",
    "num_task_contexts = len(dataset)"
   ]
  },
  {
   "cell_type": "code",
   "execution_count": 44,
   "metadata": {},
   "outputs": [],
   "source": [
    "random.seed(5)\n",
    "tf.random.set_seed(5)"
   ]
  },
  {
   "cell_type": "markdown",
   "metadata": {},
   "source": [
    "### Model"
   ]
  },
  {
   "cell_type": "code",
   "execution_count": 50,
   "metadata": {},
   "outputs": [],
   "source": [
    "inp = Input((2,))\n",
    "x = Dense(128, activation=\"relu\")(inp)\n",
    "x = Context(AtrMovingAverage(num_task_contexts, task_switch_threshold=-0.02))(x)\n",
    "x = Dense(1, activation=\"sigmoid\")(x)"
   ]
  },
  {
   "cell_type": "code",
   "execution_count": 51,
   "metadata": {},
   "outputs": [],
   "source": [
    "model = NTaskModel(inputs=inp, outputs=x, loss_fn=loss_fn, optimizer=optimizer)"
   ]
  },
  {
   "cell_type": "markdown",
   "metadata": {},
   "source": [
    "### Training"
   ]
  },
  {
   "cell_type": "code",
   "execution_count": 52,
   "metadata": {},
   "outputs": [
    {
     "name": "stdout",
     "output_type": "stream",
     "text": [
      "0\n",
      "1\n",
      "Task switched to: 1\n",
      "2\n",
      "Task switched to: 2\n",
      "3\n",
      "Task switched to: 3\n",
      "4\n",
      "Task switched to: 4\n",
      "5\n",
      "Task switched to: 5\n",
      "6\n",
      "Task switched to: 6\n",
      "7\n",
      "Task switched to: 7\n",
      "7\n",
      "4\n",
      "Task switched to: 0\n",
      "Task switched to: 1\n",
      "Task switched to: 2\n",
      "Task switched to: 3\n",
      "Task switched to: 4\n",
      "5\n",
      "Task switched to: 5\n",
      "0\n",
      "Task switched to: 6\n",
      "Task switched to: 7\n",
      "Task switched to: 0\n",
      "Task switched to: 1\n",
      "Task switched to: 2\n",
      "Task switched to: 3\n",
      "Task switched to: 4\n",
      "[<tf.Tensor: shape=(), dtype=float64, numpy=0.00215929949784624>, <tf.Tensor: shape=(), dtype=float64, numpy=0.0025387555070497114>, <tf.Tensor: shape=(), dtype=float64, numpy=0.0017970009890126565>, <tf.Tensor: shape=(), dtype=float64, numpy=0.0008597773035224991>, <tf.Tensor: shape=(), dtype=float64, numpy=1.6522560546965008e-05>, <tf.Tensor: shape=(), dtype=float64, numpy=1.3964268734377342e-05>, <tf.Tensor: shape=(), dtype=float64, numpy=0.0005211978327865172>, <tf.Tensor: shape=(), dtype=float64, numpy=1.743339491982597e-05>]\n",
      "[<tf.Tensor: shape=(), dtype=float64, numpy=0.023483760599638276>, <tf.Tensor: shape=(), dtype=float64, numpy=0.32836351783164475>, <tf.Tensor: shape=(), dtype=float64, numpy=0.36459050624097744>, <tf.Tensor: shape=(), dtype=float64, numpy=0.14495842726896663>, <tf.Tensor: shape=(), dtype=float64, numpy=0.15186705123364466>, <tf.Tensor: shape=(), dtype=float64, numpy=0.4536596461018388>, <tf.Tensor: shape=(), dtype=float64, numpy=0.2856132923554668>, <tf.Tensor: shape=(), dtype=float64, numpy=0.3008410336152377>]\n",
      "Task switched (found best): 0\n",
      "[<tf.Tensor: shape=(), dtype=float64, numpy=0.023483760599638276>, <tf.Tensor: shape=(), dtype=float64, numpy=0.32836351783164475>, <tf.Tensor: shape=(), dtype=float64, numpy=0.36459050624097744>, <tf.Tensor: shape=(), dtype=float64, numpy=0.14495842726896663>, <tf.Tensor: shape=(), dtype=float64, numpy=0.15186705123364466>, <tf.Tensor: shape=(), dtype=float64, numpy=0.4536596461018388>, <tf.Tensor: shape=(), dtype=float64, numpy=0.2856132923554668>, <tf.Tensor: shape=(), dtype=float64, numpy=0.3008410336152377>]\n",
      "1\n",
      "Task switched to: 1\n",
      "Task switched to: 2\n",
      "Task switched to: 3\n",
      "Task switched to: 4\n",
      "Task switched to: 5\n",
      "Task switched to: 6\n",
      "Task switched to: 7\n",
      "[<tf.Tensor: shape=(), dtype=float64, numpy=0.00015985758355233992>, <tf.Tensor: shape=(), dtype=float64, numpy=0.0025387555070497114>, <tf.Tensor: shape=(), dtype=float64, numpy=0.0017970009890126565>, <tf.Tensor: shape=(), dtype=float64, numpy=0.0008597773035224991>, <tf.Tensor: shape=(), dtype=float64, numpy=1.6522560546965008e-05>, <tf.Tensor: shape=(), dtype=float64, numpy=1.3964268734377342e-05>, <tf.Tensor: shape=(), dtype=float64, numpy=0.0005211978327865172>, <tf.Tensor: shape=(), dtype=float64, numpy=1.743339491982597e-05>]\n",
      "[<tf.Tensor: shape=(), dtype=float64, numpy=0.67638044123547>, <tf.Tensor: shape=(), dtype=float64, numpy=0.10897383705553684>, <tf.Tensor: shape=(), dtype=float64, numpy=0.19394902885448073>, <tf.Tensor: shape=(), dtype=float64, numpy=0.4936613127771798>, <tf.Tensor: shape=(), dtype=float64, numpy=0.5188296342478558>, <tf.Tensor: shape=(), dtype=float64, numpy=0.17412167327920067>, <tf.Tensor: shape=(), dtype=float64, numpy=0.3364565332236792>, <tf.Tensor: shape=(), dtype=float64, numpy=0.34652770019040247>]\n",
      "Task switched (found best): 1\n",
      "[<tf.Tensor: shape=(), dtype=float64, numpy=0.67638044123547>, <tf.Tensor: shape=(), dtype=float64, numpy=0.10897383705553684>, <tf.Tensor: shape=(), dtype=float64, numpy=0.19394902885448073>, <tf.Tensor: shape=(), dtype=float64, numpy=0.4936613127771798>, <tf.Tensor: shape=(), dtype=float64, numpy=0.5188296342478558>, <tf.Tensor: shape=(), dtype=float64, numpy=0.17412167327920067>, <tf.Tensor: shape=(), dtype=float64, numpy=0.3364565332236792>, <tf.Tensor: shape=(), dtype=float64, numpy=0.34652770019040247>]\n",
      "3\n",
      "Task switched to: 2\n",
      "Task switched to: 3\n",
      "6\n",
      "Task switched to: 4\n",
      "Task switched to: 5\n",
      "Task switched to: 6\n",
      "2\n",
      "Task switched to: 7\n",
      "Task switched to: 0\n",
      "Task switched to: 1\n",
      "Task switched to: 2\n",
      "Task switched to: 3\n",
      "Task switched to: 4\n",
      "Task switched to: 5\n",
      "[<tf.Tensor: shape=(), dtype=float64, numpy=0.00015985758355233992>, <tf.Tensor: shape=(), dtype=float64, numpy=0.00029978837458567915>, <tf.Tensor: shape=(), dtype=float64, numpy=0.0017970009890126565>, <tf.Tensor: shape=(), dtype=float64, numpy=7.180272776253262e-06>, <tf.Tensor: shape=(), dtype=float64, numpy=1.6522560546965008e-05>, <tf.Tensor: shape=(), dtype=float64, numpy=1.3964268734377342e-05>, <tf.Tensor: shape=(), dtype=float64, numpy=1.0053995927812318e-06>, <tf.Tensor: shape=(), dtype=float64, numpy=1.743339491982597e-05>]\n",
      "[<tf.Tensor: shape=(), dtype=float64, numpy=0.602268103779596>, <tf.Tensor: shape=(), dtype=float64, numpy=0.20238990672256194>, <tf.Tensor: shape=(), dtype=float64, numpy=0.04300631493559031>, <tf.Tensor: shape=(), dtype=float64, numpy=0.408546906166375>, <tf.Tensor: shape=(), dtype=float64, numpy=0.8042333050285322>, <tf.Tensor: shape=(), dtype=float64, numpy=0.40813741394991165>, <tf.Tensor: shape=(), dtype=float64, numpy=0.6145092309381041>, <tf.Tensor: shape=(), dtype=float64, numpy=0.20506730246039506>]\n",
      "Task switched (found best): 2\n",
      "[<tf.Tensor: shape=(), dtype=float64, numpy=0.602268103779596>, <tf.Tensor: shape=(), dtype=float64, numpy=0.20238990672256194>, <tf.Tensor: shape=(), dtype=float64, numpy=0.04300631493559031>, <tf.Tensor: shape=(), dtype=float64, numpy=0.408546906166375>, <tf.Tensor: shape=(), dtype=float64, numpy=0.8042333050285322>, <tf.Tensor: shape=(), dtype=float64, numpy=0.40813741394991165>, <tf.Tensor: shape=(), dtype=float64, numpy=0.6145092309381041>, <tf.Tensor: shape=(), dtype=float64, numpy=0.20506730246039506>]\n",
      "0\n",
      "Task switched to: 3\n",
      "Task switched to: 4\n",
      "Task switched to: 5\n",
      "Task switched to: 6\n",
      "Task switched to: 7\n",
      "Task switched to: 0\n",
      "2\n",
      "Task switched to: 1\n",
      "Task switched to: 2\n",
      "1\n",
      "Task switched to: 3\n",
      "Task switched to: 4\n",
      "Task switched to: 5\n",
      "Task switched to: 6\n",
      "Task switched to: 7\n",
      "Task switched to: 0\n",
      "Task switched to: 1\n",
      "6\n",
      "Task switched to: 2\n",
      "Task switched to: 3\n",
      "Task switched to: 4\n",
      "Task switched to: 5\n",
      "Task switched to: 6\n",
      "3\n",
      "Task switched to: 7\n",
      "Task switched to: 0\n",
      "Task switched to: 1\n",
      "Task switched to: 2\n",
      "Task switched to: 3\n",
      "7\n",
      "Task switched to: 4\n",
      "Task switched to: 5\n",
      "Task switched to: 6\n",
      "Task switched to: 7\n",
      "4\n",
      "Task switched to: 0\n",
      "Task switched to: 1\n",
      "Task switched to: 2\n",
      "Task switched to: 3\n",
      "Task switched to: 4\n",
      "5\n",
      "Task switched to: 5\n"
     ]
    }
   ],
   "source": [
    "train(model, dataset, 3, 500, shuffle=True, show_progress=False)"
   ]
  },
  {
   "cell_type": "markdown",
   "metadata": {},
   "source": [
    "### Model Validation\n",
    "\n",
    "Assert that the model has learned all logic gates"
   ]
  },
  {
   "cell_type": "code",
   "execution_count": 53,
   "metadata": {},
   "outputs": [
    {
     "name": "stdout",
     "output_type": "stream",
     "text": [
      "Task 0: tf.Tensor(\n",
      "[[1.1052489e-03]\n",
      " [9.9884385e-01]\n",
      " [9.9699807e-01]\n",
      " [6.7400932e-04]], shape=(4, 1), dtype=float32) Passed\n",
      "Task 1: tf.Tensor(\n",
      "[[0.99985176]\n",
      " [0.01395854]\n",
      " [0.00874302]\n",
      " [0.9998234 ]], shape=(4, 1), dtype=float32) Passed\n",
      "Task 2: tf.Tensor(\n",
      "[[5.9211482e-07]\n",
      " [1.8263161e-03]\n",
      " [1.3484955e-03]\n",
      " [9.9993372e-01]], shape=(4, 1), dtype=float32) Passed\n",
      "Task 3: tf.Tensor(\n",
      "[[3.5664439e-04]\n",
      " [9.9996805e-01]\n",
      " [9.9985695e-01]\n",
      " [9.9992663e-01]], shape=(4, 1), dtype=float32) Passed\n",
      "Task 4: tf.Tensor(\n",
      "[[9.9972725e-01]\n",
      " [9.9988413e-01]\n",
      " [9.9984342e-01]\n",
      " [9.1708629e-05]], shape=(4, 1), dtype=float32) Passed\n",
      "Task 5: tf.Tensor(\n",
      "[[9.99703526e-01]\n",
      " [3.97711992e-04]\n",
      " [2.22742558e-04]\n",
      " [1.08098384e-07]], shape=(4, 1), dtype=float32) Passed\n",
      "Task 6: tf.Tensor(\n",
      "[[9.9988002e-01]\n",
      " [2.3394823e-04]\n",
      " [9.9998319e-01]\n",
      " [4.8339774e-05]], shape=(4, 1), dtype=float32) Passed\n",
      "Task 7: tf.Tensor(\n",
      "[[2.3092107e-05]\n",
      " [9.9998677e-01]\n",
      " [4.1616760e-05]\n",
      " [9.9867737e-01]], shape=(4, 1), dtype=float32) Passed\n",
      "8/8 (100%) Learned successfully\n"
     ]
    }
   ],
   "source": [
    "validate(model, dataset, num_task_contexts)"
   ]
  },
  {
   "cell_type": "code",
   "execution_count": 54,
   "metadata": {},
   "outputs": [
    {
     "data": {
      "image/png": "[encoded data removed]",
      "text/plain": [
       "<Figure size 432x288 with 1 Axes>"
      ]
     },
     "metadata": {
      "needs_background": "light"
     },
     "output_type": "display_data"
    }
   ],
   "source": [
    "model.plot_atr_values()"
   ]
  },
  {
   "cell_type": "markdown",
   "metadata": {},
   "source": [
    "## Dynamic n-task - 8 Gates"
   ]
  },
  {
   "cell_type": "code",
   "execution_count": 96,
   "metadata": {},
   "outputs": [],
   "source": [
    "dataset = all_data\n",
    "num_task_contexts = len(dataset)"
   ]
  },
  {
   "cell_type": "code",
   "execution_count": 97,
   "metadata": {},
   "outputs": [],
   "source": [
    "random.seed(5)\n",
    "tf.random.set_seed(5)"
   ]
  },
  {
   "cell_type": "markdown",
   "metadata": {},
   "source": [
    "### Model"
   ]
  },
  {
   "cell_type": "code",
   "execution_count": 98,
   "metadata": {},
   "outputs": [],
   "source": [
    "inp = Input((2,))\n",
    "x = Dense(256, activation=\"relu\")(inp)\n",
    "x = Context(AtrMovingAverage(is_dynamic=True, task_switch_threshold=-0.02, task_add_threshold=0.025, max_num_tasks=num_task_contexts+1))(x)\n",
    "x = Dense(1, activation=\"sigmoid\")(x)"
   ]
  },
  {
   "cell_type": "code",
   "execution_count": 99,
   "metadata": {},
   "outputs": [],
   "source": [
    "model = NTaskModel(inputs=inp, outputs=x, loss_fn=loss_fn, optimizer=optimizer)"
   ]
  },
  {
   "cell_type": "markdown",
   "metadata": {},
   "source": [
    "### Training"
   ]
  },
  {
   "cell_type": "code",
   "execution_count": 100,
   "metadata": {},
   "outputs": [
    {
     "name": "stdout",
     "output_type": "stream",
     "text": [
      "0\n",
      "1\n",
      "[<tf.Tensor: shape=(), dtype=float64, numpy=7.86181436044111e-05>]\n",
      "[<tf.Tensor: shape=(), dtype=float64, numpy=0.12803729399554487>]\n",
      "Best context loss... tf.Tensor(0.12803729399554487, shape=(), dtype=float64)\n",
      "Task switched (added new task): 1\n",
      "[<tf.Tensor: shape=(), dtype=float64, numpy=0.12803729399554487>, 0.0]\n",
      "2\n",
      "Task switched to: 0\n",
      "[<tf.Tensor: shape=(), dtype=float64, numpy=7.86181436044111e-05>, <tf.Tensor: shape=(), dtype=float64, numpy=0.0001017287925900474>]\n",
      "[<tf.Tensor: shape=(), dtype=float64, numpy=0.13979306232325495>, <tf.Tensor: shape=(), dtype=float64, numpy=0.0470387192921962>]\n",
      "Best context loss... tf.Tensor(0.0470387192921962, shape=(), dtype=float64)\n",
      "Task switched (added new task): 2\n",
      "[<tf.Tensor: shape=(), dtype=float64, numpy=0.13979306232325495>, <tf.Tensor: shape=(), dtype=float64, numpy=0.0470387192921962>, 0.0]\n",
      "3\n",
      "Task switched to: 0\n",
      "Task switched to: 1\n",
      "[<tf.Tensor: shape=(), dtype=float64, numpy=7.86181436044111e-05>, <tf.Tensor: shape=(), dtype=float64, numpy=0.0001017287925900474>, <tf.Tensor: shape=(), dtype=float64, numpy=1.2196177669969723e-05>]\n",
      "[<tf.Tensor: shape=(), dtype=float64, numpy=0.06021763706426566>, <tf.Tensor: shape=(), dtype=float64, numpy=0.16970973015840154>, <tf.Tensor: shape=(), dtype=float64, numpy=0.12245445105664006>]\n",
      "Best context loss... tf.Tensor(0.06021763706426566, shape=(), dtype=float64)\n",
      "Task switched (added new task): 3\n",
      "[<tf.Tensor: shape=(), dtype=float64, numpy=0.06021763706426566>, <tf.Tensor: shape=(), dtype=float64, numpy=0.16970973015840154>, <tf.Tensor: shape=(), dtype=float64, numpy=0.12245445105664006>, 0.0]\n",
      "4\n",
      "Task switched to: 0\n",
      "Task switched to: 1\n",
      "Task switched to: 2\n",
      "[<tf.Tensor: shape=(), dtype=float64, numpy=7.86181436044111e-05>, <tf.Tensor: shape=(), dtype=float64, numpy=0.0001017287925900474>, <tf.Tensor: shape=(), dtype=float64, numpy=1.2196177669969723e-05>, <tf.Tensor: shape=(), dtype=float64, numpy=3.320616022838532e-05>]\n",
      "[<tf.Tensor: shape=(), dtype=float64, numpy=0.06589286545330846>, <tf.Tensor: shape=(), dtype=float64, numpy=0.19499533197782665>, <tf.Tensor: shape=(), dtype=float64, numpy=0.27129556292963874>, <tf.Tensor: shape=(), dtype=float64, numpy=0.13760773841019228>]\n",
      "Best context loss... tf.Tensor(0.06589286545330846, shape=(), dtype=float64)\n",
      "Task switched (added new task): 4\n",
      "[<tf.Tensor: shape=(), dtype=float64, numpy=0.06589286545330846>, <tf.Tensor: shape=(), dtype=float64, numpy=0.19499533197782665>, <tf.Tensor: shape=(), dtype=float64, numpy=0.27129556292963874>, <tf.Tensor: shape=(), dtype=float64, numpy=0.13760773841019228>, 0.0]\n",
      "5\n",
      "Task switched to: 0\n",
      "Task switched to: 1\n",
      "Task switched to: 2\n",
      "Task switched to: 3\n",
      "[<tf.Tensor: shape=(), dtype=float64, numpy=7.86181436044111e-05>, <tf.Tensor: shape=(), dtype=float64, numpy=0.0001017287925900474>, <tf.Tensor: shape=(), dtype=float64, numpy=1.2196177669969723e-05>, <tf.Tensor: shape=(), dtype=float64, numpy=3.320616022838532e-05>, <tf.Tensor: shape=(), dtype=float64, numpy=1.9390118807477215e-05>]\n",
      "[<tf.Tensor: shape=(), dtype=float64, numpy=0.22386710761525283>, <tf.Tensor: shape=(), dtype=float64, numpy=0.07626630572544503>, <tf.Tensor: shape=(), dtype=float64, numpy=0.15179748509469215>, <tf.Tensor: shape=(), dtype=float64, numpy=0.30851214250282305>, <tf.Tensor: shape=(), dtype=float64, numpy=0.15543906278285624>]\n",
      "Best context loss... tf.Tensor(0.07626630572544503, shape=(), dtype=float64)\n",
      "Task switched (added new task): 5\n",
      "[<tf.Tensor: shape=(), dtype=float64, numpy=0.22386710761525283>, <tf.Tensor: shape=(), dtype=float64, numpy=0.07626630572544503>, <tf.Tensor: shape=(), dtype=float64, numpy=0.15179748509469215>, <tf.Tensor: shape=(), dtype=float64, numpy=0.30851214250282305>, <tf.Tensor: shape=(), dtype=float64, numpy=0.15543906278285624>, 0.0]\n",
      "6\n",
      "Task switched to: 0\n",
      "Task switched to: 1\n",
      "Task switched to: 2\n",
      "Task switched to: 3\n",
      "Task switched to: 4\n",
      "[<tf.Tensor: shape=(), dtype=float64, numpy=7.86181436044111e-05>, <tf.Tensor: shape=(), dtype=float64, numpy=0.0001017287925900474>, <tf.Tensor: shape=(), dtype=float64, numpy=1.2196177669969723e-05>, <tf.Tensor: shape=(), dtype=float64, numpy=3.320616022838532e-05>, <tf.Tensor: shape=(), dtype=float64, numpy=1.9390118807477215e-05>, <tf.Tensor: shape=(), dtype=float64, numpy=2.207411280691352e-05>]\n",
      "[<tf.Tensor: shape=(), dtype=float64, numpy=0.16520846202558825>, <tf.Tensor: shape=(), dtype=float64, numpy=0.16034274731275974>, <tf.Tensor: shape=(), dtype=float64, numpy=0.254685709995665>, <tf.Tensor: shape=(), dtype=float64, numpy=0.25907420316467056>, <tf.Tensor: shape=(), dtype=float64, numpy=0.0758551260896668>, <tf.Tensor: shape=(), dtype=float64, numpy=0.08640621371180976>]\n",
      "Best context loss... tf.Tensor(0.0758551260896668, shape=(), dtype=float64)\n",
      "Task switched (added new task): 6\n",
      "[<tf.Tensor: shape=(), dtype=float64, numpy=0.16520846202558825>, <tf.Tensor: shape=(), dtype=float64, numpy=0.16034274731275974>, <tf.Tensor: shape=(), dtype=float64, numpy=0.254685709995665>, <tf.Tensor: shape=(), dtype=float64, numpy=0.25907420316467056>, <tf.Tensor: shape=(), dtype=float64, numpy=0.0758551260896668>, <tf.Tensor: shape=(), dtype=float64, numpy=0.08640621371180976>, 0.0]\n",
      "7\n",
      "Task switched to: 0\n",
      "Task switched to: 1\n",
      "Task switched to: 2\n",
      "Task switched to: 3\n",
      "Task switched to: 4\n",
      "Task switched to: 5\n",
      "[<tf.Tensor: shape=(), dtype=float64, numpy=7.86181436044111e-05>, <tf.Tensor: shape=(), dtype=float64, numpy=0.0001017287925900474>, <tf.Tensor: shape=(), dtype=float64, numpy=1.2196177669969723e-05>, <tf.Tensor: shape=(), dtype=float64, numpy=3.320616022838532e-05>, <tf.Tensor: shape=(), dtype=float64, numpy=1.9390118807477215e-05>, <tf.Tensor: shape=(), dtype=float64, numpy=2.207411280691352e-05>, <tf.Tensor: shape=(), dtype=float64, numpy=5.7210085547380396e-06>]\n",
      "[<tf.Tensor: shape=(), dtype=float64, numpy=0.16521058779806844>, <tf.Tensor: shape=(), dtype=float64, numpy=0.19184251495018356>, <tf.Tensor: shape=(), dtype=float64, numpy=0.0929453946997223>, <tf.Tensor: shape=(), dtype=float64, numpy=0.09152757334218922>, <tf.Tensor: shape=(), dtype=float64, numpy=0.2689774645359494>, <tf.Tensor: shape=(), dtype=float64, numpy=0.2810463684683657>, <tf.Tensor: shape=(), dtype=float64, numpy=0.376033459576499>]\n",
      "Best context loss... tf.Tensor(0.09152757334218922, shape=(), dtype=float64)\n",
      "Task switched (added new task): 7\n",
      "[<tf.Tensor: shape=(), dtype=float64, numpy=0.16521058779806844>, <tf.Tensor: shape=(), dtype=float64, numpy=0.19184251495018356>, <tf.Tensor: shape=(), dtype=float64, numpy=0.0929453946997223>, <tf.Tensor: shape=(), dtype=float64, numpy=0.09152757334218922>, <tf.Tensor: shape=(), dtype=float64, numpy=0.2689774645359494>, <tf.Tensor: shape=(), dtype=float64, numpy=0.2810463684683657>, <tf.Tensor: shape=(), dtype=float64, numpy=0.376033459576499>, 0.0]\n",
      "6\n",
      "Task switched to: 0\n",
      "Task switched to: 1\n",
      "Task switched to: 2\n",
      "Task switched to: 3\n",
      "Task switched to: 4\n",
      "Task switched to: 5\n",
      "Task switched to: 6\n",
      "3\n",
      "Task switched to: 7\n",
      "Task switched to: 0\n",
      "Task switched to: 1\n",
      "Task switched to: 2\n",
      "Task switched to: 3\n",
      "1\n",
      "Task switched to: 4\n",
      "Task switched to: 5\n",
      "Task switched to: 6\n",
      "Task switched to: 7\n",
      "Task switched to: 0\n",
      "Task switched to: 1\n",
      "0\n",
      "Task switched to: 2\n",
      "Task switched to: 3\n",
      "Task switched to: 4\n",
      "Task switched to: 5\n",
      "Task switched to: 6\n",
      "Task switched to: 7\n",
      "Task switched to: 0\n",
      "7\n",
      "Task switched to: 1\n",
      "Task switched to: 2\n",
      "Task switched to: 3\n",
      "Task switched to: 4\n",
      "Task switched to: 5\n",
      "Task switched to: 6\n",
      "Task switched to: 7\n",
      "2\n",
      "Task switched to: 0\n",
      "Task switched to: 1\n",
      "Task switched to: 2\n",
      "5\n",
      "Task switched to: 3\n",
      "Task switched to: 4\n",
      "Task switched to: 5\n",
      "4\n",
      "Task switched to: 6\n",
      "Task switched to: 7\n",
      "Task switched to: 0\n",
      "Task switched to: 1\n",
      "Task switched to: 2\n",
      "Task switched to: 3\n",
      "Task switched to: 4\n",
      "7\n",
      "Task switched to: 5\n",
      "Task switched to: 6\n",
      "Task switched to: 7\n",
      "5\n",
      "Task switched to: 0\n",
      "Task switched to: 1\n",
      "Task switched to: 2\n",
      "Task switched to: 3\n",
      "Task switched to: 4\n",
      "Task switched to: 5\n",
      "2\n",
      "Task switched to: 6\n",
      "Task switched to: 7\n",
      "Task switched to: 0\n",
      "Task switched to: 1\n",
      "Task switched to: 2\n",
      "0\n",
      "Task switched to: 3\n",
      "Task switched to: 4\n",
      "Task switched to: 5\n",
      "Task switched to: 6\n",
      "Task switched to: 7\n",
      "Task switched to: 0\n",
      "1\n",
      "Task switched to: 1\n",
      "4\n",
      "Task switched to: 2\n",
      "Task switched to: 3\n",
      "Task switched to: 4\n",
      "3\n",
      "Task switched to: 5\n",
      "Task switched to: 6\n",
      "Task switched to: 7\n",
      "Task switched to: 0\n",
      "Task switched to: 1\n",
      "Task switched to: 2\n",
      "Task switched to: 3\n",
      "6\n",
      "Task switched to: 4\n",
      "Task switched to: 5\n",
      "Task switched to: 6\n"
     ]
    }
   ],
   "source": [
    "train(model, dataset, 3, 750, shuffle=True, show_progress=False)"
   ]
  },
  {
   "cell_type": "markdown",
   "metadata": {},
   "source": [
    "### Model Validation\n",
    "\n",
    "Assert that the model has learned all logic gates"
   ]
  },
  {
   "cell_type": "code",
   "execution_count": 101,
   "metadata": {},
   "outputs": [
    {
     "name": "stdout",
     "output_type": "stream",
     "text": [
      "Task 0: tf.Tensor(\n",
      "[[1.0742765e-06]\n",
      " [1.0000000e+00]\n",
      " [9.9999970e-01]\n",
      " [2.3760213e-05]], shape=(4, 1), dtype=float32) Passed\n",
      "Task 1: tf.Tensor(\n",
      "[[9.9999946e-01]\n",
      " [3.2362011e-06]\n",
      " [9.2593109e-06]\n",
      " [9.9999928e-01]], shape=(4, 1), dtype=float32) Passed\n",
      "Task 2: tf.Tensor(\n",
      "[[3.5098276e-07]\n",
      " [3.6427564e-06]\n",
      " [8.7419897e-07]\n",
      " [1.0000000e+00]], shape=(4, 1), dtype=float32) Passed\n",
      "Task 3: tf.Tensor(\n",
      "[[2.0309409e-07]\n",
      " [9.9999917e-01]\n",
      " [9.9999917e-01]\n",
      " [1.0000000e+00]], shape=(4, 1), dtype=float32) Passed\n",
      "Task 4: tf.Tensor(\n",
      "[[1.0000000e+00]\n",
      " [9.9999905e-01]\n",
      " [9.9999923e-01]\n",
      " [1.6106512e-06]], shape=(4, 1), dtype=float32) Passed\n",
      "Task 5: tf.Tensor(\n",
      "[[1.0000000e+00]\n",
      " [9.2727341e-06]\n",
      " [6.1473627e-05]\n",
      " [1.7354148e-06]], shape=(4, 1), dtype=float32) Passed\n",
      "Task 6: tf.Tensor(\n",
      "[[1.0000000e+00]\n",
      " [2.1363164e-07]\n",
      " [9.9999964e-01]\n",
      " [1.2838561e-06]], shape=(4, 1), dtype=float32) Passed\n",
      "Task 7: tf.Tensor(\n",
      "[[6.2210274e-06]\n",
      " [9.9999940e-01]\n",
      " [1.0556947e-06]\n",
      " [9.9999785e-01]], shape=(4, 1), dtype=float32) Passed\n",
      "8/8 (100%) Learned successfully\n"
     ]
    }
   ],
   "source": [
    "validate(model, dataset, num_task_contexts)"
   ]
  },
  {
   "cell_type": "code",
   "execution_count": 102,
   "metadata": {},
   "outputs": [
    {
     "data": {
      "image/png": "[encoded data removed]",
      "text/plain": [
       "<Figure size 432x288 with 1 Axes>"
      ]
     },
     "metadata": {
      "needs_background": "light"
     },
     "output_type": "display_data"
    }
   ],
   "source": [
    "model.plot_atr_values()"
   ]
  }
 ],
 "metadata": {
  "kernelspec": {
   "display_name": "Python 3",
   "language": "python",
   "name": "python3"
  },
  "language_info": {
   "codemirror_mode": {
    "name": "ipython",
    "version": 3
   },
   "file_extension": ".py",
   "mimetype": "text/x-python",
   "name": "python",
   "nbconvert_exporter": "python",
   "pygments_lexer": "ipython3",
   "version": "3.7.6"
  }
 },
 "nbformat": 4,
 "nbformat_minor": 4
}
