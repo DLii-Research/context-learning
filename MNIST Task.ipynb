{
 "cells": [
  {
   "cell_type": "markdown",
   "id": "847b8871-eb2e-42db-93c5-eeba6b682049",
   "metadata": {},
   "source": [
    "# MNIST Digit Classification"
   ]
  },
  {
   "cell_type": "code",
   "execution_count": 1,
   "id": "0f27e527-addf-43ba-9e74-c422284df306",
   "metadata": {},
   "outputs": [],
   "source": [
    "import os\n",
    "os.environ[\"TF_CPP_MIN_LOG_LEVEL\"] = \"1\""
   ]
  },
  {
   "cell_type": "code",
   "execution_count": 2,
   "id": "79bcdff1-1749-49ba-a40d-a8293bbeb245",
   "metadata": {},
   "outputs": [],
   "source": [
    "from collections import defaultdict\n",
    "import matplotlib.pyplot as plt\n",
    "import numpy as np\n",
    "import tensorflow as tf\n",
    "import tensorflow.keras as keras\n",
    "import time\n",
    "from IPython.display import clear_output\n",
    "\n",
    "import tf_utils as tfu\n",
    "\n",
    "import context_learning as ctl\n",
    "from context_learning.utils import *"
   ]
  },
  {
   "cell_type": "code",
   "execution_count": 3,
   "id": "fda44828-efe5-4f67-a5fe-c2771006cd1b",
   "metadata": {},
   "outputs": [],
   "source": [
    "strategy = tfu.strategy.gpu(0)"
   ]
  },
  {
   "cell_type": "code",
   "execution_count": 61,
   "id": "9125655c-f5d3-4f84-aa90-81074ab246f2",
   "metadata": {},
   "outputs": [],
   "source": [
    "BATCH_SIZE = 512\n",
    "BATCH_SIZE_PER_REPLICA = BATCH_SIZE//strategy.num_replicas_in_sync"
   ]
  },
  {
   "cell_type": "markdown",
   "id": "5974c312-5145-4ca0-a44b-eb5fca9010dc",
   "metadata": {},
   "source": [
    "## Dataset"
   ]
  },
  {
   "cell_type": "code",
   "execution_count": 62,
   "id": "46abd6d4-cb55-4ffd-a2c3-a7ce0784db36",
   "metadata": {},
   "outputs": [],
   "source": [
    "(x_train, y_train), (x_test, y_test) = tf.keras.datasets.mnist.load_data()\n",
    "\n",
    "x_train = tf.reshape(tf.cast(x_train, tf.float32), (*x_train.shape, 1)) / 255.0\n",
    "x_test = tf.reshape(tf.cast(x_test, tf.float32), (*x_test.shape, 1)) / 255.0"
   ]
  },
  {
   "cell_type": "code",
   "execution_count": 63,
   "id": "bffae9d6-6c1b-4469-93e5-4f416a837d77",
   "metadata": {},
   "outputs": [
    {
     "data": {
      "text/plain": [
       "TensorShape([60000, 28, 28, 1])"
      ]
     },
     "execution_count": 63,
     "metadata": {},
     "output_type": "execute_result"
    }
   ],
   "source": [
    "x_train.shape"
   ]
  },
  {
   "cell_type": "code",
   "execution_count": 64,
   "id": "49398501-c3d6-4c4b-8c5d-d21294933ca5",
   "metadata": {},
   "outputs": [],
   "source": [
    "def create_dist_dataset(x, y):\n",
    "    dataset = tf.data.Dataset.from_tensor_slices((x, y)).batch(BATCH_SIZE)\n",
    "    dist_dataset = strategy.experimental_distribute_dataset(dataset)\n",
    "    return dist_dataset"
   ]
  },
  {
   "cell_type": "code",
   "execution_count": 65,
   "id": "89108185-6f79-4173-88ad-5de4c982a8be",
   "metadata": {},
   "outputs": [],
   "source": [
    "datasets = [\n",
    "    create_dist_dataset(x_train, y_train),     # standard MNIST\n",
    "    create_dist_dataset(x_train, 9 - y_train), # 9 - x\n",
    "]\n",
    "clear_output()"
   ]
  },
  {
   "cell_type": "code",
   "execution_count": 105,
   "id": "ba59d0a8-263a-425d-9cca-b7839d42dea7",
   "metadata": {},
   "outputs": [],
   "source": [
    "test_datasets = [\n",
    "    tf.data.Dataset.from_tensor_slices((x_test, y_test)).batch(BATCH_SIZE),     # standard MNIST\n",
    "    tf.data.Dataset.from_tensor_slices((x_test, 9 - y_test)).batch(BATCH_SIZE), # 9 - x\n",
    "]\n",
    "clear_output()"
   ]
  },
  {
   "cell_type": "markdown",
   "id": "7e06bd8a-9483-408f-99a9-cb5934fb64ec",
   "metadata": {},
   "source": [
    "## Model"
   ]
  },
  {
   "cell_type": "markdown",
   "id": "b0edc1a1-c8fe-4e0d-afe0-bca8d3cf8506",
   "metadata": {},
   "source": [
    "### Transformer Layers"
   ]
  },
  {
   "cell_type": "code",
   "execution_count": 66,
   "id": "f1fd25ea-307b-43be-86cd-25badab8bd94",
   "metadata": {},
   "outputs": [],
   "source": [
    "class BaseTransformerBlock(keras.layers.Layer):\n",
    "    def __init__(self, embed_dim, num_heads, ff_dim, ff_activation=\"gelu\", gating=None, dropout_rate=0.1, prenorm=False):\n",
    "        super(BaseTransformerBlock, self).__init__()\n",
    "        self.ffn = keras.Sequential(\n",
    "            [keras.layers.Dense(ff_dim, activation=\"gelu\"),\n",
    "             keras.layers.Dense(embed_dim),]\n",
    "        )\n",
    "        self.layernorm1 = keras.layers.LayerNormalization(epsilon=1e-6)\n",
    "        self.layernorm2 = keras.layers.LayerNormalization(epsilon=1e-6)\n",
    "        self.dropout1 = keras.layers.Dropout(dropout_rate)\n",
    "        self.dropout2 = keras.layers.Dropout(dropout_rate)\n",
    "        self.att = self.create_attention_layer(embed_dim, num_heads)\n",
    "        \n",
    "        if prenorm:\n",
    "            self.self_att = self.self_att_prenorm\n",
    "        else:\n",
    "            self.self_att = self.self_att_postnorm\n",
    "        \n",
    "    def create_attention_layer(self, embed_dim, num_heads):\n",
    "        raise NotImplemented()\n",
    "        \n",
    "    def self_att_prenorm(self, inputs, training):\n",
    "        inputs_norm = self.layernorm1(inputs)\n",
    "        attn_output = self.att(inputs_norm, inputs_norm)\n",
    "        attn_output = self.dropout1(attn_output, training=training)\n",
    "        attn_output = inputs + attn_output\n",
    "        \n",
    "        ffn_norm = self.layernorm2(attn_output)\n",
    "        ffn_output = self.ffn(ffn_norm)\n",
    "        ffn_output = self.dropout2(ffn_output, training=training)\n",
    "        \n",
    "        return attn_output + ffn_output\n",
    "    \n",
    "    def self_att_postnorm(self, inputs, training):\n",
    "        attn_output = self.att(inputs, inputs)\n",
    "        attn_output = self.dropout1(attn_output, training=training)\n",
    "        out1 = self.layernorm1(inputs + attn_output)\n",
    "        ffn_output = self.ffn(out1)\n",
    "        ffn_output = self.dropout2(ffn_output, training=training)\n",
    "        return self.layernorm2(out1 + ffn_output)\n",
    "        \n",
    "    def call(self, inputs, training):\n",
    "        return self.self_att(inputs, training)"
   ]
  },
  {
   "cell_type": "code",
   "execution_count": 67,
   "id": "0c2f837a-c36a-4710-b72c-38676ace5558",
   "metadata": {},
   "outputs": [],
   "source": [
    "class TransformerBlock(BaseTransformerBlock):\n",
    "    def create_attention_layer(self, embed_dim, num_heads):\n",
    "        return keras.layers.MultiHeadAttention(num_heads=num_heads, key_dim=embed_dim)"
   ]
  },
  {
   "cell_type": "code",
   "execution_count": 68,
   "id": "a3f40316-edb0-4a78-92ee-d7a3e23a54ed",
   "metadata": {},
   "outputs": [],
   "source": [
    "class MaskedPositionEmbedding(keras.layers.Layer):\n",
    "    def __init__(self, maxlen, embed_dim):\n",
    "        super(MaskedPositionEmbedding, self).__init__()\n",
    "        self.pos_emb = keras.layers.Embedding(input_dim=maxlen+1,\n",
    "                                              output_dim=embed_dim,\n",
    "                                              mask_zero=True)\n",
    "        self.maxlen = maxlen\n",
    "        self.embed_dim = embed_dim\n",
    "        \n",
    "    def compute_output_shape(self, input_shape):\n",
    "        return input_shape + (embed_dim,)\n",
    "\n",
    "    def call(self, x):\n",
    "        maxlen = tf.shape(x)[-2]\n",
    "        positions = tf.range(start=1, limit=maxlen+1, delta=1)\n",
    "        positions = positions * tf.cast(tf.sign(tf.math.count_nonzero(x,axis=2)),tf.int32)\n",
    "        positions = self.pos_emb(positions)\n",
    "        return x + positions"
   ]
  },
  {
   "cell_type": "markdown",
   "id": "30b9b69d-ba13-476e-8627-91817944f779",
   "metadata": {},
   "source": [
    "### Model Architecture"
   ]
  },
  {
   "cell_type": "code",
   "execution_count": 106,
   "id": "dad1536b-4fc0-4741-a9bf-6a85d58a083d",
   "metadata": {},
   "outputs": [],
   "source": [
    "PATCH_SIZE = 4\n",
    "EMBED_DIM = 64\n",
    "FF_DIM = 32\n",
    "STACK = 5\n",
    "NUM_HEADS = 4\n",
    "\n",
    "ATR_DIM = 256\n",
    "NUM_TASKS = 2\n",
    "SWITCH_THRESHOLD = -2e-3\n",
    "ADD_THRESHOLD = -2e-3"
   ]
  },
  {
   "cell_type": "code",
   "execution_count": 107,
   "id": "62e0ee3e-f8ef-4f44-9efd-62a933bae5b9",
   "metadata": {},
   "outputs": [
    {
     "name": "stdout",
     "output_type": "stream",
     "text": [
      "Model: \"context_model_14\"\n",
      "__________________________________________________________________________________________________\n",
      "Layer (type)                    Output Shape         Param #     Connected to                     \n",
      "==================================================================================================\n",
      "input_15 (InputLayer)           [(None, 28, 28, 1)]  0                                            \n",
      "__________________________________________________________________________________________________\n",
      "conv2d_14 (Conv2D)              (None, 7, 7, 64)     1088        input_15[0][0]                   \n",
      "__________________________________________________________________________________________________\n",
      "reshape_14 (Reshape)            (None, 49, 64)       0           conv2d_14[0][0]                  \n",
      "__________________________________________________________________________________________________\n",
      "lambda_28 (Lambda)              (None, 1)            0           reshape_14[0][0]                 \n",
      "__________________________________________________________________________________________________\n",
      "embedding_28 (Embedding)        (None, 1, 64)        64          lambda_28[0][0]                  \n",
      "__________________________________________________________________________________________________\n",
      "concatenate_14 (Concatenate)    (None, 50, 64)       0           embedding_28[0][0]               \n",
      "                                                                 reshape_14[0][0]                 \n",
      "__________________________________________________________________________________________________\n",
      "masked_position_embedding_14 (M (None, 50, 64)       3264        concatenate_14[0][0]             \n",
      "__________________________________________________________________________________________________\n",
      "transformer_block_70 (Transform (None, 50, 64)       70816       masked_position_embedding_14[0][0\n",
      "__________________________________________________________________________________________________\n",
      "transformer_block_71 (Transform (None, 50, 64)       70816       transformer_block_70[0][0]       \n",
      "__________________________________________________________________________________________________\n",
      "transformer_block_72 (Transform (None, 50, 64)       70816       transformer_block_71[0][0]       \n",
      "__________________________________________________________________________________________________\n",
      "transformer_block_73 (Transform (None, 50, 64)       70816       transformer_block_72[0][0]       \n",
      "__________________________________________________________________________________________________\n",
      "transformer_block_74 (Transform (None, 50, 64)       70816       transformer_block_73[0][0]       \n",
      "__________________________________________________________________________________________________\n",
      "lambda_29 (Lambda)              (None, 64)           0           transformer_block_74[0][0]       \n",
      "__________________________________________________________________________________________________\n",
      "dropout_164 (Dropout)           (None, 64)           0           lambda_29[0][0]                  \n",
      "__________________________________________________________________________________________________\n",
      "dense_192 (Dense)               (None, 64)           4160        dropout_164[0][0]                \n",
      "__________________________________________________________________________________________________\n",
      "dense_193 (Dense)               (None, 256)          16640       dense_192[0][0]                  \n",
      "__________________________________________________________________________________________________\n",
      "context_layer_14 (ContextLayer) (None, 256)          11          dense_193[0][0]                  \n",
      "__________________________________________________________________________________________________\n",
      "dense_194 (Dense)               (None, 10)           2570        context_layer_14[0][0]           \n",
      "==================================================================================================\n",
      "Total params: 381,879\n",
      "Trainable params: 381,866\n",
      "Non-trainable params: 13\n",
      "__________________________________________________________________________________________________\n"
     ]
    }
   ],
   "source": [
    "with strategy.scope():\n",
    "    y = x = keras.layers.Input((28, 28, 1))\n",
    "\n",
    "    # Patches\n",
    "    y = keras.layers.Conv2D(EMBED_DIM, kernel_size=(PATCH_SIZE, PATCH_SIZE), strides=PATCH_SIZE)(y)\n",
    "    y = keras.layers.Reshape((-1, EMBED_DIM))(y)\n",
    "\n",
    "    # Add class token\n",
    "    class_token = keras.layers.Lambda(lambda x: tf.tile(tf.constant([[0]]), (tf.shape(x)[0],1)))(y)\n",
    "    class_token = keras.layers.Embedding(input_dim=1, output_dim=EMBED_DIM)(class_token)\n",
    "    y = keras.layers.Concatenate(axis=1)((class_token, y))\n",
    "    \n",
    "    # Transformer Blocks\n",
    "    y = MaskedPositionEmbedding(y.shape[1], EMBED_DIM)(y)\n",
    "    for i in range(STACK):\n",
    "        y = TransformerBlock(EMBED_DIM, NUM_HEADS, FF_DIM)(y)\n",
    "\n",
    "    # Extract class token\n",
    "    y = keras.layers.Lambda(lambda x: x[:,0,:])(y)\n",
    "    \n",
    "    y = keras.layers.Dropout(0.25)(y)\n",
    "    y = keras.layers.Dense(EMBED_DIM, activation='gelu')(y)\n",
    "    \n",
    "    # Contextualization\n",
    "    y = keras.layers.Dense(ATR_DIM)(y)\n",
    "    y = ctl.ContextLayer(switch_threshold=SWITCH_THRESHOLD, add_threshold=ADD_THRESHOLD, verbose=2)(y)\n",
    "    y = keras.layers.Dense(10, activation=\"softmax\")(y)\n",
    "\n",
    "    model = ctl.ContextModel(x, y)\n",
    "    model.compile(\n",
    "        optimizer=keras.optimizers.Adam(1e-3),\n",
    "        loss=keras.losses.SparseCategoricalCrossentropy(from_logits=False),\n",
    "        metrics=[keras.metrics.SparseCategoricalAccuracy()])\n",
    "    model.summary()"
   ]
  },
  {
   "cell_type": "markdown",
   "id": "4db7be27-8156-4ddc-bc62-53e3adc978cd",
   "metadata": {},
   "source": [
    "## Training"
   ]
  },
  {
   "cell_type": "code",
   "execution_count": 108,
   "id": "e57a2f80-72c3-43cf-b786-db51d8ca2462",
   "metadata": {},
   "outputs": [],
   "source": [
    "history = {\n",
    "    \"loss\": [],\n",
    "    \"context_loss_x\": defaultdict(list),\n",
    "    \"context_loss_y\": defaultdict(list),\n",
    "    \"context_delta\": [],\n",
    "}\n",
    "\n",
    "epoch = -1\n",
    "\n",
    "train = ctl.make_train_function(eager=False)"
   ]
  },
  {
   "cell_type": "code",
   "execution_count": 109,
   "id": "d7d37a1b-dc6a-4cbd-9e0a-3fcd6d6652be",
   "metadata": {},
   "outputs": [
    {
     "name": "stdout",
     "output_type": "stream",
     "text": [
      "\n",
      "Dataset: 0\n",
      "Global Epoch: 1; Epoch: 1; Batch: 118 Dataset: 0; Loss: 0.0049410536885261536\n",
      "Dataset: 1\n",
      "Global Epoch: 2; Epoch: 0; Batch: 118 Dataset: 1; Loss: 0.011943700723350048\n",
      "Switching contexts...\n",
      "Force Switching; context delta: -0.00351126306 best fit delta \n",
      "\n",
      "Switching to a new context: 1\n",
      "Global Epoch: 3; Epoch: 1; Batch: 118 Dataset: 1; Loss: 0.0017426906852051616\n",
      "Dataset: 0\n",
      "Global Epoch: 4; Epoch: 0; Batch: 118 Dataset: 0; Loss: 0.0024297570344060664\n",
      "Switching contexts...\n",
      "Global Epoch: 5; Epoch: 1; Batch: 118 Dataset: 0; Loss: 0.0012536350404843688\n",
      "Dataset: 0\n",
      "Global Epoch: 7; Epoch: 1; Batch: 118 Dataset: 0; Loss: 0.0010639851680025458\n",
      "Dataset: 1\n",
      "Global Epoch: 8; Epoch: 0; Batch: 118 Dataset: 1; Loss: 0.0016504434170201424\n",
      "Switching contexts...\n",
      "Global Epoch: 9; Epoch: 1; Batch: 118 Dataset: 1; Loss: 0.0013278445694595575\n",
      "Dataset: 0\n",
      "Global Epoch: 10; Epoch: 0; Batch: 118 Dataset: 0; Loss: 0.0030281646177172664\n",
      "Switching contexts...\n",
      "Global Epoch: 11; Epoch: 1; Batch: 118 Dataset: 0; Loss: 0.00097365293186157944\n",
      "Dataset: 1\n",
      "Global Epoch: 12; Epoch: 0; Batch: 118 Dataset: 1; Loss: 0.0010834069689735778\n",
      "Switching contexts...\n",
      "Global Epoch: 13; Epoch: 1; Batch: 118 Dataset: 1; Loss: 0.00095160258933901796\n",
      "Dataset: 1\n",
      "Global Epoch: 15; Epoch: 1; Batch: 118 Dataset: 1; Loss: 0.00131696509197354323\n",
      "Dataset: 0\n",
      "Global Epoch: 16; Epoch: 0; Batch: 118 Dataset: 0; Loss: 0.0010966551490128048\n",
      "Switching contexts...\n",
      "Global Epoch: 17; Epoch: 1; Batch: 118 Dataset: 0; Loss: 0.00089426280464977035\n",
      "Dataset: 0\n",
      "Global Epoch: 19; Epoch: 1; Batch: 118 Dataset: 0; Loss: 0.00087410263950005176\n",
      "Dataset: 1\n",
      "Global Epoch: 20; Epoch: 0; Batch: 118 Dataset: 1; Loss: 0.0021221179049462084\n",
      "Switching contexts...\n",
      "Global Epoch: 21; Epoch: 1; Batch: 118 Dataset: 1; Loss: 0.00073400425026193264\n",
      "Dataset: 1\n",
      "Global Epoch: 23; Epoch: 1; Batch: 118 Dataset: 1; Loss: 0.00077971117570996285\n",
      "Dataset: 0\n",
      "Global Epoch: 24; Epoch: 0; Batch: 118 Dataset: 0; Loss: 0.0015400848351418972\n",
      "Switching contexts...\n",
      "Global Epoch: 25; Epoch: 1; Batch: 118 Dataset: 0; Loss: 0.00060774368466809397\n",
      "Dataset: 1\n",
      "Global Epoch: 26; Epoch: 0; Batch: 118 Dataset: 1; Loss: 0.0011835040058940655\n",
      "Switching contexts...\n",
      "Global Epoch: 27; Epoch: 1; Batch: 118 Dataset: 1; Loss: 0.00080449861707165849\n",
      "Dataset: 0\n",
      "Global Epoch: 28; Epoch: 0; Batch: 118 Dataset: 0; Loss: 0.0017223646864295006\n",
      "Switching contexts...\n",
      "Global Epoch: 29; Epoch: 1; Batch: 118 Dataset: 0; Loss: 0.00066105963196605443\n",
      "Dataset: 1\n",
      "Global Epoch: 30; Epoch: 0; Batch: 118 Dataset: 1; Loss: 0.0012177949538454413\n",
      "Switching contexts...\n",
      "Global Epoch: 31; Epoch: 1; Batch: 118 Dataset: 1; Loss: 0.00057172024389728946\n",
      "Dataset: 0\n",
      "Global Epoch: 32; Epoch: 0; Batch: 118 Dataset: 0; Loss: 0.0011412457097321749\n",
      "Switching contexts...\n",
      "Global Epoch: 33; Epoch: 1; Batch: 118 Dataset: 0; Loss: 0.00080793543020263313"
     ]
    }
   ],
   "source": [
    "REPS = 8\n",
    "EPOCHS_PER_TASK = 2\n",
    "num_tasks = 1\n",
    "\n",
    "with strategy.scope():\n",
    "    for _ in range(REPS):\n",
    "        for num_tasks in range(num_tasks, NUM_TASKS + 1):\n",
    "            for i in np.random.permutation(num_tasks):\n",
    "                dataset = datasets[i]\n",
    "                start = epoch + 1\n",
    "                print(\"\\nDataset:\", i)\n",
    "                for epoch in range(start, epoch+EPOCHS_PER_TASK + 1):\n",
    "                    while model.perform_epoch(epoch):\n",
    "                        history[\"loss\"].append(0)\n",
    "                        for step, batch in enumerate(dataset):\n",
    "                            loss = train(strategy, model, batch)\n",
    "                            history[\"loss\"][-1] += loss\n",
    "                            print(f\"\\rGlobal Epoch: {epoch}; Epoch: {epoch - start}; Batch: {step+1} Dataset: {i}; Loss: {loss/(step+1)}\", end=\"\")\n",
    "                    history[\"context_loss_x\"][model.context_layers[0].context.value().numpy()].append(epoch)\n",
    "                    history[\"context_loss_y\"][model.context_layers[0].context.value().numpy()].append(model.context_layers[0].expected_loss().numpy())\n",
    "                    history[\"context_delta\"].append(model.context_deltas[0].numpy())"
   ]
  },
  {
   "cell_type": "code",
   "execution_count": 110,
   "id": "db2bb935-87c1-4345-94a4-fa4c90f33102",
   "metadata": {},
   "outputs": [
    {
     "data": {
      "text/plain": [
       "[<matplotlib.lines.Line2D at 0x7f168c42ca30>]"
      ]
     },
     "execution_count": 110,
     "metadata": {},
     "output_type": "execute_result"
    },
    {
     "data": {
      "image/png": "[encoded data removed]",
      "text/plain": [
       "<Figure size 432x288 with 1 Axes>"
      ]
     },
     "metadata": {
      "needs_background": "light"
     },
     "output_type": "display_data"
    }
   ],
   "source": [
    "plt.plot(history[\"loss\"])"
   ]
  },
  {
   "cell_type": "code",
   "execution_count": 111,
   "id": "a50cabe7-1a1b-4d43-b588-fc061797e530",
   "metadata": {},
   "outputs": [
    {
     "data": {
      "image/png": "[encoded data removed]",
      "text/plain": [
       "<Figure size 432x288 with 1 Axes>"
      ]
     },
     "metadata": {
      "needs_background": "light"
     },
     "output_type": "display_data"
    }
   ],
   "source": [
    "for ctx in history[\"context_loss_x\"]:\n",
    "    plt.plot(history[\"context_loss_x\"][ctx], history[\"context_loss_y\"][ctx])"
   ]
  },
  {
   "cell_type": "code",
   "execution_count": 112,
   "id": "95bf2529-1c26-4012-b9a7-a6eff7c9d66e",
   "metadata": {},
   "outputs": [
    {
     "data": {
      "text/plain": [
       "<matplotlib.lines.Line2D at 0x7f1634573df0>"
      ]
     },
     "execution_count": 112,
     "metadata": {},
     "output_type": "execute_result"
    },
    {
     "data": {
      "image/png": "[encoded data removed]",
      "text/plain": [
       "<Figure size 432x288 with 1 Axes>"
      ]
     },
     "metadata": {
      "needs_background": "light"
     },
     "output_type": "display_data"
    }
   ],
   "source": [
    "plt.plot(history[\"context_delta\"])\n",
    "plt.axhline(y=model.context_layers[0].switch_threshold.value(), color=\"gray\", linestyle=\"--\")\n",
    "plt.axhline(y=model.context_layers[0].add_threshold.value(), color=\"gray\", linestyle=\"-.\")"
   ]
  },
  {
   "cell_type": "code",
   "execution_count": 113,
   "id": "8f975eff-a39e-4584-a687-8a1c62f8a976",
   "metadata": {},
   "outputs": [],
   "source": [
    "# Manual selection for now\n",
    "context_map = [0, 1]"
   ]
  },
  {
   "cell_type": "code",
   "execution_count": 114,
   "id": "dec963ad-9f63-448b-8f33-f03926c303f4",
   "metadata": {},
   "outputs": [
    {
     "name": "stderr",
     "output_type": "stream",
     "text": [
      "2022-03-21 14:45:51.789882: W tensorflow/core/grappler/optimizers/data/auto_shard.cc:695] AUTO sharding policy will apply DATA sharding policy as it failed to apply FILE sharding policy because of the following reason: Found an unshardable source dataset: name: \"TensorSliceDataset/_2\"\n",
      "op: \"TensorSliceDataset\"\n",
      "input: \"Placeholder/_0\"\n",
      "input: \"Placeholder/_1\"\n",
      "attr {\n",
      "  key: \"Toutput_types\"\n",
      "  value {\n",
      "    list {\n",
      "      type: DT_FLOAT\n",
      "      type: DT_UINT8\n",
      "    }\n",
      "  }\n",
      "}\n",
      "attr {\n",
      "  key: \"output_shapes\"\n",
      "  value {\n",
      "    list {\n",
      "      shape {\n",
      "        dim {\n",
      "          size: 28\n",
      "        }\n",
      "        dim {\n",
      "          size: 28\n",
      "        }\n",
      "        dim {\n",
      "          size: 1\n",
      "        }\n",
      "      }\n",
      "      shape {\n",
      "      }\n",
      "    }\n",
      "  }\n",
      "}\n",
      "\n"
     ]
    },
    {
     "name": "stdout",
     "output_type": "stream",
     "text": [
      "20/20 [==============================] - 1s 15ms/step - loss: 0.0697 - sparse_categorical_accuracy: 0.9818\n"
     ]
    },
    {
     "data": {
      "text/plain": [
       "[0.069651760160923, 0.9818000197410583]"
      ]
     },
     "execution_count": 114,
     "metadata": {},
     "output_type": "execute_result"
    }
   ],
   "source": [
    "model.context_layers[0].set_context(context_map[0])\n",
    "model.evaluate(test_datasets[0])"
   ]
  },
  {
   "cell_type": "code",
   "execution_count": 116,
   "id": "22e5d824-f9f2-4bcd-8519-590ec58f9869",
   "metadata": {},
   "outputs": [
    {
     "name": "stdout",
     "output_type": "stream",
     "text": [
      " 9/20 [============>.................] - ETA: 0s - loss: 0.1068 - sparse_categorical_accuracy: 0.9740"
     ]
    },
    {
     "name": "stderr",
     "output_type": "stream",
     "text": [
      "2022-03-21 14:46:24.711277: W tensorflow/core/grappler/optimizers/data/auto_shard.cc:695] AUTO sharding policy will apply DATA sharding policy as it failed to apply FILE sharding policy because of the following reason: Found an unshardable source dataset: name: \"TensorSliceDataset/_2\"\n",
      "op: \"TensorSliceDataset\"\n",
      "input: \"Placeholder/_0\"\n",
      "input: \"Placeholder/_1\"\n",
      "attr {\n",
      "  key: \"Toutput_types\"\n",
      "  value {\n",
      "    list {\n",
      "      type: DT_FLOAT\n",
      "      type: DT_UINT8\n",
      "    }\n",
      "  }\n",
      "}\n",
      "attr {\n",
      "  key: \"output_shapes\"\n",
      "  value {\n",
      "    list {\n",
      "      shape {\n",
      "        dim {\n",
      "          size: 28\n",
      "        }\n",
      "        dim {\n",
      "          size: 28\n",
      "        }\n",
      "        dim {\n",
      "          size: 1\n",
      "        }\n",
      "      }\n",
      "      shape {\n",
      "      }\n",
      "    }\n",
      "  }\n",
      "}\n",
      "\n"
     ]
    },
    {
     "name": "stdout",
     "output_type": "stream",
     "text": [
      "20/20 [==============================] - 0s 15ms/step - loss: 0.0711 - sparse_categorical_accuracy: 0.9816\n"
     ]
    },
    {
     "data": {
      "text/plain": [
       "[0.07105779647827148, 0.9815999865531921]"
      ]
     },
     "execution_count": 116,
     "metadata": {},
     "output_type": "execute_result"
    }
   ],
   "source": [
    "model.context_layers[0].set_context(context_map[1])\n",
    "model.evaluate(test_datasets[1])"
   ]
  },
  {
   "cell_type": "code",
   "execution_count": null,
   "id": "3e0901a7-1f53-4735-b49f-7525b2d5d91c",
   "metadata": {},
   "outputs": [],
   "source": []
  }
 ],
 "metadata": {
  "kernelspec": {
   "display_name": "Python 3 (ipykernel)",
   "language": "python",
   "name": "python3"
  },
  "language_info": {
   "codemirror_mode": {
    "name": "ipython",
    "version": 3
   },
   "file_extension": ".py",
   "mimetype": "text/x-python",
   "name": "python",
   "nbconvert_exporter": "python",
   "pygments_lexer": "ipython3",
   "version": "3.9.7"
  }
 },
 "nbformat": 4,
 "nbformat_minor": 5
}
