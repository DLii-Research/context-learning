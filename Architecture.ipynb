{
 "cells": [
  {
   "cell_type": "markdown",
   "id": "728acfa1-6639-4192-a3ab-1d78a82279df",
   "metadata": {},
   "source": [
    "# Architecture\n",
    "\n",
    "This notebook is used to design and test out architecture components variations."
   ]
  },
  {
   "cell_type": "code",
   "execution_count": 1,
   "id": "86305696-d123-4c83-b892-699e299a8574",
   "metadata": {},
   "outputs": [],
   "source": [
    "import os\n",
    "os.environ[\"TF_CPP_MIN_LOG_LEVEL\"] = \"1\""
   ]
  },
  {
   "cell_type": "code",
   "execution_count": 2,
   "id": "2d1e997d-da7f-4fbe-96dc-062936813add",
   "metadata": {},
   "outputs": [],
   "source": [
    "import matplotlib.pyplot as plt\n",
    "import numpy as np\n",
    "import tensorflow as tf\n",
    "import tensorflow.keras as keras\n",
    "import time\n",
    "from IPython.display import clear_output\n",
    "\n",
    "import tf_utils as tfu\n",
    "\n",
    "import context_learning as ctl\n",
    "from context_learning.utils import *"
   ]
  },
  {
   "cell_type": "code",
   "execution_count": 3,
   "id": "09ed204f-1ebd-4986-b83b-fb22de71c954",
   "metadata": {},
   "outputs": [],
   "source": [
    "strategy = tfu.strategy.gpu(1)"
   ]
  },
  {
   "cell_type": "code",
   "execution_count": 4,
   "id": "3f56dc96-7310-496a-b0be-d8f73a534d69",
   "metadata": {},
   "outputs": [],
   "source": [
    "x_train = np.array([[-1, -1], [-1, 1], [1, -1], [1, 1]])\n",
    "\n",
    "y_train = np.array([\n",
    "    [0, 0, 0, 1], # AND\n",
    "    [0, 1, 1, 1], # OR\n",
    "    [1, 1, 1, 0], # NAND\n",
    "    [1, 0, 0, 0], # NOR\n",
    "    [0, 1, 1, 0], # XOR\n",
    "    [1, 0, 0, 1], # XNOR\n",
    "    [0, 0, 1, 1], # Custom A\n",
    "    [0, 1, 0, 1], # Custom B\n",
    "])[..., np.newaxis]"
   ]
  },
  {
   "cell_type": "code",
   "execution_count": 5,
   "id": "bf0dcecd-b395-4294-845b-fe4f3def5994",
   "metadata": {
    "tags": []
   },
   "outputs": [],
   "source": [
    "BATCH_SIZE = 1\n",
    "\n",
    "datasets = [] \n",
    "for y in y_train:\n",
    "    dataset = tf.data.Dataset.from_tensor_slices((x_train, y)).batch(BATCH_SIZE)\n",
    "    dist_dataset = strategy.experimental_distribute_dataset(dataset)\n",
    "    datasets.append(dist_dataset)\n",
    "clear_output() # hide shard warnings"
   ]
  },
  {
   "cell_type": "code",
   "execution_count": 6,
   "id": "f310ad09-ac7e-4356-b9e1-b0b94fafabf4",
   "metadata": {},
   "outputs": [],
   "source": [
    "class ContextLayerBase(keras.layers.Layer):\n",
    "    def __init__(self, switch_threshold, num_contexts=1, atr_size=None, switch_delay=0, auto_switch=True,\n",
    "                 learn_rate=0.5, switch_init=None, init_mul=1.0, init_loss=None, verbose=0):\n",
    "        super(ContextLayerBase, self).__init__(self)\n",
    "        \n",
    "        self.switch_init = switch_init\n",
    "        self.init_mul = init_mul\n",
    "        self.init_loss = init_loss\n",
    "        self.learn_rate = learn_rate\n",
    "        self.verbose = verbose\n",
    "        \n",
    "        # Contextualization\n",
    "        self.num_contexts = num_contexts\n",
    "        self.atr_size = atr_size\n",
    "        self.switch_delay = switch_delay\n",
    "        self.project = None\n",
    "        self.hot_context = tf.Variable(0, name=\"Hot Context\", trainable=False, dtype=tf.int32)\n",
    "        \n",
    "        # Switching mechanism\n",
    "        self.auto_switch = auto_switch\n",
    "        self.context_losses = tf.Variable(tf.zeros(num_contexts), dtype=tf.float32, trainable=False, name=\"Context Losses\")\n",
    "        self.switch_threshold = tf.Variable(switch_threshold, dtype=tf.float32, trainable=False, name=\"Switch Threshold\")\n",
    "        self.delayed_epochs = tf.Variable(switch_delay, dtype=tf.int32, trainable=False, name=\"Delayed Epochs\")\n",
    "        self.epoch_switched = tf.Variable(-1, dtype=tf.int32, trainable=False, name=\"Epoch Switched\")\n",
    "        self.num_seq_switches = tf.Variable(0, dtype=tf.int32, trainable=False, name=\"Sequential Switches\")\n",
    "        self.delta = tf.Variable(0.0, dtype=tf.float32, trainable=False, name=\"Loss Delta\")\n",
    "        self.delta_switched = tf.Variable(0.0, dtype=tf.float32, trainable=False, name=\"Delta Switched\")\n",
    "        \n",
    "        # Track observed losses for each context (used to compute deltas and find best-fit contexts)\n",
    "        self.observed_losses = tf.Variable(tf.zeros(num_contexts), dtype=tf.float32, trainable=False, name=\"Observed Loss Values\")\n",
    "        self.losses_initialized = tf.Variable(tf.zeros(num_contexts, dtype=tf.int8), dtype=tf.int8, trainable=False, name=\"Initialized Loss Values\") # bool doesn't work yet...\n",
    "        \n",
    "    def build(self, input_shape):\n",
    "        if self.atr_size is not None:\n",
    "            self.project = keras.layers.Dense(self.atr_size)\n",
    "        else:\n",
    "            self.atr_size = input_shape[-1]\n",
    "    \n",
    "    def call(self, x):\n",
    "        if self.project is not None:\n",
    "            x = self.project(x)\n",
    "        return self.contextualize(x)\n",
    "    \n",
    "    def contextualize(self, x):\n",
    "        raise NotImplemented()\n",
    "    \n",
    "    def update_and_switch(self, epoch, absorb):\n",
    "        return tf.cond(self.should_switch(epoch), lambda: self._switch(epoch, absorb), lambda: self._update(epoch, absorb))\n",
    "        \n",
    "    def should_switch(self, epoch):\n",
    "        if not self.auto_switch:\n",
    "            return False\n",
    "        return tf.logical_and(\n",
    "            self.delayed_epochs <= 0,\n",
    "            tf.logical_and(\n",
    "                self.losses_initialized[self.hot_context] == 1,\n",
    "                self.compute_context_delta() < self.switch_threshold\n",
    "            ))\n",
    "    \n",
    "    def _switch(self, epoch, absorb):\n",
    "        # Before the switch...\n",
    "        self.on_before_switch(epoch)\n",
    "        \n",
    "        # Count the switches\n",
    "        self.num_seq_switches.assign_add(1)\n",
    "        self.epoch_switched.assign(epoch)\n",
    "        \n",
    "        # Switch contexts and return the result\n",
    "        self.switch_contexts(absorb)\n",
    "        \n",
    "        # Always return true to indicate a switch occurred\n",
    "        return True\n",
    "        \n",
    "    def switch_contexts(self, absorb):\n",
    "        def switch_to_best_fit():\n",
    "            best_fit = self.find_best_fit_context()\n",
    "            self.set_context(best_fit)\n",
    "            self.update_context_loss(self.observed_losses[self.hot_context], absorb)\n",
    "            if self.verbose > 0:\n",
    "                tf.print(\"Switching to best-fit context:\", best_fit)\n",
    "        \n",
    "        def switch_to_next():\n",
    "            self.next_context()\n",
    "            if self.verbose == 2:\n",
    "                tf.print(\"\\nSwitched to context:\", self.hot_context)\n",
    "            tf.cond(not self.losses_initialized[self.hot_context], self.reset_switch_delay, tf.no_op)\n",
    "        \n",
    "        # If we've tried all contexts and none fits well, use the best-fit. Otherwise, use the next context\n",
    "        tf.cond(self.num_seq_switches >= self.num_contexts, switch_to_best_fit, switch_to_next)\n",
    "        \n",
    "    \n",
    "    def _update(self, epoch, absorb):\n",
    "        def update_counters():\n",
    "            # Decrement the delayed epochs counter on absorbing states\n",
    "            tf.cond(self.delayed_epochs > 0, lambda: self.delayed_epochs.assign_sub(1), tf.no_op)\n",
    "            # Reset the sequence counter on absorbing states\n",
    "            tf.cond(self.num_seq_switches != 0, lambda: self.num_seq_switches.assign(0), tf.no_op)\n",
    "            \n",
    "        # Before the context loss value is updated...\n",
    "        # This is a sort of hack to skip updating delta\n",
    "        # traces after a best-fit was found\n",
    "        tf.cond(epoch != self.epoch_switched, self.on_before_update, tf.no_op)\n",
    "        \n",
    "        # Update the context-loss value\n",
    "        self.update_context_loss(self.observed_loss(), absorb)\n",
    "        \n",
    "        # If obsorbing, update counters\n",
    "        tf.cond(absorb, update_counters, tf.no_op)\n",
    "        return False # Always return false to indicate no switch\n",
    "    \n",
    "    def observed_loss(self):\n",
    "        return self.observed_losses[self.hot_context]\n",
    "    \n",
    "    def context_loss(self):\n",
    "        return self.context_losses[self.hot_context]\n",
    "    \n",
    "    def compute_context_delta(self):\n",
    "        return self.context_loss() - self.observed_loss()\n",
    "    \n",
    "    def add_observed_loss(self, observed_loss):\n",
    "        loss = self.compute_observed_error(observed_loss)\n",
    "        # indices = [tf.expand_dims(self.hot_context, 0)]\n",
    "        self.observed_losses.scatter_nd_add([[self.hot_context]], loss)\n",
    "        \n",
    "    def clear_observed_loss(self):\n",
    "        # indices = [tf.expand_dims(self.hot_context, 0)]\n",
    "        self.observed_losses.scatter_nd_update([[self.hot_context]], [0.0])\n",
    "                \n",
    "    def compute_observed_error(self, observed_loss):\n",
    "        return keras.losses.mean_squared_error(tf.zeros_like(observed_loss), observed_loss)\n",
    "    \n",
    "    def set_context_loss(self, context_loss, absorb):\n",
    "        self.context_losses.scatter_nd_update([[self.hot_context]], [context_loss])\n",
    "        tf.cond(not self.losses_initialized[self.hot_context] and absorb, lambda: self.losses_initialized.scatter_nd_update([[self.hot_context]], [1]), tf.no_op)\n",
    "    \n",
    "    def update_context_loss(self, context_loss, absorb, switched=False):\n",
    "        def init_context_loss():\n",
    "            init_loss = self.init_mul*context_loss\n",
    "            if self.init_loss is not None:\n",
    "                init_loss = tf.maximum(init_loss, self.init_loss)\n",
    "            # tf.print(\"Initializing context loss...\")\n",
    "            self.set_context_loss(init_loss, absorb)\n",
    "            \n",
    "        def update_context_loss():\n",
    "            direct_loss = lambda: context_loss\n",
    "            delta_loss = lambda: self.context_loss() + self.learn_rate*(self.observed_loss() - self.context_loss())\n",
    "            loss = tf.cond(switched, direct_loss, delta_loss)\n",
    "            # tf.print(\"Updating context loss...\")\n",
    "            self.set_context_loss(loss, absorb)\n",
    "        \n",
    "        tf.cond(not self.losses_initialized[self.hot_context], init_context_loss, update_context_loss)\n",
    "    \n",
    "    def next_context(self):\n",
    "        self.hot_context.assign((self.hot_context + 1) % self.num_contexts)\n",
    "        \n",
    "    def set_context(self, context):\n",
    "        self.hot_context.assign(context)\n",
    "        \n",
    "    def find_best_fit_context(self):\n",
    "        return tf.argmax((self.context_losses - self.observed_losses)[:self.num_contexts], output_type=tf.int32)\n",
    "    \n",
    "    def on_before_switch(self, epoch):\n",
    "        def update_delta():\n",
    "            delta = self.compute_context_delta()\n",
    "            self.delta_switched.assign(delta)\n",
    "            self.delta.assign(delta)\n",
    "        tf.cond(epoch != self.epoch_switched, update_delta, tf.no_op)\n",
    "    \n",
    "    def on_before_update(self):\n",
    "        def update_delta():\n",
    "            delta = self.compute_context_delta()\n",
    "            self.delta.assign(delta)\n",
    "        tf.cond(self.losses_initialized[self.hot_context], update_delta, tf.no_op)\n",
    "        \n",
    "    def reset_switch_delay(self):\n",
    "        if self.switch_delay == 0:\n",
    "            return\n",
    "        self.delayed_epochs.assign(self.switch_delay)\n",
    "        if self.verbose:\n",
    "            tf.print(f\"\\n[{self.name}] Unitialized context: Context switching disabled for {self._switch_delay} absorbing epochs.\")"
   ]
  },
  {
   "cell_type": "code",
   "execution_count": 7,
   "id": "baa1b9e1-0438-459c-8f53-c065af8cc663",
   "metadata": {},
   "outputs": [],
   "source": [
    "class ContextLayerLogHrr(ContextLayerBase):\n",
    "    def __init__(self, *args, **kwargs):\n",
    "        super(ContextLayerLogHrr, self).__init__(*args, **kwargs)\n",
    "        \n",
    "        # Contextualization\n",
    "        self.num_atrs = int(np.ceil(np.log2(self.num_contexts)))\n",
    "        \n",
    "    def build(self, input_shape):\n",
    "        super(ContextLayerLogHrr, self).build(input_shape)\n",
    "        self.atrs = hrrs(self.atr_size, self.num_atrs)\n",
    "    \n",
    "    def contextualize(self, x):\n",
    "        result = x\n",
    "        for i in range(self.num_atrs):\n",
    "            result = tf.cond(tf.bitwise.bitwise_and(self.hot_context, (1 << i)) > 0, lambda: self.convolve(i, result), lambda: result)\n",
    "        return result\n",
    "    \n",
    "    def convolve(self, i, x):\n",
    "        atr = tf.gather(self.atrs, i)\n",
    "        return circular_conv(atr, x)"
   ]
  },
  {
   "cell_type": "code",
   "execution_count": 8,
   "id": "6c25b87e-5724-49d6-badf-98cd20bf809d",
   "metadata": {},
   "outputs": [],
   "source": [
    "class ContextLayerConvPower(ContextLayerBase):\n",
    "    def __init__(self, *args, **kwargs):\n",
    "        super(ContextLayerConvPower, self).__init__(*args, **kwargs)\n",
    "        \n",
    "    def build(self, input_shape):\n",
    "        super(ContextLayerConvPower, self).build(input_shape)\n",
    "        self.context_hrr = hrr(self.atr_size)\n",
    "    \n",
    "    def contextualize(self, x):\n",
    "        return circular_conv_power(x, self.context_hrr, self.hot_context)"
   ]
  },
  {
   "cell_type": "code",
   "execution_count": 11,
   "id": "d740d15a-fb37-4481-b3bd-81f7f1f08643",
   "metadata": {},
   "outputs": [],
   "source": [
    "from keras.engine import data_adapter\n",
    "\n",
    "class ContextModelBase(keras.Model):\n",
    "    def __init__(self, *args, retry_fit=True, verbose=0, **kwargs):\n",
    "        super(ContextModelBase, self).__init__(*args, **kwargs)\n",
    "        self.retry_fit = retry_fit\n",
    "        self.verbose = verbose\n",
    "        self.context_layer_map = [i for i, l in enumerate(self.layers) if isinstance(l, ContextLayerBase)]\n",
    "        self.context_gradient_map = self._build_gradient_map()\n",
    "        self.num_context_layers = tf.constant(len(self.context_layer_map))\n",
    "        self.prev_epoch = tf.Variable(-1, dtype=tf.int32, trainable=False, name=\"Previous Epoch\")\n",
    "        \n",
    "        # Set context layer verbosity\n",
    "        for layer_id in self.context_layer_map:\n",
    "            layer = self.layers[layer_id]\n",
    "            layer.verbose = max(layer.verbose, verbose)\n",
    "        \n",
    "    def _build_gradient_map(self):\n",
    "        gradient_map = []\n",
    "        index = 0\n",
    "        for i, layer in enumerate(self.layers):\n",
    "            if isinstance(layer, ContextLayerBase):\n",
    "                # Offset if we can use the bias weight\n",
    "                offset = int(self.layers[i + 1].use_bias)\n",
    "                \n",
    "                # If there is a built-in projection layer, offset appropriately\n",
    "                if layer.project is not None:\n",
    "                    offset += len(layer.project.trainable_variables)\n",
    "                \n",
    "                gradient_map.append(index + offset)\n",
    "            index += len(layer.trainable_variables)\n",
    "        return gradient_map\n",
    "            \n",
    "    def _calc_context_loss(self, context_layer_id, gradients):\n",
    "        \"\"\"\n",
    "        IMPORTANT:\n",
    "        1) Assumes no use of activation function on Ntask layer\n",
    "        2) Assumes that the layer following the Ntask layer:\n",
    "            a) Is a Dense layer\n",
    "            b) Is using bias\n",
    "               — ex: Dense(20, ... , use_bias=True)\n",
    "               — note Keras Dense layer uses bias by default if no value is given for use_bias param\n",
    "        3) Assumes index of the next layer's gradient is known within the gradients list returned from gradient tape in a tape.gradient call\n",
    "        4) If the above points aren't met, things will break and it may be hard to locate the bugs\n",
    "        \"\"\"\n",
    "        # If we aren't using the bias, reduce the dimensionality using mean square\n",
    "        layer_index = self.context_layer_map[context_layer_id]\n",
    "        if len(gradients.shape) > 1:\n",
    "            gradients = tf.reduce_mean(tf.multiply(gradients, gradients), axis=0)\n",
    "        next_layer_weights =  tf.transpose(self.layers[layer_index + 1].weights[0])\n",
    "        context_delta = tf.tensordot(tf.expand_dims(gradients, 0), next_layer_weights, 1)\n",
    "        return context_delta\n",
    "    \n",
    "    def add_observed_loss(self, gradients):\n",
    "        for i, grads in enumerate(gradients):\n",
    "            observed_loss = self._calc_context_loss(i, grads)\n",
    "            self.layers[self.context_layer_map[i]].add_observed_loss(observed_loss)\n",
    "            \n",
    "    # def clear_observed_loss(self):\n",
    "    #     for layer_id in self.context_layer_map:\n",
    "    #         self.layers[layer_id].clear_observed_loss()\n",
    "            \n",
    "    def backup(self):\n",
    "        self._backup = keras.backend.batch_get_value(self.trainable_weights)\n",
    "        # for layer_id in self.context_layer_map:\n",
    "        #     self.layers[layer_id].backup()\n",
    "        \n",
    "    def restore(self):\n",
    "        keras.backend.batch_set_value(zip(self.trainable_weights, self._backup))\n",
    "        # for layer_id in self.context_layer_map:\n",
    "        #     self.layers[layer_id].restore()\n",
    "            \n",
    "    def perform_epoch(self, epoch, absorb=True):\n",
    "        def begin_epoch():\n",
    "            self.prev_epoch.assign(epoch)\n",
    "            self.backup()\n",
    "            return True\n",
    "        def update_and_switch():\n",
    "            switched = False\n",
    "            for i, layer_id in enumerate(self.context_layer_map):\n",
    "                layer = self.layers[layer_id]\n",
    "                switched = tf.logical_or(layer.update_and_switch(epoch, absorb), switched)\n",
    "                layer.clear_observed_loss()\n",
    "            tf.cond(switched, self.restore, tf.no_op)\n",
    "            return switched\n",
    "        return tf.cond(self.prev_epoch != epoch, begin_epoch, lambda: tf.logical_and(update_and_switch(), self.retry_fit))\n",
    "    \n",
    "class ContextModel(ContextModelBase):\n",
    "    pass"
   ]
  },
  {
   "cell_type": "code",
   "execution_count": 12,
   "id": "792cd41b-dd1f-484c-82bb-7f5de59a7901",
   "metadata": {},
   "outputs": [
    {
     "name": "stdout",
     "output_type": "stream",
     "text": [
      "Model: \"context_model\"\n",
      "_________________________________________________________________\n",
      "Layer (type)                 Output Shape              Param #   \n",
      "=================================================================\n",
      "input_1 (InputLayer)         [(None, 2)]               0         \n",
      "_________________________________________________________________\n",
      "dense (Dense)                (None, 128)               384       \n",
      "_________________________________________________________________\n",
      "context_layer_conv_power (Co (None, 128)               25        \n",
      "_________________________________________________________________\n",
      "dense_1 (Dense)              (None, 1)                 129       \n",
      "=================================================================\n",
      "Total params: 539\n",
      "Trainable params: 513\n",
      "Non-trainable params: 26\n",
      "_________________________________________________________________\n"
     ]
    }
   ],
   "source": [
    "ATR_SIZE = 128\n",
    "SWITCH_THRESHOLD = -0.02\n",
    "NUM_TASKS = 6\n",
    "\n",
    "with strategy.scope():\n",
    "    y = x = keras.layers.Input((2,))\n",
    "    y = keras.layers.Dense(ATR_SIZE, activation=\"relu\")(y)\n",
    "    # y = ContextLayerBase(switch_threshold=SWITCH_THRESHOLD, num_contexts=NUM_TASKS, auto_switch=True)(y)\n",
    "    # y = ContextLayerLogHrr(switch_threshold=SWITCH_THRESHOLD, num_contexts=NUM_TASKS, auto_switch=True)(y)\n",
    "    y = ctl.ContextLayerConvPower(switch_threshold=SWITCH_THRESHOLD, num_contexts=NUM_TASKS, auto_switch=True, verbose=0)(y)\n",
    "    # y = keras.layers.Dense(10, use_bias=True)(y)\n",
    "    y = keras.layers.Dense(1, activation=\"sigmoid\")(y)\n",
    "    model = ctl.ContextModel(x, y, verbose=1)\n",
    "    model.compile(\n",
    "        optimizer=keras.optimizers.SGD(1e-1),\n",
    "        loss=keras.losses.BinaryCrossentropy(from_logits=False))\n",
    "    model.summary()\n",
    "    # model.run_eagerly=True"
   ]
  },
  {
   "cell_type": "code",
   "execution_count": 13,
   "id": "0914bc66-91d5-4619-a747-132d722dab21",
   "metadata": {},
   "outputs": [],
   "source": [
    "def train_step(model, batch):\n",
    "    x = batch[0]\n",
    "    y = batch[1]\n",
    "    with tf.GradientTape() as tape:\n",
    "        y_pred = model(x, training=True)\n",
    "        loss = model.compiled_loss(y, y_pred)\n",
    "    grads = tape.gradient(loss, model.trainable_weights)\n",
    "    model.optimizer.apply_gradients(zip(grads, model.trainable_weights))\n",
    "    context_grads = [grads[i] for i in model.context_gradient_map]\n",
    "    return context_grads, loss\n",
    "\n",
    "@tf.function\n",
    "def dist_train_step(model, batch):\n",
    "    grads, losses = strategy.run(train_step, args=(model, batch,))\n",
    "    \n",
    "    # Reduce the gradients and add context loss to the model\n",
    "    grads = strategy.reduce(tf.distribute.ReduceOp.SUM, grads, axis=None)\n",
    "    model.add_observed_loss(grads)\n",
    "        \n",
    "    return strategy.reduce(tf.distribute.ReduceOp.MEAN, losses, axis=None)"
   ]
  },
  {
   "cell_type": "code",
   "execution_count": 14,
   "id": "58a433df-f78a-4c76-b312-435ce84bfa31",
   "metadata": {},
   "outputs": [],
   "source": [
    "history = {\n",
    "    \"loss\": [],\n",
    "    \"context_loss\": [],\n",
    "    \"context_delta\": [],\n",
    "}\n",
    "\n",
    "epoch = -1"
   ]
  },
  {
   "cell_type": "code",
   "execution_count": 15,
   "id": "5573db7f-0d19-4507-944b-ef47222c2f58",
   "metadata": {},
   "outputs": [
    {
     "name": "stdout",
     "output_type": "stream",
     "text": [
      "\n",
      "Dataset: 5\n"
     ]
    },
    {
     "name": "stderr",
     "output_type": "stream",
     "text": [
      "2022-03-13 03:42:13.245310: W tensorflow/core/framework/dataset.cc:679] Input of GeneratorDatasetOp::Dataset will not be optimized because the dataset does not implement the AsGraphDefInternal() method needed to apply optimizations.\n"
     ]
    },
    {
     "name": "stdout",
     "output_type": "stream",
     "text": [
      "Epoch: 49; Dataset: 5; Loss: 0.028924008831381798\n",
      "Dataset: 3\n",
      "Epoch: 49; Dataset: 3; Loss: 0.0034122068900614977\n",
      "Dataset: 0\n",
      "Epoch: 49; Dataset: 0; Loss: 0.011074764654040337\n",
      "Dataset: 1\n",
      "Epoch: 49; Dataset: 1; Loss: 0.0023692594841122627\n",
      "Dataset: 4\n",
      "Epoch: 49; Dataset: 4; Loss: 0.009841145016252995\n",
      "Dataset: 2\n",
      "Epoch: 49; Dataset: 2; Loss: 0.0055229403078556064\n",
      "Dataset: 4\n",
      "Epoch: 49; Dataset: 4; Loss: 0.0044460678473114975\n",
      "Dataset: 3\n",
      "Epoch: 49; Dataset: 3; Loss: 0.0025948111433535814\n",
      "Dataset: 2\n",
      "Epoch: 49; Dataset: 2; Loss: 0.0015504676848649979\n",
      "Dataset: 1\n",
      "Epoch: 49; Dataset: 1; Loss: 0.0007609670283272862\n",
      "Dataset: 0\n",
      "Epoch: 49; Dataset: 0; Loss: 0.0037650035228580236\n",
      "Dataset: 5\n",
      "Epoch: 0; Dataset: 5; Loss: 6.544925212860107Switching to best-fit context: 0\n",
      "Epoch: 49; Dataset: 5; Loss: 0.0039650877006351955\n",
      "Dataset: 2\n",
      "Epoch: 0; Dataset: 2; Loss: 0.05239705741405487"
     ]
    },
    {
     "name": "stderr",
     "output_type": "stream",
     "text": [
      "2022-03-13 03:42:43.249817: W tensorflow/core/framework/dataset.cc:679] Input of GeneratorDatasetOp::Dataset will not be optimized because the dataset does not implement the AsGraphDefInternal() method needed to apply optimizations.\n"
     ]
    },
    {
     "name": "stdout",
     "output_type": "stream",
     "text": [
      "Epoch: 49; Dataset: 2; Loss: 0.0007464544032700363\n",
      "Dataset: 5\n",
      "Epoch: 49; Dataset: 5; Loss: 0.0021197665482759476\n",
      "Dataset: 3\n",
      "Epoch: 49; Dataset: 3; Loss: 0.0017324080690741547\n",
      "Dataset: 0\n",
      "Epoch: 49; Dataset: 0; Loss: 0.0010669376933947206\n",
      "Dataset: 1\n",
      "Epoch: 49; Dataset: 1; Loss: 0.0007049014675430954\n",
      "Dataset: 4\n",
      "Epoch: 49; Dataset: 4; Loss: 0.0022478792816400535\n",
      "Dataset: 3\n",
      "Epoch: 49; Dataset: 3; Loss: 0.0009111211402341723\n",
      "Dataset: 0\n",
      "Epoch: 49; Dataset: 0; Loss: 0.0008976570679806173\n",
      "Dataset: 2\n",
      "Epoch: 49; Dataset: 2; Loss: 0.00034470832906663426\n",
      "Dataset: 5\n",
      "Epoch: 49; Dataset: 5; Loss: 0.0018504140898585328\n",
      "Dataset: 4\n",
      "Epoch: 49; Dataset: 4; Loss: 0.0014638103311881423\n",
      "Dataset: 1\n",
      "Epoch: 49; Dataset: 1; Loss: 0.0005810372531414032"
     ]
    }
   ],
   "source": [
    "EPOCHS_PER_TASK = 50\n",
    "\n",
    "with strategy.scope():\n",
    "    for _ in range(4):\n",
    "        for i in np.random.permutation(NUM_TASKS):\n",
    "            dataset = datasets[i]\n",
    "            start = epoch + 1\n",
    "            print(\"\\nDataset:\", i)\n",
    "            for epoch in range(start, epoch+EPOCHS_PER_TASK + 1):\n",
    "                while model.perform_epoch(epoch):\n",
    "                    history[\"loss\"].append(0)\n",
    "                    for batch in dataset:\n",
    "                        loss = dist_train_step(model, batch)\n",
    "                        history[\"loss\"][-1] += loss\n",
    "                    print(f\"\\rEpoch: {epoch - start}; Dataset: {i}; Loss: {loss}\", end=\"\")\n",
    "                history[\"context_loss\"].append(model.layers[2].context_losses.value())\n",
    "                history[\"context_delta\"].append(model.layers[2].delta.value())"
   ]
  },
  {
   "cell_type": "code",
   "execution_count": 16,
   "id": "4139b51a-fbd8-4e33-b9a5-86579f142da5",
   "metadata": {},
   "outputs": [
    {
     "data": {
      "text/plain": [
       "[<matplotlib.lines.Line2D at 0x7f93c06aab50>]"
      ]
     },
     "execution_count": 16,
     "metadata": {},
     "output_type": "execute_result"
    },
    {
     "data": {
      "image/png": "[encoded data removed]",
      "text/plain": [
       "<Figure size 432x288 with 1 Axes>"
      ]
     },
     "metadata": {
      "needs_background": "light"
     },
     "output_type": "display_data"
    }
   ],
   "source": [
    "plt.plot(history[\"loss\"])"
   ]
  },
  {
   "cell_type": "code",
   "execution_count": 17,
   "id": "16604faf-2314-4f85-8d0f-059f40e5b176",
   "metadata": {},
   "outputs": [
    {
     "data": {
      "image/png": "[encoded data removed]",
      "text/plain": [
       "<Figure size 432x288 with 1 Axes>"
      ]
     },
     "metadata": {
      "needs_background": "light"
     },
     "output_type": "display_data"
    }
   ],
   "source": [
    "for i, ctx in enumerate(np.array(history[\"context_loss\"]).T):\n",
    "    plt.plot(ctx)"
   ]
  },
  {
   "cell_type": "code",
   "execution_count": 18,
   "id": "4ca06372-3e16-4787-9a95-17501d6dd2cc",
   "metadata": {},
   "outputs": [
    {
     "data": {
      "text/plain": [
       "<matplotlib.lines.Line2D at 0x7f93c8040fa0>"
      ]
     },
     "execution_count": 18,
     "metadata": {},
     "output_type": "execute_result"
    },
    {
     "data": {
      "image/png": "[encoded data removed]",
      "text/plain": [
       "<Figure size 432x288 with 1 Axes>"
      ]
     },
     "metadata": {
      "needs_background": "light"
     },
     "output_type": "display_data"
    }
   ],
   "source": [
    "plt.plot(history[\"context_delta\"])\n",
    "plt.axhline(y=model.layers[2].switch_threshold.value(), color=\"gray\", linestyle=\"--\")"
   ]
  },
  {
   "cell_type": "code",
   "execution_count": 19,
   "id": "2efbb29d-d10c-42d4-a4c0-e20a7c6a3961",
   "metadata": {},
   "outputs": [
    {
     "name": "stdout",
     "output_type": "stream",
     "text": [
      "Accuarcy: 100.0%\n"
     ]
    }
   ],
   "source": [
    "total = 0\n",
    "for ctx in range(NUM_TASKS):\n",
    "    model.layers[2].set_context(ctx)\n",
    "    pred = (model(x_train).numpy() >= 0.5).astype(dtype=np.int32)\n",
    "    for i in range(len(y_train)):\n",
    "        if np.all(pred == y_train[i]):\n",
    "            total += 1\n",
    "print(f\"Accuarcy: {100*total/NUM_TASKS}%\")"
   ]
  },
  {
   "cell_type": "code",
   "execution_count": null,
   "id": "a8804d02-8485-469e-ab6e-f83a4e85469d",
   "metadata": {},
   "outputs": [],
   "source": []
  }
 ],
 "metadata": {
  "kernelspec": {
   "display_name": "Python 3 (ipykernel)",
   "language": "python",
   "name": "python3"
  },
  "language_info": {
   "codemirror_mode": {
    "name": "ipython",
    "version": 3
   },
   "file_extension": ".py",
   "mimetype": "text/x-python",
   "name": "python",
   "nbconvert_exporter": "python",
   "pygments_lexer": "ipython3",
   "version": "3.9.7"
  }
 },
 "nbformat": 4,
 "nbformat_minor": 5
}
