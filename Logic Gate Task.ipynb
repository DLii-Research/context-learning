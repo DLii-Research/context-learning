{
 "cells": [
  {
   "cell_type": "markdown",
   "id": "c6091506-51a0-453e-ad8c-5121efe44d8d",
   "metadata": {},
   "source": [
    "# Logic Gate Task\n",
    "\n",
    "This notebook constructs a cTL model to learn several different logic gates without explicit contextualization."
   ]
  },
  {
   "cell_type": "code",
   "execution_count": 1,
   "id": "601f9ac4-6b82-4b9b-aa38-f667588b2a51",
   "metadata": {},
   "outputs": [],
   "source": [
    "import os\n",
    "os.environ[\"TF_CPP_MIN_LOG_LEVEL\"] = \"1\""
   ]
  },
  {
   "cell_type": "code",
   "execution_count": 2,
   "id": "4ee1d51d-2ccd-44f3-960b-5282a2939d7b",
   "metadata": {},
   "outputs": [],
   "source": [
    "import matplotlib.pyplot as plt\n",
    "import numpy as np\n",
    "import tensorflow as tf\n",
    "import tensorflow.keras as keras\n",
    "import time\n",
    "from IPython.display import clear_output\n",
    "\n",
    "import tf_utils as tfu\n",
    "\n",
    "import context_learning as ctl"
   ]
  },
  {
   "cell_type": "markdown",
   "id": "b422863e-3676-4ddb-89bc-a0022eaad324",
   "metadata": {},
   "source": [
    "## Training Strategy"
   ]
  },
  {
   "cell_type": "code",
   "execution_count": 3,
   "id": "72f5d197-bf07-4f48-89bf-a52ce6b3e096",
   "metadata": {},
   "outputs": [],
   "source": [
    "strategy = tfu.strategy.gpu(1)"
   ]
  },
  {
   "cell_type": "markdown",
   "id": "8f230759-6dde-4158-a43a-99543ad33751",
   "metadata": {},
   "source": [
    "## Dataset"
   ]
  },
  {
   "cell_type": "code",
   "execution_count": 4,
   "id": "78dc77b4-083e-4cce-8319-0f401a8b5174",
   "metadata": {},
   "outputs": [],
   "source": [
    "BATCH_SIZE = 1"
   ]
  },
  {
   "cell_type": "code",
   "execution_count": 5,
   "id": "c54137fa-b822-4ca9-a6e4-2ff28d38ac57",
   "metadata": {},
   "outputs": [],
   "source": [
    "x_train = np.array([[-1, -1], [-1, 1], [1, -1], [1, 1]])\n",
    "\n",
    "y_train = np.array([\n",
    "    [0, 0, 0, 1], # AND\n",
    "    [0, 1, 1, 1], # OR\n",
    "    [1, 1, 1, 0], # NAND\n",
    "    [1, 0, 0, 0], # NOR\n",
    "    [0, 1, 1, 0], # XOR\n",
    "    [1, 0, 0, 1], # XNOR\n",
    "    [0, 0, 1, 1], # Custom A\n",
    "    [0, 1, 0, 1], # Custom B\n",
    "])[..., np.newaxis]\n",
    "\n",
    "data_labels = [\n",
    "    \"AND\",\n",
    "    \"OR\",\n",
    "    \"NAND\",\n",
    "    \"NOR\",\n",
    "    \"XOR\",\n",
    "    \"XNOR\",\n",
    "    \"Custom A\",\n",
    "    \"Custom B\"\n",
    "]"
   ]
  },
  {
   "cell_type": "code",
   "execution_count": 6,
   "id": "bce75474-8b46-4935-93cc-b9f81c45251c",
   "metadata": {},
   "outputs": [],
   "source": [
    "datasets = [] \n",
    "for y in y_train:\n",
    "    dataset = tf.data.Dataset.from_tensor_slices((x_train, y)).batch(BATCH_SIZE)\n",
    "    dist_dataset = strategy.experimental_distribute_dataset(dataset)\n",
    "    datasets.append(dist_dataset)\n",
    "clear_output() # hide shard warnings"
   ]
  },
  {
   "cell_type": "markdown",
   "id": "2463c1eb-7876-465c-89c3-f88664153d89",
   "metadata": {},
   "source": [
    "## Model Architecture"
   ]
  },
  {
   "cell_type": "code",
   "execution_count": 7,
   "id": "fd072bbd-2780-4ffa-abd5-229c92e9907f",
   "metadata": {},
   "outputs": [],
   "source": [
    "def create_model(atr_size=128, switch_threshold=-0.02, num_contexts=8):\n",
    "    y = x = keras.layers.Input((2,))\n",
    "    y = keras.layers.Dense(atr_size, activation=\"relu\")(y)\n",
    "    y = ctl.ContextLayerConvPower(switch_threshold=switch_threshold, num_contexts=num_contexts, verbose=0)(y)\n",
    "    y = keras.layers.Dense(1, activation=\"sigmoid\")(y)\n",
    "    model = ctl.ContextModel(x, y, verbose=1)\n",
    "    model.compile(\n",
    "        optimizer=keras.optimizers.SGD(1e-1),\n",
    "        loss=keras.losses.BinaryCrossentropy(from_logits=False))\n",
    "    return model"
   ]
  },
  {
   "cell_type": "markdown",
   "id": "6a1f7d6e-16b4-4e0a-956a-39993113b1b7",
   "metadata": {},
   "source": [
    "## Training"
   ]
  },
  {
   "cell_type": "code",
   "execution_count": 8,
   "id": "2a696a6a-39e0-4e2b-a023-d1793f47e532",
   "metadata": {},
   "outputs": [],
   "source": [
    "EPOCHS_PER_TASK = 50\n",
    "REPITIONS = 4\n",
    "\n",
    "NUM_CONTEXTS = 8\n",
    "SWITCH_THRESHOLD = -0.02\n",
    "ATR_SIZE = 128"
   ]
  },
  {
   "cell_type": "code",
   "execution_count": 10,
   "id": "c5b1af5b-cd48-4781-bc14-6e961a75a131",
   "metadata": {},
   "outputs": [
    {
     "name": "stdout",
     "output_type": "stream",
     "text": [
      "\n",
      "Dataset: 5\n",
      "Epoch: 49; Task Epoch:50; Dataset: 5; Loss: 0.029240028932690627\n",
      "Dataset: 3\n",
      "Epoch: 99; Task Epoch:50; Dataset: 3; Loss: 0.0034827683120965958\n",
      "Dataset: 6\n",
      "Epoch: 149; Task Epoch:50; Dataset: 6; Loss: 0.0059833195991814146\n",
      "Dataset: 4\n",
      "Epoch: 199; Task Epoch:50; Dataset: 4; Loss: 0.012394529767334461\n",
      "Dataset: 1\n",
      "Epoch: 249; Task Epoch:50; Dataset: 1; Loss: 0.0019366664346307516\n",
      "Dataset: 7\n",
      "Epoch: 299; Task Epoch:50; Dataset: 7; Loss: 0.0041246605105698115\n",
      "Dataset: 0\n",
      "Epoch: 349; Task Epoch:50; Dataset: 0; Loss: 0.0058430228382349015\n",
      "Dataset: 2\n",
      "Epoch: 399; Task Epoch:50; Dataset: 2; Loss: 0.006696965545415878\n",
      "Dataset: 4\n",
      "Epoch: 449; Task Epoch:50; Dataset: 4; Loss: 0.0043136351741850385\n",
      "Dataset: 2\n",
      "Epoch: 499; Task Epoch:50; Dataset: 2; Loss: 0.0027955088298767805\n",
      "Dataset: 1\n",
      "Epoch: 512; Task Epoch:13; Dataset: 1; Loss: 0.00020475925703067333"
     ]
    },
    {
     "name": "stderr",
     "output_type": "stream",
     "text": [
      "2022-03-13 04:04:48.407688: W tensorflow/core/framework/dataset.cc:679] Input of GeneratorDatasetOp::Dataset will not be optimized because the dataset does not implement the AsGraphDefInternal() method needed to apply optimizations.\n"
     ]
    },
    {
     "name": "stdout",
     "output_type": "stream",
     "text": [
      "Epoch: 549; Task Epoch:50; Dataset: 1; Loss: 0.00012599311594385654\n",
      "Dataset: 3\n",
      "Epoch: 599; Task Epoch:50; Dataset: 3; Loss: 0.00021829480829183012\n",
      "Dataset: 7\n",
      "Epoch: 649; Task Epoch:50; Dataset: 7; Loss: 0.0007468700059689581\n",
      "Dataset: 5\n",
      "Epoch: 699; Task Epoch:50; Dataset: 5; Loss: 0.0053622899577021625\n",
      "Dataset: 0\n",
      "Epoch: 749; Task Epoch:50; Dataset: 0; Loss: 0.0026850870344787836\n",
      "Dataset: 6\n",
      "Epoch: 799; Task Epoch:50; Dataset: 6; Loss: 0.0028472947888076305\n",
      "Dataset: 4\n",
      "Epoch: 849; Task Epoch:50; Dataset: 4; Loss: 0.0008286113734357059\n",
      "Dataset: 3\n",
      "Epoch: 899; Task Epoch:50; Dataset: 3; Loss: 9.263266838388517e-058\n",
      "Dataset: 2\n",
      "Epoch: 949; Task Epoch:50; Dataset: 2; Loss: 0.0020356427412480116\n",
      "Dataset: 6\n",
      "Epoch: 999; Task Epoch:50; Dataset: 6; Loss: 0.0011824939865618944\n",
      "Dataset: 7\n",
      "Epoch: 1049; Task Epoch:50; Dataset: 7; Loss: 0.0009294422343373299\n",
      "Dataset: 1\n",
      "Epoch: 1099; Task Epoch:50; Dataset: 1; Loss: 8.532003266736865e-051\n",
      "Dataset: 5\n",
      "Epoch: 1102; Task Epoch:3; Dataset: 5; Loss: 0.0036106531042605643"
     ]
    },
    {
     "name": "stderr",
     "output_type": "stream",
     "text": [
      "2022-03-13 04:05:18.443106: W tensorflow/core/framework/dataset.cc:679] Input of GeneratorDatasetOp::Dataset will not be optimized because the dataset does not implement the AsGraphDefInternal() method needed to apply optimizations.\n"
     ]
    },
    {
     "name": "stdout",
     "output_type": "stream",
     "text": [
      "Epoch: 1149; Task Epoch:50; Dataset: 5; Loss: 0.0024218158796429634\n",
      "Dataset: 0\n",
      "Epoch: 1199; Task Epoch:50; Dataset: 0; Loss: 0.0014206002233549953\n",
      "Dataset: 6\n",
      "Epoch: 1249; Task Epoch:50; Dataset: 6; Loss: 0.0009408378391526645\n",
      "Dataset: 5\n",
      "Epoch: 1299; Task Epoch:50; Dataset: 5; Loss: 0.0017214809777215123\n",
      "Dataset: 0\n",
      "Epoch: 1349; Task Epoch:50; Dataset: 0; Loss: 0.0010710903443396091\n",
      "Dataset: 4\n",
      "Epoch: 1399; Task Epoch:50; Dataset: 4; Loss: 0.00039094904786907136\n",
      "Dataset: 1\n",
      "Epoch: 1449; Task Epoch:50; Dataset: 1; Loss: 0.00010508009290788323\n",
      "Dataset: 7\n",
      "Epoch: 1499; Task Epoch:50; Dataset: 7; Loss: 0.0006868383497931063\n",
      "Dataset: 3\n",
      "Epoch: 1549; Task Epoch:50; Dataset: 3; Loss: 6.165126978885382e-05\n",
      "Dataset: 2\n",
      "Epoch: 1599; Task Epoch:50; Dataset: 2; Loss: 0.0014920525718480349"
     ]
    }
   ],
   "source": [
    "with strategy.scope():\n",
    "    train = ctl.make_train_function(eager=False)\n",
    "    model = create_model(ATR_SIZE, SWITCH_THRESHOLD, NUM_CONTEXTS)\n",
    "    \n",
    "    history = {\n",
    "        \"loss\": [],\n",
    "        \"context_loss\": [],\n",
    "        \"context_delta\": [],\n",
    "    }\n",
    "\n",
    "    epoch = -1\n",
    "    for _ in range(REPITIONS):\n",
    "        for i in np.random.permutation(NUM_CONTEXTS):\n",
    "            dataset = datasets[i]\n",
    "            start = epoch + 1\n",
    "            print(\"\\nDataset:\", i)\n",
    "            for epoch in range(start, epoch+EPOCHS_PER_TASK + 1):\n",
    "                while model.perform_epoch(epoch):\n",
    "                    history[\"loss\"].append(0)\n",
    "                    for batch in dataset:\n",
    "                        loss = train(strategy, model, batch)\n",
    "                        history[\"loss\"][-1] += loss\n",
    "                    print(f\"\\rEpoch: {epoch}; Task Epoch:{epoch - start + 1}; Dataset: {i}; Loss: {loss}\", end=\"\")\n",
    "                history[\"context_loss\"].append(model.layers[2].context_losses.value())\n",
    "                history[\"context_delta\"].append(model.layers[2].delta.value())"
   ]
  },
  {
   "cell_type": "code",
   "execution_count": 11,
   "id": "79ebe7dc-5a5d-45dc-85c4-98667558e357",
   "metadata": {},
   "outputs": [
    {
     "data": {
      "text/plain": [
       "[<matplotlib.lines.Line2D at 0x7f69600e69a0>]"
      ]
     },
     "execution_count": 11,
     "metadata": {},
     "output_type": "execute_result"
    },
    {
     "data": {
      "image/png": "[encoded data removed]",
      "text/plain": [
       "<Figure size 432x288 with 1 Axes>"
      ]
     },
     "metadata": {
      "needs_background": "light"
     },
     "output_type": "display_data"
    }
   ],
   "source": [
    "plt.plot(history[\"loss\"])"
   ]
  },
  {
   "cell_type": "code",
   "execution_count": 12,
   "id": "30c3da89-676f-4f88-be6e-b9ec87eda85f",
   "metadata": {},
   "outputs": [
    {
     "data": {
      "image/png": "[encoded data removed]",
      "text/plain": [
       "<Figure size 432x288 with 1 Axes>"
      ]
     },
     "metadata": {
      "needs_background": "light"
     },
     "output_type": "display_data"
    }
   ],
   "source": [
    "for i, ctx in enumerate(np.array(history[\"context_loss\"]).T):\n",
    "    plt.plot(ctx)"
   ]
  },
  {
   "cell_type": "code",
   "execution_count": 13,
   "id": "bbb1b2e5-bf50-4094-9af7-47386e540281",
   "metadata": {},
   "outputs": [
    {
     "data": {
      "text/plain": [
       "<matplotlib.lines.Line2D at 0x7f6960149070>"
      ]
     },
     "execution_count": 13,
     "metadata": {},
     "output_type": "execute_result"
    },
    {
     "data": {
      "image/png": "[encoded data removed]",
      "text/plain": [
       "<Figure size 432x288 with 1 Axes>"
      ]
     },
     "metadata": {
      "needs_background": "light"
     },
     "output_type": "display_data"
    }
   ],
   "source": [
    "plt.plot(history[\"context_delta\"])\n",
    "plt.axhline(y=model.layers[2].switch_threshold.value(), color=\"gray\", linestyle=\"--\")"
   ]
  },
  {
   "cell_type": "markdown",
   "id": "3dbdb443-5c24-495a-bffc-0ac93a93bec6",
   "metadata": {},
   "source": [
    "## Evaluation:\n",
    "\n",
    "The following cell is a rough but quick evaluation of the model, looking for contexts that have fully learned a gate. This method of evaulation should not be used in actual experiments and will be replaced later."
   ]
  },
  {
   "cell_type": "code",
   "execution_count": 16,
   "id": "78ece55a-6bb6-4e6f-81d6-64e329f8b3d6",
   "metadata": {},
   "outputs": [
    {
     "name": "stdout",
     "output_type": "stream",
     "text": [
      "Accuarcy: 100.0%\n"
     ]
    }
   ],
   "source": [
    "total = 0\n",
    "for ctx in range(NUM_CONTEXTS):\n",
    "    model.layers[2].set_context(ctx)\n",
    "    pred = (model(x_train).numpy() >= 0.5).astype(dtype=np.int32)\n",
    "    for i in range(len(y_train)):\n",
    "        if np.all(pred == y_train[i]):\n",
    "            total += 1\n",
    "print(f\"Accuarcy: {100*total/NUM_CONTEXTS}%\")"
   ]
  },
  {
   "cell_type": "code",
   "execution_count": null,
   "id": "668fd685-385c-4105-acb0-939044c2a118",
   "metadata": {},
   "outputs": [],
   "source": []
  }
 ],
 "metadata": {
  "kernelspec": {
   "display_name": "Python 3 (ipykernel)",
   "language": "python",
   "name": "python3"
  },
  "language_info": {
   "codemirror_mode": {
    "name": "ipython",
    "version": 3
   },
   "file_extension": ".py",
   "mimetype": "text/x-python",
   "name": "python",
   "nbconvert_exporter": "python",
   "pygments_lexer": "ipython3",
   "version": "3.9.7"
  }
 },
 "nbformat": 4,
 "nbformat_minor": 5
}
