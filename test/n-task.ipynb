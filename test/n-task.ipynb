{
 "cells": [
  {
   "cell_type": "markdown",
   "metadata": {},
   "source": [
    "# N-Task\n",
    "\n",
    "This notebook contains the complete N-Task library used for development and basic experimentation"
   ]
  },
  {
   "cell_type": "code",
   "execution_count": 297,
   "metadata": {},
   "outputs": [],
   "source": [
    "import tensorflow as tf\n",
    "from tensorflow.keras.layers import Layer, Input, Dense\n",
    "from tensorflow.keras.models import Model\n",
    "from math import pi\n",
    "\n",
    "import matplotlib\n",
    "import matplotlib.pyplot as plt\n",
    "\n",
    "import numpy as np\n",
    "import random\n",
    "from random import randrange\n",
    "\n",
    "from utils import display_progress\n",
    "import time"
   ]
  },
  {
   "cell_type": "markdown",
   "metadata": {},
   "source": [
    "## Holographic Reduced Representation (HRR) Functions"
   ]
  },
  {
   "cell_type": "code",
   "execution_count": 299,
   "metadata": {},
   "outputs": [],
   "source": [
    "def hrr(length, normalized=True):\n",
    "    \"\"\"Create a new HRR vector using Tensorflow tensors\"\"\"\n",
    "    length = int(length)      \n",
    "    shp = int((length-1)/2)\n",
    "    if normalized:    \n",
    "        x = tf.random.uniform( shape = (shp,), minval = -pi, maxval = pi, dtype = tf.dtypes.float32, seed = 100, name = None )\n",
    "        x = tf.cast(x, tf.complex64)\n",
    "        if length % 2:\n",
    "            x = tf.math.real( tf.signal.ifft( tf.concat([tf.ones(1, dtype=\"complex64\"), tf.exp(1j*x), tf.exp(-1j*x[::-1])], axis=0)))\n",
    "\n",
    "        else:  \n",
    "            x = tf.math.real(tf.signal.ifft(tf.concat([tf.ones(1, dtype=\"complex64\"),tf.exp(1j*x),tf.ones(1, dtype=\"complex64\"),tf.exp(-1j*x[::-1])],axis=0)))\n",
    "    else:        \n",
    "        x = tf.random.normal( shape = (length,), mean=0.0, stddev=1.0/tf.sqrt(float(length)),dtype=tf.dtypes.float32,seed=100,name=None)\n",
    "    return x\n",
    "\n",
    "\n",
    "def hrrs(length, n=1, normalized=True):\n",
    "    \"\"\"Create n new HRR vectors using Tensorflow tensors\"\"\"\n",
    "    return tf.stack([hrr(length, normalized) for x in range(n)], axis=0)\n",
    "\n",
    "\n",
    "def circ_conv(x, y):\n",
    "    \"\"\"Calculate the circular convolution between two HRR vectors\"\"\"\n",
    "    x = tf.cast(x, tf.complex64)\n",
    "    y = tf.cast(y, tf.complex64)\n",
    "    return tf.math.real(tf.signal.ifft(tf.signal.fft(x)*tf.signal.fft(y)))\n",
    "\n",
    "\n",
    "def logmod(x):\n",
    "    return np.sign(x)*np.log(abs(x) + 1)\n",
    "\n",
    "\n",
    "def plotFrames(title, *frameGroups, labels):\n",
    "    fig, ax = plt.subplots()\n",
    "    for i, group in enumerate(frameGroups):\n",
    "        keys = tuple(group.keys())\n",
    "        t = np.arange(keys[0], keys[-1] + 1, 1)\n",
    "        ax.plot(t, list(group.values()), label=labels[i])\n",
    "    ax.set(xlabel='Episode', ylabel='Value', title=title)\n",
    "    ax.grid()\n",
    "    plt.legend()"
   ]
  },
  {
   "cell_type": "markdown",
   "metadata": {},
   "source": [
    "## Abstract Task Representation (ATR) Models\n",
    "\n",
    "Different types of tasks could require different models for handling ATRs. These models greatly increase the power and control over the context layers"
   ]
  },
  {
   "cell_type": "code",
   "execution_count": 609,
   "metadata": {},
   "outputs": [],
   "source": [
    "class AtrModel:\n",
    "    def __init__(self, num_tasks=1, task_switch_threshold=0.0, is_dynamic=False, task_add_threshold=0.0, max_num_tasks=1):\n",
    "        # Parameters\n",
    "        self.num_tasks = num_tasks\n",
    "        self.switch_threshold = task_switch_threshold\n",
    "        self.num_tasks = num_tasks\n",
    "        self.is_dynamic = is_dynamic\n",
    "        self.add_threshold = task_add_threshold\n",
    "        self.max_num_tasks = max_num_tasks\n",
    "        \n",
    "        # ATR model information\n",
    "        self.atr_values = []\n",
    "        self.context_losses = [0.0 for i in range(num_tasks)]\n",
    "        self.num_seq_switches = 0\n",
    "        \n",
    "        # The defualt hot context\n",
    "        self.hot_context_idx = 0\n",
    "        \n",
    "        # Initialize the ATR values\n",
    "        self.initialize_atr_values(self.num_tasks)\n",
    "        \n",
    "        \n",
    "    def add_context(self):\n",
    "        # Increase the number of ATRs\n",
    "        self.num_tasks += 1\n",
    "        \n",
    "        # Add the new ATR value\n",
    "        self.atr_values.append(self.initial_atr_value())\n",
    "        self.context_losses.append(0.0)\n",
    "    \n",
    "    \n",
    "    def switch_contexts(self, context_loss):\n",
    "        \"\"\"\n",
    "        Switch to a new task\n",
    "        \"\"\"\n",
    "        print(\"Switching...\")\n",
    "        # If we have exhausted the context list, pick the one with the lowest loss\n",
    "        if self.num_seq_switches >= self.num_tasks:\n",
    "            # Find the context with the lowest loss\n",
    "            best_fit_idx = self.find_best_fit_context()\n",
    "            \n",
    "            # Check if a new context should be added\n",
    "            if self.is_dynamic and self.num_tasks < self.max_num_tasks and self.should_add_context(context_loss, best_fit_idx):\n",
    "                # Add the new context\n",
    "                self.add_context()\n",
    "                \n",
    "                # Switch to the new context\n",
    "                self.hot_context_idx = self.num_tasks - 1\n",
    "                print(f\"Task switched (added new task): {self.hot_context_idx}\")\n",
    "                \n",
    "            else:\n",
    "                # Change to the new context\n",
    "                self.hot_context_idx = best_fit_idx\n",
    "                print(f\"Task switched (found best): {self.hot_context_idx}\")\n",
    "\n",
    "                # Update the ATR value\n",
    "                # @WARN This is probably not the best way to do this... but it works, so...\n",
    "                self.atr_values[self.hot_context_idx] = self.context_losses[self.hot_context_idx]\n",
    "\n",
    "        else:\n",
    "            self.next_context()\n",
    "            print(f\"Task switched to: {self.hot_context_idx}\")\n",
    "    \n",
    "    \n",
    "    def update_and_switch(self, context_loss, dynamic_switch=True):\n",
    "        \"\"\"Perform an update on the ATR model\"\"\"\n",
    "        \n",
    "        # Do we need to switch contexts?\n",
    "        if dynamic_switch and self.should_switch(context_loss):\n",
    "            \n",
    "            # Update the tracked context loss\n",
    "            self.context_losses[self.hot_context_idx] = context_loss\n",
    "            \n",
    "            # Count the sequential sequence switches\n",
    "            self.num_seq_switches += 1\n",
    "            \n",
    "            # Switch to the new context\n",
    "            self.switch_contexts(context_loss)\n",
    "            \n",
    "            # A switch occurred, no ATR updates happened\n",
    "            return False\n",
    "        \n",
    "        # Update the ATR values\n",
    "        self.update_atr_value(context_loss)\n",
    "        \n",
    "        # Reset the sequential switch counter\n",
    "        self.num_seq_switches = 0\n",
    "        \n",
    "        # No switch occurred, ATR was updated\n",
    "        return True\n",
    "\n",
    "\n",
    "    def get_hot_context():\n",
    "        \"\"\"Get the active context index\"\"\"\n",
    "        return self.hot_context_idx\n",
    "    \n",
    "    \n",
    "    def set_hot_context(self, hot_context_idx):\n",
    "        \"\"\"Set the active context index\"\"\"\n",
    "        if hot_context_idx not in range(self.num_tasks):\n",
    "            raise IndexError(\"The given hot context index does not exist\")\n",
    "        self.hot_context_idx = hot_context_idx\n",
    "        \n",
    "    \n",
    "    def next_context(self):\n",
    "        \"\"\"Switch to the next sequential context\"\"\"\n",
    "        self.set_hot_context((self.hot_context_idx + 1) % self.num_tasks)\n",
    "        return self.hot_context_idx\n",
    "    \n",
    "    # Overridable ---------------------------------------------------------------------------------\n",
    "    \n",
    "    def initial_atr_value(self):\n",
    "        \"\"\"Determine the initial value for an ATR\"\"\"\n",
    "        return 1.0\n",
    "    \n",
    "    def initialize_atr_values(self, num_tasks):\n",
    "        \"\"\"Initialize the `atr_values` parameter\"\"\"\n",
    "        self.atr_values = [self.initial_atr_value() for i in range(num_tasks)]\n",
    "        \n",
    "    def update_atr_value(self, context_loss):\n",
    "        \"\"\"Update the ATR value\"\"\"\n",
    "        self.atr_values[self.hot_context] = context_loss\n",
    "    \n",
    "    def find_best_fit_context(self):\n",
    "        \"\"\"Locate the context index with the best fit\"\"\"\n",
    "        # return np.argmax(np.subtract(self.atr_values, self.context_losses))\n",
    "        # return np.argmin(np.abs(np.subtract(self.context_losses, self.atr_values)))\n",
    "        return np.argmax(np.subtract(self.atr_values, self.context_losses))\n",
    "    \n",
    "    def should_switch(self, context_loss):\n",
    "        \"\"\"Determine if the context should switch\"\"\"\n",
    "        delta = self.atr_values[self.hot_context_idx] - context_loss\n",
    "        return delta < self.switch_threshold\n",
    "    \n",
    "    def should_add_context(self, context_loss, best_fit_context_idx):\n",
    "        \"\"\"Determine if a new context should be added\"\"\"\n",
    "        print(\"Best context loss...\", self.context_losses[best_fit_context_idx])\n",
    "        return self.atr_values[self.hot_context_idx] - self.context_losses[best_fit_context_idx] < self.add_threshold"
   ]
  },
  {
   "cell_type": "code",
   "execution_count": 610,
   "metadata": {},
   "outputs": [],
   "source": [
    "class AtrMovingAverage(AtrModel):\n",
    "    def update_atr_value(self, context_loss):\n",
    "        self.atr_values[self.hot_context_idx] = (self.atr_values[self.hot_context_idx] + context_loss) / 2.0"
   ]
  },
  {
   "cell_type": "markdown",
   "metadata": {},
   "source": [
    "## The Context Layer\n",
    "\n",
    "The context layer works as an intermediate layer between two other layers. It takes the output tensor from the previous layer and convolves it with an HRR representing the current active context. The resulting tensor from this convolution is fed to the next layer.\n",
    "\n",
    "Some things to note:\n",
    "- The kernel is a list of HRRs, one for each task\n",
    "- The size of the HRR vectors is equal to the number of nodes in the previous layer\n",
    "- All weights in this layer are constant and never updated"
   ]
  },
  {
   "cell_type": "code",
   "execution_count": 611,
   "metadata": {},
   "outputs": [],
   "source": [
    "class Context(Layer):\n",
    "    \n",
    "    RESULT_UPDATED  = 0 # The ATR model was updated successfully\n",
    "    RESULT_SWITCHED = 1 # A task switch was triggered in the ATR\n",
    "    RESULT_ADDED    = 2 # A new task was added to the ATR model\n",
    "    \n",
    "    def __init__(self, atr_model):\n",
    "        super(Context, self).__init__()\n",
    "        \n",
    "        self.kernel = None\n",
    "        self.atr_model = atr_model\n",
    "        \n",
    "        # Information Tracking\n",
    "        self.num_tasks = 0\n",
    "        self.context_loss = 0.0\n",
    "        \n",
    "        \n",
    "    def _setup_hrr_weights(self):\n",
    "        # Fetch and store the number of tasks. Used to check for dynamically added tasks\n",
    "        self.num_tasks = self.atr_model.num_tasks\n",
    "\n",
    "        # Create the HRR initializer. This will create the list of HRR vectors\n",
    "        if self.kernel is None:\n",
    "            initializer = lambda shape, dtype=None: hrrs(self._input_shape, n=self.num_tasks)\n",
    "        else:\n",
    "            # If there are previously generated HRRs, they should be retained\n",
    "            kernel_arr = self.kernel.numpy()\n",
    "            num_hrrs = max(0, self.num_tasks - len(kernel_arr))\n",
    "            initializer = lambda shape, dtype=None: np.append(kernel_arr[:self.num_tasks], hrrs(self._input_shape, n=num_hrrs), axis=0)\n",
    "        \n",
    "        # Create the weights for the layer.\n",
    "        # The weights in this layer are generated HRR vectors, and are never updated.\n",
    "        self.kernel = self.add_weight(name=\"context\", shape=[self.num_tasks, self._input_shape], initializer=initializer, trainable=False)\n",
    "        \n",
    "    \n",
    "    def build(self, input_shape):\n",
    "        \n",
    "        # Store the input shape since weights can be rebuilt later\n",
    "        self._input_shape = int(input_shape[-1])\n",
    "        \n",
    "        # Build the n-task information\n",
    "        self._setup_hrr_weights()\n",
    "        \n",
    "        \n",
    "    def call(self, inputs):\n",
    "        \"\"\"\n",
    "        Calculate the output for this layer.\n",
    "        \n",
    "        This layer convolves the input values with the context HRR vector\n",
    "        to produce the output tensor.\n",
    "        \"\"\"\n",
    "        \n",
    "        # Fetch the hot context's HRR vector\n",
    "        context_hrr = self.kernel[self.get_hot_context()]\n",
    "        \n",
    "        # Return the resulting convolution between the inputs and the context HRR\n",
    "        return circ_conv(inputs, context_hrr)\n",
    "        \n",
    "    \n",
    "    def get_hot_context(self):\n",
    "        \"\"\"Get the active context index\"\"\"\n",
    "        return self.atr_model.hot_context_idx\n",
    "    \n",
    "    \n",
    "    def set_hot_context(self, index):\n",
    "        self.atr_model.set_hot_context(index)\n",
    "        self.context_loss = 0.0\n",
    "    \n",
    "    \n",
    "    def next_context(self):\n",
    "        \"\"\"Switch to the next sequential context\"\"\"\n",
    "        return self.atr_model.next_context()\n",
    "    \n",
    "    \n",
    "    def update_and_switch(self, dynamic_switch=True):\n",
    "        \"\"\"\n",
    "        Update ATR values and switch contexts if necessary.\n",
    "        Returns True if no context switch occurs; False otherwise\n",
    "        \"\"\"\n",
    "        # Update the ATR values. If a task switch occurs, check if a task was added...\n",
    "        if not self.atr_model.update_and_switch(self.context_loss, dynamic_switch):\n",
    "            \n",
    "            # Check if the number of tasks was dynamically manipulated\n",
    "            if self.num_tasks != self.atr_model.num_tasks:\n",
    "                \n",
    "                # Re-initialize the\n",
    "                self._setup_hrr_weights()\n",
    "                \n",
    "                # Determine if a new task was added or removed\n",
    "                if self.num_tasks < self.atr_model.num_tasks:\n",
    "                    return Context.RESULT_ADDED | Context.RESULT_SWITCHED\n",
    "            \n",
    "            # A task switch occurred, no ATR updates\n",
    "            return Context.RESULT_SWITCHED\n",
    "        \n",
    "        # No task switched occurred, updated successfully\n",
    "        return Context.RESULT_UPDATED"
   ]
  },
  {
   "cell_type": "markdown",
   "metadata": {},
   "source": [
    "## The n-Task Model\n",
    "\n",
    "The n-Task model is a modified version of the standard Keras model. This new model incorporates the additional functionality and calculations to handle context layers.\n",
    "\n",
    "Some things to note:\n",
    "- The model creates a lookup table for context layers"
   ]
  },
  {
   "cell_type": "code",
   "execution_count": 612,
   "metadata": {},
   "outputs": [],
   "source": [
    "class NTaskModel(Model):\n",
    "    def __init__(self, *args, loss_fn=None, optimizer=None, **kwargs):\n",
    "        super(NTaskModel, self).__init__(*args, **kwargs)\n",
    "        \n",
    "        #! A temporary way to store things...\n",
    "        self.loss_fn = loss_fn\n",
    "        self.optimizer = optimizer\n",
    "        \n",
    "        # A list of all context layers\n",
    "        self.context_layers = []\n",
    "        \n",
    "        # Debugging\n",
    "        self.atr_frames = {}\n",
    "        \n",
    "        # Misc\n",
    "        self.total_epochs = 0\n",
    "        \n",
    "        # Create the context layer lookup table\n",
    "        self._create_context_layer_index_list()\n",
    "        \n",
    "        \n",
    "    def compile(self, *args, **kwargs):\n",
    "        super(NTaskModel, self).compile(*args, **kwargs)\n",
    "        self.create_context_layer_index_list()\n",
    "        \n",
    "    \n",
    "    def _create_context_layer_index_list(self):\n",
    "        \"\"\"\n",
    "        Create a lookup table for context layers.\n",
    "        This is required to efficiently update each context layer's loss information\n",
    "        \"\"\"\n",
    "        self.context_layers = [i for i, layer in enumerate(self.layers) if isinstance(layer, Context)]\n",
    "        self.atr_frames = {i: defaultdict(dict) for i in self.context_layers}\n",
    "        \n",
    "        \n",
    "    def _calc_context_loss(self, context_layer_idx, gradients):\n",
    "        \"\"\"\n",
    "        IMPORTANT: \n",
    "        1) Assumes no use of activation function on Ntask layer\n",
    "        2) Assumes that the layer following the Ntask layer:\n",
    "            a) Is a Dense layer\n",
    "            b) Is using bias \n",
    "               — ex: Dense(20, ... , use_bias=True) \n",
    "               — note Keras Dense layer uses bias by default if no value is given for use_bias param\n",
    "        3) Assumes index of the next layer's gradient is known within the gradients list returned from gradient tape in a tape.gradient call\n",
    "        4) If the above points aren't met, things will break and it may be hard to locate the bugs\n",
    "        \"\"\"\n",
    "        # From the delta rule in neural network math\n",
    "        delta_at_next_layer = gradients[context_layer_idx + 1]\n",
    "        transpose_of_weights_at_next_layer = tf.transpose(self.layers[context_layer_idx + 1].get_weights()[0])\n",
    "        \n",
    "        # Calculate delta at n-task layer\n",
    "        context_delta = np.dot(delta_at_next_layer, transpose_of_weights_at_next_layer).astype(np.float)\n",
    "        \n",
    "        # Calculate Context Error\n",
    "        # Keras MSE must have both args be arrs of floats, if one or both are arrs of ints, the output will be rounded to an int\n",
    "        # This is how responsible the context layer was for the loss\n",
    "        return tf.keras.losses.mean_squared_error(np.zeros(len(context_delta)), context_delta)\n",
    "        \n",
    "    \n",
    "    def _custom_forward_pass(self, x_train, y_train, epoch_grads):\n",
    "        \"\"\"\n",
    "        This is the training forward pass for an entire epoch\n",
    "\n",
    "        !!!!! Read through this code as it is a nonstandard training forward pass ( different than model.fit() )\n",
    "        & NOTE that this does not apply the gradients ie. this does not do a weight update/learn\n",
    "\n",
    "        \"\"\"\n",
    "        \n",
    "        # Initialize the sum loss\n",
    "        sum_loss = 0\n",
    "        \n",
    "        # Tensorflow 2 style training -- info can be found here: https://www.tensorflow.org/guide/effective_tf2 \n",
    "        # This is similar to model.fit(), however this is a custom training loop -- ie. it does things differently than model.fit()\n",
    "        # look at each input and label (there are 4 for the logic gates)\n",
    "        for i in range(len(x_train)):\n",
    "            \n",
    "            x = x_train[i]\n",
    "            y = y_train[i]\n",
    "            \n",
    "            with tf.GradientTape() as tape:\n",
    "                predictions = self(x, training=True) # Forward pass\n",
    "                loss = self.loss_fn(y, predictions) # Get the loss\n",
    "                \n",
    "            # Accumulate the loss\n",
    "            sum_loss += loss    \n",
    "            \n",
    "            # Extract the gradients for the loss of the current sample\n",
    "            gradients = tape.gradient(loss, model.trainable_variables)\n",
    "            \n",
    "            # Collect the gradients from each sample in the dataset for the epoch\n",
    "            epoch_grads.append(gradients)\n",
    "            \n",
    "            for context_layer_idx in self.context_layers:\n",
    "                self.layers[context_layer_idx].context_loss += self._calc_context_loss(context_layer_idx, gradients)\n",
    "            \n",
    "        # Average loss for the epoch\n",
    "        avg_loss_for_epoch = sum_loss / len(dataset)\n",
    "                \n",
    "        \n",
    "    def fit(self, x_train, y_train, n_epochs, progress=False, explicit_contexts=None):\n",
    "        \n",
    "        # Explicit context learning: specify the contexts for ecah of the layers. None=dynamic\n",
    "        if explicit_contexts is not None:\n",
    "            if len(explicit_contexts) != len(self.context_layers):\n",
    "                raise ValueError(\"Length of explicit contexts does not match the number of context layers\")\n",
    "            for i, idx in enumerate(self.context_layers):\n",
    "                if explicit_contexts[i] is not None:\n",
    "                    self.layers[idx].set_hot_context(explicit_contexts[i])\n",
    "        else:\n",
    "            explicit_contexts = [None for x in self.context_layers]\n",
    "        \n",
    "        epoch = 0\n",
    "        while epoch < n_epochs:\n",
    "            \n",
    "            # DEBUG; Display progress\n",
    "            if progress:\n",
    "                display_progress(epoch / n_epochs, title=str([self.layers[i].get_hot_context() for i in self.context_layers]))\n",
    "            \n",
    "            # initialize the values for the loop\n",
    "            epoch_grads = []\n",
    "            for idx in self.context_layers:\n",
    "                self.layers[idx].context_loss = 0.0\n",
    "            \n",
    "            # Perform a forward pass\n",
    "            self._custom_forward_pass(x_train, y_train, epoch_grads)\n",
    "            \n",
    "            # Iterate backwards over the context layers. If a context switch occurs, don't check any other layers\n",
    "            switched = False\n",
    "            for i in range(len(self.context_layers) - 1, -1, -1):\n",
    "                # Fetch the context layer\n",
    "                context = self.layers[self.context_layers[i]]\n",
    "                \n",
    "                # Check if explicit context learning for this layer is set\n",
    "                dynamic_switch = explicit_contexts[i] is None\n",
    "                \n",
    "                # Update the layer and indicate if a task switch occurred\n",
    "                if context.update_and_switch(dynamic_switch) & Context.RESULT_SWITCHED:\n",
    "                    # A task switch occurred, don't update any other layers/weights\n",
    "                    switched = True\n",
    "                    break\n",
    "            \n",
    "            # If no task switch occurred, we can update the weights of the network\n",
    "            if not switched:\n",
    "                epoch += 1\n",
    "                self.total_epochs += 1\n",
    "                for grads in epoch_grads:\n",
    "                    self.optimizer.apply_gradients(zip(grads, model.trainable_variables))\n",
    "\n",
    "                for idx in self.context_layers[::-1]:\n",
    "                    for t in range(self.layers[idx].num_tasks):\n",
    "                        self.atr_frames[idx][t][self.total_epochs] = self.layers[idx].atr_model.atr_values[t]\n",
    "                    \n",
    "                    \n",
    "    def plot_atr_values(self):\n",
    "        for idx in self.context_layers:\n",
    "            n = self.layers[idx].num_tasks\n",
    "            plotFrames(f\"ATR Values for Context Layer {idx}\", *model.atr_frames[idx].values(), labels=[i for i in range(n)])"
   ]
  },
  {
   "cell_type": "markdown",
   "metadata": {},
   "source": [
    "___"
   ]
  },
  {
   "cell_type": "markdown",
   "metadata": {},
   "source": [
    "# Logic Gate Task"
   ]
  },
  {
   "cell_type": "code",
   "execution_count": 572,
   "metadata": {},
   "outputs": [],
   "source": [
    "def train(model, labels, cycles, epochs, shuffle=True, show_progress=False):\n",
    "    last_index = None\n",
    "    indices = list(range(len(labels)))\n",
    "    \n",
    "    for cycle in range(cycles):\n",
    "        \n",
    "        # If the previous task is repeated, swap with a random task\n",
    "        if last_index == indices[0]:\n",
    "            i = randrange(1, len(indices))\n",
    "            indices[0], indices[i] = indices[i], indices[0]\n",
    "        \n",
    "        # Train on each batch in the dataset\n",
    "        for i in indices:\n",
    "            print(i)\n",
    "            model.fit(x_train, labels[i], epochs, progress=show_progress)\n",
    "        \n",
    "        # Shuffle at the end to preserver dataset order\n",
    "        if shuffle:\n",
    "            list_index = indices[-1]\n",
    "\n",
    "            # Shuffle the dataset\n",
    "            random.shuffle(indices)"
   ]
  },
  {
   "cell_type": "code",
   "execution_count": 573,
   "metadata": {},
   "outputs": [],
   "source": [
    "def validate(model, labels, num_task_contexts):\n",
    "    inputs = np.array([[-1, -1], [-1, 1], [1, -1], [1, 1]])\n",
    "    num_passed = 0\n",
    "    for i in range(num_task_contexts):\n",
    "        model.layers[model.context_layers[0]].set_hot_context(i)\n",
    "        result = model(inputs)\n",
    "        predicted = np.round(result).astype(int).flatten()\n",
    "        try:\n",
    "            print(f\"Task {i}:\", end=' ')\n",
    "            assert (predicted == labels[i]).all(), \"Failed on task:\"\n",
    "            print(result, \"Passed\")\n",
    "            num_passed += 1\n",
    "        except AssertionError:\n",
    "            print(result, \"Failed\")\n",
    "    print(f\"{num_passed}/{num_task_contexts} ({100*num_passed//num_task_contexts}%) Learned successfully\")"
   ]
  },
  {
   "cell_type": "markdown",
   "metadata": {},
   "source": [
    "### Loss Function"
   ]
  },
  {
   "cell_type": "code",
   "execution_count": 504,
   "metadata": {},
   "outputs": [],
   "source": [
    "def loss_fn(labels, predictions):\n",
    "    return tf.keras.losses.binary_crossentropy(y_true=labels, y_pred=predictions)"
   ]
  },
  {
   "cell_type": "markdown",
   "metadata": {},
   "source": [
    "### Optimizer"
   ]
  },
  {
   "cell_type": "code",
   "execution_count": 505,
   "metadata": {},
   "outputs": [],
   "source": [
    "optimizer = tf.keras.optimizers.Adam(1e-4)"
   ]
  },
  {
   "cell_type": "markdown",
   "metadata": {},
   "source": [
    "### Dataset"
   ]
  },
  {
   "cell_type": "code",
   "execution_count": 506,
   "metadata": {},
   "outputs": [],
   "source": [
    "labels = np.array([\n",
    "    [0, 1, 1, 0], # XOR\n",
    "    [1, 0, 0, 1], # XNOR\n",
    "    [0, 0, 0, 1], # AND\n",
    "    [0, 1, 1, 1], # OR\n",
    "    [1, 0, 0, 0], # NOR\n",
    "    [1, 1, 1, 0], # NAND\n",
    "    [1, 0, 1, 0], # Custom 1\n",
    "    [0, 1, 0, 1]  # Custom 2\n",
    "])"
   ]
  },
  {
   "cell_type": "markdown",
   "metadata": {},
   "source": [
    "___"
   ]
  },
  {
   "cell_type": "markdown",
   "metadata": {},
   "source": [
    "## Static n-task - 2 Gates (XOR, XNOR) [PASSING]"
   ]
  },
  {
   "cell_type": "code",
   "execution_count": 507,
   "metadata": {},
   "outputs": [],
   "source": [
    "y_train = labels[:2]\n",
    "num_task_contexts = len(y_train)"
   ]
  },
  {
   "cell_type": "code",
   "execution_count": 298,
   "metadata": {},
   "outputs": [],
   "source": [
    "random.seed(5)\n",
    "tf.random.set_seed(5)"
   ]
  },
  {
   "cell_type": "markdown",
   "metadata": {},
   "source": [
    "### Model"
   ]
  },
  {
   "cell_type": "code",
   "execution_count": 508,
   "metadata": {},
   "outputs": [],
   "source": [
    "inp = Input((2,))\n",
    "x = Dense(40, activation=\"relu\")(inp)\n",
    "x = Context(AtrMovingAverage(num_task_contexts, task_switch_threshold=-0.02))(x)\n",
    "x = Dense(1, activation=\"sigmoid\")(x)"
   ]
  },
  {
   "cell_type": "code",
   "execution_count": 509,
   "metadata": {},
   "outputs": [],
   "source": [
    "model = NTaskModel(inputs=inp, outputs=x, loss_fn=loss_fn, optimizer=optimizer)"
   ]
  },
  {
   "cell_type": "markdown",
   "metadata": {},
   "source": [
    "### Training"
   ]
  },
  {
   "cell_type": "code",
   "execution_count": 510,
   "metadata": {},
   "outputs": [
    {
     "name": "stdout",
     "output_type": "stream",
     "text": [
      "0\n",
      "1\n",
      "Task switched to: 1\n",
      "1\n",
      "0\n",
      "Task switched to: 0\n",
      "1\n",
      "Task switched to: 1\n",
      "0\n",
      "Task switched to: 0\n"
     ]
    }
   ],
   "source": [
    "train(model, y_train, 3, 500)"
   ]
  },
  {
   "cell_type": "markdown",
   "metadata": {},
   "source": [
    "### Model Validation\n",
    "\n",
    "Assert that the model has learned all logic gates"
   ]
  },
  {
   "cell_type": "code",
   "execution_count": 522,
   "metadata": {},
   "outputs": [
    {
     "name": "stdout",
     "output_type": "stream",
     "text": [
      "Task 0: tf.Tensor(\n",
      "[[0.03604332]\n",
      " [0.97544587]\n",
      " [0.9687638 ]\n",
      " [0.03098768]], shape=(4, 1), dtype=float32) Passed\n",
      "Task 1: tf.Tensor(\n",
      "[[0.94550914]\n",
      " [0.01834747]\n",
      " [0.02451381]\n",
      " [0.9734268 ]], shape=(4, 1), dtype=float32) Passed\n",
      "2/2 (100%) Learned successfully\n"
     ]
    }
   ],
   "source": [
    "validate(model, y_train, num_task_contexts)"
   ]
  },
  {
   "cell_type": "code",
   "execution_count": 524,
   "metadata": {},
   "outputs": [
    {
     "data": {
      "image/png": "[encoded data removed]",
      "text/plain": [
       "<Figure size 432x288 with 1 Axes>"
      ]
     },
     "metadata": {
      "needs_background": "light"
     },
     "output_type": "display_data"
    }
   ],
   "source": [
    "model.plot_atr_values()"
   ]
  },
  {
   "cell_type": "markdown",
   "metadata": {},
   "source": [
    "___"
   ]
  },
  {
   "cell_type": "markdown",
   "metadata": {},
   "source": [
    "## Dynamic n-task - 2 Gates (XOR, XNOR) [PASSING]"
   ]
  },
  {
   "cell_type": "code",
   "execution_count": 613,
   "metadata": {},
   "outputs": [],
   "source": [
    "y_train = labels[:2]\n",
    "num_task_contexts = len(y_train)"
   ]
  },
  {
   "cell_type": "code",
   "execution_count": 614,
   "metadata": {},
   "outputs": [],
   "source": [
    "random.seed(5)\n",
    "tf.random.set_seed(5)"
   ]
  },
  {
   "cell_type": "markdown",
   "metadata": {},
   "source": [
    "### Model"
   ]
  },
  {
   "cell_type": "code",
   "execution_count": 615,
   "metadata": {},
   "outputs": [],
   "source": [
    "inp = Input((2,))\n",
    "x = Dense(40, activation=\"relu\")(inp)\n",
    "x = Context(AtrMovingAverage(task_switch_threshold=-0.02, is_dynamic=True, task_add_threshold=-0.1, max_num_tasks=num_task_contexts+1))(x)\n",
    "x = Dense(1, activation=\"sigmoid\")(x)"
   ]
  },
  {
   "cell_type": "code",
   "execution_count": 616,
   "metadata": {},
   "outputs": [],
   "source": [
    "model = NTaskModel(inputs=inp, outputs=x, loss_fn=loss_fn, optimizer=optimizer)"
   ]
  },
  {
   "cell_type": "markdown",
   "metadata": {},
   "source": [
    "### Training"
   ]
  },
  {
   "cell_type": "code",
   "execution_count": 617,
   "metadata": {},
   "outputs": [
    {
     "name": "stdout",
     "output_type": "stream",
     "text": [
      "0\n",
      "1\n",
      "Switching...\n",
      "Best context loss... tf.Tensor(0.2132396651242091, shape=(), dtype=float64)\n",
      "Task switched (added new task): 1\n",
      "0\n",
      "Switching...\n",
      "Task switched to: 0\n",
      "1\n",
      "Switching...\n",
      "Task switched to: 1\n",
      "0\n",
      "Switching...\n",
      "Task switched to: 0\n",
      "1\n",
      "Switching...\n",
      "Task switched to: 1\n"
     ]
    }
   ],
   "source": [
    "train(model, y_train, 3, 500)"
   ]
  },
  {
   "cell_type": "markdown",
   "metadata": {},
   "source": [
    "### Model Validation\n",
    "\n",
    "Assert that the model has learned all logic gates"
   ]
  },
  {
   "cell_type": "code",
   "execution_count": 618,
   "metadata": {},
   "outputs": [
    {
     "name": "stdout",
     "output_type": "stream",
     "text": [
      "Task 0: tf.Tensor(\n",
      "[[0.01736087]\n",
      " [0.97524476]\n",
      " [0.94952095]\n",
      " [0.04827854]], shape=(4, 1), dtype=float32) Passed\n",
      "Task 1: tf.Tensor(\n",
      "[[0.96972704]\n",
      " [0.02324629]\n",
      " [0.03952661]\n",
      " [0.96932435]], shape=(4, 1), dtype=float32) Passed\n",
      "2/2 (100%) Learned successfully\n"
     ]
    }
   ],
   "source": [
    "validate(model, y_train, 2)"
   ]
  },
  {
   "cell_type": "code",
   "execution_count": 619,
   "metadata": {},
   "outputs": [
    {
     "data": {
      "image/png": "[encoded data removed]",
      "text/plain": [
       "<Figure size 432x288 with 1 Axes>"
      ]
     },
     "metadata": {
      "needs_background": "light"
     },
     "output_type": "display_data"
    }
   ],
   "source": [
    "model.plot_atr_values()"
   ]
  },
  {
   "cell_type": "markdown",
   "metadata": {},
   "source": [
    "## Static n-task - 8 Gates (XOR, XNOR, AND, OR) [PASSING]"
   ]
  },
  {
   "cell_type": "code",
   "execution_count": 620,
   "metadata": {},
   "outputs": [],
   "source": [
    "y_train = labels\n",
    "num_task_contexts = len(y_train)"
   ]
  },
  {
   "cell_type": "code",
   "execution_count": 621,
   "metadata": {},
   "outputs": [],
   "source": [
    "random.seed(5)\n",
    "tf.random.set_seed(5)"
   ]
  },
  {
   "cell_type": "markdown",
   "metadata": {},
   "source": [
    "### Model"
   ]
  },
  {
   "cell_type": "code",
   "execution_count": 622,
   "metadata": {},
   "outputs": [],
   "source": [
    "inp = Input((2,))\n",
    "x = Dense(128, activation=\"relu\")(inp)\n",
    "x = Context(AtrMovingAverage(num_task_contexts, task_switch_threshold=-0.02))(x)\n",
    "x = Dense(1, activation=\"sigmoid\")(x)"
   ]
  },
  {
   "cell_type": "code",
   "execution_count": 623,
   "metadata": {},
   "outputs": [],
   "source": [
    "model = NTaskModel(inputs=inp, outputs=x, loss_fn=loss_fn, optimizer=optimizer)"
   ]
  },
  {
   "cell_type": "markdown",
   "metadata": {},
   "source": [
    "### Training"
   ]
  },
  {
   "cell_type": "code",
   "execution_count": 624,
   "metadata": {},
   "outputs": [
    {
     "name": "stdout",
     "output_type": "stream",
     "text": [
      "0\n",
      "1\n",
      "Switching...\n",
      "Task switched to: 1\n",
      "2\n",
      "Switching...\n",
      "Task switched to: 2\n",
      "3\n",
      "Switching...\n",
      "Task switched to: 3\n",
      "4\n",
      "Switching...\n",
      "Task switched to: 4\n",
      "5\n",
      "Switching...\n",
      "Task switched to: 5\n",
      "6\n",
      "Switching...\n",
      "Task switched to: 6\n",
      "7\n",
      "Switching...\n",
      "Task switched to: 7\n",
      "6\n",
      "Switching...\n",
      "Task switched to: 0\n",
      "Switching...\n",
      "Task switched to: 1\n",
      "Switching...\n",
      "Task switched to: 2\n",
      "Switching...\n",
      "Task switched to: 3\n",
      "Switching...\n",
      "Task switched to: 4\n",
      "Switching...\n",
      "Task switched to: 5\n",
      "Switching...\n",
      "Task switched to: 6\n",
      "3\n",
      "Switching...\n",
      "Task switched to: 7\n",
      "Switching...\n",
      "Task switched to: 0\n",
      "Switching...\n",
      "Task switched to: 1\n",
      "Switching...\n",
      "Task switched to: 2\n",
      "Switching...\n",
      "Task switched to: 3\n",
      "1\n",
      "Switching...\n",
      "Task switched to: 4\n",
      "Switching...\n",
      "Task switched to: 5\n",
      "Switching...\n",
      "Task switched to: 6\n",
      "Switching...\n",
      "Task switched to: 7\n",
      "Switching...\n",
      "Task switched to: 0\n",
      "Switching...\n",
      "Task switched to: 1\n",
      "Switching...\n",
      "Task switched to: 2\n",
      "Switching...\n",
      "Task switched (found best): 1\n",
      "0\n",
      "Switching...\n",
      "Task switched to: 2\n",
      "Switching...\n",
      "Task switched to: 3\n",
      "Switching...\n",
      "Task switched to: 4\n",
      "Switching...\n",
      "Task switched to: 5\n",
      "Switching...\n",
      "Task switched to: 6\n",
      "Switching...\n",
      "Task switched to: 7\n",
      "Switching...\n",
      "Task switched to: 0\n",
      "Switching...\n",
      "Task switched (found best): 0\n",
      "7\n",
      "Switching...\n",
      "Task switched to: 1\n",
      "Switching...\n",
      "Task switched to: 2\n",
      "Switching...\n",
      "Task switched to: 3\n",
      "Switching...\n",
      "Task switched to: 4\n",
      "Switching...\n",
      "Task switched to: 5\n",
      "Switching...\n",
      "Task switched to: 6\n",
      "Switching...\n",
      "Task switched to: 7\n",
      "2\n",
      "Switching...\n",
      "Task switched to: 0\n",
      "Switching...\n",
      "Task switched to: 1\n",
      "Switching...\n",
      "Task switched to: 2\n",
      "5\n",
      "Switching...\n",
      "Task switched to: 3\n",
      "Switching...\n",
      "Task switched to: 4\n",
      "Switching...\n",
      "Task switched to: 5\n",
      "4\n",
      "Switching...\n",
      "Task switched to: 6\n",
      "Switching...\n",
      "Task switched to: 7\n",
      "Switching...\n",
      "Task switched to: 0\n",
      "Switching...\n",
      "Task switched to: 1\n",
      "Switching...\n",
      "Task switched to: 2\n",
      "Switching...\n",
      "Task switched to: 3\n",
      "Switching...\n",
      "Task switched to: 4\n",
      "7\n",
      "Switching...\n",
      "Task switched to: 5\n",
      "Switching...\n",
      "Task switched to: 6\n",
      "Switching...\n",
      "Task switched to: 7\n",
      "5\n",
      "Switching...\n",
      "Task switched to: 0\n",
      "Switching...\n",
      "Task switched to: 1\n",
      "Switching...\n",
      "Task switched to: 2\n",
      "Switching...\n",
      "Task switched to: 3\n",
      "Switching...\n",
      "Task switched to: 4\n",
      "Switching...\n",
      "Task switched to: 5\n",
      "2\n",
      "Switching...\n",
      "Task switched to: 6\n",
      "Switching...\n",
      "Task switched to: 7\n",
      "Switching...\n",
      "Task switched to: 0\n",
      "Switching...\n",
      "Task switched to: 1\n",
      "Switching...\n",
      "Task switched to: 2\n",
      "0\n",
      "Switching...\n",
      "Task switched to: 3\n",
      "Switching...\n",
      "Task switched to: 4\n",
      "Switching...\n",
      "Task switched to: 5\n",
      "Switching...\n",
      "Task switched to: 6\n",
      "Switching...\n",
      "Task switched to: 7\n",
      "Switching...\n",
      "Task switched to: 0\n",
      "1\n",
      "Switching...\n",
      "Task switched to: 1\n",
      "4\n",
      "Switching...\n",
      "Task switched to: 2\n",
      "Switching...\n",
      "Task switched to: 3\n",
      "Switching...\n",
      "Task switched to: 4\n",
      "3\n",
      "Switching...\n",
      "Task switched to: 5\n",
      "Switching...\n",
      "Task switched to: 6\n",
      "Switching...\n",
      "Task switched to: 7\n",
      "Switching...\n",
      "Task switched to: 0\n",
      "Switching...\n",
      "Task switched to: 1\n",
      "Switching...\n",
      "Task switched to: 2\n",
      "Switching...\n",
      "Task switched to: 3\n",
      "6\n",
      "Switching...\n",
      "Task switched to: 4\n",
      "Switching...\n",
      "Task switched to: 5\n",
      "Switching...\n",
      "Task switched to: 6\n"
     ]
    }
   ],
   "source": [
    "train(model, y_train, 3, 500, shuffle=True, show_progress=False)"
   ]
  },
  {
   "cell_type": "markdown",
   "metadata": {},
   "source": [
    "### Model Validation\n",
    "\n",
    "Assert that the model has learned all logic gates"
   ]
  },
  {
   "cell_type": "code",
   "execution_count": 626,
   "metadata": {},
   "outputs": [
    {
     "name": "stdout",
     "output_type": "stream",
     "text": [
      "Task 0: tf.Tensor(\n",
      "[[2.7260184e-04]\n",
      " [9.9824667e-01]\n",
      " [9.9760437e-01]\n",
      " [1.6367435e-04]], shape=(4, 1), dtype=float32) Passed\n",
      "Task 1: tf.Tensor(\n",
      "[[9.9807364e-01]\n",
      " [3.1682849e-04]\n",
      " [5.2276254e-04]\n",
      " [9.9946058e-01]], shape=(4, 1), dtype=float32) Passed\n",
      "Task 2: tf.Tensor(\n",
      "[[2.8340597e-05]\n",
      " [2.2805518e-05]\n",
      " [1.8531120e-05]\n",
      " [9.9992794e-01]], shape=(4, 1), dtype=float32) Passed\n",
      "Task 3: tf.Tensor(\n",
      "[[3.7786220e-05]\n",
      " [9.9999088e-01]\n",
      " [9.9987835e-01]\n",
      " [9.9999952e-01]], shape=(4, 1), dtype=float32) Passed\n",
      "Task 4: tf.Tensor(\n",
      "[[9.9988872e-01]\n",
      " [5.6573375e-05]\n",
      " [6.1916791e-05]\n",
      " [1.0072923e-06]], shape=(4, 1), dtype=float32) Passed\n",
      "Task 5: tf.Tensor(\n",
      "[[9.9995041e-01]\n",
      " [9.9997747e-01]\n",
      " [9.9995255e-01]\n",
      " [8.4227750e-06]], shape=(4, 1), dtype=float32) Passed\n",
      "Task 6: tf.Tensor(\n",
      "[[9.99941528e-01]\n",
      " [5.92353754e-05]\n",
      " [9.99978244e-01]\n",
      " [1.13057606e-04]], shape=(4, 1), dtype=float32) Passed\n",
      "Task 7: tf.Tensor(\n",
      "[[4.1033731e-05]\n",
      " [9.9984926e-01]\n",
      " [4.8479982e-05]\n",
      " [9.9989510e-01]], shape=(4, 1), dtype=float32) Passed\n",
      "8/8 (100%) Learned successfully\n"
     ]
    }
   ],
   "source": [
    "validate(model, y_train, num_task_contexts)"
   ]
  },
  {
   "cell_type": "code",
   "execution_count": 627,
   "metadata": {},
   "outputs": [
    {
     "data": {
      "image/png": "[encoded data removed]",
      "text/plain": [
       "<Figure size 432x288 with 1 Axes>"
      ]
     },
     "metadata": {
      "needs_background": "light"
     },
     "output_type": "display_data"
    }
   ],
   "source": [
    "model.plot_atr_values()"
   ]
  },
  {
   "cell_type": "markdown",
   "metadata": {},
   "source": [
    "## Dynamic n-task - 8 Gates"
   ]
  },
  {
   "cell_type": "code",
   "execution_count": 643,
   "metadata": {},
   "outputs": [],
   "source": [
    "y_train = labels\n",
    "num_task_contexts = len(y_train)"
   ]
  },
  {
   "cell_type": "code",
   "execution_count": 644,
   "metadata": {},
   "outputs": [],
   "source": [
    "random.seed(5)\n",
    "tf.random.set_seed(5)"
   ]
  },
  {
   "cell_type": "markdown",
   "metadata": {},
   "source": [
    "### Model"
   ]
  },
  {
   "cell_type": "code",
   "execution_count": 645,
   "metadata": {},
   "outputs": [],
   "source": [
    "inp = Input((2,))\n",
    "x = Dense(256, activation=\"relu\")(inp)\n",
    "x = Context(AtrMovingAverage(is_dynamic=True, task_switch_threshold=-0.02, task_add_threshold=-0.04, max_num_tasks=num_task_contexts+1))(x)\n",
    "x = Dense(1, activation=\"sigmoid\")(x)"
   ]
  },
  {
   "cell_type": "code",
   "execution_count": 646,
   "metadata": {},
   "outputs": [],
   "source": [
    "model = NTaskModel(inputs=inp, outputs=x, loss_fn=loss_fn, optimizer=optimizer)"
   ]
  },
  {
   "cell_type": "markdown",
   "metadata": {},
   "source": [
    "### Training"
   ]
  },
  {
   "cell_type": "code",
   "execution_count": 647,
   "metadata": {},
   "outputs": [
    {
     "name": "stdout",
     "output_type": "stream",
     "text": [
      "0\n",
      "1\n",
      "Switching...\n",
      "Best context loss... tf.Tensor(0.12803729399554487, shape=(), dtype=float64)\n",
      "Task switched (added new task): 1\n",
      "2\n",
      "Switching...\n",
      "Task switched to: 0\n",
      "Switching...\n",
      "Best context loss... tf.Tensor(0.0470387192921962, shape=(), dtype=float64)\n",
      "Task switched (added new task): 2\n",
      "3\n",
      "Switching...\n",
      "Task switched to: 0\n",
      "Switching...\n",
      "Task switched to: 1\n",
      "Switching...\n",
      "Best context loss... tf.Tensor(0.06021763706426566, shape=(), dtype=float64)\n",
      "Task switched (added new task): 3\n",
      "4\n",
      "Switching...\n",
      "Task switched to: 0\n",
      "Switching...\n",
      "Task switched to: 1\n",
      "Switching...\n",
      "Task switched to: 2\n",
      "Switching...\n",
      "Best context loss... tf.Tensor(0.0604687629443699, shape=(), dtype=float64)\n",
      "Task switched (added new task): 4\n",
      "5\n",
      "Switching...\n",
      "Task switched to: 0\n",
      "Switching...\n",
      "Task switched to: 1\n",
      "Switching...\n",
      "Task switched to: 2\n",
      "Switching...\n",
      "Task switched to: 3\n",
      "Switching...\n",
      "Best context loss... tf.Tensor(0.07835344032640634, shape=(), dtype=float64)\n",
      "Task switched (added new task): 5\n",
      "6\n",
      "Switching...\n",
      "Task switched to: 0\n",
      "Switching...\n",
      "Task switched to: 1\n",
      "Switching...\n",
      "Task switched to: 2\n",
      "Switching...\n",
      "Task switched to: 3\n",
      "Switching...\n",
      "Task switched to: 4\n",
      "Switching...\n",
      "Best context loss... tf.Tensor(0.07790895255064455, shape=(), dtype=float64)\n",
      "Task switched (added new task): 6\n",
      "7\n",
      "Switching...\n",
      "Task switched to: 0\n",
      "Switching...\n",
      "Task switched to: 1\n",
      "Switching...\n",
      "Task switched to: 2\n",
      "Switching...\n",
      "Task switched to: 3\n",
      "Switching...\n",
      "Task switched to: 4\n",
      "Switching...\n",
      "Task switched to: 5\n",
      "Switching...\n",
      "Best context loss... tf.Tensor(0.08965852068930798, shape=(), dtype=float64)\n",
      "Task switched (added new task): 7\n",
      "6\n",
      "Switching...\n",
      "Task switched to: 0\n",
      "Switching...\n",
      "Task switched to: 1\n",
      "Switching...\n",
      "Task switched to: 2\n",
      "Switching...\n",
      "Task switched to: 3\n",
      "Switching...\n",
      "Task switched to: 4\n",
      "Switching...\n",
      "Task switched to: 5\n",
      "Switching...\n",
      "Task switched to: 6\n",
      "3\n",
      "Switching...\n",
      "Task switched to: 7\n",
      "Switching...\n",
      "Task switched to: 0\n",
      "Switching...\n",
      "Task switched to: 1\n",
      "Switching...\n",
      "Task switched to: 2\n",
      "Switching...\n",
      "Task switched to: 3\n",
      "1\n",
      "Switching...\n",
      "Task switched to: 4\n",
      "Switching...\n",
      "Task switched to: 5\n",
      "Switching...\n",
      "Task switched to: 6\n",
      "Switching...\n",
      "Task switched to: 7\n",
      "Switching...\n",
      "Task switched to: 0\n",
      "Switching...\n",
      "Task switched to: 1\n",
      "0\n",
      "Switching...\n",
      "Task switched to: 2\n",
      "Switching...\n",
      "Task switched to: 3\n",
      "Switching...\n",
      "Task switched to: 4\n",
      "Switching...\n",
      "Task switched to: 5\n",
      "Switching...\n",
      "Task switched to: 6\n",
      "Switching...\n",
      "Task switched to: 7\n",
      "Switching...\n",
      "Task switched to: 0\n",
      "7\n",
      "Switching...\n",
      "Task switched to: 1\n",
      "Switching...\n",
      "Task switched to: 2\n",
      "Switching...\n",
      "Task switched to: 3\n",
      "Switching...\n",
      "Task switched to: 4\n",
      "Switching...\n",
      "Task switched to: 5\n",
      "Switching...\n",
      "Task switched to: 6\n",
      "Switching...\n",
      "Task switched to: 7\n",
      "2\n",
      "Switching...\n",
      "Task switched to: 0\n",
      "Switching...\n",
      "Task switched to: 1\n",
      "Switching...\n",
      "Task switched to: 2\n",
      "5\n",
      "Switching...\n",
      "Task switched to: 3\n",
      "Switching...\n",
      "Task switched to: 4\n",
      "Switching...\n",
      "Task switched to: 5\n",
      "4\n",
      "Switching...\n",
      "Task switched to: 6\n",
      "Switching...\n",
      "Task switched to: 7\n",
      "Switching...\n",
      "Task switched to: 0\n",
      "Switching...\n",
      "Task switched to: 1\n",
      "Switching...\n",
      "Task switched to: 2\n",
      "Switching...\n",
      "Task switched to: 3\n",
      "Switching...\n",
      "Task switched to: 4\n",
      "7\n",
      "Switching...\n",
      "Task switched to: 5\n",
      "Switching...\n",
      "Task switched to: 6\n",
      "Switching...\n",
      "Task switched to: 7\n",
      "5\n",
      "Switching...\n",
      "Task switched to: 0\n",
      "Switching...\n",
      "Task switched to: 1\n",
      "Switching...\n",
      "Task switched to: 2\n",
      "Switching...\n",
      "Task switched to: 3\n",
      "Switching...\n",
      "Task switched to: 4\n",
      "Switching...\n",
      "Task switched to: 5\n",
      "2\n",
      "Switching...\n",
      "Task switched to: 6\n",
      "Switching...\n",
      "Task switched to: 7\n",
      "Switching...\n",
      "Task switched to: 0\n",
      "Switching...\n",
      "Task switched to: 1\n",
      "Switching...\n",
      "Task switched to: 2\n",
      "0\n",
      "Switching...\n",
      "Task switched to: 3\n",
      "Switching...\n",
      "Task switched to: 4\n",
      "Switching...\n",
      "Task switched to: 5\n",
      "Switching...\n",
      "Task switched to: 6\n",
      "Switching...\n",
      "Task switched to: 7\n",
      "Switching...\n",
      "Task switched to: 0\n",
      "1\n",
      "Switching...\n",
      "Task switched to: 1\n",
      "4\n",
      "Switching...\n",
      "Task switched to: 2\n",
      "Switching...\n",
      "Task switched to: 3\n",
      "Switching...\n",
      "Task switched to: 4\n",
      "3\n",
      "Switching...\n",
      "Task switched to: 5\n",
      "Switching...\n",
      "Task switched to: 6\n",
      "Switching...\n",
      "Task switched to: 7\n",
      "Switching...\n",
      "Task switched to: 0\n",
      "Switching...\n",
      "Task switched to: 1\n",
      "Switching...\n",
      "Task switched to: 2\n",
      "Switching...\n",
      "Task switched to: 3\n",
      "6\n",
      "Switching...\n",
      "Task switched to: 4\n",
      "Switching...\n",
      "Task switched to: 5\n",
      "Switching...\n",
      "Task switched to: 6\n"
     ]
    }
   ],
   "source": [
    "train(model, y_train, 3, 750)"
   ]
  },
  {
   "cell_type": "markdown",
   "metadata": {},
   "source": [
    "### Model Validation\n",
    "\n",
    "Assert that the model has learned all logic gates"
   ]
  },
  {
   "cell_type": "code",
   "execution_count": 649,
   "metadata": {},
   "outputs": [
    {
     "name": "stdout",
     "output_type": "stream",
     "text": [
      "Task 0: tf.Tensor(\n",
      "[[2.3417779e-07]\n",
      " [9.9999881e-01]\n",
      " [9.9999952e-01]\n",
      " [3.8337971e-06]], shape=(4, 1), dtype=float32) Passed\n",
      "Task 1: tf.Tensor(\n",
      "[[9.9999416e-01]\n",
      " [1.1434338e-06]\n",
      " [1.1220191e-05]\n",
      " [9.9998474e-01]], shape=(4, 1), dtype=float32) Passed\n",
      "Task 2: tf.Tensor(\n",
      "[[1.4903513e-07]\n",
      " [6.1551469e-07]\n",
      " [5.1954984e-08]\n",
      " [9.9999988e-01]], shape=(4, 1), dtype=float32) Passed\n",
      "Task 3: tf.Tensor(\n",
      "[[7.204879e-07]\n",
      " [9.999927e-01]\n",
      " [9.999942e-01]\n",
      " [1.000000e+00]], shape=(4, 1), dtype=float32) Passed\n",
      "Task 4: tf.Tensor(\n",
      "[[9.9999958e-01]\n",
      " [4.3514154e-07]\n",
      " [1.6052305e-06]\n",
      " [1.5638378e-07]], shape=(4, 1), dtype=float32) Passed\n",
      "Task 5: tf.Tensor(\n",
      "[[1.0000000e+00]\n",
      " [9.9999940e-01]\n",
      " [9.9999881e-01]\n",
      " [3.9146457e-08]], shape=(4, 1), dtype=float32) Passed\n",
      "Task 6: tf.Tensor(\n",
      "[[9.9999988e-01]\n",
      " [3.1798587e-07]\n",
      " [9.9999952e-01]\n",
      " [2.5493891e-06]], shape=(4, 1), dtype=float32) Passed\n",
      "Task 7: tf.Tensor(\n",
      "[[4.4993494e-06]\n",
      " [9.9999940e-01]\n",
      " [5.3090548e-07]\n",
      " [9.9999642e-01]], shape=(4, 1), dtype=float32) Passed\n",
      "8/8 (100%) Learned successfully\n"
     ]
    }
   ],
   "source": [
    "validate(model, y_train, num_task_contexts)"
   ]
  },
  {
   "cell_type": "code",
   "execution_count": 650,
   "metadata": {},
   "outputs": [
    {
     "data": {
      "image/png": "[encoded data removed]",
      "text/plain": [
       "<Figure size 432x288 with 1 Axes>"
      ]
     },
     "metadata": {
      "needs_background": "light"
     },
     "output_type": "display_data"
    }
   ],
   "source": [
    "model.plot_atr_values()"
   ]
  },
  {
   "cell_type": "code",
   "execution_count": null,
   "metadata": {},
   "outputs": [],
   "source": []
  }
 ],
 "metadata": {
  "kernelspec": {
   "display_name": "Python 3",
   "language": "python",
   "name": "python3"
  },
  "language_info": {
   "codemirror_mode": {
    "name": "ipython",
    "version": 3
   },
   "file_extension": ".py",
   "mimetype": "text/x-python",
   "name": "python",
   "nbconvert_exporter": "python",
   "pygments_lexer": "ipython3",
   "version": "3.7.6"
  }
 },
 "nbformat": 4,
 "nbformat_minor": 4
}
