{
 "cells": [
  {
   "cell_type": "markdown",
   "metadata": {},
   "source": [
    "# N-Task\n",
    "\n",
    "This notebook contains the complete N-Task library used for development and basic experimentation"
   ]
  },
  {
   "cell_type": "code",
   "execution_count": 2,
   "metadata": {},
   "outputs": [],
   "source": [
    "from collections import defaultdict\n",
    "import tensorflow as tf\n",
    "from tensorflow.keras.layers import Layer, Input, Dense\n",
    "from tensorflow.keras.models import Model\n",
    "from math import pi\n",
    "\n",
    "import matplotlib\n",
    "import matplotlib.pyplot as plt\n",
    "\n",
    "import numpy as np\n",
    "import random\n",
    "from random import randrange\n",
    "import sklearn\n",
    "\n",
    "import copy\n",
    "\n",
    "from utils import display_progress\n",
    "import time"
   ]
  },
  {
   "cell_type": "code",
   "execution_count": 3,
   "metadata": {},
   "outputs": [],
   "source": [
    "def set_seed(seed=0):\n",
    "    random.seed(seed)\n",
    "    np.random.seed(seed)\n",
    "    tf.random.set_seed(seed)"
   ]
  },
  {
   "cell_type": "markdown",
   "metadata": {},
   "source": [
    "## Utility Functions"
   ]
  },
  {
   "cell_type": "code",
   "execution_count": 4,
   "metadata": {},
   "outputs": [],
   "source": [
    "def copy_metric(metric):\n",
    "    \"\"\"Copy a new metric instance from an existing instance\"\"\"\n",
    "    return tf.keras.metrics.deserialize(tf.keras.metrics.serialize(metric))\n",
    "\n",
    "\n",
    "def hrr(length, normalized=True):\n",
    "    \"\"\"Create a new HRR vector using Tensorflow tensors\"\"\"\n",
    "    length = int(length)      \n",
    "    shp = int((length-1)/2)\n",
    "    if normalized:    \n",
    "        x = tf.random.uniform( shape = (shp,), minval = -pi, maxval = pi, dtype = tf.dtypes.float32, seed = 100, name = None )\n",
    "        x = tf.cast(x, tf.complex64)\n",
    "        if length % 2:\n",
    "            x = tf.math.real( tf.signal.ifft( tf.concat([tf.ones(1, dtype=\"complex64\"), tf.exp(1j*x), tf.exp(-1j*x[::-1])], axis=0)))\n",
    "\n",
    "        else:  \n",
    "            x = tf.math.real(tf.signal.ifft(tf.concat([tf.ones(1, dtype=\"complex64\"),tf.exp(1j*x),tf.ones(1, dtype=\"complex64\"),tf.exp(-1j*x[::-1])],axis=0)))\n",
    "    else:        \n",
    "        x = tf.random.normal( shape = (length,), mean=0.0, stddev=1.0/tf.sqrt(float(length)),dtype=tf.dtypes.float32,seed=100,name=None)\n",
    "    return x\n",
    "\n",
    "\n",
    "def hrrs(length, n=1, normalized=True):\n",
    "    \"\"\"Create n new HRR vectors using Tensorflow tensors\"\"\"\n",
    "    return tf.stack([hrr(length, normalized) for x in range(n)], axis=0)\n",
    "\n",
    "\n",
    "def circ_conv(x, y):\n",
    "    \"\"\"Calculate the circular convolution between two HRR vectors\"\"\"\n",
    "    x = tf.cast(x, tf.complex64)\n",
    "    y = tf.cast(y, tf.complex64)\n",
    "    return tf.math.real(tf.signal.ifft(tf.signal.fft(x)*tf.signal.fft(y)))\n",
    "\n",
    "\n",
    "def logmod(x):\n",
    "    return np.sign(x)*np.log(abs(x) + 1)\n",
    "    \n",
    "    \n",
    "def plot(title, labels, *frameGroups):\n",
    "    fig, ax = plt.subplots()\n",
    "    plotFrames(ax, title, labels, *frameGroups, xlabel=\"Epoch\", ylabel=\"Value\")\n",
    "    ax.grid()\n",
    "    plt.legend()\n",
    "    \n",
    "    \n",
    "def plotFrames(ax, title, labels, *frameGroups, xlabel=None, ylabel=None):\n",
    "    for i, frames in enumerate(frameGroups):\n",
    "        keys = tuple(frames.keys() if type(frames) == dict else range(len(frames)))\n",
    "        t = np.arange(keys[0], keys[-1] + 1, 1)\n",
    "        ax.plot(t, list(frames.values()), label=(labels[i] if labels else None))\n",
    "    ax.set(xlabel=xlabel, ylabel=ylabel, title=title)"
   ]
  },
  {
   "cell_type": "markdown",
   "metadata": {},
   "source": [
    "## Abstract Task Representation (ATR) Models\n",
    "\n",
    "Different types of tasks could require different models for handling ATRs. These models greatly increase the power and control over the context layers"
   ]
  },
  {
   "cell_type": "code",
   "execution_count": 5,
   "metadata": {},
   "outputs": [],
   "source": [
    "class AtrModel:\n",
    "    def __init__(self, num_tasks=1, task_switch_threshold=0.0, is_dynamic=False, task_add_threshold=0.0, max_num_tasks=1):\n",
    "        # Parameters\n",
    "        self.num_tasks = num_tasks\n",
    "        self.switch_threshold = task_switch_threshold\n",
    "        self.num_tasks = num_tasks\n",
    "        self.is_dynamic = is_dynamic\n",
    "        self.add_threshold = task_add_threshold\n",
    "        self.max_num_tasks = max_num_tasks\n",
    "        \n",
    "        # ATR model information\n",
    "        self.atr_values = []\n",
    "        self.context_losses = [0.0 for i in range(num_tasks)]\n",
    "        self.num_seq_switches = 0\n",
    "        \n",
    "        # The defualt hot context\n",
    "        self.hot_context_idx = 0\n",
    "        \n",
    "        # Initialize the ATR values\n",
    "        self.initialize_atr_values(self.num_tasks)\n",
    "        \n",
    "        \n",
    "    def add_context(self):\n",
    "        # Increase the number of ATRs\n",
    "        self.num_tasks += 1\n",
    "        \n",
    "        # Add the new ATR value\n",
    "        self.atr_values.append(self.initial_atr_value())\n",
    "        self.context_losses.append(0.0)\n",
    "    \n",
    "    \n",
    "    def switch_contexts(self, context_loss, verbose=1):\n",
    "        \"\"\"\n",
    "        Switch to a new task\n",
    "        \"\"\"\n",
    "        if verbose:\n",
    "            print(\"Switching... context loss:\", context_loss)\n",
    "            \n",
    "        # If we have exhausted the context list, pick the one with the lowest loss\n",
    "        if self.num_seq_switches >= self.num_tasks:\n",
    "            # Find the context with the lowest loss\n",
    "            best_fit_idx = self.find_best_fit_context()\n",
    "            \n",
    "            if verbose:\n",
    "                print(\"Best context loss...\", self.context_losses[best_fit_idx])\n",
    "            \n",
    "            # Check if a new context should be added\n",
    "            if self.is_dynamic and self.num_tasks < self.max_num_tasks and self.should_add_context(context_loss, best_fit_idx):\n",
    "                # Add the new context\n",
    "                self.add_context()\n",
    "                \n",
    "                # Switch to the new context\n",
    "                self.hot_context_idx = self.num_tasks - 1\n",
    "                if verbose:\n",
    "                    print(f\"Task switched (added new task): {self.hot_context_idx}\")\n",
    "                \n",
    "            else:\n",
    "                # Change to the new context\n",
    "                self.hot_context_idx = best_fit_idx\n",
    "                if verbose:\n",
    "                    print(f\"Task switched (found best): {self.hot_context_idx}\")\n",
    "\n",
    "                # Update the ATR value\n",
    "                self.update_atr_value(self.context_losses[self.hot_context_idx], switched=True)\n",
    "\n",
    "        else:\n",
    "            self.next_context()\n",
    "            if verbose:\n",
    "                print(f\"Task switched to: {self.hot_context_idx}\")\n",
    "    \n",
    "    \n",
    "    def update_and_switch(self, context_loss, dynamic_switch=True, verbose=1):\n",
    "        \"\"\"Perform an update on the ATR model\"\"\"\n",
    "        \n",
    "        # Do we need to switch contexts?\n",
    "        if dynamic_switch and self.should_switch(context_loss):\n",
    "            \n",
    "            # Update the tracked context loss\n",
    "            self.context_losses[self.hot_context_idx] = context_loss\n",
    "            \n",
    "            # Count the sequential sequence switches\n",
    "            self.num_seq_switches += 1\n",
    "            \n",
    "            # Switch to the new context\n",
    "            self.switch_contexts(context_loss, verbose)\n",
    "            \n",
    "            # A switch occurred, no ATR updates happened\n",
    "            return False\n",
    "        \n",
    "        # Update the ATR values\n",
    "        self.update_atr_value(context_loss, switched=False)\n",
    "        \n",
    "        # Reset the sequential switch counter\n",
    "        self.num_seq_switches = 0\n",
    "        \n",
    "        # No switch occurred, ATR was updated\n",
    "        return True\n",
    "\n",
    "\n",
    "    def get_hot_context():\n",
    "        \"\"\"Get the active context index\"\"\"\n",
    "        return self.hot_context_idx\n",
    "    \n",
    "    \n",
    "    def set_hot_context(self, hot_context_idx):\n",
    "        \"\"\"Set the active context index\"\"\"\n",
    "        if hot_context_idx not in range(self.num_tasks):\n",
    "            raise IndexError(\"The given hot context index does not exist\")\n",
    "        self.hot_context_idx = hot_context_idx\n",
    "        \n",
    "    \n",
    "    def next_context(self):\n",
    "        \"\"\"Switch to the next sequential context\"\"\"\n",
    "        self.set_hot_context((self.hot_context_idx + 1) % self.num_tasks)\n",
    "        return self.hot_context_idx\n",
    "    \n",
    "    # Overridable ---------------------------------------------------------------------------------\n",
    "    \n",
    "    def context_loss_fn(self, context_delta):\n",
    "        # Calculate Context Error\n",
    "        # Keras MSE must have both args be arrs of floats, if one or both are arrs of ints, the output will be rounded to an int\n",
    "        # This is how responsible the context layer was for the loss\n",
    "        return tf.keras.losses.mean_squared_error(np.zeros(len(context_delta)), context_delta)\n",
    "    \n",
    "    def initial_atr_value(self):\n",
    "        \"\"\"Determine the initial value for an ATR\"\"\"\n",
    "        return None\n",
    "    \n",
    "    def initialize_atr_values(self, num_tasks):\n",
    "        \"\"\"Initialize the `atr_values` parameter\"\"\"\n",
    "        self.atr_values = [self.initial_atr_value() for i in range(num_tasks)]\n",
    "        \n",
    "    def update_atr_value(self, context_loss, switched):\n",
    "        \"\"\"Update the ATR value\"\"\"\n",
    "        self.atr_values[self.hot_context_idx] = context_loss\n",
    "    \n",
    "    def find_best_fit_context(self):\n",
    "        \"\"\"Locate the context index with the best fit\"\"\"\n",
    "        return np.argmax(np.subtract(self.atr_values, self.context_losses))\n",
    "         \n",
    "    def should_switch(self, context_loss):\n",
    "        \"\"\"Determine if the context should switch\"\"\"\n",
    "        # If this context has not been trained on yet, it's OK\n",
    "        if self.atr_values[self.hot_context_idx] is None:\n",
    "            return False\n",
    "        \n",
    "        # If the context loss exceeds the threshold\n",
    "        delta = self.atr_values[self.hot_context_idx] - context_loss\n",
    "        return delta < self.switch_threshold\n",
    "    \n",
    "    def should_add_context(self, context_loss, best_fit_context_idx):\n",
    "        \"\"\"\n",
    "        Determine if a new context should be added\n",
    "        Note: This is only checked after a switch has been determined\n",
    "        \"\"\"\n",
    "        return self.atr_values[self.hot_context_idx] - self.context_losses[best_fit_context_idx] < self.add_threshold"
   ]
  },
  {
   "cell_type": "code",
   "execution_count": 6,
   "metadata": {},
   "outputs": [],
   "source": [
    "class AtrMovingAverage(AtrModel):\n",
    "    def update_atr_value(self, context_loss, switched):\n",
    "        if switched or self.atr_values[self.hot_context_idx] is None:\n",
    "            self.atr_values[self.hot_context_idx] = context_loss\n",
    "        else:\n",
    "            self.atr_values[self.hot_context_idx] = (self.atr_values[self.hot_context_idx] + context_loss) / 2.0"
   ]
  },
  {
   "cell_type": "markdown",
   "metadata": {},
   "source": [
    "## The Context Layer\n",
    "\n",
    "The context layer works as an intermediate layer between two other layers. It takes the output tensor from the previous layer and convolves it with an HRR representing the current active context. The resulting tensor from this convolution is fed to the next layer.\n",
    "\n",
    "Some things to note:\n",
    "- The kernel is a list of HRRs, one for each task\n",
    "- The size of the HRR vectors is equal to the number of nodes in the previous layer\n",
    "- All weights in this layer are constant and never updated"
   ]
  },
  {
   "cell_type": "code",
   "execution_count": 7,
   "metadata": {},
   "outputs": [],
   "source": [
    "class Context(Layer):\n",
    "    \n",
    "    RESULT_UPDATED  = 0 # The ATR model was updated successfully\n",
    "    RESULT_SWITCHED = 1 # A task switch was triggered in the ATR\n",
    "    RESULT_ADDED    = 2 # A new task was added to the ATR model\n",
    "    \n",
    "    def __init__(self, atr_model):\n",
    "        super(Context, self).__init__()\n",
    "        \n",
    "        self.kernel = None\n",
    "        self.atr_model = atr_model\n",
    "        \n",
    "        # Information Tracking\n",
    "        self.num_tasks = 0\n",
    "        self.context_loss = 0.0\n",
    "        \n",
    "        \n",
    "    def _setup_hrr_weights(self):\n",
    "        # Fetch and store the number of tasks. Used to check for dynamically added tasks\n",
    "        self.num_tasks = self.atr_model.num_tasks\n",
    "\n",
    "        # Create the HRR initializer. This will create the list of HRR vectors\n",
    "        if self.kernel is None:\n",
    "            initializer = lambda shape, dtype=None: hrrs(self._input_shape, n=self.num_tasks)\n",
    "        else:\n",
    "            # If there are previously generated HRRs, they should be retained\n",
    "            kernel_arr = self.kernel.numpy()\n",
    "            num_hrrs = max(0, self.num_tasks - len(kernel_arr))\n",
    "            initializer = lambda shape, dtype=None: np.append(kernel_arr[:self.num_tasks], hrrs(self._input_shape, n=num_hrrs), axis=0)\n",
    "        \n",
    "        # Create the weights for the layer.\n",
    "        # The weights in this layer are generated HRR vectors, and are never updated.\n",
    "        self.kernel = self.add_weight(name=\"context\", shape=[self.num_tasks, self._input_shape], initializer=initializer, trainable=False)\n",
    "        \n",
    "    \n",
    "    def build(self, input_shape):\n",
    "        \n",
    "        # Store the input shape since weights can be rebuilt later\n",
    "        self._input_shape = int(input_shape[-1])\n",
    "        \n",
    "        # Build the n-task information\n",
    "        self._setup_hrr_weights()\n",
    "        \n",
    "        \n",
    "    def call(self, inputs):\n",
    "        \"\"\"\n",
    "        Calculate the output for this layer.\n",
    "        \n",
    "        This layer convolves the input values with the context HRR vector\n",
    "        to produce the output tensor.\n",
    "        \"\"\"\n",
    "        \n",
    "        # Fetch the hot context's HRR vector\n",
    "        context_hrr = self.kernel[self.get_hot_context()]\n",
    "        \n",
    "        # Return the resulting convolution between the inputs and the context HRR\n",
    "        return circ_conv(inputs, context_hrr)\n",
    "        \n",
    "    \n",
    "    def get_hot_context(self):\n",
    "        \"\"\"Get the active context index\"\"\"\n",
    "        return self.atr_model.hot_context_idx\n",
    "    \n",
    "    \n",
    "    def set_hot_context(self, index):\n",
    "        self.atr_model.set_hot_context(index)\n",
    "        self.context_loss = 0.0\n",
    "    \n",
    "    \n",
    "    def next_context(self):\n",
    "        \"\"\"Switch to the next sequential context\"\"\"\n",
    "        return self.atr_model.next_context()\n",
    "    \n",
    "    \n",
    "    def add_context_loss(self, context_loss):\n",
    "        \"\"\"Accumulate context loss\"\"\"\n",
    "        self.context_loss += self.atr_model.context_loss_fn(context_loss)\n",
    "        \n",
    "        \n",
    "    def update_kernel(self):\n",
    "        if self.num_tasks < self.atr_model.num_tasks:\n",
    "            self._setup_hrr_weights()\n",
    "    \n",
    "    \n",
    "    def update_and_switch(self, dynamic_switch=True, verbose=1, do_kernel_update=True):\n",
    "        \"\"\"\n",
    "        Update ATR values and switch contexts if necessary.\n",
    "        Returns True if no context switch occurs; False otherwise\n",
    "        \"\"\"\n",
    "        # Update the ATR values. If a task switch occurs, check if a task was added...\n",
    "        if not self.atr_model.update_and_switch(self.context_loss, dynamic_switch, verbose):\n",
    "            \n",
    "            # Check if the number of tasks was dynamically manipulated\n",
    "            if self.num_tasks != self.atr_model.num_tasks:\n",
    "                \n",
    "                # Re-initialize the weights by adding another context\n",
    "                if do_kernel_update:\n",
    "                    self.update_kernel()\n",
    "                \n",
    "                # Determine if a new task was added or removed\n",
    "                if self.num_tasks < self.atr_model.num_tasks:\n",
    "                    return Context.RESULT_ADDED | Context.RESULT_SWITCHED\n",
    "            \n",
    "            # A task switch occurred, no ATR updates\n",
    "            return Context.RESULT_SWITCHED\n",
    "        \n",
    "        # No task switched occurred, updated successfully\n",
    "        return Context.RESULT_UPDATED"
   ]
  },
  {
   "cell_type": "markdown",
   "metadata": {},
   "source": [
    "## The n-Task Model\n",
    "\n",
    "The n-Task model is a modified version of the standard Keras model. This new model incorporates the additional functionality and calculations to handle context layers.\n",
    "\n",
    "Some things to note:\n",
    "- The model creates a lookup table for context layers"
   ]
  },
  {
   "cell_type": "code",
   "execution_count": 8,
   "metadata": {},
   "outputs": [],
   "source": [
    "class NTaskModel(Model):\n",
    "    def __init__(self, *args, **kwargs):\n",
    "        super(NTaskModel, self).__init__(*args, **kwargs)\n",
    "        \n",
    "        #! A temporary way to store things...\n",
    "        # These are assigned in `compile`\n",
    "        self.loss_fn = None\n",
    "        self.optimizer = None\n",
    "        self.metric_list = None\n",
    "        \n",
    "        # A list of all context layers\n",
    "        self.context_layers = []\n",
    "        \n",
    "        # Debugging\n",
    "        self.atr_frames = {}\n",
    "        self.metric_frames = {}\n",
    "        \n",
    "        # Misc\n",
    "        self.total_epochs = 0\n",
    "        \n",
    "        # Create the context layer lookup table\n",
    "        self._create_context_layer_index_list()\n",
    "        \n",
    "        \n",
    "    def compile(self, *args, loss=None, optimizer=None, metrics=[], **kwargs):\n",
    "        super(NTaskModel, self).compile(*args, **kwargs)\n",
    "        self._create_context_layer_index_list()\n",
    "        \n",
    "        self.loss_fn = loss\n",
    "        self.optimizer = optimizer\n",
    "        self.metric_list = [(m, copy_metric(m)) for m in metrics] # A copy of each metric is used for validation data\n",
    "        \n",
    "        self.metric_list = {metric.name: [[], []] for metric in metrics} # Training/validation frame sets\n",
    "        \n",
    "    \n",
    "    def _create_context_layer_index_list(self):\n",
    "        \"\"\"\n",
    "        Create a lookup table for context layers.\n",
    "        This is required to efficiently update each context layer's loss information\n",
    "        \"\"\"\n",
    "        self.context_layers = [i for i, layer in enumerate(self.layers) if isinstance(layer, Context)]\n",
    "        self.atr_frames = {i: defaultdict(dict) for i in self.context_layers}\n",
    "        \n",
    "        \n",
    "    def _calc_context_loss(self, context_layer_idx, gradients):\n",
    "        \"\"\"\n",
    "        IMPORTANT: \n",
    "        1) Assumes no use of activation function on Ntask layer\n",
    "        2) Assumes that the layer following the Ntask layer:\n",
    "            a) Is a Dense layer\n",
    "            b) Is using bias \n",
    "               — ex: Dense(20, ... , use_bias=True) \n",
    "               — note Keras Dense layer uses bias by default if no value is given for use_bias param\n",
    "        3) Assumes index of the next layer's gradient is known within the gradients list returned from gradient tape in a tape.gradient call\n",
    "        4) If the above points aren't met, things will break and it may be hard to locate the bugs\n",
    "        \"\"\"\n",
    "        # From the delta rule in neural network math\n",
    "        delta_at_next_layer = gradients[context_layer_idx + 1]\n",
    "        transpose_of_weights_at_next_layer = tf.transpose(self.layers[context_layer_idx + 1].get_weights()[0])\n",
    "        \n",
    "        # Calculate delta at n-task layer\n",
    "        context_delta = np.dot(delta_at_next_layer, transpose_of_weights_at_next_layer).astype(np.float)\n",
    "        \n",
    "        return context_delta\n",
    "        \n",
    "    \n",
    "    def _custom_forward_pass(self, x_train, y_train, batch_size):\n",
    "        \"\"\"\n",
    "        This is the training forward pass for an entire epoch\n",
    "\n",
    "        !!!!! Read through this code as it is a nonstandard training forward pass ( different than model.fit() )\n",
    "        & NOTE that this does not apply the gradients ie. this does not do a weight update/learn\n",
    "\n",
    "        \"\"\"\n",
    "        \n",
    "        grads = None\n",
    "        all_predictions = np.empty((0,) + y_train.shape[1:])\n",
    "        \n",
    "        # Calculate the total number of batches that need to be processed\n",
    "        num_batches = int(np.ceil(len(x_train) / batch_size))\n",
    "        \n",
    "        # Tensorflow 2 style training -- info can be found here: https://www.tensorflow.org/guide/effective_tf2 \n",
    "        # This is similar to model.fit(), however this is a custom training loop -- ie. it does things differently than model.fit()\n",
    "        # look at each input and label (there are 4 for the logic gates)\n",
    "        for start, end in ((s*batch_size, (s + 1)*batch_size) for s in range(num_batches)):\n",
    "            \n",
    "            # Slice into batch\n",
    "            x = x_train[start:end]\n",
    "            y = y_train[start:end]\n",
    "            \n",
    "            with tf.GradientTape() as tape:\n",
    "                predictions = self(x, training=True) # Forward pass\n",
    "                loss = self.loss_fn(y, predictions) # Get the loss\n",
    "            \n",
    "            # Extract the gradients for the loss of the current sample\n",
    "            gradients = tape.gradient(loss, self.trainable_variables)\n",
    "            \n",
    "            # Add up the total gradients\n",
    "            if grads is None:\n",
    "                grads = gradients\n",
    "            else:\n",
    "                grads = np.add(grads, gradients)\n",
    "                \n",
    "            # Append the prediction list\n",
    "#             all_predictions = np.append(all_predictions, predictions, axis=0)\n",
    "            \n",
    "            for context_layer_idx in self.context_layers:\n",
    "                self.layers[context_layer_idx].add_context_loss(self._calc_context_loss(context_layer_idx, gradients))\n",
    "                \n",
    "        return all_predictions, grads\n",
    "                \n",
    "        \n",
    "    def fit(self, x_train, y_train, epochs=1, shuffle=True, progress=False, explicit_contexts=None, batch_size=32, validation_data=None, verbose=1):\n",
    "        \n",
    "        # Explicit context learning: specify the contexts for ecah of the layers. None=dynamic\n",
    "        if explicit_contexts is not None:\n",
    "            if len(explicit_contexts) != len(self.context_layers):\n",
    "                raise ValueError(\"Length of explicit contexts does not match the number of context layers\")\n",
    "            for i, idx in enumerate(self.context_layers):\n",
    "                if explicit_contexts[i] is not None:\n",
    "                    self.layers[idx].set_hot_context(explicit_contexts[i])\n",
    "        else:\n",
    "            explicit_contexts = [None for x in self.context_layers]\n",
    "        \n",
    "        # Allocate the memory for plot data\n",
    "#         self._plot_data_memory_allocate(epochs)\n",
    "        \n",
    "        # Determine the default batch size\n",
    "        if batch_size is None:\n",
    "            batch_size = len(x_train)\n",
    "        \n",
    "        # Shuffle the dataset\n",
    "        x_train, y_train = sklearn.utils.shuffle(x_train, y_train)\n",
    "        \n",
    "        epoch = 0\n",
    "        while epoch < epochs:\n",
    "            \n",
    "            # DEBUG; Display progress\n",
    "            if progress:\n",
    "                display_progress(epoch / epochs, title=str([self.layers[i].get_hot_context() for i in self.context_layers]))\n",
    "            \n",
    "            # Reset the context loss\n",
    "            for idx in self.context_layers:\n",
    "                self.layers[idx].context_loss = 0.0\n",
    "            \n",
    "            # Perform a forward pass\n",
    "            predictions, grads = self._custom_forward_pass(x_train, y_train, batch_size)\n",
    "            \n",
    "            # Iterate backwards over the context layers. If a context switch occurs, don't check any other layers\n",
    "            switched = False\n",
    "            for i in range(len(self.context_layers) - 1, -1, -1):\n",
    "                # Fetch the context layer\n",
    "                context = self.layers[self.context_layers[i]]\n",
    "                \n",
    "                # Check if explicit context learning for this layer is set\n",
    "                dynamic_switch = explicit_contexts[i] is None\n",
    "                \n",
    "                # Update the layer and indicate if a task switch occurred\n",
    "                if context.update_and_switch(dynamic_switch, verbose=verbose) & Context.RESULT_SWITCHED:\n",
    "                    # A task switch occurred, don't update any other layers/weights\n",
    "                    switched = True\n",
    "            \n",
    "            # If no task switch occurred, we can update the weights of the network\n",
    "            if not switched:\n",
    "                epoch += 1\n",
    "                self.total_epochs += 1\n",
    "                \n",
    "                # Apply the gradients\n",
    "                self.optimizer.apply_gradients(zip(grads, self.trainable_variables))\n",
    "                \n",
    "                # Update metrics for validation data\n",
    "#                 self._update_metrics(y_train, predictions, validation_data)\n",
    "                \n",
    "                # Add data to plots\n",
    "                self._add_plot_data()\n",
    "                        \n",
    "                # Reshuffle the dataset\n",
    "                x_train, y_train = sklearn.utils.shuffle(x_train, y_train)\n",
    "                \n",
    "                \n",
    "    def _update_metrics(self, y, y_pred, validation_data):\n",
    "        \"\"\"Update any metrics. Also adds data to plots\"\"\"\n",
    "        \n",
    "        # @TODO\n",
    "        # Confirmed bug in Keras. compiled_metrics crashes.\n",
    "        # Forced to use `metrics` with actual class instances\n",
    "        # This should be the following:\n",
    "        # \n",
    "        # self.compiled_metrics.update_state()\n",
    "        # \n",
    "        # This will be temporarily replaced by:\n",
    "        for i, (metric_train, metric_test) in enumerate(self.metric_list):\n",
    "            metric_train.update_state(y, y_pred)\n",
    "            if validation_data:\n",
    "                x_test, y_test = validation_data\n",
    "                metric_train.update_state(y_test, self.predict(x_test))\n",
    "                \n",
    "                \n",
    "    def plot_data_memory_allocate(self, epochs):\n",
    "        print(\"Pre-allocating...\")\n",
    "        for group in self.metric_list:\n",
    "            for i, metric in enumerate(group): # train, test\n",
    "                self.metric_frames[metric.name][i] += [None]*epochs\n",
    "            \n",
    "    \n",
    "    def _add_plot_data(self):\n",
    "        \n",
    "        # Metric values\n",
    "#         for group in self.metric_list:\n",
    "#             for i, metric in enumerate(group): # train, test\n",
    "#                 self.metric_frames[metric.name][i][self.total_epochs-1] = metric.result().numpy()\n",
    "        \n",
    "        # ATR values\n",
    "        for idx in self.context_layers[::-1]:\n",
    "            for t in range(self.layers[idx].num_tasks):\n",
    "                self.atr_frames[idx][t][self.total_epochs] = self.layers[idx].atr_model.atr_values[t]\n",
    "            \n",
    "        \n",
    "    def get_contexts(self):\n",
    "        \"\"\"Get the hot context from all context layers\"\"\"\n",
    "        return [self.layers[i].get_hot_context() for i in self.context_layers]\n",
    "    \n",
    "    \n",
    "    def set_contexts(self, contexts: list):\n",
    "        \"\"\"Set the hot context for the specified layers\"\"\"\n",
    "        if len(contexts) != len(self.context_layers):\n",
    "            raise ValueError(\"Provided context list does not match the number of context layers\")\n",
    "        for i, context in enumerate(contexts):\n",
    "            self.layers[self.context_layers[i]].set_hot_context(context)\n",
    "            \n",
    "        \n",
    "    def plot(self):\n",
    "        \"\"\"Plot everything\"\"\"\n",
    "#         self.plot_metrics()\n",
    "        self.plot_atr_values()\n",
    "        \n",
    "        \n",
    "    def plot_metrics(self):\n",
    "        scale = 3\n",
    "        rows, cols = 1, len(self.metric_list)\n",
    "        fig, *axs = plt.subplots(rows, cols, figsize=(1.5*scale*cols, 1.5*scale*rows))\n",
    "        fig.suptitle(\"Metrics\")\n",
    "        for i, ax in enumerate(axs):\n",
    "            name = self.metric_list[i][0].name\n",
    "            frames = self.metric_frames[name]\n",
    "            plotFrames(ax, name, [\"Training\", \"Validation\"], *frames, xlabel=\"Epoch\")\n",
    "            ax.grid()\n",
    "        plt.legend()\n",
    "            \n",
    "        \n",
    "    def plot_atr_values(self):\n",
    "        for idx in self.context_layers:\n",
    "            n = self.layers[idx].num_tasks\n",
    "            plot(f\"ATR Values for Context Layer {idx}\", [i for i in range(n)], *self.atr_frames[idx].values())"
   ]
  },
  {
   "cell_type": "markdown",
   "metadata": {},
   "source": [
    "## The n-task Batched Learning Model\n",
    "\n",
    "This model is a variation of the original that updates the weights in the traditional manner, and reverts the changes upon a task switch. The idea is this will achieve much greater stability and faster learning"
   ]
  },
  {
   "cell_type": "code",
   "execution_count": 9,
   "metadata": {},
   "outputs": [],
   "source": [
    "class NTaskModelBatchedLearning(NTaskModel):\n",
    "    \n",
    "    def _custom_forward_pass(self, x_train, y_train, batch_size):\n",
    "        # Calculate the total number of batches that need to be processed\n",
    "        num_batches = int(np.ceil(len(x_train) / batch_size))\n",
    "        \n",
    "        # Tensorflow 2 style training -- info can be found here: https://www.tensorflow.org/guide/effective_tf2 \n",
    "        # This is similar to model.fit(), however this is a custom training loop -- ie. it does things differently than model.fit()\n",
    "        # look at each input and label (there are 4 for the logic gates)\n",
    "        for start, end in ((s*batch_size, (s + 1)*batch_size) for s in range(num_batches)):\n",
    "            \n",
    "            # Slice into batch\n",
    "            x = x_train[start:end]\n",
    "            y = y_train[start:end]\n",
    "            \n",
    "            with tf.GradientTape() as tape:\n",
    "                predictions = self(x, training=True) # Forward pass\n",
    "                loss = self.loss_fn(y, predictions) # Get the loss\n",
    "            \n",
    "            # Extract the gradients for the loss of the current sample\n",
    "            gradients = tape.gradient(loss, self.trainable_variables)\n",
    "            \n",
    "            # Apply the gradients\n",
    "            self.optimizer.apply_gradients(zip(gradients, self.trainable_variables))\n",
    "            \n",
    "            for context_layer_idx in self.context_layers:\n",
    "                self.layers[context_layer_idx].add_context_loss(self._calc_context_loss(context_layer_idx, gradients))\n",
    "                \n",
    "        \n",
    "    def fit(self, x_train, y_train, epochs=1, shuffle=True, progress=False, explicit_contexts=None, batch_size=32, validation_data=None, verbose=1):\n",
    "        \n",
    "        # Explicit context learning: specify the contexts for ecah of the layers. None=dynamic\n",
    "        if explicit_contexts is not None:\n",
    "            if len(explicit_contexts) != len(self.context_layers):\n",
    "                raise ValueError(\"Length of explicit contexts does not match the number of context layers\")\n",
    "            for i, idx in enumerate(self.context_layers):\n",
    "                if explicit_contexts[i] is not None:\n",
    "                    self.layers[idx].set_hot_context(explicit_contexts[i])\n",
    "        else:\n",
    "            explicit_contexts = [None for x in self.context_layers]\n",
    "        \n",
    "        # Determine the default batch size\n",
    "        if batch_size is None:\n",
    "            batch_size = len(x_train)\n",
    "        \n",
    "        # Shuffle the dataset\n",
    "        x_train, y_train = sklearn.utils.shuffle(x_train, y_train)\n",
    "        \n",
    "        epoch = 0\n",
    "        while epoch < epochs:\n",
    "            \n",
    "            # DEBUG; Display progress\n",
    "            if progress:\n",
    "                display_progress(epoch / epochs, title=str([self.layers[i].get_hot_context() for i in self.context_layers]))\n",
    "            \n",
    "            # Reset the context loss\n",
    "            for idx in self.context_layers:\n",
    "                self.layers[idx].context_loss = 0.0\n",
    "                \n",
    "            # Back up the weights in case we switch\n",
    "            weights = self.get_weights()\n",
    "            \n",
    "            # Perform a forward pass\n",
    "            self._custom_forward_pass(x_train, y_train, batch_size)\n",
    "            \n",
    "            # Iterate backwards over the context layers. If a context switch occurs, don't check any other layers\n",
    "            switched = False\n",
    "            for i in range(len(self.context_layers) - 1, -1, -1):\n",
    "                # Fetch the context layer\n",
    "                context = self.layers[self.context_layers[i]]\n",
    "                \n",
    "                # Check if explicit context learning for this layer is set\n",
    "                dynamic_switch = explicit_contexts[i] is None\n",
    "                \n",
    "                # Update the layer\n",
    "                update_result = context.update_and_switch(dynamic_switch, verbose=verbose, do_kernel_update=False)\n",
    "                \n",
    "                # Update the layer and indicate if a task switch occurred\n",
    "                if update_result & Context.RESULT_SWITCHED:\n",
    "                    # A task switch occurred, don't update any other layers/weights\n",
    "                    switched = True\n",
    "                    \n",
    "                    # Restore the weights since this task was invalid\n",
    "                    self.set_weights(weights)\n",
    "                    \n",
    "                    # Update the kernel for the context layer\n",
    "                    context.update_kernel()\n",
    "                        \n",
    "                    # Stop propogation\n",
    "                    break\n",
    "                \n",
    "            # The epoch was a success!\n",
    "            if not switched:\n",
    "                epoch += 1\n",
    "                self.total_epochs += 1\n",
    "                \n",
    "                # Add data to plots\n",
    "                self._add_plot_data()\n",
    "                        \n",
    "                # Reshuffle the dataset\n",
    "                x_train, y_train = sklearn.utils.shuffle(x_train, y_train)"
   ]
  },
  {
   "cell_type": "markdown",
   "metadata": {},
   "source": [
    "___"
   ]
  },
  {
   "cell_type": "markdown",
   "metadata": {},
   "source": [
    "# Logic Gate Task"
   ]
  },
  {
   "cell_type": "code",
   "execution_count": 10,
   "metadata": {},
   "outputs": [],
   "source": [
    "def train(model, inputs, labels, cycles, epochs, shuffle=True, show_progress=False, batch_size=None, use_validation=False, verbose=0):\n",
    "    last_index = None\n",
    "    indices = list(range(len(labels)))\n",
    "    \n",
    "    for cycle in range(cycles):\n",
    "        \n",
    "        # If the previous task is repeated, swap with a random task\n",
    "        if last_index == indices[0]:\n",
    "            i = randrange(1, len(indices))\n",
    "            indices[0], indices[i] = indices[i], indices[0]\n",
    "        \n",
    "        # Train on each batch in the dataset\n",
    "        for i in indices:\n",
    "            print(i)\n",
    "            validation_data = (inputs, labels[i]) if use_validation else None\n",
    "            model.fit(inputs, labels[i], epochs, progress=show_progress, batch_size=batch_size, validation_data=validation_data, verbose=verbose)\n",
    "            assert i == model.layers[model.context_layers[0]].get_hot_context()\n",
    "        \n",
    "        # Shuffle at the end to preserver dataset order\n",
    "        if shuffle:\n",
    "            list_index = indices[-1]\n",
    "\n",
    "            # Shuffle the dataset\n",
    "            random.shuffle(indices)"
   ]
  },
  {
   "cell_type": "code",
   "execution_count": 11,
   "metadata": {},
   "outputs": [],
   "source": [
    "def validate(model, inputs, labels, num_task_contexts):\n",
    "    num_passed = 0\n",
    "    for i in range(num_task_contexts):\n",
    "        model.layers[model.context_layers[0]].set_hot_context(i)\n",
    "        result = model(inputs)\n",
    "        predicted = np.round(result).astype(int)\n",
    "        try:\n",
    "            print(f\"Task {i}:\", end=' ')\n",
    "            assert (predicted == labels[i]).all(), \"Failed on task:\"\n",
    "            print(result, \"Passed\")\n",
    "            num_passed += 1\n",
    "        except AssertionError:\n",
    "            print(result, \"Failed\")\n",
    "    print(f\"{num_passed}/{num_task_contexts} ({100*num_passed//num_task_contexts}%) Learned successfully\")"
   ]
  },
  {
   "cell_type": "markdown",
   "metadata": {},
   "source": [
    "### Loss Function"
   ]
  },
  {
   "cell_type": "code",
   "execution_count": 12,
   "metadata": {},
   "outputs": [],
   "source": [
    "def loss_fn(labels, predictions):\n",
    "    return tf.keras.losses.binary_crossentropy(y_true=labels, y_pred=predictions)"
   ]
  },
  {
   "cell_type": "markdown",
   "metadata": {},
   "source": [
    "### Optimizer"
   ]
  },
  {
   "cell_type": "code",
   "execution_count": 13,
   "metadata": {},
   "outputs": [],
   "source": [
    "optimizer = tf.keras.optimizers.Adam(1e-4)"
   ]
  },
  {
   "cell_type": "markdown",
   "metadata": {},
   "source": [
    "### Dataset"
   ]
  },
  {
   "cell_type": "code",
   "execution_count": 14,
   "metadata": {},
   "outputs": [],
   "source": [
    "labels = np.array([\n",
    "    [[0], [1], [1], [0]], # XOR\n",
    "    [[1], [0], [0], [1]], # XNOR\n",
    "    [[0], [0], [0], [1]], # AND\n",
    "    [[0], [1], [1], [1]], # OR\n",
    "    [[1], [0], [0], [0]], # NOR\n",
    "    [[1], [1], [1], [0]], # NAND\n",
    "    [[1], [0], [1], [0]], # Custom 1\n",
    "    [[0], [1], [0], [1]]  # Custom 2\n",
    "])\n",
    "\n",
    "x_train = np.array([[-1, -1], [-1, 1], [1, -1], [1, 1]])"
   ]
  },
  {
   "cell_type": "markdown",
   "metadata": {},
   "source": [
    "___"
   ]
  },
  {
   "cell_type": "markdown",
   "metadata": {},
   "source": [
    "## Static n-task - 2 Gates (XOR, XNOR) [PASSING]"
   ]
  },
  {
   "cell_type": "code",
   "execution_count": 15,
   "metadata": {},
   "outputs": [],
   "source": [
    "y_train = labels[:2]\n",
    "num_task_contexts = len(y_train)"
   ]
  },
  {
   "cell_type": "code",
   "execution_count": 16,
   "metadata": {},
   "outputs": [],
   "source": [
    "set_seed(5)"
   ]
  },
  {
   "cell_type": "markdown",
   "metadata": {},
   "source": [
    "### Model"
   ]
  },
  {
   "cell_type": "code",
   "execution_count": 17,
   "metadata": {},
   "outputs": [],
   "source": [
    "inp = Input((2,))\n",
    "x = Dense(40, activation=\"relu\")(inp)\n",
    "x = Context(AtrMovingAverage(num_task_contexts, task_switch_threshold=-0.02))(x)\n",
    "x = Dense(1, activation=\"sigmoid\")(x)"
   ]
  },
  {
   "cell_type": "code",
   "execution_count": 18,
   "metadata": {},
   "outputs": [],
   "source": [
    "model = NTaskModelBatchedLearning(inputs=inp, outputs=x)"
   ]
  },
  {
   "cell_type": "code",
   "execution_count": 19,
   "metadata": {},
   "outputs": [],
   "source": [
    "model.compile(\n",
    "    loss=loss_fn,\n",
    "    optimizer=optimizer,\n",
    "    metrics=[tf.keras.metrics.BinaryAccuracy()]\n",
    ")"
   ]
  },
  {
   "cell_type": "markdown",
   "metadata": {},
   "source": [
    "### Training"
   ]
  },
  {
   "cell_type": "code",
   "execution_count": 141,
   "metadata": {},
   "outputs": [
    {
     "name": "stdout",
     "output_type": "stream",
     "text": [
      "0\n",
      "1\n",
      "Switching... context loss: tf.Tensor(0.21335311525411754, shape=(), dtype=float64)\n",
      "Task switched to: 1\n",
      "0\n",
      "Switching... context loss: tf.Tensor(0.22863532123782596, shape=(), dtype=float64)\n",
      "Task switched to: 0\n",
      "1\n",
      "Switching... context loss: tf.Tensor(0.45021621430871095, shape=(), dtype=float64)\n",
      "Task switched to: 1\n",
      "0\n",
      "Switching... context loss: tf.Tensor(0.5857260800944507, shape=(), dtype=float64)\n",
      "Task switched to: 0\n",
      "1\n",
      "Switching... context loss: tf.Tensor(0.8313693278596581, shape=(), dtype=float64)\n",
      "Task switched to: 1\n"
     ]
    }
   ],
   "source": [
    "train(model, x_train, y_train, 3, 500, batch_size=1, use_validation=False, show_progress=False, verbose=1)"
   ]
  },
  {
   "cell_type": "markdown",
   "metadata": {},
   "source": [
    "### Model Validation\n",
    "\n",
    "Assert that the model has learned all logic gates"
   ]
  },
  {
   "cell_type": "code",
   "execution_count": 143,
   "metadata": {},
   "outputs": [
    {
     "name": "stdout",
     "output_type": "stream",
     "text": [
      "Task 0: tf.Tensor(\n",
      "[[0.02149364]\n",
      " [0.97235036]\n",
      " [0.9498267 ]\n",
      " [0.0501833 ]], shape=(4, 1), dtype=float32) Passed\n",
      "Task 1: tf.Tensor(\n",
      "[[0.9656404 ]\n",
      " [0.02798966]\n",
      " [0.04151386]\n",
      " [0.9657192 ]], shape=(4, 1), dtype=float32) Passed\n",
      "2/2 (100%) Learned successfully\n"
     ]
    }
   ],
   "source": [
    "validate(model, x_train, y_train, num_task_contexts)"
   ]
  },
  {
   "cell_type": "code",
   "execution_count": 144,
   "metadata": {},
   "outputs": [
    {
     "data": {
      "image/png": "[encoded data removed]",
      "text/plain": [
       "<Figure size 432x288 with 1 Axes>"
      ]
     },
     "metadata": {
      "needs_background": "light"
     },
     "output_type": "display_data"
    }
   ],
   "source": [
    "model.plot()"
   ]
  },
  {
   "cell_type": "markdown",
   "metadata": {},
   "source": [
    "___"
   ]
  },
  {
   "cell_type": "markdown",
   "metadata": {},
   "source": [
    "## Dynamic n-task - 2 Gates (XOR, XNOR) [PASSING]"
   ]
  },
  {
   "cell_type": "code",
   "execution_count": 146,
   "metadata": {},
   "outputs": [],
   "source": [
    "y_train = labels[:2]\n",
    "num_task_contexts = len(y_train)"
   ]
  },
  {
   "cell_type": "code",
   "execution_count": 147,
   "metadata": {},
   "outputs": [],
   "source": [
    "set_seed(5)"
   ]
  },
  {
   "cell_type": "markdown",
   "metadata": {},
   "source": [
    "### Model"
   ]
  },
  {
   "cell_type": "code",
   "execution_count": 148,
   "metadata": {},
   "outputs": [],
   "source": [
    "inp = Input((2,))\n",
    "x = Dense(40, activation=\"relu\")(inp)\n",
    "x = Context(AtrMovingAverage(task_switch_threshold=-0.02, is_dynamic=True, task_add_threshold=-0.1, max_num_tasks=num_task_contexts+1))(x)\n",
    "x = Dense(1, activation=\"sigmoid\")(x)"
   ]
  },
  {
   "cell_type": "code",
   "execution_count": 149,
   "metadata": {},
   "outputs": [],
   "source": [
    "model = NTaskModelBatchedLearning(inputs=inp, outputs=x)"
   ]
  },
  {
   "cell_type": "code",
   "execution_count": 150,
   "metadata": {},
   "outputs": [],
   "source": [
    "model.compile(\n",
    "    loss=loss_fn,\n",
    "    optimizer=optimizer,\n",
    "    metrics=[tf.keras.metrics.BinaryAccuracy()]\n",
    ")"
   ]
  },
  {
   "cell_type": "markdown",
   "metadata": {},
   "source": [
    "### Training"
   ]
  },
  {
   "cell_type": "code",
   "execution_count": 151,
   "metadata": {},
   "outputs": [
    {
     "name": "stdout",
     "output_type": "stream",
     "text": [
      "0\n",
      "1\n",
      "Switching... context loss: tf.Tensor(0.2133999310469851, shape=(), dtype=float64)\n",
      "Best context loss... tf.Tensor(0.2133999310469851, shape=(), dtype=float64)\n",
      "Task switched (added new task): 1\n",
      "0\n",
      "Switching... context loss: tf.Tensor(0.22914684063560314, shape=(), dtype=float64)\n",
      "Task switched to: 0\n",
      "1\n",
      "Switching... context loss: tf.Tensor(0.45353827868207286, shape=(), dtype=float64)\n",
      "Task switched to: 1\n",
      "0\n",
      "Switching... context loss: tf.Tensor(0.5910905567874566, shape=(), dtype=float64)\n",
      "Task switched to: 0\n",
      "1\n",
      "Switching... context loss: tf.Tensor(0.8353346607869734, shape=(), dtype=float64)\n",
      "Task switched to: 1\n"
     ]
    }
   ],
   "source": [
    "train(model, x_train, y_train, 3, 500, batch_size=1, verbose=1)"
   ]
  },
  {
   "cell_type": "markdown",
   "metadata": {},
   "source": [
    "### Model Validation\n",
    "\n",
    "Assert that the model has learned all logic gates"
   ]
  },
  {
   "cell_type": "code",
   "execution_count": 152,
   "metadata": {},
   "outputs": [
    {
     "name": "stdout",
     "output_type": "stream",
     "text": [
      "Task 0: tf.Tensor(\n",
      "[[0.01804131]\n",
      " [0.9736797 ]\n",
      " [0.9479121 ]\n",
      " [0.05049753]], shape=(4, 1), dtype=float32) Passed\n",
      "Task 1: tf.Tensor(\n",
      "[[0.9653719 ]\n",
      " [0.02755442]\n",
      " [0.03901902]\n",
      " [0.9670056 ]], shape=(4, 1), dtype=float32) Passed\n",
      "2/2 (100%) Learned successfully\n"
     ]
    }
   ],
   "source": [
    "validate(model, x_train, y_train, 2)"
   ]
  },
  {
   "cell_type": "code",
   "execution_count": 153,
   "metadata": {},
   "outputs": [
    {
     "data": {
      "image/png": "[encoded data removed]",
      "text/plain": [
       "<Figure size 432x288 with 1 Axes>"
      ]
     },
     "metadata": {
      "needs_background": "light"
     },
     "output_type": "display_data"
    }
   ],
   "source": [
    "model.plot_atr_values()"
   ]
  },
  {
   "cell_type": "markdown",
   "metadata": {},
   "source": [
    "___"
   ]
  },
  {
   "cell_type": "markdown",
   "metadata": {},
   "source": [
    "## Static n-task - 8 Gates (XOR, XNOR, AND, OR) [PASSING]"
   ]
  },
  {
   "cell_type": "code",
   "execution_count": 166,
   "metadata": {},
   "outputs": [],
   "source": [
    "y_train = labels\n",
    "num_task_contexts = len(y_train)"
   ]
  },
  {
   "cell_type": "code",
   "execution_count": 167,
   "metadata": {},
   "outputs": [],
   "source": [
    "set_seed(5)"
   ]
  },
  {
   "cell_type": "markdown",
   "metadata": {},
   "source": [
    "### Model"
   ]
  },
  {
   "cell_type": "code",
   "execution_count": 168,
   "metadata": {},
   "outputs": [],
   "source": [
    "inp = Input((2,))\n",
    "x = Dense(128, activation=\"relu\")(inp)\n",
    "x = Context(AtrMovingAverage(num_task_contexts, task_switch_threshold=-0.02))(x)\n",
    "x = Dense(1, activation=\"sigmoid\")(x)"
   ]
  },
  {
   "cell_type": "code",
   "execution_count": 169,
   "metadata": {},
   "outputs": [],
   "source": [
    "model = NTaskModelBatchedLearning(inputs=inp, outputs=x)"
   ]
  },
  {
   "cell_type": "code",
   "execution_count": 170,
   "metadata": {},
   "outputs": [],
   "source": [
    "model.compile(\n",
    "    loss=loss_fn,\n",
    "    optimizer=optimizer,\n",
    "    metrics=[tf.keras.metrics.BinaryAccuracy()]\n",
    ")"
   ]
  },
  {
   "cell_type": "markdown",
   "metadata": {},
   "source": [
    "### Training"
   ]
  },
  {
   "cell_type": "code",
   "execution_count": null,
   "metadata": {},
   "outputs": [],
   "source": [
    "train(model, x_train, y_train, 3, 500, shuffle=True, show_progress=False, batch_size=1, verbose=1)"
   ]
  },
  {
   "cell_type": "markdown",
   "metadata": {},
   "source": [
    "### Model Validation\n",
    "\n",
    "Assert that the model has learned all logic gates"
   ]
  },
  {
   "cell_type": "code",
   "execution_count": 172,
   "metadata": {},
   "outputs": [
    {
     "name": "stdout",
     "output_type": "stream",
     "text": [
      "Task 0: tf.Tensor(\n",
      "[[0.00525382]\n",
      " [0.987079  ]\n",
      " [0.9838294 ]\n",
      " [0.0061267 ]], shape=(4, 1), dtype=float32) Passed\n",
      "Task 1: tf.Tensor(\n",
      "[[0.9870223]\n",
      " [0.0078522]\n",
      " [0.0054512]\n",
      " [0.9909367]], shape=(4, 1), dtype=float32) Passed\n",
      "Task 2: tf.Tensor(\n",
      "[[0.00236809]\n",
      " [0.00272927]\n",
      " [0.00291547]\n",
      " [0.99310243]], shape=(4, 1), dtype=float32) Passed\n",
      "Task 3: tf.Tensor(\n",
      "[[0.00619686]\n",
      " [0.9978794 ]\n",
      " [0.99603665]\n",
      " [0.99945045]], shape=(4, 1), dtype=float32) Passed\n",
      "Task 4: tf.Tensor(\n",
      "[[9.9508107e-01]\n",
      " [4.8177540e-03]\n",
      " [5.8694482e-03]\n",
      " [4.8610568e-04]], shape=(4, 1), dtype=float32) Passed\n",
      "Task 5: tf.Tensor(\n",
      "[[0.98786145]\n",
      " [0.99815655]\n",
      " [0.9951757 ]\n",
      " [0.00202549]], shape=(4, 1), dtype=float32) Passed\n",
      "Task 6: tf.Tensor(\n",
      "[[0.99664235]\n",
      " [0.00287926]\n",
      " [0.9992324 ]\n",
      " [0.00419757]], shape=(4, 1), dtype=float32) Passed\n",
      "Task 7: tf.Tensor(\n",
      "[[0.00226226]\n",
      " [0.99052906]\n",
      " [0.00178817]\n",
      " [0.996143  ]], shape=(4, 1), dtype=float32) Passed\n",
      "8/8 (100%) Learned successfully\n"
     ]
    }
   ],
   "source": [
    "validate(model, x_train, y_train, num_task_contexts)"
   ]
  },
  {
   "cell_type": "code",
   "execution_count": 173,
   "metadata": {},
   "outputs": [
    {
     "data": {
      "image/png": "[encoded data removed]",
      "text/plain": [
       "<Figure size 432x288 with 1 Axes>"
      ]
     },
     "metadata": {
      "needs_background": "light"
     },
     "output_type": "display_data"
    }
   ],
   "source": [
    "model.plot_atr_values()"
   ]
  },
  {
   "cell_type": "markdown",
   "metadata": {},
   "source": [
    "___"
   ]
  },
  {
   "cell_type": "markdown",
   "metadata": {},
   "source": [
    "## Dynamic n-task - 8 Gates"
   ]
  },
  {
   "cell_type": "code",
   "execution_count": 181,
   "metadata": {},
   "outputs": [],
   "source": [
    "y_train = labels\n",
    "num_task_contexts = len(y_train)"
   ]
  },
  {
   "cell_type": "code",
   "execution_count": 182,
   "metadata": {},
   "outputs": [],
   "source": [
    "set_seed(5)"
   ]
  },
  {
   "cell_type": "markdown",
   "metadata": {},
   "source": [
    "### Model"
   ]
  },
  {
   "cell_type": "code",
   "execution_count": 183,
   "metadata": {},
   "outputs": [],
   "source": [
    "inp = Input((2,))\n",
    "x = Dense(256, activation=\"relu\")(inp)\n",
    "x = Context(AtrMovingAverage(is_dynamic=True, task_switch_threshold=-0.02, task_add_threshold=-0.04, max_num_tasks=num_task_contexts+1))(x)\n",
    "x = Dense(1, activation=\"sigmoid\")(x)"
   ]
  },
  {
   "cell_type": "code",
   "execution_count": 184,
   "metadata": {},
   "outputs": [],
   "source": [
    "model = NTaskModelBatchedLearning(inputs=inp, outputs=x)"
   ]
  },
  {
   "cell_type": "code",
   "execution_count": 185,
   "metadata": {},
   "outputs": [],
   "source": [
    "model.compile(\n",
    "    loss=loss_fn,\n",
    "    optimizer=optimizer,\n",
    "    metrics=[tf.keras.metrics.BinaryAccuracy()]\n",
    ")"
   ]
  },
  {
   "cell_type": "markdown",
   "metadata": {},
   "source": [
    "### Training"
   ]
  },
  {
   "cell_type": "code",
   "execution_count": 186,
   "metadata": {},
   "outputs": [
    {
     "name": "stdout",
     "output_type": "stream",
     "text": [
      "0\n",
      "1\n",
      "Switching... context loss: tf.Tensor(0.1279351157060724, shape=(), dtype=float64)\n",
      "Best context loss... tf.Tensor(0.1279351157060724, shape=(), dtype=float64)\n",
      "Task switched (added new task): 1\n",
      "2\n",
      "Switching... context loss: tf.Tensor(0.04595894516381987, shape=(), dtype=float64)\n",
      "Task switched to: 0\n",
      "Switching... context loss: tf.Tensor(0.13561853123793827, shape=(), dtype=float64)\n",
      "Best context loss... tf.Tensor(0.04595894516381987, shape=(), dtype=float64)\n",
      "Task switched (added new task): 2\n",
      "3\n",
      "Switching... context loss: tf.Tensor(0.12072337844369092, shape=(), dtype=float64)\n",
      "Task switched to: 0\n",
      "Switching... context loss: tf.Tensor(0.06055835278938618, shape=(), dtype=float64)\n",
      "Task switched to: 1\n",
      "Switching... context loss: tf.Tensor(0.16479916170884487, shape=(), dtype=float64)\n",
      "Best context loss... tf.Tensor(0.06055835278938618, shape=(), dtype=float64)\n",
      "Task switched (added new task): 3\n",
      "4\n",
      "Switching... context loss: tf.Tensor(0.2745844017961978, shape=(), dtype=float64)\n",
      "Task switched to: 0\n",
      "Switching... context loss: tf.Tensor(0.1975624434440933, shape=(), dtype=float64)\n",
      "Task switched to: 1\n",
      "Switching... context loss: tf.Tensor(0.0642246637655503, shape=(), dtype=float64)\n",
      "Task switched to: 2\n",
      "Switching... context loss: tf.Tensor(0.13625458175303237, shape=(), dtype=float64)\n",
      "Best context loss... tf.Tensor(0.0642246637655503, shape=(), dtype=float64)\n",
      "Task switched (added new task): 4\n",
      "5\n",
      "Switching... context loss: tf.Tensor(0.15607245341913772, shape=(), dtype=float64)\n",
      "Task switched to: 0\n",
      "Switching... context loss: tf.Tensor(0.07820207683514038, shape=(), dtype=float64)\n",
      "Task switched to: 1\n",
      "Switching... context loss: tf.Tensor(0.21798947436024385, shape=(), dtype=float64)\n",
      "Task switched to: 2\n",
      "Switching... context loss: tf.Tensor(0.3019667536187436, shape=(), dtype=float64)\n",
      "Task switched to: 3\n",
      "Switching... context loss: tf.Tensor(0.1570306865588434, shape=(), dtype=float64)\n",
      "Best context loss... tf.Tensor(0.07820207683514038, shape=(), dtype=float64)\n",
      "Task switched (added new task): 5\n",
      "6\n",
      "Switching... context loss: tf.Tensor(0.08387013957207826, shape=(), dtype=float64)\n",
      "Task switched to: 0\n",
      "Switching... context loss: tf.Tensor(0.16068775133240296, shape=(), dtype=float64)\n",
      "Task switched to: 1\n",
      "Switching... context loss: tf.Tensor(0.16314777141007927, shape=(), dtype=float64)\n",
      "Task switched to: 2\n",
      "Switching... context loss: tf.Tensor(0.24673029036166497, shape=(), dtype=float64)\n",
      "Task switched to: 3\n",
      "Switching... context loss: tf.Tensor(0.2505940073054936, shape=(), dtype=float64)\n",
      "Task switched to: 4\n",
      "Switching... context loss: tf.Tensor(0.08034223471925733, shape=(), dtype=float64)\n",
      "Best context loss... tf.Tensor(0.08034223471925733, shape=(), dtype=float64)\n",
      "Task switched (added new task): 6\n",
      "7\n",
      "Switching... context loss: tf.Tensor(0.3576987993123094, shape=(), dtype=float64)\n",
      "Task switched to: 0\n",
      "Switching... context loss: tf.Tensor(0.16689558574390068, shape=(), dtype=float64)\n",
      "Task switched to: 1\n",
      "Switching... context loss: tf.Tensor(0.17799433681479424, shape=(), dtype=float64)\n",
      "Task switched to: 2\n",
      "Switching... context loss: tf.Tensor(0.08946185185193335, shape=(), dtype=float64)\n",
      "Task switched to: 3\n",
      "Switching... context loss: tf.Tensor(0.08950472236291535, shape=(), dtype=float64)\n",
      "Task switched to: 4\n",
      "Switching... context loss: tf.Tensor(0.2619114334486632, shape=(), dtype=float64)\n",
      "Task switched to: 5\n",
      "Switching... context loss: tf.Tensor(0.2660175010880317, shape=(), dtype=float64)\n",
      "Best context loss... tf.Tensor(0.08946185185193335, shape=(), dtype=float64)\n",
      "Task switched (added new task): 7\n",
      "6\n",
      "Switching... context loss: tf.Tensor(0.3762405007453186, shape=(), dtype=float64)\n",
      "Task switched to: 0\n",
      "Switching... context loss: tf.Tensor(0.1885881822593456, shape=(), dtype=float64)\n",
      "Task switched to: 1\n",
      "Switching... context loss: tf.Tensor(0.1757640152839834, shape=(), dtype=float64)\n",
      "Task switched to: 2\n",
      "Switching... context loss: tf.Tensor(0.28263330430596895, shape=(), dtype=float64)\n",
      "Task switched to: 3\n",
      "Switching... context loss: tf.Tensor(0.2736313400062765, shape=(), dtype=float64)\n",
      "Task switched to: 4\n",
      "Switching... context loss: tf.Tensor(0.09185641121493611, shape=(), dtype=float64)\n",
      "Task switched to: 5\n",
      "Switching... context loss: tf.Tensor(0.09421338465686736, shape=(), dtype=float64)\n",
      "Task switched to: 6\n",
      "3\n",
      "Switching... context loss: tf.Tensor(0.29224306787610066, shape=(), dtype=float64)\n",
      "Task switched to: 7\n",
      "Switching... context loss: tf.Tensor(0.09653420445243305, shape=(), dtype=float64)\n",
      "Task switched to: 0\n",
      "Switching... context loss: tf.Tensor(0.08503102015524913, shape=(), dtype=float64)\n",
      "Task switched to: 1\n",
      "Switching... context loss: tf.Tensor(0.2836461341902524, shape=(), dtype=float64)\n",
      "Task switched to: 2\n",
      "Switching... context loss: tf.Tensor(0.1917466184316977, shape=(), dtype=float64)\n",
      "Task switched to: 3\n",
      "1\n",
      "Switching... context loss: tf.Tensor(0.3043341591374219, shape=(), dtype=float64)\n",
      "Task switched to: 4\n",
      "Switching... context loss: tf.Tensor(0.10053697008975754, shape=(), dtype=float64)\n",
      "Task switched to: 5\n",
      "Switching... context loss: tf.Tensor(0.2966488987521939, shape=(), dtype=float64)\n",
      "Task switched to: 6\n",
      "Switching... context loss: tf.Tensor(0.20295124031048115, shape=(), dtype=float64)\n",
      "Task switched to: 7\n",
      "Switching... context loss: tf.Tensor(0.2000218060736661, shape=(), dtype=float64)\n",
      "Task switched to: 0\n",
      "Switching... context loss: tf.Tensor(0.37940273715541967, shape=(), dtype=float64)\n",
      "Task switched to: 1\n",
      "0\n",
      "Switching... context loss: tf.Tensor(0.4257107021644508, shape=(), dtype=float64)\n",
      "Task switched to: 2\n",
      "Switching... context loss: tf.Tensor(0.3140327850426181, shape=(), dtype=float64)\n",
      "Task switched to: 3\n",
      "Switching... context loss: tf.Tensor(0.10723974728718988, shape=(), dtype=float64)\n",
      "Task switched to: 4\n",
      "Switching... context loss: tf.Tensor(0.30282756720256704, shape=(), dtype=float64)\n",
      "Task switched to: 5\n",
      "Switching... context loss: tf.Tensor(0.10704850345737639, shape=(), dtype=float64)\n",
      "Task switched to: 6\n",
      "Switching... context loss: tf.Tensor(0.21425179691510315, shape=(), dtype=float64)\n",
      "Task switched to: 7\n",
      "Switching... context loss: tf.Tensor(0.2118746991664987, shape=(), dtype=float64)\n",
      "Task switched to: 0\n",
      "7\n",
      "Switching... context loss: tf.Tensor(0.2224518796821425, shape=(), dtype=float64)\n",
      "Task switched to: 1\n",
      "Switching... context loss: tf.Tensor(0.2223746870872722, shape=(), dtype=float64)\n",
      "Task switched to: 2\n",
      "Switching... context loss: tf.Tensor(0.10641249747389947, shape=(), dtype=float64)\n",
      "Task switched to: 3\n",
      "Switching... context loss: tf.Tensor(0.11188876934294162, shape=(), dtype=float64)\n",
      "Task switched to: 4\n",
      "Switching... context loss: tf.Tensor(0.3218991845658993, shape=(), dtype=float64)\n",
      "Task switched to: 5\n",
      "Switching... context loss: tf.Tensor(0.33104382780010855, shape=(), dtype=float64)\n",
      "Task switched to: 6\n",
      "Switching... context loss: tf.Tensor(0.4458753530164633, shape=(), dtype=float64)\n",
      "Task switched to: 7\n",
      "2\n",
      "Switching... context loss: tf.Tensor(0.11425977758329937, shape=(), dtype=float64)\n",
      "Task switched to: 0\n",
      "Switching... context loss: tf.Tensor(0.34031491454075535, shape=(), dtype=float64)\n",
      "Task switched to: 1\n",
      "Switching... context loss: tf.Tensor(0.1127053617280129, shape=(), dtype=float64)\n",
      "Task switched to: 2\n",
      "5\n",
      "Switching... context loss: tf.Tensor(0.4688309029425765, shape=(), dtype=float64)\n",
      "Task switched to: 3\n",
      "Switching... context loss: tf.Tensor(0.23422254716327695, shape=(), dtype=float64)\n",
      "Task switched to: 4\n",
      "Switching... context loss: tf.Tensor(0.2242205785859191, shape=(), dtype=float64)\n",
      "Task switched to: 5\n",
      "4\n",
      "Switching... context loss: tf.Tensor(0.24096536732205498, shape=(), dtype=float64)\n",
      "Task switched to: 6\n",
      "Switching... context loss: tf.Tensor(0.12051785905558635, shape=(), dtype=float64)\n",
      "Task switched to: 7\n",
      "Switching... context loss: tf.Tensor(0.36135904286514586, shape=(), dtype=float64)\n",
      "Task switched to: 0\n",
      "Switching... context loss: tf.Tensor(0.35959877508628324, shape=(), dtype=float64)\n",
      "Task switched to: 1\n",
      "Switching... context loss: tf.Tensor(0.1203385779647358, shape=(), dtype=float64)\n",
      "Task switched to: 2\n",
      "Switching... context loss: tf.Tensor(0.24128752876094703, shape=(), dtype=float64)\n",
      "Task switched to: 3\n",
      "Switching... context loss: tf.Tensor(0.4810392583115623, shape=(), dtype=float64)\n",
      "Task switched to: 4\n",
      "7\n",
      "Switching... context loss: tf.Tensor(0.3698255572129853, shape=(), dtype=float64)\n",
      "Task switched to: 5\n",
      "Switching... context loss: tf.Tensor(0.3695265619651277, shape=(), dtype=float64)\n",
      "Task switched to: 6\n",
      "Switching... context loss: tf.Tensor(0.49189513914747707, shape=(), dtype=float64)\n",
      "Task switched to: 7\n",
      "5\n",
      "Switching... context loss: tf.Tensor(0.3727249445055928, shape=(), dtype=float64)\n",
      "Task switched to: 0\n",
      "Switching... context loss: tf.Tensor(0.12377933088602197, shape=(), dtype=float64)\n",
      "Task switched to: 1\n",
      "Switching... context loss: tf.Tensor(0.3718975857050455, shape=(), dtype=float64)\n",
      "Task switched to: 2\n",
      "Switching... context loss: tf.Tensor(0.4964047057134964, shape=(), dtype=float64)\n",
      "Task switched to: 3\n",
      "Switching... context loss: tf.Tensor(0.24780722615013434, shape=(), dtype=float64)\n",
      "Task switched to: 4\n",
      "Switching... context loss: tf.Tensor(0.24720088895775572, shape=(), dtype=float64)\n",
      "Task switched to: 5\n",
      "2\n",
      "Switching... context loss: tf.Tensor(0.5003289539598248, shape=(), dtype=float64)\n",
      "Task switched to: 6\n",
      "Switching... context loss: tf.Tensor(0.37273024417254896, shape=(), dtype=float64)\n",
      "Task switched to: 7\n",
      "Switching... context loss: tf.Tensor(0.12515774700154952, shape=(), dtype=float64)\n",
      "Task switched to: 0\n",
      "Switching... context loss: tf.Tensor(0.37315140123571144, shape=(), dtype=float64)\n",
      "Task switched to: 1\n",
      "Switching... context loss: tf.Tensor(0.11962644384037097, shape=(), dtype=float64)\n",
      "Task switched to: 2\n",
      "0\n",
      "Switching... context loss: tf.Tensor(0.377133375495517, shape=(), dtype=float64)\n",
      "Task switched to: 3\n",
      "Switching... context loss: tf.Tensor(0.12567149542599665, shape=(), dtype=float64)\n",
      "Task switched to: 4\n",
      "Switching... context loss: tf.Tensor(0.3750936893867919, shape=(), dtype=float64)\n",
      "Task switched to: 5\n",
      "Switching... context loss: tf.Tensor(0.1257101079832942, shape=(), dtype=float64)\n",
      "Task switched to: 6\n",
      "Switching... context loss: tf.Tensor(0.25102597802663296, shape=(), dtype=float64)\n",
      "Task switched to: 7\n",
      "Switching... context loss: tf.Tensor(0.25142088498363196, shape=(), dtype=float64)\n",
      "Task switched to: 0\n",
      "1\n",
      "Switching... context loss: tf.Tensor(0.5093915594289635, shape=(), dtype=float64)\n",
      "Task switched to: 1\n",
      "4\n",
      "Switching... context loss: tf.Tensor(0.13020903505938622, shape=(), dtype=float64)\n",
      "Task switched to: 2\n",
      "Switching... context loss: tf.Tensor(0.26048382310930107, shape=(), dtype=float64)\n",
      "Task switched to: 3\n",
      "Switching... context loss: tf.Tensor(0.5191219434333585, shape=(), dtype=float64)\n",
      "Task switched to: 4\n",
      "3\n",
      "Switching... context loss: tf.Tensor(0.5267783181922258, shape=(), dtype=float64)\n",
      "Task switched to: 5\n",
      "Switching... context loss: tf.Tensor(0.26330887760107813, shape=(), dtype=float64)\n",
      "Task switched to: 6\n",
      "Switching... context loss: tf.Tensor(0.3924684116899049, shape=(), dtype=float64)\n",
      "Task switched to: 7\n",
      "Switching... context loss: tf.Tensor(0.1318106591595755, shape=(), dtype=float64)\n",
      "Task switched to: 0\n",
      "Switching... context loss: tf.Tensor(0.1314499922240372, shape=(), dtype=float64)\n",
      "Task switched to: 1\n",
      "Switching... context loss: tf.Tensor(0.3948462087013966, shape=(), dtype=float64)\n",
      "Task switched to: 2\n",
      "Switching... context loss: tf.Tensor(0.2635512964169686, shape=(), dtype=float64)\n",
      "Task switched to: 3\n",
      "6\n",
      "Switching... context loss: tf.Tensor(0.3977254362873263, shape=(), dtype=float64)\n",
      "Task switched to: 4\n",
      "Switching... context loss: tf.Tensor(0.13239512387055452, shape=(), dtype=float64)\n",
      "Task switched to: 5\n",
      "Switching... context loss: tf.Tensor(0.13258766482783627, shape=(), dtype=float64)\n",
      "Task switched to: 6\n"
     ]
    }
   ],
   "source": [
    "train(model, x_train, y_train, 3, 750, batch_size=1, verbose=1)"
   ]
  },
  {
   "cell_type": "markdown",
   "metadata": {},
   "source": [
    "### Model Validation\n",
    "\n",
    "Assert that the model has learned all logic gates"
   ]
  },
  {
   "cell_type": "code",
   "execution_count": 187,
   "metadata": {},
   "outputs": [
    {
     "name": "stdout",
     "output_type": "stream",
     "text": [
      "Task 0: tf.Tensor(\n",
      "[[0.00108021]\n",
      " [0.9979389 ]\n",
      " [0.9968771 ]\n",
      " [0.0030008 ]], shape=(4, 1), dtype=float32) Passed\n",
      "Task 1: tf.Tensor(\n",
      "[[9.9787027e-01]\n",
      " [8.1568956e-04]\n",
      " [8.5529685e-04]\n",
      " [9.9737412e-01]], shape=(4, 1), dtype=float32) Passed\n",
      "Task 2: tf.Tensor(\n",
      "[[7.9241395e-04]\n",
      " [1.1500716e-03]\n",
      " [5.1015615e-04]\n",
      " [9.9911034e-01]], shape=(4, 1), dtype=float32) Passed\n",
      "Task 3: tf.Tensor(\n",
      "[[0.00121555]\n",
      " [0.9975407 ]\n",
      " [0.99903536]\n",
      " [0.9994967 ]], shape=(4, 1), dtype=float32) Passed\n",
      "Task 4: tf.Tensor(\n",
      "[[9.9904853e-01]\n",
      " [1.0024905e-03]\n",
      " [1.8707216e-03]\n",
      " [6.0519576e-04]], shape=(4, 1), dtype=float32) Passed\n",
      "Task 5: tf.Tensor(\n",
      "[[0.9994737 ]\n",
      " [0.9980301 ]\n",
      " [0.99780816]\n",
      " [0.00113937]], shape=(4, 1), dtype=float32) Passed\n",
      "Task 6: tf.Tensor(\n",
      "[[9.9952471e-01]\n",
      " [4.8887730e-04]\n",
      " [9.9902302e-01]\n",
      " [1.2956262e-03]], shape=(4, 1), dtype=float32) Passed\n",
      "Task 7: tf.Tensor(\n",
      "[[1.3295114e-03]\n",
      " [9.9924552e-01]\n",
      " [7.2404742e-04]\n",
      " [9.9886239e-01]], shape=(4, 1), dtype=float32) Passed\n",
      "8/8 (100%) Learned successfully\n"
     ]
    }
   ],
   "source": [
    "validate(model, x_train, y_train, num_task_contexts)"
   ]
  },
  {
   "cell_type": "code",
   "execution_count": 188,
   "metadata": {},
   "outputs": [
    {
     "data": {
      "image/png": "[encoded data removed]",
      "text/plain": [
       "<Figure size 432x288 with 1 Axes>"
      ]
     },
     "metadata": {
      "needs_background": "light"
     },
     "output_type": "display_data"
    }
   ],
   "source": [
    "model.plot_atr_values()"
   ]
  }
 ],
 "metadata": {
  "kernelspec": {
   "display_name": "Python 3",
   "language": "python",
   "name": "python3"
  },
  "language_info": {
   "codemirror_mode": {
    "name": "ipython",
    "version": 3
   },
   "file_extension": ".py",
   "mimetype": "text/x-python",
   "name": "python",
   "nbconvert_exporter": "python",
   "pygments_lexer": "ipython3",
   "version": "3.7.6"
  }
 },
 "nbformat": 4,
 "nbformat_minor": 4
}
