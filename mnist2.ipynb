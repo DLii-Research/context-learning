{
 "cells": [
  {
   "cell_type": "code",
   "execution_count": 1,
   "metadata": {},
   "outputs": [],
   "source": [
    "%load_ext autoreload"
   ]
  },
  {
   "cell_type": "code",
   "execution_count": 2,
   "metadata": {},
   "outputs": [],
   "source": [
    "# Import Tensorflow and Keras layers\n",
    "import tensorflow as tf\n",
    "from tensorflow.keras.layers import Input, Dense, Flatten, Dropout\n",
    "from tensorflow.keras import Model\n",
    "\n",
    "import math\n",
    "import numpy as np\n",
    "import random\n",
    "import sys\n",
    "\n",
    "# Utility functions\n",
    "from utils import idx_load\n",
    "\n",
    "# Import n-task library\n",
    "from ntask.atr   import AtrModel, AtrMovingAverage\n",
    "from ntask.layer import Context\n",
    "from ntask.model import NTaskModel\n",
    "from ntask.utils import plot\n",
    "\n",
    "# TEMP: Remove when model prototypes are done\n",
    "from collections import defaultdict\n",
    "import sklearn\n",
    "\n",
    "if \"__should_reload__\" in globals():\n",
    "    print(\"Reloaded...\")\n",
    "    %autoreload 2\n",
    "else:\n",
    "    __should_reload__ = True"
   ]
  },
  {
   "cell_type": "code",
   "execution_count": 3,
   "metadata": {},
   "outputs": [],
   "source": [
    "def set_seed(seed=0):\n",
    "    random.seed(seed)\n",
    "    np.random.seed(seed)\n",
    "    tf.random.set_seed(seed)"
   ]
  },
  {
   "cell_type": "markdown",
   "metadata": {},
   "source": [
    "## Dataset"
   ]
  },
  {
   "cell_type": "code",
   "execution_count": 4,
   "metadata": {},
   "outputs": [
    {
     "data": {
      "text/plain": [
       "(60000, 28, 28)"
      ]
     },
     "execution_count": 4,
     "metadata": {},
     "output_type": "execute_result"
    }
   ],
   "source": [
    "# Training images\n",
    "training_images = idx_load(\"datasets/mnist/train-images.idx3-ubyte\")\n",
    "training_images.shape"
   ]
  },
  {
   "cell_type": "code",
   "execution_count": 5,
   "metadata": {},
   "outputs": [
    {
     "data": {
      "text/plain": [
       "(60000,)"
      ]
     },
     "execution_count": 5,
     "metadata": {},
     "output_type": "execute_result"
    }
   ],
   "source": [
    "# Training labels\n",
    "training_labels = idx_load(\"datasets/mnist/train-labels.idx1-ubyte\")\n",
    "training_labels.shape"
   ]
  },
  {
   "cell_type": "code",
   "execution_count": 6,
   "metadata": {},
   "outputs": [
    {
     "data": {
      "text/plain": [
       "(10000, 28, 28)"
      ]
     },
     "execution_count": 6,
     "metadata": {},
     "output_type": "execute_result"
    }
   ],
   "source": [
    "# Testing images\n",
    "testing_images = idx_load(\"datasets/mnist/t10k-images.idx3-ubyte\")\n",
    "testing_images.shape"
   ]
  },
  {
   "cell_type": "code",
   "execution_count": 7,
   "metadata": {},
   "outputs": [
    {
     "data": {
      "text/plain": [
       "(10000,)"
      ]
     },
     "execution_count": 7,
     "metadata": {},
     "output_type": "execute_result"
    }
   ],
   "source": [
    "# Testing labels\n",
    "testing_labels = idx_load(\"datasets/mnist/t10k-labels.idx1-ubyte\")\n",
    "testing_labels.shape"
   ]
  },
  {
   "cell_type": "code",
   "execution_count": 8,
   "metadata": {},
   "outputs": [],
   "source": [
    "# Normalize the datasets\n",
    "training_images = training_images.reshape(len(training_images), 28*28) / 255.0\n",
    "testing_images  = testing_images.reshape(len(testing_images), 28*28) / 255.0"
   ]
  },
  {
   "cell_type": "code",
   "execution_count": 9,
   "metadata": {},
   "outputs": [],
   "source": [
    "def train_with_validation_plots(model, x_train, y_train, x_test, y_test, epochs, loss_fn, verbose=0):\n",
    "    \n",
    "    loss_train = {}\n",
    "    loss_test = {}\n",
    "    \n",
    "    for epoch in range(epochs):\n",
    "        loss_train[epoch] = loss_fn(y_train, model.predict(x_train))\n",
    "        loss_test[epoch] = loss_fn(y_test, model.predict(x_test))\n",
    "        model.fit(x_train, y_train, epochs=1, verbose=verbose)\n",
    "    \n",
    "    loss_train[epochs] = loss_fn(y_train, model.predict(x_train))\n",
    "    loss_test[epochs] = loss_fn(y_test, model.predict(x_test))\n",
    "    \n",
    "    plot(\"Loss Over Epochs\", [\"Training Loss\", \"Validation Loss\"], loss_train, loss_test)"
   ]
  },
  {
   "cell_type": "markdown",
   "metadata": {},
   "source": [
    "# ATR Models"
   ]
  },
  {
   "cell_type": "markdown",
   "metadata": {},
   "source": [
    "## Delayed Switch\n",
    "\n",
    "This ATR model implements a mechanism to prevent switching on the first *x* epochs at the very beginning of learning or after a switch occurs."
   ]
  },
  {
   "cell_type": "code",
   "execution_count": 10,
   "metadata": {},
   "outputs": [],
   "source": [
    "class AtrDelayedSwitch(AtrMovingAverage):\n",
    "    def __init__(self, *args, switch_delay=1, **kwargs):\n",
    "        super(AtrDelayedSwitch, self).__init__(*args, **kwargs)\n",
    "        self.switch_delay = switch_delay\n",
    "        self.epochs_without_switch = 0\n",
    "        \n",
    "    def should_switch(self, context_loss):\n",
    "        if self.epochs_without_switch >= self.switch_delay:\n",
    "            if super(AtrDelayedSwitch, self).should_switch(context_loss):\n",
    "                self.epochs_without_switch = 0\n",
    "                return True\n",
    "        self.epochs_without_switch += 1\n",
    "        return False"
   ]
  },
  {
   "cell_type": "markdown",
   "metadata": {},
   "source": [
    "## Initial Loss\n",
    "\n",
    "At the very beginning of learning or immediately after switching, it can be assumed that we are on the correct task. As such, our first few moves can be lossy. This model prevents switching until the noise at the entry of a context settles and starts to descend."
   ]
  },
  {
   "cell_type": "code",
   "execution_count": 11,
   "metadata": {},
   "outputs": [],
   "source": [
    "class AtrInitialLoss(AtrMovingAverage):\n",
    "    \n",
    "    def __init__(self, *args, **kwargs):\n",
    "        super(AtrInitialLoss, self).__init__(*args, **kwargs)\n",
    "        self.initial_atr_value = None\n",
    "        \n",
    "    def update_atr_value(self, context_loss, switched):\n",
    "        is_initial = self.get_value() is None\n",
    "        super(AtrInitialLoss, self).update_atr_value(context_loss, switched)\n",
    "        value = self.get_value()\n",
    "        if switched or is_initial:\n",
    "            self.initial_atr_value = value\n",
    "        elif value < (self.initial_atr_value or value):\n",
    "            self.initial_atr_value = None\n",
    "            \n",
    "    def should_switch(self, context_loss):\n",
    "        if self.initial_atr_value is None:\n",
    "            return super(AtrInitialLoss, self).should_switch(context_loss)\n",
    "        return False"
   ]
  },
  {
   "cell_type": "code",
   "execution_count": 73,
   "metadata": {},
   "outputs": [],
   "source": [
    "class NTaskModelBatchedLearning(NTaskModel):\n",
    "    \n",
    "    def _custom_forward_pass(self, x_train, y_train, batch_size):\n",
    "        \"\"\"\n",
    "        This is the training forward pass for an entire epoch\n",
    "\n",
    "        !!!!! Read through this code as it is a nonstandard training forward pass ( different than model.fit() )\n",
    "        & NOTE that this does not apply the gradients ie. this does not do a weight update/learn\n",
    "\n",
    "        \"\"\"\n",
    "        \n",
    "        # Calculate the total number of batches that need to be processed\n",
    "        num_batches = int(np.ceil(len(x_train) / batch_size))\n",
    "        \n",
    "        # Tensorflow 2 style training -- info can be found here: https://www.tensorflow.org/guide/effective_tf2 \n",
    "        # This is similar to model.fit(), however this is a custom training loop -- ie. it does things differently than model.fit()\n",
    "        # look at each input and label (there are 4 for the logic gates)\n",
    "        for start, end in ((s*batch_size, (s + 1)*batch_size) for s in range(num_batches)):\n",
    "            \n",
    "            # Slice into batch\n",
    "            x = x_train[start:end]\n",
    "            y = y_train[start:end]\n",
    "            \n",
    "            with tf.GradientTape() as tape:\n",
    "                predictions = self(x, training=True) # Forward pass\n",
    "                loss = self.loss_fn(y, predictions) # Get the loss\n",
    "            \n",
    "            # Extract the gradients for the loss of the current sample\n",
    "            gradients = tape.gradient(loss, self.trainable_variables)\n",
    "            \n",
    "            # Apply the gradients\n",
    "            self.optimizer.apply_gradients(zip(gradients, self.trainable_variables))\n",
    "            \n",
    "            for context_layer_idx in self.context_layers:\n",
    "                self.layers[context_layer_idx].add_context_loss(self._calc_context_loss(context_layer_idx, gradients))\n",
    "#                 print(self.layers[context_layer_idx].context_loss)\n",
    "                \n",
    "        \n",
    "    def fit(self, x_train, y_train, epochs=1, shuffle=True, progress=False, explicit_contexts=None, batch_size=32, validation_data=None, verbose=1):\n",
    "        \n",
    "        # Explicit context learning: specify the contexts for ecah of the layers. None=dynamic\n",
    "        if explicit_contexts is not None:\n",
    "            if len(explicit_contexts) != len(self.context_layers):\n",
    "                raise ValueError(\"Length of explicit contexts does not match the number of context layers\")\n",
    "            for i, idx in enumerate(self.context_layers):\n",
    "                if explicit_contexts[i] is not None:\n",
    "                    self.layers[idx].set_hot_context(explicit_contexts[i])\n",
    "        else:\n",
    "            explicit_contexts = [None for x in self.context_layers]\n",
    "        \n",
    "        # Allocate the memory for plot data\n",
    "#         self._plot_data_memory_allocate(epochs)\n",
    "        \n",
    "        # Determine the default batch size\n",
    "        if batch_size is None:\n",
    "            batch_size = len(x_train)\n",
    "        \n",
    "        # Shuffle the dataset\n",
    "        x_train, y_train = sklearn.utils.shuffle(x_train, y_train)\n",
    "        \n",
    "        epoch = 0\n",
    "        while epoch < epochs:\n",
    "            \n",
    "            # DEBUG; Display progress\n",
    "            if progress:\n",
    "                display_progress(epoch / epochs, title=str([self.layers[i].get_hot_context() for i in self.context_layers]))\n",
    "            \n",
    "            # Reset the context loss\n",
    "            for idx in self.context_layers:\n",
    "                self.layers[idx].context_loss = 0.0\n",
    "                \n",
    "            # Back up the weights in case we switch\n",
    "            weights = self.get_weights()\n",
    "            \n",
    "            # Perform a forward pass\n",
    "            self._custom_forward_pass(x_train, y_train, batch_size)\n",
    "            \n",
    "            # Iterate backwards over the context layers. If a context switch occurs, don't check any other layers\n",
    "            switched = False\n",
    "            for i in range(len(self.context_layers) - 1, -1, -1):\n",
    "                # Fetch the context layer\n",
    "                context = self.layers[self.context_layers[i]]\n",
    "                \n",
    "                # Check if explicit context learning for this layer is set\n",
    "                dynamic_switch = explicit_contexts[i] is None\n",
    "                \n",
    "                # Update the layer and indicate if a task switch occurred\n",
    "                if context.update_and_switch(dynamic_switch, verbose=verbose) & Context.RESULT_SWITCHED:\n",
    "                    # A task switch occurred, don't update any other layers/weights\n",
    "                    switched = True\n",
    "                    print(\"Switched on\", epoch)\n",
    "                    break\n",
    "            \n",
    "            # If a task switch occurred, we can revert back to the previous weights\n",
    "            if switched:\n",
    "                self.set_weights(weights)\n",
    "                \n",
    "            else:\n",
    "                # Add data to plots\n",
    "                self._add_plot_data()\n",
    "                \n",
    "                epoch += 1\n",
    "                self.total_epochs += 1\n",
    "                        \n",
    "                # Reshuffle the dataset\n",
    "                x_train, y_train = sklearn.utils.shuffle(x_train, y_train)"
   ]
  },
  {
   "cell_type": "markdown",
   "metadata": {},
   "source": [
    "# Simple MNIST\n",
    "\n",
    "A quick demonstration showing the learning ability and stability of the raw NTask model"
   ]
  },
  {
   "cell_type": "code",
   "execution_count": 60,
   "metadata": {},
   "outputs": [],
   "source": [
    "set_seed(5)"
   ]
  },
  {
   "cell_type": "markdown",
   "metadata": {},
   "source": [
    "### Loss Function"
   ]
  },
  {
   "cell_type": "code",
   "execution_count": 61,
   "metadata": {},
   "outputs": [],
   "source": [
    "loss_fn = tf.keras.losses.SparseCategoricalCrossentropy(from_logits=True)"
   ]
  },
  {
   "cell_type": "markdown",
   "metadata": {},
   "source": [
    "### Optimizer"
   ]
  },
  {
   "cell_type": "code",
   "execution_count": 62,
   "metadata": {},
   "outputs": [],
   "source": [
    "optimizer = tf.keras.optimizers.Adam(1e-4)"
   ]
  },
  {
   "cell_type": "markdown",
   "metadata": {},
   "source": [
    "### Model"
   ]
  },
  {
   "cell_type": "code",
   "execution_count": 63,
   "metadata": {},
   "outputs": [],
   "source": [
    "x_train = training_images[:1000]\n",
    "y_train = training_labels[:1000]\n",
    "\n",
    "x_test = testing_images\n",
    "y_test = testing_labels"
   ]
  },
  {
   "cell_type": "code",
   "execution_count": 64,
   "metadata": {},
   "outputs": [],
   "source": [
    "inp = Input((28*28))\n",
    "# x = Flatten()(inp)\n",
    "x = Dense(128, activation=\"relu\")(inp)\n",
    "x = Dense(10, activation=\"softmax\")(x)"
   ]
  },
  {
   "cell_type": "code",
   "execution_count": 65,
   "metadata": {},
   "outputs": [],
   "source": [
    "# model = NTaskModelBatchedLearning(inputs=inp, outputs=x)\n",
    "model = NTaskModel(inputs=inp, outputs=x)\n",
    "# model = Model(inputs=inp, outputs=x)"
   ]
  },
  {
   "cell_type": "code",
   "execution_count": 66,
   "metadata": {},
   "outputs": [],
   "source": [
    "model.compile(\n",
    "    loss=loss_fn,\n",
    "    optimizer=optimizer,\n",
    "    metrics=[tf.keras.metrics.SparseCategoricalCrossentropy()]\n",
    ")"
   ]
  },
  {
   "cell_type": "markdown",
   "metadata": {},
   "source": [
    "### Training & Evaluation"
   ]
  },
  {
   "cell_type": "markdown",
   "metadata": {},
   "source": [
    "#### Epoch-learning Model\n",
    "SGD(1e-1)"
   ]
  },
  {
   "cell_type": "code",
   "execution_count": 44,
   "metadata": {},
   "outputs": [
    {
     "data": {
      "image/png": "[encoded data removed]",
      "text/plain": [
       "<Figure size 432x288 with 1 Axes>"
      ]
     },
     "metadata": {
      "needs_background": "light"
     },
     "output_type": "display_data"
    }
   ],
   "source": [
    "train_with_validation_plots(model, x_train, y_train, x_test, y_test, epochs=100, loss_fn=loss_fn, verbose=0)"
   ]
  },
  {
   "cell_type": "markdown",
   "metadata": {},
   "source": [
    "#### Batch-learning Model\n",
    "SGD(1e-1)"
   ]
  },
  {
   "cell_type": "code",
   "execution_count": 52,
   "metadata": {},
   "outputs": [
    {
     "data": {
      "image/png": "[encoded data removed]",
      "text/plain": [
       "<Figure size 432x288 with 1 Axes>"
      ]
     },
     "metadata": {
      "needs_background": "light"
     },
     "output_type": "display_data"
    }
   ],
   "source": [
    "train_with_validation_plots(model, x_train, y_train, x_test, y_test, epochs=100, loss_fn=loss_fn, verbose=0)"
   ]
  },
  {
   "cell_type": "markdown",
   "metadata": {},
   "source": [
    "#### Epoch-learnig Model\n",
    "\n",
    "Adam (1e-4)"
   ]
  },
  {
   "cell_type": "code",
   "execution_count": 67,
   "metadata": {},
   "outputs": [
    {
     "data": {
      "image/png": "[encoded data removed]",
      "text/plain": [
       "<Figure size 432x288 with 1 Axes>"
      ]
     },
     "metadata": {
      "needs_background": "light"
     },
     "output_type": "display_data"
    }
   ],
   "source": [
    "train_with_validation_plots(model, x_train, y_train, x_test, y_test, epochs=100, loss_fn=loss_fn, verbose=0)"
   ]
  },
  {
   "cell_type": "markdown",
   "metadata": {},
   "source": [
    "#### Batch-learnig Model\n",
    "\n",
    "Adam (1e-4)"
   ]
  },
  {
   "cell_type": "code",
   "execution_count": 18,
   "metadata": {},
   "outputs": [
    {
     "data": {
      "image/png": "[encoded data removed]",
      "text/plain": [
       "<Figure size 432x288 with 1 Axes>"
      ]
     },
     "metadata": {
      "needs_background": "light"
     },
     "output_type": "display_data"
    }
   ],
   "source": [
    "train_with_validation_plots(model, x_train, y_train, x_test, y_test, epochs=100, loss_fn=loss_fn, verbose=0)"
   ]
  },
  {
   "cell_type": "code",
   "execution_count": 21,
   "metadata": {},
   "outputs": [
    {
     "name": "stdout",
     "output_type": "stream",
     "text": [
      "978/1000; Accuracy: 97.80%\n"
     ]
    }
   ],
   "source": [
    "result = (np.argmax(model.predict(x_train), axis=1) == y_train).sum()\n",
    "print(f\"{result}/{len(y_train)}; Accuracy: {100*result/len(y_train):.2f}%\")"
   ]
  },
  {
   "cell_type": "code",
   "execution_count": 22,
   "metadata": {},
   "outputs": [
    {
     "name": "stdout",
     "output_type": "stream",
     "text": [
      "8744/10000; Accuracy: 87.44%\n"
     ]
    }
   ],
   "source": [
    "result = (np.argmax(model.predict(x_test), axis=1) == y_test).sum()\n",
    "print(f\"{result}/{len(y_test)}; Accuracy: {100*result/len(y_test):.2f}%\")"
   ]
  },
  {
   "cell_type": "markdown",
   "metadata": {},
   "source": [
    "___"
   ]
  },
  {
   "cell_type": "markdown",
   "metadata": {},
   "source": [
    "## N-task: Predict *x*, 9 - *x*\n",
    "\n",
    "Task 1: Determine the value in the image. <br>\n",
    "Task 2: Determine the value in the image and subtract it from 9"
   ]
  },
  {
   "cell_type": "code",
   "execution_count": 180,
   "metadata": {},
   "outputs": [],
   "source": [
    "set_seed(5)"
   ]
  },
  {
   "cell_type": "markdown",
   "metadata": {},
   "source": [
    "### Model"
   ]
  },
  {
   "cell_type": "code",
   "execution_count": 181,
   "metadata": {},
   "outputs": [],
   "source": [
    "x_train = training_images[:1000]\n",
    "y_train = training_labels[:1000]\n",
    "y1_train = y_train\n",
    "y2_train = 9 - y_train\n",
    "\n",
    "x_test = testing_images\n",
    "y_test = testing_labels\n",
    "y1_test = y_test\n",
    "y2_test = 9 - y_test"
   ]
  },
  {
   "cell_type": "code",
   "execution_count": 182,
   "metadata": {},
   "outputs": [],
   "source": [
    "inp = Input((28*28,))\n",
    "# x = Flatten()(inp)\n",
    "x = Dense(128, activation=\"relu\")(inp)\n",
    "# x = Context(AtrMovingAverage(2, task_switch_threshold=0))(x)\n",
    "x = Context(AtrDelayedSwitch(2, task_switch_threshold=2, switch_delay=10))(x)\n",
    "# x = Context(AtrInitialLoss(2, task_switch_threshold=-0.005))(x)\n",
    "x = Dense(10, activation=\"softmax\")(x)"
   ]
  },
  {
   "cell_type": "code",
   "execution_count": 183,
   "metadata": {},
   "outputs": [],
   "source": [
    "model = NTaskModelBatchedLearning(inputs=inp, outputs=x)"
   ]
  },
  {
   "cell_type": "code",
   "execution_count": 179,
   "metadata": {},
   "outputs": [],
   "source": [
    "model.compile(\n",
    "    loss=tf.keras.losses.SparseCategoricalCrossentropy(from_logits=True),\n",
    "    optimizer=tf.keras.optimizers.SGD(1e-1)\n",
    ")"
   ]
  },
  {
   "cell_type": "markdown",
   "metadata": {},
   "source": [
    "### Training and Validation"
   ]
  },
  {
   "cell_type": "code",
   "execution_count": 747,
   "metadata": {},
   "outputs": [],
   "source": [
    "# for cycle in range(1):\n",
    "#     for context, y in enumerate([y1_train, y2_train]):\n",
    "#         print(\"Context:\", context)\n",
    "#         model.fit(x_train, y, epochs=100, verbose=1, batch_size=32, explicit_contexts=[context])\n",
    "# #         model.fit(x_train, y, epochs=40, verbose=1, batch_size=8)\n",
    "#         assert model.layers[2].get_hot_context() == context"
   ]
  },
  {
   "cell_type": "code",
   "execution_count": 748,
   "metadata": {},
   "outputs": [],
   "source": [
    "model.fit(x_train, y1_train, 40, verbose=1, batch_size=4, explicit_contexts=[0])"
   ]
  },
  {
   "cell_type": "code",
   "execution_count": 740,
   "metadata": {},
   "outputs": [],
   "source": [
    "model.layers[model.context_layers[0]].atr_model.epochs_without_switch = 40"
   ]
  },
  {
   "cell_type": "code",
   "execution_count": 726,
   "metadata": {},
   "outputs": [
    {
     "name": "stdout",
     "output_type": "stream",
     "text": [
      "Switching... context loss: tf.Tensor(2.330035155702837e-05, shape=(), dtype=float64)\n",
      "Task switched to: 1\n",
      "Switched on 0\n"
     ]
    }
   ],
   "source": [
    "model.fit(x_train, y2_train, 1, verbose=1, batch_size=32)"
   ]
  },
  {
   "cell_type": "code",
   "execution_count": 741,
   "metadata": {},
   "outputs": [
    {
     "data": {
      "text/plain": [
       "<tf.Tensor: shape=(), dtype=float64, numpy=2.944179782474661e-05>"
      ]
     },
     "execution_count": 741,
     "metadata": {},
     "output_type": "execute_result"
    }
   ],
   "source": [
    "model.layers[model.context_layers[0]].atr_model.get_value() - 2.330035155702837e-05"
   ]
  },
  {
   "cell_type": "code",
   "execution_count": 622,
   "metadata": {},
   "outputs": [
    {
     "name": "stdout",
     "output_type": "stream",
     "text": [
      "116/1000; Accuracy: 11.60%\n",
      "87/1000; Accuracy: 8.70%\n"
     ]
    }
   ],
   "source": [
    "for context, y in enumerate([y1_train, y2_train]):\n",
    "    model.set_contexts([context])\n",
    "    result = (np.argmax(model(x_train), axis=1) == y).sum()\n",
    "    print(f\"{result}/{len(y)}; Accuracy: {100*result/len(y):.2f}%\")"
   ]
  },
  {
   "cell_type": "code",
   "execution_count": 623,
   "metadata": {},
   "outputs": [
    {
     "name": "stdout",
     "output_type": "stream",
     "text": [
      "1135/10000; Accuracy: 11.35%\n",
      "974/10000; Accuracy: 9.74%\n"
     ]
    }
   ],
   "source": [
    "for context, y in enumerate([y1_test, y2_test]):\n",
    "    model.set_contexts([context])\n",
    "    result = (np.argmax(model(x_test), axis=1) == y).sum()\n",
    "    print(f\"{result}/{len(y)}; Accuracy: {100*result/len(y):.2f}%\")"
   ]
  },
  {
   "cell_type": "code",
   "execution_count": 749,
   "metadata": {},
   "outputs": [
    {
     "data": {
      "image/png": "[encoded data removed]",
      "text/plain": [
       "<Figure size 432x288 with 1 Axes>"
      ]
     },
     "metadata": {
      "needs_background": "light"
     },
     "output_type": "display_data"
    }
   ],
   "source": [
    "model.plot()"
   ]
  },
  {
   "cell_type": "code",
   "execution_count": null,
   "metadata": {},
   "outputs": [],
   "source": []
  },
  {
   "cell_type": "markdown",
   "metadata": {},
   "source": [
    "___\n",
    "\n",
    "## MNIST: n-task"
   ]
  },
  {
   "cell_type": "code",
   "execution_count": 74,
   "metadata": {},
   "outputs": [],
   "source": [
    "set_seed(5)"
   ]
  },
  {
   "cell_type": "markdown",
   "metadata": {},
   "source": [
    "### Model"
   ]
  },
  {
   "cell_type": "code",
   "execution_count": 75,
   "metadata": {},
   "outputs": [],
   "source": [
    "x_train = training_images[:60000]\n",
    "y_train = training_labels[:60000]\n",
    "\n",
    "y1_train = np.array([int(i % 2 == 0) for i in y_train]) # Even\n",
    "y2_train = np.array([int(i % 2 == 1) for i in y_train]) # Odd\n",
    "y3_train = np.array([int(i % 3 == 0) for i in y_train]) # Divisible by 3"
   ]
  },
  {
   "cell_type": "code",
   "execution_count": 76,
   "metadata": {},
   "outputs": [],
   "source": [
    "x_test = testing_images\n",
    "y_test = testing_labels\n",
    "\n",
    "y1_test = np.array([int(i % 2 == 0) for i in y_test]) # Even\n",
    "y2_test = np.array([int(i % 2 == 1) for i in y_test]) # Odd\n",
    "y3_test = np.array([int(i % 3 == 0) for i in y_test]) # Divisible by 3"
   ]
  },
  {
   "cell_type": "code",
   "execution_count": 77,
   "metadata": {},
   "outputs": [],
   "source": [
    "inp = Input((28*28,))\n",
    "x = Dense(128, activation=\"relu\")(inp)\n",
    "# x = Context(AtrMovingAverage(num_tasks=1, task_switch_threshold=-0.02))(x)\n",
    "x = Dense(1, activation=\"sigmoid\")(x)"
   ]
  },
  {
   "cell_type": "code",
   "execution_count": 78,
   "metadata": {},
   "outputs": [],
   "source": [
    "model = NTaskModelBatchedLearning(inputs=inp, outputs=x)"
   ]
  },
  {
   "cell_type": "code",
   "execution_count": 79,
   "metadata": {},
   "outputs": [],
   "source": [
    "model.compile(\n",
    "    loss=tf.keras.losses.BinaryCrossentropy(),\n",
    "    optimizer=tf.keras.optimizers.SGD(1e-4),\n",
    "    metrics=[\n",
    "        tf.keras.metrics.Accuracy()\n",
    "    ]\n",
    ")"
   ]
  },
  {
   "cell_type": "code",
   "execution_count": 80,
   "metadata": {},
   "outputs": [
    {
     "name": "stdout",
     "output_type": "stream",
     "text": [
      "0\n"
     ]
    }
   ],
   "source": [
    "for cycle in range(1):\n",
    "    for i, y in enumerate([y1_train]):\n",
    "        print(i)\n",
    "#         model.fit(x_train, y, epochs=100, verbose=0, batch_size=32, explicit_contexts=[i])\n",
    "        model.fit(x_train, y, epochs=10, verbose=1, batch_size=64)"
   ]
  },
  {
   "cell_type": "code",
   "execution_count": 81,
   "metadata": {},
   "outputs": [
    {
     "name": "stdout",
     "output_type": "stream",
     "text": [
      "30902/60000; Accuracy: 51.50%\n"
     ]
    }
   ],
   "source": [
    "for context, y in enumerate([y1_train]):\n",
    "#     model.set_contexts([context])\n",
    "    result = (np.round(model(x_train)).astype(int).flatten() == y).sum()\n",
    "    print(f\"{result}/{len(y)}; Accuracy: {100*result/len(y):.2f}%\")"
   ]
  },
  {
   "cell_type": "code",
   "execution_count": 966,
   "metadata": {},
   "outputs": [
    {
     "data": {
      "image/png": "[encoded data removed]",
      "text/plain": [
       "<Figure size 432x288 with 1 Axes>"
      ]
     },
     "metadata": {
      "needs_background": "light"
     },
     "output_type": "display_data"
    }
   ],
   "source": [
    "model.plot()"
   ]
  },
  {
   "cell_type": "code",
   "execution_count": 83,
   "metadata": {},
   "outputs": [
    {
     "name": "stdout",
     "output_type": "stream",
     "text": [
      "1875/1875 [==============================] - 1s 565us/step - loss: 0.0000e+00\n"
     ]
    },
    {
     "data": {
      "text/plain": [
       "0.0"
      ]
     },
     "execution_count": 83,
     "metadata": {},
     "output_type": "execute_result"
    }
   ],
   "source": [
    "model.evaluate(x_train, y_train)"
   ]
  },
  {
   "cell_type": "code",
   "execution_count": null,
   "metadata": {},
   "outputs": [],
   "source": []
  }
 ],
 "metadata": {
  "kernelspec": {
   "display_name": "Python 3",
   "language": "python",
   "name": "python3"
  },
  "language_info": {
   "codemirror_mode": {
    "name": "ipython",
    "version": 3
   },
   "file_extension": ".py",
   "mimetype": "text/x-python",
   "name": "python",
   "nbconvert_exporter": "python",
   "pygments_lexer": "ipython3",
   "version": "3.7.6"
  }
 },
 "nbformat": 4,
 "nbformat_minor": 4
}
