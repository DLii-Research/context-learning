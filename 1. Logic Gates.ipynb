{
 "cells": [
  {
   "cell_type": "markdown",
   "metadata": {},
   "source": [
    "# Logic Gate Task\n",
    "\n",
    "This task utilizes a simple neural network containing single n-task context layer to learn eight different logic gates."
   ]
  },
  {
   "cell_type": "code",
   "execution_count": 1,
   "metadata": {},
   "outputs": [],
   "source": [
    "import tensorflow as tf\n",
    "from tensorflow.keras.utils import plot_model\n",
    "from tensorflow.keras.layers import Input, Dense\n",
    "\n",
    "import datetime\n",
    "import numpy as np\n",
    "import os\n",
    "import scipy.stats\n",
    "import pickle\n",
    "\n",
    "import matplotlib as mpl\n",
    "import matplotlib.pyplot as plt\n",
    "\n",
    "# Import n-task\n",
    "from keras_context.switches import TdErrorSwitch\n",
    "from keras_context.callbacks import ContextLogger\n",
    "from keras_context.flags import Verbosity\n",
    "from keras_context.layers import Context\n",
    "from keras_context.models import ContextModel\n",
    "from keras_context.training import train, evaluate\n",
    "from keras_context.utils import set_seed\n",
    "import numpy as np"
   ]
  },
  {
   "cell_type": "markdown",
   "metadata": {},
   "source": [
    "___"
   ]
  },
  {
   "cell_type": "markdown",
   "metadata": {},
   "source": [
    "## Experimentation Setup\n",
    "\n",
    "The following cells here build everything up for the experiments to execute"
   ]
  },
  {
   "cell_type": "markdown",
   "metadata": {},
   "source": [
    "### Dataset Creation\n",
    "\n",
    "The following cell creates the base dataset with all of the gates."
   ]
  },
  {
   "cell_type": "code",
   "execution_count": 31,
   "metadata": {},
   "outputs": [],
   "source": [
    "# Define the gates explicitly\n",
    "gates = {\n",
    "    \"xor\":      [0, 1, 1, 0],\n",
    "    \"xnor\":     [1, 0, 0, 1],\n",
    "    \"and\":      [0, 0, 0, 1],\n",
    "    \"or\":       [0, 1, 1, 1],\n",
    "    \"nor\":      [1, 0, 0, 0],\n",
    "    \"nand\":     [1, 1, 1, 0],\n",
    "    \"custom_1\": [1, 0, 1, 0],\n",
    "    \"custom_2\": [0, 1, 0, 1]\n",
    "}\n",
    "\n",
    "# Build the labels used for `y_train` to work with the `train` convenience function\n",
    "y_labels = [np.array([[i] for i in gate]) for gate in gates.values()]\n",
    "\n",
    "# The inputs for each of the gates\n",
    "x_train = np.array([[-1, -1], [-1, 1], [1, -1], [1, 1]])"
   ]
  },
  {
   "cell_type": "markdown",
   "metadata": {},
   "source": [
    "### Model Architecture and Creation"
   ]
  },
  {
   "cell_type": "markdown",
   "metadata": {},
   "source": [
    "The following function creates a new instance of the model for each experiment. The hyperparameters are provided as arguments. The model summary is also displayed."
   ]
  },
  {
   "cell_type": "code",
   "execution_count": 32,
   "metadata": {},
   "outputs": [],
   "source": [
    "def create_model(tag, optimizer, num_contexts, max_contexts=0, switch_threshold=0.0, add_threshold=0.0, summary=True):\n",
    "    # Model architecture\n",
    "    inp = Input((2,))\n",
    "    x = Dense(hrr_size, activation=\"relu\")(inp)\n",
    "    x = Context(\n",
    "        num_contexts,\n",
    "        TdErrorSwitch(learn_rate=0.5, max_contexts=max_contexts, switch_threshold=switch_threshold, add_threshold=add_threshold),\n",
    "        name=\"Gate_Context\"\n",
    "    )(x)\n",
    "    x = Dense(1, activation=\"sigmoid\")(x)\n",
    "    model = ContextModel(inputs=inp, outputs=x)\n",
    "    \n",
    "    # Compile the model together with binary_crossentropy loss\n",
    "    model.compile(\n",
    "        loss=tf.keras.losses.BinaryCrossentropy(),\n",
    "        optimizer=optimizer,\n",
    "        metrics=[\n",
    "            tf.keras.metrics.BinaryAccuracy()\n",
    "        ]\n",
    "    )\n",
    "    \n",
    "    # Display the model summary\n",
    "    if summary:\n",
    "        model.summary()\n",
    "    \n",
    "    return model"
   ]
  },
  {
   "cell_type": "markdown",
   "metadata": {},
   "source": [
    "___"
   ]
  },
  {
   "cell_type": "markdown",
   "metadata": {},
   "source": [
    "## Experimentation"
   ]
  },
  {
   "cell_type": "markdown",
   "metadata": {},
   "source": [
    "### 1. Static n-task: (XOR, XNOR)\n",
    "\n",
    "The following experiments demonstrates the model successfully learning two separate logic gates."
   ]
  },
  {
   "cell_type": "code",
   "execution_count": 9,
   "metadata": {},
   "outputs": [],
   "source": [
    "TAG = \"static-2-gate\""
   ]
  },
  {
   "cell_type": "markdown",
   "metadata": {},
   "source": [
    "#### Dataset"
   ]
  },
  {
   "cell_type": "code",
   "execution_count": 10,
   "metadata": {},
   "outputs": [],
   "source": [
    "y_train = y_labels[:2]"
   ]
  },
  {
   "cell_type": "markdown",
   "metadata": {},
   "source": [
    "#### Seeding"
   ]
  },
  {
   "cell_type": "code",
   "execution_count": 11,
   "metadata": {},
   "outputs": [],
   "source": [
    "set_seed(5)"
   ]
  },
  {
   "cell_type": "markdown",
   "metadata": {},
   "source": [
    "#### Model Creation"
   ]
  },
  {
   "cell_type": "code",
   "execution_count": 12,
   "metadata": {},
   "outputs": [
    {
     "name": "stdout",
     "output_type": "stream",
     "text": [
      "Model: \"context_model_1\"\n",
      "_________________________________________________________________\n",
      "Layer (type)                 Output Shape              Param #   \n",
      "=================================================================\n",
      "input_2 (InputLayer)         [(None, 2)]               0         \n",
      "_________________________________________________________________\n",
      "dense_2 (Dense)              (None, 128)               384       \n",
      "_________________________________________________________________\n",
      "Gate_Context (Context)       (None, 128)               260       \n",
      "_________________________________________________________________\n",
      "dense_3 (Dense)              (None, 1)                 129       \n",
      "=================================================================\n",
      "Total params: 773\n",
      "Trainable params: 513\n",
      "Non-trainable params: 260\n",
      "_________________________________________________________________\n"
     ]
    }
   ],
   "source": [
    "# Optimizer\n",
    "optimizer = tf.keras.optimizers.SGD(1e-1)\n",
    "\n",
    "# Hyperparameters\n",
    "hrr_size         = 128\n",
    "num_contexts     = len(y_train)\n",
    "switch_threshold = -0.02\n",
    "\n",
    "# Create the model\n",
    "model = create_model(TAG, optimizer, num_contexts=len(y_train), switch_threshold=switch_threshold)"
   ]
  },
  {
   "cell_type": "markdown",
   "metadata": {},
   "source": [
    "#### Training"
   ]
  },
  {
   "cell_type": "code",
   "execution_count": 13,
   "metadata": {},
   "outputs": [
    {
     "name": "stdout",
     "output_type": "stream",
     "text": [
      "\n",
      "[Gate_Context] Switched context to 1\n",
      "\n",
      "[Gate_Context] Switched context to 0\n",
      "\n",
      "[Gate_Context] Switched context to 1\n",
      "\n",
      "[Gate_Context] Switched context to 0\n",
      "CPU times: user 1.12 s, sys: 46.9 ms, total: 1.17 s\n",
      "Wall time: 1.07 s\n"
     ]
    }
   ],
   "source": [
    "cycles     = 3\n",
    "epochs     = 10\n",
    "batch_size = 1\n",
    "\n",
    "shuffle              = True  # Shuffle the active context dataset during training\n",
    "task_shuffle         = True  # Shuffle the contexts during training after first epoch\n",
    "initial_task_shuffle = True  # Shuffle the contexts before training\n",
    "\n",
    "verbose = Verbosity.Contexts\n",
    "\n",
    "logger = ContextLogger()\n",
    "callbacks = [logger]\n",
    "\n",
    "# Train the model\n",
    "%time _, _, task_map, context_map = train(model, x_train, y_train, cycles, epochs, task_shuffle, initial_task_shuffle, batch_size=batch_size, shuffle=shuffle, callbacks=callbacks, verbose=verbose)"
   ]
  },
  {
   "cell_type": "code",
   "execution_count": 14,
   "metadata": {},
   "outputs": [
    {
     "data": {
      "image/png": "[encoded data removed]",
      "text/plain": [
       "<Figure size 576x576 with 2 Axes>"
      ]
     },
     "metadata": {
      "needs_background": "light"
     },
     "output_type": "display_data"
    }
   ],
   "source": [
    "logger.plot(figsize=(8,8), title=\"Test\")"
   ]
  },
  {
   "cell_type": "markdown",
   "metadata": {},
   "source": [
    "#### Evaluation"
   ]
  },
  {
   "cell_type": "code",
   "execution_count": 21,
   "metadata": {},
   "outputs": [
    {
     "name": "stdout",
     "output_type": "stream",
     "text": [
      "array([[0.04025948],\n",
      "       [0.96960604],\n",
      "       [0.96226275],\n",
      "       [0.03171104]], dtype=float32)\n",
      "array([[0.97145987],\n",
      "       [0.02444988],\n",
      "       [0.03115296],\n",
      "       [0.9637778 ]], dtype=float32)\n",
      "CPU times: user 312 ms, sys: 15.6 ms, total: 328 ms\n",
      "Wall time: 318 ms\n"
     ]
    },
    {
     "data": {
      "text/plain": [
       "[{'loss': 0.03566252812743187, 'binary_accuracy': 1.0},\n",
       " {'loss': 0.030563028529286385, 'binary_accuracy': 1.0}]"
      ]
     },
     "execution_count": 21,
     "metadata": {},
     "output_type": "execute_result"
    }
   ],
   "source": [
    "batch_size = 1\n",
    "display_predictions = True\n",
    "verbose = 0\n",
    "\n",
    "%time evaluate(model, x_train, y_train, task_map, context_map, display_predictions, batch_size=batch_size, verbose=verbose)"
   ]
  },
  {
   "cell_type": "markdown",
   "metadata": {},
   "source": [
    "___"
   ]
  },
  {
   "cell_type": "markdown",
   "metadata": {},
   "source": [
    "### 2. Dynamic n-task: (XOR, XNOR)\n",
    "\n",
    "The following experiments demonstrates the model successfully learning two separate logic gates dynamically adding contexts to the layers."
   ]
  },
  {
   "cell_type": "code",
   "execution_count": 28,
   "metadata": {},
   "outputs": [],
   "source": [
    "TAG = \"dynamic-2-gate\""
   ]
  },
  {
   "cell_type": "markdown",
   "metadata": {},
   "source": [
    "#### Dataset"
   ]
  },
  {
   "cell_type": "code",
   "execution_count": 29,
   "metadata": {},
   "outputs": [],
   "source": [
    "y_train = y_labels[:2]"
   ]
  },
  {
   "cell_type": "markdown",
   "metadata": {},
   "source": [
    "#### Seeding"
   ]
  },
  {
   "cell_type": "code",
   "execution_count": 30,
   "metadata": {},
   "outputs": [],
   "source": [
    "set_seed(5)"
   ]
  },
  {
   "cell_type": "markdown",
   "metadata": {},
   "source": [
    "#### Model Creation"
   ]
  },
  {
   "cell_type": "code",
   "execution_count": 31,
   "metadata": {},
   "outputs": [
    {
     "name": "stdout",
     "output_type": "stream",
     "text": [
      "Model: \"context_model_4\"\n",
      "_________________________________________________________________\n",
      "Layer (type)                 Output Shape              Param #   \n",
      "=================================================================\n",
      "input_5 (InputLayer)         [(None, 2)]               0         \n",
      "_________________________________________________________________\n",
      "dense_8 (Dense)              (None, 128)               384       \n",
      "_________________________________________________________________\n",
      "Gate_Context (Context)       (None, 128)               260       \n",
      "_________________________________________________________________\n",
      "dense_9 (Dense)              (None, 1)                 129       \n",
      "=================================================================\n",
      "Total params: 773\n",
      "Trainable params: 513\n",
      "Non-trainable params: 260\n",
      "_________________________________________________________________\n"
     ]
    }
   ],
   "source": [
    "# Optimizer\n",
    "optimizer = tf.keras.optimizers.SGD(1e-1)\n",
    "\n",
    "# Hyperparameters\n",
    "hrr_size         = 128\n",
    "num_contexts     = 1\n",
    "max_contexts     = len(y_train)\n",
    "switch_threshold = -0.02\n",
    "add_threshold    = -0.04\n",
    "\n",
    "# Create the model\n",
    "model = create_model(TAG, optimizer, num_contexts=num_contexts, max_contexts=max_contexts, switch_threshold=switch_threshold, add_threshold=add_threshold)"
   ]
  },
  {
   "cell_type": "markdown",
   "metadata": {},
   "source": [
    "#### Training"
   ]
  },
  {
   "cell_type": "code",
   "execution_count": 32,
   "metadata": {},
   "outputs": [
    {
     "name": "stdout",
     "output_type": "stream",
     "text": [
      "\n",
      "[Gate_Context] Adding context 1\n",
      "\n",
      "[Gate_Context] Switched context to 1\n",
      "\n",
      "[Gate_Context] Switched context to 0\n",
      "\n",
      "[Gate_Context] Switched context to 1\n",
      "\n",
      "[Gate_Context] Switched context to 0\n",
      "CPU times: user 1.2 s, sys: 266 ms, total: 1.47 s\n",
      "Wall time: 1.09 s\n"
     ]
    }
   ],
   "source": [
    "cycles     = 3\n",
    "epochs     = 10\n",
    "batch_size = 1\n",
    "\n",
    "shuffle              = True  # Shuffle the active context dataset during training\n",
    "task_shuffle         = True  # Shuffle the contexts during training after first epoch\n",
    "initial_task_shuffle = True  # Shuffle the contexts before training\n",
    "\n",
    "verbose = Verbosity.Contexts\n",
    "\n",
    "logger = ContextLogger()\n",
    "callbacks = [logger]\n",
    "\n",
    "# Benchmark the model\n",
    "%time _, _, task_map, context_map = train(model, x_train, y_train, cycles, epochs, task_shuffle, initial_task_shuffle, batch_size=batch_size, shuffle=shuffle, callbacks=callbacks, verbose=verbose)"
   ]
  },
  {
   "cell_type": "code",
   "execution_count": 33,
   "metadata": {},
   "outputs": [
    {
     "data": {
      "image/png": "[encoded data removed]",
      "text/plain": [
       "<Figure size 1080x720 with 2 Axes>"
      ]
     },
     "metadata": {
      "needs_background": "light"
     },
     "output_type": "display_data"
    }
   ],
   "source": [
    "logger.plot(figsize=(15,10))"
   ]
  },
  {
   "cell_type": "markdown",
   "metadata": {},
   "source": [
    "#### Evaluation"
   ]
  },
  {
   "cell_type": "code",
   "execution_count": 34,
   "metadata": {},
   "outputs": [
    {
     "name": "stdout",
     "output_type": "stream",
     "text": [
      "array([[0.04025948],\n",
      "       [0.96960604],\n",
      "       [0.96226275],\n",
      "       [0.03171104]], dtype=float32)\n",
      "array([[0.97145987],\n",
      "       [0.02444988],\n",
      "       [0.03115296],\n",
      "       [0.9637778 ]], dtype=float32)\n",
      "CPU times: user 312 ms, sys: 46.9 ms, total: 359 ms\n",
      "Wall time: 350 ms\n"
     ]
    },
    {
     "data": {
      "text/plain": [
       "[{'loss': 0.03566252812743187, 'binary_accuracy': 1.0},\n",
       " {'loss': 0.030563028529286385, 'binary_accuracy': 1.0}]"
      ]
     },
     "execution_count": 34,
     "metadata": {},
     "output_type": "execute_result"
    }
   ],
   "source": [
    "batch_size = 1\n",
    "display_predictions = True\n",
    "verbose = 0\n",
    "\n",
    "%time evaluate(model, x_train, y_train, task_map, context_map, display_predictions, batch_size=batch_size, verbose=verbose)"
   ]
  },
  {
   "cell_type": "markdown",
   "metadata": {},
   "source": [
    "___"
   ]
  },
  {
   "cell_type": "markdown",
   "metadata": {},
   "source": [
    "### 3. Static n-task: All Gates\n",
    "\n",
    "The following experiments demonstrates the model successfully learning two separate logic gates dynamically adding contexts to the layers."
   ]
  },
  {
   "cell_type": "code",
   "execution_count": 44,
   "metadata": {},
   "outputs": [],
   "source": [
    "TAG = \"static-all-gates\""
   ]
  },
  {
   "cell_type": "markdown",
   "metadata": {},
   "source": [
    "#### Dataset"
   ]
  },
  {
   "cell_type": "code",
   "execution_count": 45,
   "metadata": {},
   "outputs": [],
   "source": [
    "y_train = y_labels[:]"
   ]
  },
  {
   "cell_type": "markdown",
   "metadata": {},
   "source": [
    "#### Seeding"
   ]
  },
  {
   "cell_type": "code",
   "execution_count": 46,
   "metadata": {},
   "outputs": [],
   "source": [
    "set_seed(10)"
   ]
  },
  {
   "cell_type": "markdown",
   "metadata": {},
   "source": [
    "#### Model Creation"
   ]
  },
  {
   "cell_type": "code",
   "execution_count": 47,
   "metadata": {},
   "outputs": [
    {
     "name": "stdout",
     "output_type": "stream",
     "text": [
      "Model: \"context_model_2\"\n",
      "_________________________________________________________________\n",
      "Layer (type)                 Output Shape              Param #   \n",
      "=================================================================\n",
      "input_3 (InputLayer)         [(None, 2)]               0         \n",
      "_________________________________________________________________\n",
      "dense_4 (Dense)              (None, 256)               768       \n",
      "_________________________________________________________________\n",
      "Gate_Context (Context)       (None, 256)               2058      \n",
      "_________________________________________________________________\n",
      "dense_5 (Dense)              (None, 1)                 257       \n",
      "=================================================================\n",
      "Total params: 3,083\n",
      "Trainable params: 1,025\n",
      "Non-trainable params: 2,058\n",
      "_________________________________________________________________\n"
     ]
    }
   ],
   "source": [
    "# Optimizer\n",
    "optimizer = tf.keras.optimizers.SGD(1e-1)\n",
    "\n",
    "# Hyperparameters\n",
    "hrr_size         = 256\n",
    "num_contexts     = len(y_train)\n",
    "switch_threshold = -0.02\n",
    "\n",
    "# Create the model\n",
    "model = create_model(TAG, optimizer, num_contexts=num_contexts, switch_threshold=switch_threshold)"
   ]
  },
  {
   "cell_type": "markdown",
   "metadata": {},
   "source": [
    "#### Training"
   ]
  },
  {
   "cell_type": "code",
   "execution_count": 48,
   "metadata": {},
   "outputs": [
    {
     "name": "stdout",
     "output_type": "stream",
     "text": [
      "CPU times: user 24.5 s, sys: 2.86 s, total: 27.4 s\n",
      "Wall time: 22 s\n"
     ]
    }
   ],
   "source": [
    "cycles     = 4\n",
    "epochs     = 50\n",
    "batch_size = 1\n",
    "\n",
    "shuffle              = True  # Shuffle the active context dataset during training\n",
    "task_shuffle         = True  # Shuffle the contexts during training after first epoch\n",
    "initial_task_shuffle = True  # Shuffle the contexts before training\n",
    "\n",
    "verbose = 0 # Verbosity.Contexts\n",
    "\n",
    "logger = ContextLogger()\n",
    "callbacks = [logger]\n",
    "\n",
    "# Benchmark the model\n",
    "%time history, evals, task_map, context_map = train(model, x_train, y_train, cycles, epochs, task_shuffle, initial_task_shuffle, batch_size=batch_size, shuffle=shuffle, callbacks=callbacks, verbose=verbose)"
   ]
  },
  {
   "cell_type": "code",
   "execution_count": 49,
   "metadata": {},
   "outputs": [
    {
     "data": {
      "image/png": "[encoded data removed]",
      "text/plain": [
       "<Figure size 360x360 with 2 Axes>"
      ]
     },
     "metadata": {
      "needs_background": "light"
     },
     "output_type": "display_data"
    }
   ],
   "source": [
    "logger.plot(figsize=(5,5), savefile=\"graphs/gates_static.pgf\")"
   ]
  },
  {
   "cell_type": "markdown",
   "metadata": {},
   "source": [
    "#### Evaluation"
   ]
  },
  {
   "cell_type": "code",
   "execution_count": 50,
   "metadata": {},
   "outputs": [
    {
     "name": "stdout",
     "output_type": "stream",
     "text": [
      "array([[9.7808242e-04],\n",
      "       [9.9937528e-01],\n",
      "       [9.9916089e-01],\n",
      "       [1.4414489e-03]], dtype=float32)\n",
      "array([[9.9885857e-01],\n",
      "       [6.0823560e-04],\n",
      "       [1.4194548e-03],\n",
      "       [9.9896598e-01]], dtype=float32)\n",
      "array([[1.3930965e-05],\n",
      "       [1.8936694e-03],\n",
      "       [1.6820431e-04],\n",
      "       [9.9999940e-01]], dtype=float32)\n",
      "array([[6.6667795e-04],\n",
      "       [9.9947953e-01],\n",
      "       [9.9948859e-01],\n",
      "       [9.9989837e-01]], dtype=float32)\n",
      "array([[9.9974006e-01],\n",
      "       [1.7535090e-03],\n",
      "       [2.0153821e-03],\n",
      "       [2.7158856e-04]], dtype=float32)\n",
      "array([[9.9971354e-01],\n",
      "       [9.9867600e-01],\n",
      "       [9.9873412e-01],\n",
      "       [8.4257126e-04]], dtype=float32)\n",
      "array([[9.9971092e-01],\n",
      "       [4.6984511e-05],\n",
      "       [9.9954426e-01],\n",
      "       [4.4375276e-05]], dtype=float32)\n",
      "array([[2.7868152e-04],\n",
      "       [9.9934024e-01],\n",
      "       [6.7395595e-05],\n",
      "       [9.9924916e-01]], dtype=float32)\n",
      "CPU times: user 594 ms, sys: 93.8 ms, total: 688 ms\n",
      "Wall time: 683 ms\n"
     ]
    },
    {
     "data": {
      "text/plain": [
       "[{'loss': 0.0009713891195133328, 'binary_accuracy': 1.0},\n",
       " {'loss': 0.0010513985762372613, 'binary_accuracy': 1.0},\n",
       " {'loss': 0.0005195346311666071, 'binary_accuracy': 1.0},\n",
       " {'loss': 0.00045019283425062895, 'binary_accuracy': 1.0},\n",
       " {'loss': 0.0010760144796222448, 'binary_accuracy': 1.0},\n",
       " {'loss': 0.0009302362450398505, 'binary_accuracy': 1.0},\n",
       " {'loss': 0.00020906885038129985, 'binary_accuracy': 1.0},\n",
       " {'loss': 0.0004393107956275344, 'binary_accuracy': 1.0}]"
      ]
     },
     "execution_count": 50,
     "metadata": {},
     "output_type": "execute_result"
    }
   ],
   "source": [
    "batch_size = 1\n",
    "display_predictions = True\n",
    "verbose = 0\n",
    "\n",
    "%time evaluate(model, x_train, y_train, task_map, context_map, display_predictions, batch_size=batch_size, verbose=verbose)"
   ]
  },
  {
   "cell_type": "markdown",
   "metadata": {},
   "source": [
    "___"
   ]
  },
  {
   "cell_type": "markdown",
   "metadata": {},
   "source": [
    "### 4. Dynamic n-task: All Gates\n",
    "\n",
    "The following experiments demonstrates the model successfully learning two separate logic gates dynamically adding contexts to the layers.\n",
    "\n",
    "**NOTE:** The results to this task require some further analysis. I'm not certain what exactly the spikes really mean here, especially since they're displaying positive context-loss deltas. Also the fact that the first few tasks are initially learned using the very first context, and only later are things learned in their appropriate contexts."
   ]
  },
  {
   "cell_type": "code",
   "execution_count": 53,
   "metadata": {},
   "outputs": [],
   "source": [
    "TAG = \"dynamic-all-gates\""
   ]
  },
  {
   "cell_type": "markdown",
   "metadata": {},
   "source": [
    "#### Dataset"
   ]
  },
  {
   "cell_type": "code",
   "execution_count": 54,
   "metadata": {},
   "outputs": [],
   "source": [
    "y_train = y_labels[:]"
   ]
  },
  {
   "cell_type": "markdown",
   "metadata": {},
   "source": [
    "#### Seeding"
   ]
  },
  {
   "cell_type": "code",
   "execution_count": 55,
   "metadata": {},
   "outputs": [],
   "source": [
    "set_seed(10)"
   ]
  },
  {
   "cell_type": "markdown",
   "metadata": {},
   "source": [
    "#### Model Creation"
   ]
  },
  {
   "cell_type": "code",
   "execution_count": 56,
   "metadata": {},
   "outputs": [
    {
     "name": "stdout",
     "output_type": "stream",
     "text": [
      "Model: \"context_model_8\"\n",
      "_________________________________________________________________\n",
      "Layer (type)                 Output Shape              Param #   \n",
      "=================================================================\n",
      "input_9 (InputLayer)         [(None, 2)]               0         \n",
      "_________________________________________________________________\n",
      "dense_16 (Dense)             (None, 256)               768       \n",
      "_________________________________________________________________\n",
      "Gate_Context (Context)       (None, 256)               2058      \n",
      "_________________________________________________________________\n",
      "dense_17 (Dense)             (None, 1)                 257       \n",
      "=================================================================\n",
      "Total params: 3,083\n",
      "Trainable params: 1,025\n",
      "Non-trainable params: 2,058\n",
      "_________________________________________________________________\n"
     ]
    }
   ],
   "source": [
    "# Optimizer\n",
    "optimizer = tf.keras.optimizers.SGD(1e-1)\n",
    "\n",
    "# Hyperparameters\n",
    "hrr_size         = 256\n",
    "num_contexts     = 1\n",
    "max_contexts     = len(y_train)\n",
    "switch_threshold = -0.02\n",
    "add_threshold    = -0.08\n",
    "\n",
    "# Create the model\n",
    "model = create_model(TAG, optimizer, num_contexts=num_contexts, max_contexts=max_contexts, switch_threshold=switch_threshold, add_threshold=add_threshold)"
   ]
  },
  {
   "cell_type": "markdown",
   "metadata": {},
   "source": [
    "#### Training"
   ]
  },
  {
   "cell_type": "code",
   "execution_count": 57,
   "metadata": {},
   "outputs": [
    {
     "name": "stdout",
     "output_type": "stream",
     "text": [
      "CPU times: user 23.7 s, sys: 2.7 s, total: 26.4 s\n",
      "Wall time: 20.8 s\n"
     ]
    }
   ],
   "source": [
    "cycles     = 4\n",
    "epochs     = 50\n",
    "batch_size = 1\n",
    "\n",
    "shuffle              = True  # Shuffle the active context dataset during training\n",
    "task_shuffle         = True  # Shuffle the contexts during training after first epoch\n",
    "initial_task_shuffle = True  # Shuffle the contexts before training\n",
    "\n",
    "# verbose = Verbosity.Contexts\n",
    "verbose = 0\n",
    "\n",
    "logger = ContextLogger()\n",
    "callbacks = [logger]\n",
    "\n",
    "# Benchmark the model\n",
    "%time history, evals, task_map, context_map = train(model, x_train, y_train, cycles, epochs, task_shuffle, initial_task_shuffle, batch_size=batch_size, shuffle=shuffle, callbacks=callbacks, verbose=verbose)"
   ]
  },
  {
   "cell_type": "code",
   "execution_count": 58,
   "metadata": {},
   "outputs": [
    {
     "data": {
      "image/png": "[encoded data removed]",
      "text/plain": [
       "<Figure size 360x360 with 2 Axes>"
      ]
     },
     "metadata": {
      "needs_background": "light"
     },
     "output_type": "display_data"
    }
   ],
   "source": [
    "logger.plot(figsize=(5,5), savefile=\"graphs/gates_dynamic.pgf\")"
   ]
  },
  {
   "cell_type": "markdown",
   "metadata": {},
   "source": [
    "#### Evaluation"
   ]
  },
  {
   "cell_type": "code",
   "execution_count": 59,
   "metadata": {},
   "outputs": [
    {
     "name": "stdout",
     "output_type": "stream",
     "text": [
      "array([[0.00155857],\n",
      "       [0.9991865 ],\n",
      "       [0.99880326],\n",
      "       [0.0019649 ]], dtype=float32)\n",
      "array([[9.9856591e-01],\n",
      "       [8.7004900e-04],\n",
      "       [1.5020072e-03],\n",
      "       [9.9851644e-01]], dtype=float32)\n",
      "array([[3.4132600e-04],\n",
      "       [2.8317869e-03],\n",
      "       [1.4919043e-03],\n",
      "       [9.9843347e-01]], dtype=float32)\n",
      "array([[7.4732304e-04],\n",
      "       [9.9816859e-01],\n",
      "       [9.9830604e-01],\n",
      "       [9.9872130e-01]], dtype=float32)\n",
      "array([[9.9855721e-01],\n",
      "       [1.2702346e-03],\n",
      "       [1.1161864e-03],\n",
      "       [7.6925755e-04]], dtype=float32)\n",
      "array([[9.9902332e-01],\n",
      "       [9.9822146e-01],\n",
      "       [9.9935126e-01],\n",
      "       [8.9022517e-04]], dtype=float32)\n",
      "array([[9.9966884e-01],\n",
      "       [4.6193600e-04],\n",
      "       [9.9930632e-01],\n",
      "       [1.1983812e-03]], dtype=float32)\n",
      "array([[1.3881922e-04],\n",
      "       [9.9997413e-01],\n",
      "       [3.4874029e-05],\n",
      "       [9.9993730e-01]], dtype=float32)\n",
      "CPU times: user 500 ms, sys: 46.9 ms, total: 547 ms\n",
      "Wall time: 546 ms\n"
     ]
    },
    {
     "data": {
      "text/plain": [
       "[{'loss': 0.0013844938948750496, 'binary_accuracy': 1.0},\n",
       " {'loss': 0.0013233473291620612, 'binary_accuracy': 1.0},\n",
       " {'loss': 0.0015595033764839172, 'binary_accuracy': 1.0},\n",
       " {'loss': 0.0013889356050640345, 'binary_accuracy': 1.0},\n",
       " {'loss': 0.0011503188870847225, 'binary_accuracy': 1.0},\n",
       " {'loss': 0.0010742157464846969, 'binary_accuracy': 1.0},\n",
       " {'loss': 0.000671542133204639, 'binary_accuracy': 1.0},\n",
       " {'loss': 6.555423169629648e-05, 'binary_accuracy': 1.0}]"
      ]
     },
     "execution_count": 59,
     "metadata": {},
     "output_type": "execute_result"
    }
   ],
   "source": [
    "batch_size = 1\n",
    "display_predictions = True\n",
    "verbose = 0\n",
    "\n",
    "%time evaluate(model, x_train, y_train, task_map, context_map, display_predictions, batch_size=batch_size, verbose=verbose)"
   ]
  },
  {
   "cell_type": "markdown",
   "metadata": {},
   "source": [
    "___"
   ]
  },
  {
   "cell_type": "markdown",
   "metadata": {},
   "source": [
    "### 5. Static Benchmark\n",
    "\n",
    "This runs the static n-task logic gate experiment some number of times and calculates various statistics regarding the loss over time.\n",
    "\n",
    "> ./logic_gate_task.py \\<num_seeds> \\<num_threads> \\<num_training_cycles> \\<num_training_epochs>\n"
   ]
  },
  {
   "cell_type": "code",
   "execution_count": 185,
   "metadata": {},
   "outputs": [
    {
     "name": "stdout",
     "output_type": "stream",
     "text": [
      "CPU times: user 36.3 s, sys: 12.4 s, total: 48.8 s\n",
      "Wall time: 50min 37s\n"
     ]
    }
   ],
   "source": [
    "%time !python3 ./logic_gate_task.py 100 12 8 50"
   ]
  },
  {
   "cell_type": "code",
   "execution_count": 66,
   "metadata": {},
   "outputs": [],
   "source": [
    "# Load the model results\n",
    "with open(\"data/logic_gates.dat\", 'rb') as f:\n",
    "    data = pickle.load(f)"
   ]
  },
  {
   "cell_type": "code",
   "execution_count": 68,
   "metadata": {},
   "outputs": [],
   "source": [
    "# Organize the data\n",
    "results = {}\n",
    "for key in sorted(data.keys()):\n",
    "    seed, num_contexts = key\n",
    "    if num_contexts not in results:\n",
    "        results[num_contexts] = []\n",
    "    results[num_contexts].append(np.mean([[task[\"binary_accuracy\"] for task in cycle] for cycle in data[key][1]], axis=1))"
   ]
  },
  {
   "cell_type": "code",
   "execution_count": 69,
   "metadata": {},
   "outputs": [],
   "source": [
    "# Convert to Numpy arrays\n",
    "for key in results:\n",
    "    results[key] = np.array(results[key])"
   ]
  },
  {
   "cell_type": "code",
   "execution_count": 71,
   "metadata": {},
   "outputs": [
    {
     "data": {
      "text/plain": [
       "array([1., 1., 1., 1., 1., 1., 1., 1., 1., 1., 1., 1., 1., 1., 1., 1., 1.,\n",
       "       1., 1., 1., 1., 1., 1., 1., 1., 1., 1., 1., 1., 1., 1., 1., 1., 1.,\n",
       "       1., 1., 1., 1., 1., 1., 1., 1., 1., 1., 1., 1., 1., 1., 1., 1., 1.,\n",
       "       1., 1., 1., 1., 1., 1., 1., 1., 1., 1., 1., 1., 1., 1., 1., 1., 1.,\n",
       "       1., 1., 1., 1., 1., 1., 1., 1., 1., 1., 1., 1., 1., 1., 1., 1., 1.,\n",
       "       1., 1., 1., 1., 1., 1., 1., 1., 1., 1., 1., 1., 1., 1., 1.])"
      ]
     },
     "execution_count": 71,
     "metadata": {},
     "output_type": "execute_result"
    }
   ],
   "source": [
    "results[8][:,-1] # [num_atrs, seed, cycle_index]"
   ]
  },
  {
   "cell_type": "code",
   "execution_count": 25,
   "metadata": {},
   "outputs": [],
   "source": [
    "boxplot_data = [results[key][:,-1] for key in results]"
   ]
  },
  {
   "cell_type": "code",
   "execution_count": 27,
   "metadata": {},
   "outputs": [
    {
     "data": {
      "image/png": "[encoded data removed]",
      "text/plain": [
       "<Figure size 432x288 with 1 Axes>"
      ]
     },
     "metadata": {
      "needs_background": "light"
     },
     "output_type": "display_data"
    }
   ],
   "source": [
    "%matplotlib inline\n",
    "fig, ax = plt.subplots()\n",
    "labels = [\"1 ATR\", \"3 ATRs\", \"6 ATRs\", \"8 ATRs\"]\n",
    "x_pos = np.arange(1, len(labels)+1)\n",
    "ax.grid(True, axis='y', linestyle='--', color='lightgrey', zorder=0)\n",
    "# for x, label in enumerate(labels):\n",
    "ax.boxplot(boxplot_data, notch=True, zorder=3)\n",
    "ax.set_ylabel(\"Accuracy (%)\")\n",
    "ax.set_xticks(x_pos)\n",
    "ax.set_xticklabels(labels)\n",
    "ax.set_title(\"Classification Accuracy of Logic Gate Task\")\n",
    "plt.tight_layout()\n",
    "plt.savefig(\"graphs/accuracy.pgf\")"
   ]
  }
 ],
 "metadata": {
  "kernelspec": {
   "display_name": "Python 3",
   "language": "python",
   "name": "python3"
  },
  "language_info": {
   "codemirror_mode": {
    "name": "ipython",
    "version": 3
   },
   "file_extension": ".py",
   "mimetype": "text/x-python",
   "name": "python",
   "nbconvert_exporter": "python",
   "pygments_lexer": "ipython3",
   "version": "3.7.6"
  }
 },
 "nbformat": 4,
 "nbformat_minor": 4
}
