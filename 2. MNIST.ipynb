{
 "cells": [
  {
   "cell_type": "markdown",
   "metadata": {},
   "source": [
    "# MNIST\n",
    "\n",
    "This task utilizes a simple neural network containing single n-task context layer to learn eight different logic gates.\n",
    "\n",
    "**Note:** This experiment uses a variation of the traditional n-task model to incorporate learning between batches instead of applying gradients at the end of batches. The idea is that learning will be much faster and more stable while retaining the ability to switch on bad contexts."
   ]
  },
  {
   "cell_type": "code",
   "execution_count": 1,
   "metadata": {},
   "outputs": [],
   "source": [
    "%load_ext autoreload\n",
    "%load_ext tensorboard"
   ]
  },
  {
   "cell_type": "code",
   "execution_count": 2,
   "metadata": {},
   "outputs": [],
   "source": [
    "import tensorflow as tf\n",
    "from tensorflow.keras import Model\n",
    "from tensorflow.keras.layers import Input, Dense, Flatten, Conv2D, MaxPooling2D, Dropout\n",
    "\n",
    "import tensorflow_datasets as tfds\n",
    "\n",
    "import datetime\n",
    "import numpy as np\n",
    "import os\n",
    "\n",
    "# Import n-task\n",
    "from ntask.atrs import AtrMovingAverage\n",
    "from ntask.callbacks import AtrLogger\n",
    "from ntask.flags import Verbosity\n",
    "from ntask.layers import Context\n",
    "from ntask.models import NTaskModel\n",
    "from ntask.training import train, evaluate\n",
    "from ntask.utils import set_seed, idx_load"
   ]
  },
  {
   "cell_type": "markdown",
   "metadata": {},
   "source": [
    "## Dataset"
   ]
  },
  {
   "cell_type": "code",
   "execution_count": 3,
   "metadata": {},
   "outputs": [
    {
     "data": {
      "text/plain": [
       "(60000, 28, 28)"
      ]
     },
     "execution_count": 3,
     "metadata": {},
     "output_type": "execute_result"
    }
   ],
   "source": [
    "# Training images\n",
    "training_images = idx_load(\"./datasets/mnist/train-images.idx3-ubyte\")\n",
    "training_images.shape"
   ]
  },
  {
   "cell_type": "code",
   "execution_count": 4,
   "metadata": {},
   "outputs": [
    {
     "data": {
      "text/plain": [
       "(60000,)"
      ]
     },
     "execution_count": 4,
     "metadata": {},
     "output_type": "execute_result"
    }
   ],
   "source": [
    "# Training labels\n",
    "training_labels = idx_load(\"./datasets/mnist/train-labels.idx1-ubyte\")\n",
    "training_labels.shape"
   ]
  },
  {
   "cell_type": "code",
   "execution_count": 5,
   "metadata": {},
   "outputs": [
    {
     "data": {
      "text/plain": [
       "(10000, 28, 28)"
      ]
     },
     "execution_count": 5,
     "metadata": {},
     "output_type": "execute_result"
    }
   ],
   "source": [
    "testing_images = idx_load(\"./datasets/mnist/t10k-images.idx3-ubyte\")\n",
    "testing_images.shape"
   ]
  },
  {
   "cell_type": "code",
   "execution_count": 6,
   "metadata": {},
   "outputs": [
    {
     "data": {
      "text/plain": [
       "(10000,)"
      ]
     },
     "execution_count": 6,
     "metadata": {},
     "output_type": "execute_result"
    }
   ],
   "source": [
    "# Training labels\n",
    "testing_labels = idx_load(\"./datasets/mnist/t10k-labels.idx1-ubyte\")\n",
    "testing_labels.shape"
   ]
  },
  {
   "cell_type": "code",
   "execution_count": 7,
   "metadata": {},
   "outputs": [],
   "source": [
    "# Normalize inputs\n",
    "training_images = training_images / np.max(training_images)\n",
    "testing_images = testing_images / np.max(testing_images)"
   ]
  },
  {
   "cell_type": "markdown",
   "metadata": {},
   "source": [
    "___"
   ]
  },
  {
   "cell_type": "markdown",
   "metadata": {},
   "source": [
    "## Experimentation"
   ]
  },
  {
   "cell_type": "markdown",
   "metadata": {},
   "source": [
    "### 1. Even/Odd - Simple\n",
    "\n",
    "This first task determines if the given image contains an even or odd number. This is the simplest of the MNIST experiments and will function as a proof-of-concept."
   ]
  },
  {
   "cell_type": "markdown",
   "metadata": {},
   "source": [
    "#### Dataset"
   ]
  },
  {
   "cell_type": "code",
   "execution_count": null,
   "metadata": {},
   "outputs": [],
   "source": [
    "def create_even_odd_labels(labels):\n",
    "    return (labels % 2 == 0).astype(int), (labels % 2 == 1).astype(int) # Even/Odd"
   ]
  },
  {
   "cell_type": "code",
   "execution_count": null,
   "metadata": {},
   "outputs": [],
   "source": [
    "# Training Data\n",
    "x_train = training_images\n",
    "y_train_list = create_even_odd_labels(training_labels)\n",
    "\n",
    "# Testing Data\n",
    "x_test = testing_images\n",
    "y_test_list = create_even_odd_labels(testing_labels)"
   ]
  },
  {
   "cell_type": "markdown",
   "metadata": {},
   "source": [
    "#### Seeding"
   ]
  },
  {
   "cell_type": "code",
   "execution_count": null,
   "metadata": {},
   "outputs": [],
   "source": [
    "set_seed(5)"
   ]
  },
  {
   "cell_type": "markdown",
   "metadata": {},
   "source": [
    "#### Model Creation"
   ]
  },
  {
   "cell_type": "code",
   "execution_count": null,
   "metadata": {},
   "outputs": [],
   "source": [
    "# Optimizer\n",
    "optimizer = tf.keras.optimizers.Adam(1e-3)\n",
    "\n",
    "# Hyperparameters\n",
    "hrr_size = 128\n",
    "num_contexts = 2\n",
    "switch_threshold = -0.5\n",
    "\n",
    "# Model Architecture\n",
    "inp = Input(x_train.shape[1:])\n",
    "x = Flatten()(inp)\n",
    "x = Dense(hrr_size, activation=\"relu\")(x)\n",
    "x = Context(num_contexts, AtrMovingAverage(switch_threshold))(x)\n",
    "x = Dense(1, activation=\"sigmoid\")(x)\n",
    "\n",
    "# Create the model\n",
    "model = NTaskModel(inputs=inp, outputs=x)\n",
    "\n",
    "# Compile the model\n",
    "model.compile(loss=\"bce\", optimizer=optimizer, metrics=[\"accuracy\"])"
   ]
  },
  {
   "cell_type": "code",
   "execution_count": null,
   "metadata": {},
   "outputs": [],
   "source": [
    "cycles     = 2\n",
    "epochs     = 10\n",
    "batch_size = 32\n",
    "\n",
    "shuffle              = True  # Shuffle the active context dataset during training\n",
    "task_shuffle         = True # Shuffle the contexts during training after first epoch\n",
    "initial_task_shuffle = False # Shuffle the contexts before training\n",
    "\n",
    "verbose = Verbosity.Progress | Verbosity.Contexts\n",
    "\n",
    "logger = AtrLogger()\n",
    "callbacks = [logger]\n",
    "\n",
    "# Train the model\n",
    "%time task_map, context_map = train(model, x_train, y_train_list, cycles, epochs, task_shuffle, initial_task_shuffle, batch_size=batch_size, shuffle=shuffle, callbacks=callbacks, verbose=verbose)"
   ]
  },
  {
   "cell_type": "code",
   "execution_count": 174,
   "metadata": {},
   "outputs": [
    {
     "data": {
      "image/png": "[encoded data removed]",
      "text/plain": [
       "<Figure size 1080x720 with 2 Axes>"
      ]
     },
     "metadata": {
      "needs_background": "light"
     },
     "output_type": "display_data"
    }
   ],
   "source": [
    "logger.plot(figsize=(15,10))"
   ]
  },
  {
   "cell_type": "code",
   "execution_count": 176,
   "metadata": {},
   "outputs": [
    {
     "name": "stdout",
     "output_type": "stream",
     "text": [
      "CPU times: user 1.09 s, sys: 438 ms, total: 1.53 s\n",
      "Wall time: 849 ms\n"
     ]
    },
    {
     "data": {
      "text/plain": [
       "[{'loss': 0.07605643570423126, 'accuracy': 0.9857000112533569},\n",
       " {'loss': 0.07920639961957932, 'accuracy': 0.9869999885559082}]"
      ]
     },
     "execution_count": 176,
     "metadata": {},
     "output_type": "execute_result"
    }
   ],
   "source": [
    "batch_size = 32\n",
    "display_predictions = False\n",
    "verbose = 0\n",
    "\n",
    "%time evaluate(model, x_test, y_test_list, task_map, context_map, display_predictions, batch_size=batch_size, verbose=verbose)"
   ]
  },
  {
   "cell_type": "markdown",
   "metadata": {},
   "source": [
    "___"
   ]
  },
  {
   "cell_type": "markdown",
   "metadata": {},
   "source": [
    "### 2. [Static nTL]: Divisibility - CNN\n",
    "\n",
    "This second task continues to recognize even/odd/divisible by 3 numbers, but this time using a convolutional neural network (CNN). Again, this task is relatively simple but will be a powerful proof-of-concept since the n-task model could be compatible with CNNs."
   ]
  },
  {
   "cell_type": "markdown",
   "metadata": {},
   "source": [
    "#### Dataset"
   ]
  },
  {
   "cell_type": "code",
   "execution_count": 8,
   "metadata": {},
   "outputs": [],
   "source": [
    "def create_divisibility_labels(labels):\n",
    "    return (labels % 2 == 0).astype(int), (labels % 2 == 1).astype(int), (labels % 3 == 0).astype(int) # Even/Odd/divisible by 3"
   ]
  },
  {
   "cell_type": "code",
   "execution_count": 9,
   "metadata": {},
   "outputs": [],
   "source": [
    "# Training Data\n",
    "x_train = training_images.reshape(training_images.shape + (1,))[:5000]\n",
    "y_train_list = create_divisibility_labels(training_labels[:5000])\n",
    "\n",
    "# Testing Data\n",
    "x_test = testing_images.reshape(testing_images.shape + (1,))[:1000]\n",
    "y_test_list = create_divisibility_labels(testing_labels[:1000])"
   ]
  },
  {
   "cell_type": "markdown",
   "metadata": {},
   "source": [
    "#### Seeding"
   ]
  },
  {
   "cell_type": "code",
   "execution_count": 10,
   "metadata": {},
   "outputs": [],
   "source": [
    "set_seed(5)"
   ]
  },
  {
   "cell_type": "markdown",
   "metadata": {},
   "source": [
    "#### Model Creation"
   ]
  },
  {
   "cell_type": "code",
   "execution_count": 11,
   "metadata": {},
   "outputs": [],
   "source": [
    "# Optimizer\n",
    "optimizer = tf.keras.optimizers.Adam(1e-3)\n",
    "\n",
    "# Hyperparameters\n",
    "hrr_size = 128\n",
    "num_contexts = len(y_train_list)\n",
    "switch_threshold = -0.005\n",
    "\n",
    "# Model Architecture\n",
    "inp = Input(x_train.shape[1:])\n",
    "x = Conv2D(64, kernel_size=(8, 8), activation=\"relu\")(inp)\n",
    "x = Conv2D(128, (8, 8), activation=\"relu\")(x)\n",
    "x = MaxPooling2D(pool_size=(2, 2))(x)\n",
    "x = Dropout(0.25)(x)\n",
    "x = Flatten()(x)\n",
    "x = Dense(hrr_size, activation=\"relu\")(x)\n",
    "x = Dropout(0.5)(x)\n",
    "x = Context(num_contexts, AtrMovingAverage(switch_threshold))(x)\n",
    "x = Dense(1, activation=\"sigmoid\")(x)\n",
    "\n",
    "# Create the model\n",
    "model = NTaskModel(inputs=inp, outputs=x)\n",
    "\n",
    "# Compile the model\n",
    "model.compile(loss=\"bce\", optimizer=optimizer, metrics=[\"accuracy\"])"
   ]
  },
  {
   "cell_type": "code",
   "execution_count": 12,
   "metadata": {},
   "outputs": [
    {
     "name": "stdout",
     "output_type": "stream",
     "text": [
      "Epoch 1/5\n",
      "Epoch 2/5\n",
      "Epoch 3/5\n",
      "Epoch 4/5\n",
      "Epoch 5/5\n",
      "Epoch 6/10\n",
      "\n",
      "[context] Switched context to 1\n",
      "Epoch 7/10\n",
      "Epoch 8/10\n",
      "Epoch 9/10\n",
      "Epoch 10/10\n",
      "Epoch 11/15\n",
      "\n",
      "[context] Switched context to 2\n",
      "Epoch 12/15\n",
      "Epoch 13/15\n",
      "Epoch 14/15\n",
      "Epoch 15/15\n",
      "Epoch 16/20\n",
      "\n",
      "[context] Switched context to 0\n",
      "Epoch 17/20\n",
      "Epoch 18/20\n",
      "Epoch 19/20\n",
      "Epoch 20/20\n",
      "Epoch 21/25\n",
      "\n",
      "[context] Switched context to 1\n",
      "Epoch 22/25\n",
      "Epoch 23/25\n",
      "Epoch 24/25\n",
      "Epoch 25/25\n",
      "Epoch 26/30\n",
      "\n",
      "[context] Switched context to 2\n",
      "Epoch 27/30\n",
      "Epoch 28/30\n",
      "Epoch 29/30\n",
      "Epoch 30/30\n",
      "CPU times: user 2h 1min 51s, sys: 5min 25s, total: 2h 7min 16s\n",
      "Wall time: 10min 54s\n"
     ]
    }
   ],
   "source": [
    "cycles     = 2\n",
    "epochs     = 5\n",
    "batch_size = 32\n",
    "\n",
    "shuffle              = True  # Shuffle the active context dataset during training\n",
    "task_shuffle         = True # Shuffle the contexts during training after first epoch\n",
    "initial_task_shuffle = False # Shuffle the contexts before training\n",
    "\n",
    "verbose = Verbosity.Progress | Verbosity.Contexts\n",
    "\n",
    "logger = AtrLogger()\n",
    "callbacks = [logger]\n",
    "\n",
    "# model.fit(x_train, y_train_list[0], epochs=epochs, shuffle=shuffle)\n",
    "\n",
    "# Train the model\n",
    "%time task_map, context_map = train(model, x_train, y_train_list, cycles, epochs, task_shuffle, initial_task_shuffle, batch_size=batch_size, shuffle=shuffle, callbacks=callbacks, verbose=verbose)"
   ]
  },
  {
   "cell_type": "code",
   "execution_count": 13,
   "metadata": {},
   "outputs": [],
   "source": [
    "logger.plot(figsize=(5,5), savefile=\"graphs/mnist_static.pgf\")"
   ]
  },
  {
   "cell_type": "code",
   "execution_count": 16,
   "metadata": {},
   "outputs": [
    {
     "name": "stdout",
     "output_type": "stream",
     "text": [
      "CPU times: user 27.6 s, sys: 1.59 s, total: 29.2 s\n",
      "Wall time: 2.41 s\n"
     ]
    },
    {
     "data": {
      "text/plain": [
       "[{'loss': 0.050898607820272446, 'accuracy': 0.9829999804496765},\n",
       " {'loss': 0.07184665650129318, 'accuracy': 0.9769999980926514},\n",
       " {'loss': 0.053294889628887177, 'accuracy': 0.9800000190734863}]"
      ]
     },
     "execution_count": 16,
     "metadata": {},
     "output_type": "execute_result"
    }
   ],
   "source": [
    "batch_size = 32\n",
    "display_predictions = False\n",
    "verbose = 0\n",
    "\n",
    "%time evaluate(model, x_test, y_test_list, task_map, context_map, display_predictions, batch_size=batch_size, verbose=verbose)"
   ]
  },
  {
   "cell_type": "markdown",
   "metadata": {},
   "source": [
    "### 2. [Dynamic nTL]: Divisibility - CNN\n",
    "\n",
    "This second task continues to recognize even/odd/divisible by 3 numbers, but this time using a convolutional neural network (CNN). Again, this task is relatively simple but will be a powerful proof-of-concept since the n-task model could be compatible with CNNs."
   ]
  },
  {
   "cell_type": "markdown",
   "metadata": {},
   "source": [
    "#### Dataset"
   ]
  },
  {
   "cell_type": "code",
   "execution_count": 17,
   "metadata": {},
   "outputs": [],
   "source": [
    "def create_divisibility_labels(labels):\n",
    "    return (labels % 2 == 0).astype(int), (labels % 2 == 1).astype(int), (labels % 3 == 0).astype(int) # Even/Odd/divisible by 3"
   ]
  },
  {
   "cell_type": "code",
   "execution_count": 18,
   "metadata": {},
   "outputs": [],
   "source": [
    "# Training Data\n",
    "x_train = training_images.reshape(training_images.shape + (1,))[:5000]\n",
    "y_train_list = create_divisibility_labels(training_labels[:5000])\n",
    "\n",
    "# Testing Data\n",
    "x_test = testing_images.reshape(testing_images.shape + (1,))[:1000]\n",
    "y_test_list = create_divisibility_labels(testing_labels[:1000])"
   ]
  },
  {
   "cell_type": "markdown",
   "metadata": {},
   "source": [
    "#### Seeding"
   ]
  },
  {
   "cell_type": "code",
   "execution_count": 19,
   "metadata": {},
   "outputs": [],
   "source": [
    "set_seed(5)"
   ]
  },
  {
   "cell_type": "markdown",
   "metadata": {},
   "source": [
    "#### Model Creation"
   ]
  },
  {
   "cell_type": "code",
   "execution_count": 20,
   "metadata": {},
   "outputs": [],
   "source": [
    "# Optimizer\n",
    "optimizer = tf.keras.optimizers.Adam(1e-3)\n",
    "\n",
    "# Hyperparameters\n",
    "hrr_size = 128\n",
    "num_contexts = len(y_train_list)\n",
    "switch_threshold = -0.005\n",
    "add_threshold = -0.004\n",
    "\n",
    "# Model Architecture\n",
    "inp = Input(x_train.shape[1:])\n",
    "x = Conv2D(64, kernel_size=(8, 8), activation=\"relu\")(inp)\n",
    "x = Conv2D(128, (8, 8), activation=\"relu\")(x)\n",
    "x = MaxPooling2D(pool_size=(2, 2))(x)\n",
    "x = Dropout(0.25)(x)\n",
    "x = Flatten()(x)\n",
    "x = Dense(hrr_size, activation=\"relu\")(x)\n",
    "x = Dropout(0.5)(x)\n",
    "x = Context(1, AtrMovingAverage(switch_threshold, add_threshold, num_contexts))(x)\n",
    "x = Dense(1, activation=\"sigmoid\")(x)\n",
    "\n",
    "# Create the model\n",
    "model = NTaskModel(inputs=inp, outputs=x)\n",
    "\n",
    "# Compile the model\n",
    "model.compile(loss=\"bce\", optimizer=optimizer, metrics=[\"accuracy\"])"
   ]
  },
  {
   "cell_type": "code",
   "execution_count": 21,
   "metadata": {},
   "outputs": [
    {
     "name": "stdout",
     "output_type": "stream",
     "text": [
      "Epoch 1/5\n",
      "Epoch 2/5\n",
      "Epoch 3/5\n",
      "Epoch 4/5\n",
      "Epoch 5/5\n",
      "Epoch 6/10\n",
      "\n",
      "[context_1] Adding context 1\n",
      "\n",
      "[context_1] Switched context to 1\n",
      "Epoch 7/10\n",
      "Epoch 8/10\n",
      "Epoch 9/10\n",
      "Epoch 10/10\n",
      "Epoch 11/15\n",
      "\n",
      "[context_1] Adding context 2\n",
      "\n",
      "[context_1] Switched context to 2\n",
      "Epoch 12/15\n",
      "Epoch 13/15\n",
      "Epoch 14/15\n",
      "Epoch 15/15\n",
      "Epoch 16/20\n",
      "\n",
      "[context_1] Switched context to 0\n",
      "Epoch 17/20\n",
      "Epoch 18/20\n",
      "Epoch 19/20\n",
      "Epoch 20/20\n",
      "Epoch 21/25\n",
      "\n",
      "[context_1] Switched context to 1\n",
      "Epoch 22/25\n",
      "Epoch 23/25\n",
      "Epoch 24/25\n",
      "Epoch 25/25\n",
      "Epoch 26/30\n",
      "\n",
      "[context_1] Switched context to 2\n",
      "Epoch 27/30\n",
      "Epoch 28/30\n",
      "Epoch 29/30\n",
      "Epoch 30/30\n",
      "CPU times: user 2h 5min 6s, sys: 5min 36s, total: 2h 10min 42s\n",
      "Wall time: 11min 47s\n"
     ]
    }
   ],
   "source": [
    "cycles     = 2\n",
    "epochs     = 5\n",
    "batch_size = 32\n",
    "\n",
    "shuffle              = True  # Shuffle the active context dataset during training\n",
    "task_shuffle         = True # Shuffle the contexts during training after first epoch\n",
    "initial_task_shuffle = False # Shuffle the contexts before training\n",
    "\n",
    "verbose = Verbosity.Progress | Verbosity.Contexts\n",
    "\n",
    "logger = AtrLogger()\n",
    "callbacks = [logger]\n",
    "\n",
    "# model.fit(x_train, y_train_list[0], epochs=epochs, shuffle=shuffle)\n",
    "\n",
    "# Train the model\n",
    "%time task_map, context_map = train(model, x_train, y_train_list, cycles, epochs, task_shuffle, initial_task_shuffle, batch_size=batch_size, shuffle=shuffle, callbacks=callbacks, verbose=verbose)"
   ]
  },
  {
   "cell_type": "code",
   "execution_count": 22,
   "metadata": {},
   "outputs": [],
   "source": [
    "logger.plot(figsize=(5,5), savefile=\"graphs/mnist_dynamic.pgf\")"
   ]
  },
  {
   "cell_type": "code",
   "execution_count": 23,
   "metadata": {},
   "outputs": [
    {
     "name": "stdout",
     "output_type": "stream",
     "text": [
      "CPU times: user 27.8 s, sys: 609 ms, total: 28.4 s\n",
      "Wall time: 2.45 s\n"
     ]
    },
    {
     "data": {
      "text/plain": [
       "[{'loss': 0.05088748782873154, 'accuracy': 0.9800000190734863},\n",
       " {'loss': 0.05445132404565811, 'accuracy': 0.9789999723434448},\n",
       " {'loss': 0.04033994674682617, 'accuracy': 0.9890000224113464}]"
      ]
     },
     "execution_count": 23,
     "metadata": {},
     "output_type": "execute_result"
    }
   ],
   "source": [
    "batch_size = 32\n",
    "display_predictions = False\n",
    "verbose = 0\n",
    "\n",
    "%time evaluate(model, x_test, y_test_list, task_map, context_map, display_predictions, batch_size=batch_size, verbose=verbose)"
   ]
  },
  {
   "cell_type": "code",
   "execution_count": null,
   "metadata": {},
   "outputs": [],
   "source": []
  }
 ],
 "metadata": {
  "kernelspec": {
   "display_name": "Python 3",
   "language": "python",
   "name": "python3"
  },
  "language_info": {
   "codemirror_mode": {
    "name": "ipython",
    "version": 3
   },
   "file_extension": ".py",
   "mimetype": "text/x-python",
   "name": "python",
   "nbconvert_exporter": "python",
   "pygments_lexer": "ipython3",
   "version": "3.7.6"
  }
 },
 "nbformat": 4,
 "nbformat_minor": 4
}
