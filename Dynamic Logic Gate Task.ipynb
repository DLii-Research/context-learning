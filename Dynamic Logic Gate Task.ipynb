{
 "cells": [
  {
   "cell_type": "markdown",
   "id": "728acfa1-6639-4192-a3ab-1d78a82279df",
   "metadata": {},
   "source": [
    "# Architecture\n",
    "\n",
    "This notebook is used to design and test out architecture components variations."
   ]
  },
  {
   "cell_type": "code",
   "execution_count": 1,
   "id": "86305696-d123-4c83-b892-699e299a8574",
   "metadata": {},
   "outputs": [],
   "source": [
    "import os\n",
    "os.environ[\"TF_CPP_MIN_LOG_LEVEL\"] = \"1\""
   ]
  },
  {
   "cell_type": "code",
   "execution_count": 2,
   "id": "2d1e997d-da7f-4fbe-96dc-062936813add",
   "metadata": {},
   "outputs": [],
   "source": [
    "from collections import defaultdict\n",
    "import matplotlib.pyplot as plt\n",
    "import numpy as np\n",
    "import tensorflow as tf\n",
    "import tensorflow.keras as keras\n",
    "import time\n",
    "from IPython.display import clear_output\n",
    "\n",
    "import tf_utils as tfu\n",
    "\n",
    "import context_learning as ctl\n",
    "from context_learning.utils import *"
   ]
  },
  {
   "cell_type": "code",
   "execution_count": 3,
   "id": "09ed204f-1ebd-4986-b83b-fb22de71c954",
   "metadata": {},
   "outputs": [],
   "source": [
    "strategy = tfu.strategy.gpu(0)"
   ]
  },
  {
   "cell_type": "code",
   "execution_count": 4,
   "id": "3f56dc96-7310-496a-b0be-d8f73a534d69",
   "metadata": {},
   "outputs": [],
   "source": [
    "x_train = np.array([[-1, -1], [-1, 1], [1, -1], [1, 1]])\n",
    "\n",
    "y_train = np.array([\n",
    "    [0, 0, 0, 1], # AND\n",
    "    [0, 1, 1, 1], # OR\n",
    "    [1, 1, 1, 0], # NAND\n",
    "    [1, 0, 0, 0], # NOR\n",
    "    [0, 1, 1, 0], # XOR\n",
    "    [1, 0, 0, 1], # XNOR\n",
    "    [0, 0, 1, 1], # Custom A\n",
    "    [0, 1, 0, 1], # Custom B\n",
    "])[..., np.newaxis]"
   ]
  },
  {
   "cell_type": "code",
   "execution_count": 5,
   "id": "bf0dcecd-b395-4294-845b-fe4f3def5994",
   "metadata": {
    "tags": []
   },
   "outputs": [],
   "source": [
    "BATCH_SIZE = 1\n",
    "\n",
    "datasets = [] \n",
    "for y in y_train:\n",
    "    dataset = tf.data.Dataset.from_tensor_slices((x_train, y)).batch(BATCH_SIZE)\n",
    "    dist_dataset = strategy.experimental_distribute_dataset(dataset)\n",
    "    datasets.append(dist_dataset)\n",
    "clear_output() # hide shard warnings"
   ]
  },
  {
   "cell_type": "code",
   "execution_count": 12,
   "id": "792cd41b-dd1f-484c-82bb-7f5de59a7901",
   "metadata": {},
   "outputs": [
    {
     "name": "stdout",
     "output_type": "stream",
     "text": [
      "Model: \"context_model_1\"\n",
      "_________________________________________________________________\n",
      "Layer (type)                 Output Shape              Param #   \n",
      "=================================================================\n",
      "input_3 (InputLayer)         [(None, 2)]               0         \n",
      "_________________________________________________________________\n",
      "dense_4 (Dense)              (None, 256)               768       \n",
      "_________________________________________________________________\n",
      "context_layer_2 (ContextLaye (None, 256)               11        \n",
      "_________________________________________________________________\n",
      "dense_5 (Dense)              (None, 1)                 257       \n",
      "=================================================================\n",
      "Total params: 1,038\n",
      "Trainable params: 1,025\n",
      "Non-trainable params: 13\n",
      "_________________________________________________________________\n"
     ]
    }
   ],
   "source": [
    "ATR_SIZE = 256\n",
    "SWITCH_THRESHOLD = -0.02\n",
    "NUM_TASKS = 8\n",
    "\n",
    "with strategy.scope():\n",
    "    y = x = keras.layers.Input((2,))\n",
    "    y = keras.layers.Dense(ATR_SIZE, activation=\"relu\")(y)\n",
    "    y = ctl.ContextLayer(switch_threshold=SWITCH_THRESHOLD, add_threshold=2*SWITCH_THRESHOLD, verbose=1)(y)\n",
    "    y = keras.layers.Dense(1, activation=\"sigmoid\")(y)\n",
    "    model = ctl.ContextModel(x, y, verbose=1)\n",
    "    model.compile(\n",
    "        optimizer=keras.optimizers.SGD(1e-1),\n",
    "        loss=keras.losses.BinaryCrossentropy(from_logits=False))\n",
    "    model.summary()\n",
    "    # model.run_eagerly=True"
   ]
  },
  {
   "cell_type": "code",
   "execution_count": 13,
   "id": "0914bc66-91d5-4619-a747-132d722dab21",
   "metadata": {},
   "outputs": [],
   "source": [
    "def train_step(model, batch):\n",
    "    x = batch[0]\n",
    "    y = batch[1]\n",
    "    with tf.GradientTape() as tape:\n",
    "        y_pred = model(x, training=True)\n",
    "        loss = model.compiled_loss(y, y_pred)\n",
    "    grads = tape.gradient(loss, model.trainable_weights)\n",
    "    model.optimizer.apply_gradients(zip(grads, model.trainable_weights))\n",
    "    context_grads = [grads[i] for i in model.context_gradient_map]\n",
    "    return context_grads, loss\n",
    "\n",
    "@tf.function\n",
    "def dist_train_step(model, batch):\n",
    "    grads, losses = strategy.run(train_step, args=(model, batch,))\n",
    "    \n",
    "    # Reduce the gradients and add context loss to the model\n",
    "    grads = strategy.reduce(tf.distribute.ReduceOp.SUM, grads, axis=None)\n",
    "    model.add_observed_loss(grads)\n",
    "        \n",
    "    return strategy.reduce(tf.distribute.ReduceOp.MEAN, losses, axis=None)"
   ]
  },
  {
   "cell_type": "code",
   "execution_count": 14,
   "id": "58a433df-f78a-4c76-b312-435ce84bfa31",
   "metadata": {},
   "outputs": [],
   "source": [
    "history = {\n",
    "    \"loss\": [],\n",
    "    \"context_loss_x\": defaultdict(list),\n",
    "    \"context_loss_y\": defaultdict(list),\n",
    "    \"context_delta\": [],\n",
    "}\n",
    "\n",
    "epoch = -1"
   ]
  },
  {
   "cell_type": "code",
   "execution_count": 15,
   "id": "5573db7f-0d19-4507-944b-ef47222c2f58",
   "metadata": {},
   "outputs": [
    {
     "name": "stdout",
     "output_type": "stream",
     "text": [
      "\n",
      "Dataset: 0\n",
      "Global Epoch: 49; Epoch 49; Dataset: 0; Loss: 0.028214903548359874\n",
      "Dataset: 1\n",
      "Global Epoch: 50; Epoch 0; Dataset: 1; Loss: 0.01567094214260578\n",
      "Switching to a new context: 1\n",
      "Global Epoch: 99; Epoch 49; Dataset: 1; Loss: 0.0025049541145563126\n",
      "Dataset: 0\n",
      "Global Epoch: 149; Epoch 49; Dataset: 0; Loss: 0.0064277187921106815\n",
      "Dataset: 1\n",
      "Global Epoch: 199; Epoch 49; Dataset: 1; Loss: 0.0010803624754771592\n",
      "Dataset: 2\n",
      "Global Epoch: 200; Epoch 0; Dataset: 2; Loss: 7.066687583923347\n",
      "Switching to a new context: 2\n",
      "Global Epoch: 249; Epoch 49; Dataset: 2; Loss: 0.010226810351014137\n",
      "Dataset: 0\n",
      "Global Epoch: 299; Epoch 49; Dataset: 0; Loss: 0.0021603626664727926\n",
      "Dataset: 3\n",
      "Global Epoch: 300; Epoch 0; Dataset: 3; Loss: 0.0012021883158013225\n",
      "Switching to a new context: 3\n",
      "Global Epoch: 349; Epoch 49; Dataset: 3; Loss: 0.0016309507191181183\n",
      "Dataset: 2\n",
      "Global Epoch: 399; Epoch 49; Dataset: 2; Loss: 0.0029889226425439127\n",
      "Dataset: 0\n",
      "Global Epoch: 449; Epoch 49; Dataset: 0; Loss: 0.0027358606457710266\n",
      "Dataset: 1\n",
      "Global Epoch: 499; Epoch 49; Dataset: 1; Loss: 5.2989042160334066e-05\n",
      "Dataset: 0\n",
      "Global Epoch: 549; Epoch 49; Dataset: 0; Loss: 0.0013417238369584084\n",
      "Dataset: 1\n",
      "Global Epoch: 599; Epoch 49; Dataset: 1; Loss: 3.7690675526391715e-05\n",
      "Dataset: 3\n",
      "Global Epoch: 649; Epoch 49; Dataset: 3; Loss: 0.0009936591377481818\n",
      "Dataset: 2\n",
      "Global Epoch: 699; Epoch 49; Dataset: 2; Loss: 0.0014432977186515927\n",
      "Dataset: 4\n",
      "Global Epoch: 700; Epoch 0; Dataset: 4; Loss: 10.389239311218262733\n",
      "Switching to a new context: 4\n",
      "Global Epoch: 749; Epoch 49; Dataset: 4; Loss: 0.009132910519838333\n",
      "Dataset: 1\n",
      "Global Epoch: 799; Epoch 49; Dataset: 1; Loss: 3.4417804272379726e-05\n",
      "Dataset: 2\n",
      "Global Epoch: 849; Epoch 49; Dataset: 2; Loss: 0.0031280042603611946\n",
      "Dataset: 0\n",
      "Global Epoch: 899; Epoch 49; Dataset: 0; Loss: 0.0013600463280454278\n",
      "Dataset: 3\n",
      "Global Epoch: 949; Epoch 49; Dataset: 3; Loss: 0.0021332909818738723\n",
      "Dataset: 4\n",
      "Global Epoch: 999; Epoch 49; Dataset: 4; Loss: 0.0045438776724040516\n",
      "Dataset: 5\n",
      "Global Epoch: 1000; Epoch 0; Dataset: 5; Loss: 5.9345788955688486682\n",
      "Switching to a new context: 5\n",
      "Global Epoch: 1049; Epoch 49; Dataset: 5; Loss: 0.006496969144791365\n",
      "Dataset: 4\n",
      "Global Epoch: 1099; Epoch 49; Dataset: 4; Loss: 0.0013068601256236434\n",
      "Dataset: 0\n",
      "Global Epoch: 1149; Epoch 49; Dataset: 0; Loss: 0.0009391023195348683\n",
      "Dataset: 1\n",
      "Global Epoch: 1199; Epoch 49; Dataset: 1; Loss: 8.793848974164575e-05\n",
      "Dataset: 3\n",
      "Global Epoch: 1249; Epoch 49; Dataset: 3; Loss: 0.0011533148353919387\n",
      "Dataset: 2\n",
      "Global Epoch: 1299; Epoch 49; Dataset: 2; Loss: 0.0024538284633308652\n",
      "Dataset: 6\n",
      "Global Epoch: 1300; Epoch 0; Dataset: 6; Loss: 0.00026472395984455943\n",
      "Switching to a new context: 6\n",
      "Global Epoch: 1349; Epoch 49; Dataset: 6; Loss: 0.0024273516610264786\n",
      "Dataset: 5\n",
      "Global Epoch: 1399; Epoch 49; Dataset: 5; Loss: 0.0033878241665661335\n",
      "Dataset: 2\n",
      "Global Epoch: 1449; Epoch 49; Dataset: 2; Loss: 0.0011284048669040203\n",
      "Dataset: 7\n",
      "Global Epoch: 1450; Epoch 0; Dataset: 7; Loss: 0.00011919195821974427\n",
      "Switching to a new context: 7\n",
      "Global Epoch: 1499; Epoch 49; Dataset: 7; Loss: 0.0022952633444219828\n",
      "Dataset: 6\n",
      "Global Epoch: 1549; Epoch 49; Dataset: 6; Loss: 0.0021301887463778257\n",
      "Dataset: 3\n",
      "Global Epoch: 1599; Epoch 49; Dataset: 3; Loss: 0.00031670738826505847\n",
      "Dataset: 1\n",
      "Global Epoch: 1649; Epoch 49; Dataset: 1; Loss: 1.2574138054333162e-05\n",
      "Dataset: 4\n",
      "Global Epoch: 1699; Epoch 49; Dataset: 4; Loss: 0.0008236855501309037\n",
      "Dataset: 0\n",
      "Global Epoch: 1749; Epoch 49; Dataset: 0; Loss: 0.0015362231060862541\n",
      "Dataset: 5\n",
      "Global Epoch: 1799; Epoch 49; Dataset: 5; Loss: 0.0032900997903198004"
     ]
    }
   ],
   "source": [
    "EPOCHS_PER_TASK = 50\n",
    "\n",
    "with strategy.scope():\n",
    "    for num_tasks in range(1, NUM_TASKS + 1):\n",
    "        for i in np.random.permutation(num_tasks):\n",
    "            dataset = datasets[i]\n",
    "            start = epoch + 1\n",
    "            print(\"\\nDataset:\", i)\n",
    "            for epoch in range(start, epoch+EPOCHS_PER_TASK + 1):\n",
    "                while model.perform_epoch(epoch):\n",
    "                    history[\"loss\"].append(0)\n",
    "                    for batch in dataset:\n",
    "                        loss = dist_train_step(model, batch)\n",
    "                        history[\"loss\"][-1] += loss\n",
    "                    print(f\"\\rGlobal Epoch: {epoch}; Epoch {epoch - start}; Dataset: {i}; Loss: {loss}\", end=\"\")\n",
    "                history[\"context_loss_x\"][model.layers[2].context.value().numpy()].append(epoch)\n",
    "                history[\"context_loss_y\"][model.layers[2].context.value().numpy()].append(model.layers[2].expected_loss().numpy())\n",
    "                history[\"context_delta\"].append(model.context_deltas[0].numpy())"
   ]
  },
  {
   "cell_type": "code",
   "execution_count": 16,
   "id": "4139b51a-fbd8-4e33-b9a5-86579f142da5",
   "metadata": {},
   "outputs": [
    {
     "data": {
      "text/plain": [
       "[<matplotlib.lines.Line2D at 0x7f4410122c70>]"
      ]
     },
     "execution_count": 16,
     "metadata": {},
     "output_type": "execute_result"
    },
    {
     "data": {
      "image/png": "[encoded data removed]",
      "text/plain": [
       "<Figure size 432x288 with 1 Axes>"
      ]
     },
     "metadata": {
      "needs_background": "light"
     },
     "output_type": "display_data"
    }
   ],
   "source": [
    "plt.plot(history[\"loss\"])"
   ]
  },
  {
   "cell_type": "code",
   "execution_count": 17,
   "id": "2bbdacee-5c11-404f-b096-fc57a2d4a371",
   "metadata": {},
   "outputs": [
    {
     "data": {
      "image/png": "[encoded data removed]",
      "text/plain": [
       "<Figure size 432x288 with 1 Axes>"
      ]
     },
     "metadata": {
      "needs_background": "light"
     },
     "output_type": "display_data"
    }
   ],
   "source": [
    "for ctx in history[\"context_loss_x\"]:\n",
    "    plt.plot(history[\"context_loss_x\"][ctx], history[\"context_loss_y\"][ctx])"
   ]
  },
  {
   "cell_type": "code",
   "execution_count": 18,
   "id": "4ca06372-3e16-4787-9a95-17501d6dd2cc",
   "metadata": {},
   "outputs": [
    {
     "data": {
      "text/plain": [
       "<matplotlib.lines.Line2D at 0x7f43b4160be0>"
      ]
     },
     "execution_count": 18,
     "metadata": {},
     "output_type": "execute_result"
    },
    {
     "data": {
      "image/png": "[encoded data removed]",
      "text/plain": [
       "<Figure size 432x288 with 1 Axes>"
      ]
     },
     "metadata": {
      "needs_background": "light"
     },
     "output_type": "display_data"
    }
   ],
   "source": [
    "plt.plot(history[\"context_delta\"])\n",
    "plt.axhline(y=model.layers[2].switch_threshold.value(), color=\"gray\", linestyle=\"--\")\n",
    "plt.axhline(y=model.layers[2].add_threshold.value(), color=\"gray\", linestyle=\"-.\")"
   ]
  },
  {
   "cell_type": "code",
   "execution_count": 19,
   "id": "2efbb29d-d10c-42d4-a4c0-e20a7c6a3961",
   "metadata": {},
   "outputs": [
    {
     "name": "stdout",
     "output_type": "stream",
     "text": [
      "Accuarcy: 100.0%\n"
     ]
    }
   ],
   "source": [
    "total = 0\n",
    "for ctx in range(NUM_TASKS):\n",
    "    model.layers[2].set_context(ctx)\n",
    "    pred = (model(x_train).numpy() >= 0.5).astype(dtype=np.int32)\n",
    "    for i in range(len(y_train)):\n",
    "        if np.all(pred == y_train[i]):\n",
    "            total += 1\n",
    "print(f\"Accuarcy: {100*total/NUM_TASKS}%\")"
   ]
  },
  {
   "cell_type": "code",
   "execution_count": null,
   "id": "a8804d02-8485-469e-ab6e-f83a4e85469d",
   "metadata": {},
   "outputs": [],
   "source": []
  }
 ],
 "metadata": {
  "kernelspec": {
   "display_name": "Python 3 (ipykernel)",
   "language": "python",
   "name": "python3"
  },
  "language_info": {
   "codemirror_mode": {
    "name": "ipython",
    "version": 3
   },
   "file_extension": ".py",
   "mimetype": "text/x-python",
   "name": "python",
   "nbconvert_exporter": "python",
   "pygments_lexer": "ipython3",
   "version": "3.9.7"
  }
 },
 "nbformat": 4,
 "nbformat_minor": 5
}
