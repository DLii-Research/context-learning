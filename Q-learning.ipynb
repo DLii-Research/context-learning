{
 "cells": [
  {
   "cell_type": "markdown",
   "metadata": {},
   "source": [
    "# n-task Q-learning\n",
    "\n",
    "The purpose of this notebook is to provide sample proofs-of-concept for various aspects of reinforcement learning using n-task."
   ]
  },
  {
   "cell_type": "code",
   "execution_count": 3,
   "metadata": {},
   "outputs": [],
   "source": [
    "from tensorflow.keras import Model\n",
    "from tensorflow.keras.layers import Input, Dense, Flatten\n",
    "import tensorflow as tf\n",
    "\n",
    "import matplotlib.pyplot as plt\n",
    "import numpy as np\n",
    "\n",
    "from ntask.atrs import AtrModel, AtrMovingAverage\n",
    "from ntask.callbacks import AtrLogger\n",
    "from ntask.layers import Context\n",
    "from ntask.models import NTaskModel as NTask\n",
    "from ntask.flags import Verbosity\n",
    "from ntask.utils import set_seed"
   ]
  },
  {
   "cell_type": "markdown",
   "metadata": {},
   "source": [
    "## n-task Model\n",
    "\n",
    "This is an experimental extended implementation of the n-task model supporting subsequent layers without bias weights.\n",
    "\n",
    "There are several approaches that could be used and aspects that should be taken into consideration:\n",
    "\n",
    "- When summing up the gradients, negative deltas cancel out positive deltas, which I believe incorrectly reduces the magnitude.\n",
    "- MSE of the gradients produces more accurate context deltas in general"
   ]
  },
  {
   "cell_type": "code",
   "execution_count": 110,
   "metadata": {},
   "outputs": [],
   "source": [
    "class NTaskModel(NTask):\n",
    "    def _calc_context_loss(self, ctx_layer_idx, gradients):\n",
    "        \"\"\"\n",
    "        IMPORTANT: \n",
    "        1) Assumes no use of activation function on Ntask layer\n",
    "        2) Assumes that the layer following the Ntask layer:\n",
    "            a) Is a Dense layer\n",
    "            b) Is using bias\n",
    "               — ex: Dense(20, ... , use_bias=True) \n",
    "               — note Keras Dense layer uses bias by default if no value is given for use_bias param\n",
    "        3) Assumes index of the next layer's gradient is known within the gradients list returned from gradient tape in a tape.gradient call\n",
    "        4) If the above points aren't met, things will break and it may be hard to locate the bugs\n",
    "        \"\"\"\n",
    "        # From the delta rule in neural network math\n",
    "        if self.layers[ctx_layer_idx + 1].use_bias:\n",
    "            index = self.ctx_gradient_map[ctx_layer_idx] + 1 # Simplify the calculation of the deltas\n",
    "            delta_at_next_layer = gradients[index]\n",
    "        else:\n",
    "            index = self.ctx_gradient_map[ctx_layer_idx]\n",
    "#             signs = tf.sign(tf.reduce_sum(gradients[index], axis=0))\n",
    "#             delta_at_next_layer = tf.reduce_mean(tf.multiply(gradients[index], gradients[index]), axis=0)\n",
    "#             delta_at_next_layer = tf.multiply(signs, tf.reduce_mean(tf.abs(gradients[index]), axis=0))\n",
    "            delta_at_next_layer = tf.reduce_sum(gradients[index], axis=0)\n",
    "        transpose_of_weights_at_next_layer = tf.transpose(self.layers[ctx_layer_idx + 1].weights[0])\n",
    "        context_delta = tf.tensordot(delta_at_next_layer, transpose_of_weights_at_next_layer, 1)\n",
    "        return context_delta"
   ]
  },
  {
   "cell_type": "code",
   "execution_count": 111,
   "metadata": {},
   "outputs": [],
   "source": [
    "class Switch(AtrModel):\n",
    "    pass\n",
    "#     def context_loss_fn(self, context_delta):\n",
    "#         return tf.keras.\n",
    "    \n",
    "#     def should_switch(self, epoch, context_loss):\n",
    "#         pass"
   ]
  },
  {
   "cell_type": "markdown",
   "metadata": {},
   "source": [
    "## Wisconsin Card Sort"
   ]
  },
  {
   "cell_type": "code",
   "execution_count": 112,
   "metadata": {},
   "outputs": [],
   "source": [
    "def random_card():\n",
    "    \"\"\"\n",
    "    Generate a one-hot encoded card.\n",
    "    Returns a tuple of the card and the expected output label\n",
    "    \"\"\"\n",
    "    x = np.identity(3)\n",
    "    np.random.shuffle(x)\n",
    "    return x"
   ]
  },
  {
   "cell_type": "code",
   "execution_count": 52,
   "metadata": {},
   "outputs": [],
   "source": [
    "def policy(predicted, epsilon):\n",
    "    if np.random.random() < epsilon:\n",
    "        return np.random.randint(3), True\n",
    "    return np.argmax(predicted), False"
   ]
  },
  {
   "cell_type": "code",
   "execution_count": 53,
   "metadata": {},
   "outputs": [],
   "source": [
    "def reward(sort, rule):\n",
    "    if sort == rule:\n",
    "        return 5.0\n",
    "    return -5.0"
   ]
  },
  {
   "cell_type": "code",
   "execution_count": 96,
   "metadata": {},
   "outputs": [],
   "source": [
    "def wcst_episode(model, logger, rule, ep, epsilon=0.01, alpha=0.5, gamma=0.95, callbacks=[]):\n",
    "    # Random card to sort\n",
    "    card = random_card()\n",
    "    card = card.reshape((1,) + card.shape)\n",
    "    \n",
    "    print(end=f\"{ep}: \")\n",
    "    \n",
    "    # Predict and sort\n",
    "    value = model.predict(card)[0]\n",
    "    sort, is_random = policy(value, epsilon)\n",
    "    r = reward(sort, rule)\n",
    "    \n",
    "    if is_random:\n",
    "        print(\"Random action taken\")\n",
    "    \n",
    "    # Q-learning update\n",
    "    print(value, end=\" => \")\n",
    "    td_error = alpha*(r - value[sort])\n",
    "    value[sort] += td_error\n",
    "    target = value.reshape((1,) + value.shape)\n",
    "    print(target)\n",
    "    model.fit(card, target, train_after_switch=False, find_best_fit=False, callbacks=callbacks, verbose=Verbosity.Contexts)\n",
    "    \n",
    "    context_delta = list(logger.plots.values())[0][(None, 'Epoch', 'Context Delta')][\"Context Delta\"]['y'][-1]\n",
    "    print(np.sign(context_delta) == np.sign(td_error), \"Context Delta vs. TD-error:\", float(context_delta), td_error)\n",
    "    \n",
    "    return sort == rule, is_random"
   ]
  },
  {
   "cell_type": "code",
   "execution_count": 97,
   "metadata": {},
   "outputs": [],
   "source": [
    "def wisconsin_card_sort(model, logger, episodes, seq_correct=3, epsilon=0.01, alpha=0.5, gamma=0.95, callbacks=[], initial_shuffle=False, shuffle=True):\n",
    "    NUM_DIMENSIONS = 3\n",
    "    rule = 0 if not initial_shuffle else np.random.randint(NUM_DIMENSIONS)\n",
    "    tried_all = False\n",
    "    correct = 0\n",
    "    print(\"Rule is:\", rule)\n",
    "    for ep in range(episodes):\n",
    "        # Perform the episode. Count the sequentially correct episodes\n",
    "        is_correct, is_random = wcst_episode(model, logger, rule, ep, epsilon, alpha, gamma, callbacks)\n",
    "        if is_correct:\n",
    "            correct += 1\n",
    "        else:\n",
    "            correct = 0\n",
    "            \n",
    "        # Change the rule once the model has learned the rule\n",
    "        if correct >= seq_correct:\n",
    "            correct = 0\n",
    "            if shuffle and (initial_shuffle or tried_all):\n",
    "                oldrule = rule\n",
    "                while rule == oldrule:\n",
    "                    rule = np.random.randint(NUM_DIMENSIONS)\n",
    "            else:\n",
    "                if rule + 1 == NUM_DIMENSIONS:\n",
    "                    tried_all = True\n",
    "                rule = (rule + 1) % NUM_DIMENSIONS\n",
    "            print(f\"\\nEpisode: {ep+1}; New rule is:\", rule, '\\n')"
   ]
  },
  {
   "cell_type": "markdown",
   "metadata": {},
   "source": [
    "### Model"
   ]
  },
  {
   "cell_type": "code",
   "execution_count": 101,
   "metadata": {},
   "outputs": [],
   "source": [
    "set_seed(2)"
   ]
  },
  {
   "cell_type": "code",
   "execution_count": 102,
   "metadata": {},
   "outputs": [],
   "source": [
    "# Optimizer\n",
    "# optimizer = tf.keras.optimizers.SGD(1e-1)\n",
    "optimizer = tf.keras.optimizers.Adam(1e-2)\n",
    "\n",
    "# Hyperparameters\n",
    "hrr_size = 64\n",
    "num_contexts = 3\n",
    "switch_threshold = -1.5\n",
    "\n",
    "# Model Architecture\n",
    "inp = Input((3,3))\n",
    "x = Flatten()(inp)\n",
    "x = Dense(hrr_size, activation=\"relu\", use_bias=False)(x)\n",
    "x = Context(num_contexts, AtrMovingAverage(switch_threshold))(x)\n",
    "x = Dense(3, activation=\"linear\", use_bias=False)(x)\n",
    "\n",
    "# Create the model\n",
    "model = NTaskModel(inputs=inp, outputs=x)\n",
    "\n",
    "# Compile the model\n",
    "model.compile(loss=tf.keras.losses.MeanSquaredError(), optimizer=optimizer)"
   ]
  },
  {
   "cell_type": "code",
   "execution_count": 103,
   "metadata": {},
   "outputs": [
    {
     "name": "stdout",
     "output_type": "stream",
     "text": [
      "Rule is: 0\n",
      "0: Random action taken\n",
      "[-0.3592347  -0.01275272 -0.35699028] => [[-0.3592347  -0.01275272 -5.        ]]\n",
      "False Context Delta vs. TD-error: 0.0 -4.643009722232819\n",
      "1: [-0.05000715  0.21451156 -0.32315254] => [[-0.05000715 -5.         -0.32315254]]\n",
      "True Context Delta vs. TD-error: -0.017954053357243538 -5.2145115584135056\n",
      "2: [-0.0405277   0.01484657 -0.38585615] => [[-0.0405277  -5.         -0.38585615]]\n",
      "True Context Delta vs. TD-error: -0.005825401283800602 -5.014846569858491\n",
      "3: [-0.27865526 -0.16699988  0.3656221 ] => [[-0.27865526 -0.16699988 -5.        ]]\n",
      "False Context Delta vs. TD-error: 0.004963861778378487 -5.365622103214264\n",
      "4: [ 0.08725923 -0.25249815 -0.25822014] => [[ 5.         -0.25249815 -0.25822014]]\n",
      "True Context Delta vs. TD-error: 0.008324762806296349 4.912740774452686\n",
      "5: [-0.22938381 -0.3106256   0.08568858] => [[-0.22938381 -0.3106256  -5.        ]]\n",
      "False Context Delta vs. TD-error: 0.0005285954102873802 -5.085688583552837\n",
      "6: [ 0.16855435 -0.4242655  -0.6251976 ] => [[ 5.        -0.4242655 -0.6251976]]\n",
      "True Context Delta vs. TD-error: 0.00236302986741066 4.831445649266243\n",
      "7: [ 0.4199217  -0.40170988 -0.3721623 ] => [[ 5.         -0.40170988 -0.3721623 ]]\n",
      "True Context Delta vs. TD-error: 0.00383237237110734 4.580078303813934\n",
      "8: [-0.06278826 -0.39798415 -1.2916626 ] => [[ 5.         -0.39798415 -1.2916626 ]]\n",
      "False Context Delta vs. TD-error: -0.004550499841570854 5.062788262963295\n",
      "9: [ 0.5567788 -0.4952971 -0.7582058] => [[ 5.        -0.4952971 -0.7582058]]\n",
      "True Context Delta vs. TD-error: 0.0026725400239229202 4.443221211433411\n",
      "10: [ 0.09277569 -0.5790379  -0.5949466 ] => [[ 5.        -0.5790379 -0.5949466]]\n",
      "False Context Delta vs. TD-error: -0.0019009718671441078 4.90722431242466\n",
      "11: [ 0.87836397 -0.54605263 -0.8154193 ] => [[ 5.         -0.54605263 -0.8154193 ]]\n",
      "True Context Delta vs. TD-error: 0.003021208569407463 4.1216360330581665\n",
      "12: [ 1.0580559  -0.57380015 -0.8377979 ] => [[ 5.         -0.57380015 -0.8377979 ]]\n",
      "True Context Delta vs. TD-error: 0.0018114717677235603 3.941944122314453\n",
      "13: [ 0.4666112  -0.7116158  -0.85641086] => [[ 5.         -0.7116158  -0.85641086]]\n",
      "False Context Delta vs. TD-error: -0.001818197313696146 4.533388793468475\n",
      "14: [ 1.4366277  -0.6219424  -0.88722837] => [[ 5.         -0.6219424  -0.88722837]]\n",
      "True Context Delta vs. TD-error: 0.002346985973417759 3.563372254371643\n",
      "15: [ 0.76845855 -0.79503417 -0.99928427] => [[ 5.         -0.79503417 -0.99928427]]\n",
      "False Context Delta vs. TD-error: -0.0011771232821047306 4.231541454792023\n",
      "16: [ 0.71074617 -0.37865487 -1.0175183 ] => [[ 5.         -0.37865487 -1.0175183 ]]\n",
      "False Context Delta vs. TD-error: -0.003068136051297188 4.289253830909729\n",
      "17: [ 1.1156822  -0.87926775 -1.1292503 ] => [[ 5.         -0.87926775 -1.1292503 ]]\n",
      "True Context Delta vs. TD-error: 0.001812088768929243 3.8843177556991577\n",
      "18: [ 1.7040299 -0.6885962 -0.6145178] => [[ 5.        -0.6885962 -0.6145178]]\n",
      "True Context Delta vs. TD-error: 0.0035886592231690884 3.29597008228302\n",
      "19: [ 1.3268405  -0.71650517 -1.7078084 ] => [[ 5.         -0.71650517 -1.7078084 ]]\n",
      "False Context Delta vs. TD-error: -0.0008744699880480766 3.6731594800949097\n",
      "20: [ 2.0020444  -0.7348494  -0.67362857] => [[ 5.         -0.7348494  -0.67362857]]\n",
      "True Context Delta vs. TD-error: 0.002470305422320962 2.997955560684204\n",
      "21: [ 2.1891427 -0.7582918 -0.7037993] => [[ 5.        -0.7582918 -0.7037993]]\n",
      "True Context Delta vs. TD-error: 0.001452776836231351 2.8108572959899902\n",
      "22: [ 1.6171739  -0.54069775 -1.2575438 ] => [[ 5.         -0.54069775 -1.2575438 ]]\n",
      "False Context Delta vs. TD-error: -0.002857114188373089 3.382826089859009\n",
      "23: [ 2.6260865  -0.80703175 -0.7725407 ] => [[ 5.         -0.80703175 -0.7725407 ]]\n",
      "True Context Delta vs. TD-error: 0.002790706465020776 2.373913526535034\n",
      "24: [ 2.1969461 -1.6785429 -1.3297619] => [[ 5.        -1.6785429 -1.3297619]]\n",
      "False Context Delta vs. TD-error: -0.0031303553842008114 2.803053855895996\n",
      "25: [ 2.5280464 -1.1622051 -1.5321151] => [[ 5.        -1.1622051 -1.5321151]]\n",
      "True Context Delta vs. TD-error: 0.002417436335235834 2.4719536304473877\n",
      "26: [ 2.7313166 -1.1982584 -1.5854006] => [[ 5.        -1.1982584 -1.5854006]]\n",
      "True Context Delta vs. TD-error: 0.0016568168066442013 2.268683433532715\n",
      "27: [ 3.8864827  -0.96456265 -1.2138186 ] => [[ 5.         -0.96456265 -1.2138186 ]]\n",
      "True Context Delta vs. TD-error: 0.0025573382154107094 1.1135172843933105\n",
      "28: [ 2.7766976  -0.91043377 -1.9813042 ] => [[ 5.         -0.91043377 -1.9813042 ]]\n",
      "False Context Delta vs. TD-error: -0.0005413671024143696 2.2233023643493652\n",
      "29: [ 3.255551  -1.8506788 -1.5667639] => [[ 5.        -1.8506788 -1.5667639]]\n",
      "True Context Delta vs. TD-error: 0.0001464332453906536 1.7444489002227783\n",
      "30: [ 3.1719315 -0.9587002 -2.0572817] => [[ 5.        -0.9587002 -2.0572817]]\n",
      "True Context Delta vs. TD-error: 0.0004925550892949104 1.828068494796753\n",
      "31: Random action taken\n",
      "[ 3.8377414 -1.3886653 -1.8538421] => [[ 5.        -1.3886653 -1.8538421]]\n",
      "True Context Delta vs. TD-error: 0.001212745439261198 1.1622586250305176\n",
      "32: [ 4.6903853 -0.9920625 -1.0586917] => [[ 5.        -0.9920625 -1.0586917]]\n",
      "True Context Delta vs. TD-error: 0.0008811751613393426 0.3096146583557129\n",
      "33: [ 4.2937264 -1.4628955 -1.9544665] => [[ 5.        -1.4628955 -1.9544665]]\n",
      "True Context Delta vs. TD-error: 0.00039430783363059163 0.7062735557556152\n",
      "34: [ 4.4695206 -2.0200975 -1.8279905] => [[ 5.        -2.0200975 -1.8279905]]\n",
      "True Context Delta vs. TD-error: 0.00022058184549678117 0.5304794311523438\n",
      "35: [ 4.227027  -1.0803005 -2.2587702] => [[ 5.        -1.0803005 -2.2587702]]\n",
      "True Context Delta vs. TD-error: 6.0009973822161555e-05 0.7729730606079102\n",
      "\n",
      "Episode: 36; New rule is: 1 \n",
      "\n",
      "36: [ 4.2591    -0.85561   -1.8054931] => [[-5.        -0.85561   -1.8054931]]\n",
      "\n",
      "[context_14] Switched context to 1\n",
      "True Context Delta vs. TD-error: -1.7746121883392334 -9.259099960327148\n",
      "37: [ 2.8745797 -1.1830792 -0.8662574] => [[-5.        -1.1830792 -0.8662574]]\n",
      "True Context Delta vs. TD-error: -1.7746121883392334 -7.874579668045044\n",
      "38: [ 2.4636524 -0.5626081 -0.6614506] => [[-5.        -0.5626081 -0.6614506]]\n",
      "False Context Delta vs. TD-error: 0.9793781042098999 -7.4636523723602295\n",
      "39: [ 3.1651406 -1.4120655 -0.9731398] => [[-5.        -1.4120655 -0.9731398]]\n",
      "True Context Delta vs. TD-error: -0.303682804107666 -8.165140628814697\n",
      "40: [ 2.437341   -1.221103   -0.97688603] => [[-5.         -1.221103   -0.97688603]]\n",
      "False Context Delta vs. TD-error: 0.5081213712692261 -7.437340974807739\n",
      "41: [ 2.7514195  -1.362199   -0.93905246] => [[-5.         -1.362199   -0.93905246]]\n",
      "False Context Delta vs. TD-error: 0.03981733322143555 -7.751419544219971\n",
      "42: [ 2.0028558 -1.0654145 -0.779063 ] => [[-5.        -1.0654145 -0.779063 ]]\n",
      "False Context Delta vs. TD-error: 0.13755714893341064 -7.0028557777404785\n",
      "43: [ 1.6660497  -1.1095777  -0.87748015] => [[-5.         -1.1095777  -0.87748015]]\n",
      "False Context Delta vs. TD-error: 0.518890380859375 -6.6660497188568115\n",
      "44: [ 3.2975118 -1.4014319 -1.4337666] => [[-5.        -1.4014319 -1.4337666]]\n",
      "True Context Delta vs. TD-error: -1.0883283615112305 -8.29751181602478\n",
      "45: [ 2.015446   -0.63841426 -0.7189518 ] => [[-5.         -0.63841426 -0.7189518 ]]\n",
      "False Context Delta vs. TD-error: 0.7905067205429077 -7.015445947647095\n",
      "46: [ 2.6011403 -1.2991674 -1.3152514] => [[-5.        -1.2991674 -1.3152514]]\n",
      "True Context Delta vs. TD-error: -0.1990489363670349 -7.601140260696411\n",
      "47: [ 0.6993775  -0.35698304 -0.40623608] => [[-5.         -0.35698304 -0.40623608]]\n",
      "False Context Delta vs. TD-error: 0.8790069818496704 -5.699377477169037\n",
      "48: [ 1.234821  -0.5326374 -0.600825 ] => [[-5.        -0.5326374 -0.600825 ]]\n",
      "False Context Delta vs. TD-error: 0.2999788522720337 -6.2348209619522095\n",
      "49: [-0.11494959 -0.7955025  -0.64943016] => [[-5.         -0.7955025  -0.64943016]]\n",
      "False Context Delta vs. TD-error: 0.2798546552658081 -4.885050408542156\n"
     ]
    }
   ],
   "source": [
    "episodes = 50\n",
    "seq_correct = 30\n",
    "epsilon = 0.1\n",
    "alpha = 1.0\n",
    "gamma = 0.75\n",
    "\n",
    "logger = AtrLogger(track_epochs_internally=True)\n",
    "callbacks = [logger]\n",
    "\n",
    "wisconsin_card_sort(model, logger, episodes, seq_correct, epsilon, alpha, gamma, callbacks)"
   ]
  },
  {
   "cell_type": "code",
   "execution_count": 80,
   "metadata": {},
   "outputs": [
    {
     "data": {
      "text/plain": [
       "<tf.Tensor: shape=(), dtype=float32, numpy=-0.017954053>"
      ]
     },
     "execution_count": 80,
     "metadata": {},
     "output_type": "execute_result"
    }
   ],
   "source": [
    "list(logger.plots.values())[0][(None, 'Epoch', 'Context Delta')][\"Context Delta\"]['y'][-1]"
   ]
  },
  {
   "cell_type": "code",
   "execution_count": 75,
   "metadata": {},
   "outputs": [
    {
     "data": {
      "image/png": "[encoded data removed]",
      "text/plain": [
       "<Figure size 1080x648 with 2 Axes>"
      ]
     },
     "metadata": {
      "needs_background": "light"
     },
     "output_type": "display_data"
    }
   ],
   "source": [
    "logger.plot(figsize=(15,9))"
   ]
  },
  {
   "cell_type": "code",
   "execution_count": null,
   "metadata": {},
   "outputs": [],
   "source": []
  }
 ],
 "metadata": {
  "kernelspec": {
   "display_name": "Python 3",
   "language": "python",
   "name": "python3"
  },
  "language_info": {
   "codemirror_mode": {
    "name": "ipython",
    "version": 3
   },
   "file_extension": ".py",
   "mimetype": "text/x-python",
   "name": "python",
   "nbconvert_exporter": "python",
   "pygments_lexer": "ipython3",
   "version": "3.7.6"
  }
 },
 "nbformat": 4,
 "nbformat_minor": 4
}
